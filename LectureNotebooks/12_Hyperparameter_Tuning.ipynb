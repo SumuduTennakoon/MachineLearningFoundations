{
 "cells": [
  {
   "cell_type": "markdown",
   "metadata": {},
   "source": [
    "# Machine Learning Foundations\n",
    "Sumudu Tennakoon, PhD"
   ]
  },
  {
   "cell_type": "markdown",
   "metadata": {},
   "source": [
    "# Hyperparameter Tuning\n",
    "\n",
    "To learn more about Python, refeer to the following websites\n",
    "\n",
    "* Python : www.python.org\n",
    "\n",
    "To learn more about the Python packages we explore in this notebook, refeer to the following websites\n",
    "\n",
    "* NumPy : www.numpy.org\n",
    "* Matplotlib : www.matplotlib.org\n",
    "* Pandas : https://pandas.pydata.org\n",
    "* Scikit-Learn : https://scikit-learn.org/\n",
    "* Seaborn: https://seaborn.pydata.org/\n",
    "* StatsModel : https://www.statsmodels.org"
   ]
  },
  {
   "cell_type": "code",
   "execution_count": 1,
   "metadata": {},
   "outputs": [],
   "source": [
    "import pandas as pd\n",
    "import numpy as np\n",
    "\n",
    "#train test split\n",
    "from sklearn.model_selection import train_test_split\n",
    "\n",
    "# Classfiers\n",
    "from sklearn.linear_model import LogisticRegression\n",
    "from sklearn.tree import DecisionTreeClassifier\n",
    "from sklearn.ensemble import RandomForestClassifier\n",
    "\n",
    "# Parameter Serach Methods\n",
    "from sklearn.model_selection import GridSearchCV\n",
    "from sklearn.model_selection import RandomizedSearchCV"
   ]
  },
  {
   "cell_type": "markdown",
   "metadata": {
    "id": "G8tJhrdPo-xc"
   },
   "source": [
    "## 1. Prepare Dataset"
   ]
  },
  {
   "cell_type": "markdown",
   "metadata": {},
   "source": [
    "### Get Dataset"
   ]
  },
  {
   "cell_type": "code",
   "execution_count": 19,
   "metadata": {
    "colab": {
     "base_uri": "https://localhost:8080/",
     "height": 974
    },
    "id": "FzN3kA41ciU-",
    "outputId": "f182c996-aa2e-4d3e-ef51-02ae9827374a"
   },
   "outputs": [
    {
     "data": {
      "text/html": [
       "<div>\n",
       "<style scoped>\n",
       "    .dataframe tbody tr th:only-of-type {\n",
       "        vertical-align: middle;\n",
       "    }\n",
       "\n",
       "    .dataframe tbody tr th {\n",
       "        vertical-align: top;\n",
       "    }\n",
       "\n",
       "    .dataframe thead th {\n",
       "        text-align: right;\n",
       "    }\n",
       "</style>\n",
       "<table border=\"1\" class=\"dataframe\">\n",
       "  <thead>\n",
       "    <tr style=\"text-align: right;\">\n",
       "      <th></th>\n",
       "      <th>Unnamed: 0</th>\n",
       "      <th>age</th>\n",
       "      <th>workclass</th>\n",
       "      <th>fnlwgt</th>\n",
       "      <th>education</th>\n",
       "      <th>education_num</th>\n",
       "      <th>marital_status</th>\n",
       "      <th>occupation</th>\n",
       "      <th>relationship</th>\n",
       "      <th>race</th>\n",
       "      <th>sex</th>\n",
       "      <th>capital_gain</th>\n",
       "      <th>capital_loss</th>\n",
       "      <th>hours_per_week</th>\n",
       "      <th>native_country</th>\n",
       "      <th>class</th>\n",
       "    </tr>\n",
       "  </thead>\n",
       "  <tbody>\n",
       "    <tr>\n",
       "      <th>21299</th>\n",
       "      <td>21308</td>\n",
       "      <td>18</td>\n",
       "      <td>Private</td>\n",
       "      <td>137363</td>\n",
       "      <td>12th</td>\n",
       "      <td>8</td>\n",
       "      <td>Never-married</td>\n",
       "      <td>Other-service</td>\n",
       "      <td>Own-child</td>\n",
       "      <td>White</td>\n",
       "      <td>Female</td>\n",
       "      <td>0.0</td>\n",
       "      <td>0.0</td>\n",
       "      <td>20.0</td>\n",
       "      <td>United-States</td>\n",
       "      <td>&lt;=50K</td>\n",
       "    </tr>\n",
       "    <tr>\n",
       "      <th>11462</th>\n",
       "      <td>11465</td>\n",
       "      <td>49</td>\n",
       "      <td>Private</td>\n",
       "      <td>278322</td>\n",
       "      <td>HS-grad</td>\n",
       "      <td>9</td>\n",
       "      <td>Married-civ-spouse</td>\n",
       "      <td>Craft-repair</td>\n",
       "      <td>Husband</td>\n",
       "      <td>White</td>\n",
       "      <td>Male</td>\n",
       "      <td>0.0</td>\n",
       "      <td>0.0</td>\n",
       "      <td>40.0</td>\n",
       "      <td>United-States</td>\n",
       "      <td>&gt;50K</td>\n",
       "    </tr>\n",
       "    <tr>\n",
       "      <th>33063</th>\n",
       "      <td>8245</td>\n",
       "      <td>24</td>\n",
       "      <td>Private</td>\n",
       "      <td>26668</td>\n",
       "      <td>Bachelors</td>\n",
       "      <td>13</td>\n",
       "      <td>Married-civ-spouse</td>\n",
       "      <td>Adm-clerical</td>\n",
       "      <td>Wife</td>\n",
       "      <td>White</td>\n",
       "      <td>Female</td>\n",
       "      <td>0.0</td>\n",
       "      <td>0.0</td>\n",
       "      <td>40.0</td>\n",
       "      <td>Puerto-Rico</td>\n",
       "      <td>&lt;=50K.</td>\n",
       "    </tr>\n",
       "    <tr>\n",
       "      <th>30417</th>\n",
       "      <td>5599</td>\n",
       "      <td>37</td>\n",
       "      <td>Local-gov</td>\n",
       "      <td>105803</td>\n",
       "      <td>Masters</td>\n",
       "      <td>14</td>\n",
       "      <td>Married-civ-spouse</td>\n",
       "      <td>Exec-managerial</td>\n",
       "      <td>Husband</td>\n",
       "      <td>White</td>\n",
       "      <td>Male</td>\n",
       "      <td>0.0</td>\n",
       "      <td>0.0</td>\n",
       "      <td>40.0</td>\n",
       "      <td>United-States</td>\n",
       "      <td>&gt;50K.</td>\n",
       "    </tr>\n",
       "    <tr>\n",
       "      <th>37804</th>\n",
       "      <td>12988</td>\n",
       "      <td>45</td>\n",
       "      <td>Private</td>\n",
       "      <td>226081</td>\n",
       "      <td>Assoc-voc</td>\n",
       "      <td>11</td>\n",
       "      <td>Married-civ-spouse</td>\n",
       "      <td>Craft-repair</td>\n",
       "      <td>Husband</td>\n",
       "      <td>White</td>\n",
       "      <td>Male</td>\n",
       "      <td>0.0</td>\n",
       "      <td>0.0</td>\n",
       "      <td>40.0</td>\n",
       "      <td>United-States</td>\n",
       "      <td>&gt;50K.</td>\n",
       "    </tr>\n",
       "  </tbody>\n",
       "</table>\n",
       "</div>"
      ],
      "text/plain": [
       "       Unnamed: 0  age   workclass  fnlwgt   education  education_num  \\\n",
       "21299       21308   18     Private  137363        12th              8   \n",
       "11462       11465   49     Private  278322     HS-grad              9   \n",
       "33063        8245   24     Private   26668   Bachelors             13   \n",
       "30417        5599   37   Local-gov  105803     Masters             14   \n",
       "37804       12988   45     Private  226081   Assoc-voc             11   \n",
       "\n",
       "            marital_status        occupation relationship    race      sex  \\\n",
       "21299        Never-married     Other-service    Own-child   White   Female   \n",
       "11462   Married-civ-spouse      Craft-repair      Husband   White     Male   \n",
       "33063   Married-civ-spouse      Adm-clerical         Wife   White   Female   \n",
       "30417   Married-civ-spouse   Exec-managerial      Husband   White     Male   \n",
       "37804   Married-civ-spouse      Craft-repair      Husband   White     Male   \n",
       "\n",
       "       capital_gain  capital_loss  hours_per_week  native_country    class  \n",
       "21299           0.0           0.0            20.0   United-States    <=50K  \n",
       "11462           0.0           0.0            40.0   United-States     >50K  \n",
       "33063           0.0           0.0            40.0     Puerto-Rico   <=50K.  \n",
       "30417           0.0           0.0            40.0   United-States    >50K.  \n",
       "37804           0.0           0.0            40.0   United-States    >50K.  "
      ]
     },
     "execution_count": 19,
     "metadata": {},
     "output_type": "execute_result"
    }
   ],
   "source": [
    "file_name = 'https://raw.githubusercontent.com/SumuduTennakoon/MLFoundations/main/Datasets/income_data.csv'\n",
    "\n",
    "# Load CSV File\n",
    "data = pd.read_csv(file_name)\n",
    "data.sample(5)"
   ]
  },
  {
   "cell_type": "markdown",
   "metadata": {},
   "source": [
    "### Pre-process Dataset"
   ]
  },
  {
   "cell_type": "code",
   "execution_count": 20,
   "metadata": {},
   "outputs": [],
   "source": [
    "# Drop unnecessry columns and missing rows\n",
    "data.drop(labels='Unnamed: 0', axis=1, inplace=True)\n",
    "data.dropna(how='any', axis=0, inplace=True)"
   ]
  },
  {
   "cell_type": "code",
   "execution_count": 21,
   "metadata": {},
   "outputs": [
    {
     "data": {
      "text/html": [
       "<div>\n",
       "<style scoped>\n",
       "    .dataframe tbody tr th:only-of-type {\n",
       "        vertical-align: middle;\n",
       "    }\n",
       "\n",
       "    .dataframe tbody tr th {\n",
       "        vertical-align: top;\n",
       "    }\n",
       "\n",
       "    .dataframe thead th {\n",
       "        text-align: right;\n",
       "    }\n",
       "</style>\n",
       "<table border=\"1\" class=\"dataframe\">\n",
       "  <thead>\n",
       "    <tr style=\"text-align: right;\">\n",
       "      <th>class</th>\n",
       "      <th>&lt;=50K</th>\n",
       "      <th>&lt;=50K.</th>\n",
       "      <th>&gt;50K</th>\n",
       "      <th>&gt;50K.</th>\n",
       "      <th>Total</th>\n",
       "    </tr>\n",
       "    <tr>\n",
       "      <th>marital_status</th>\n",
       "      <th></th>\n",
       "      <th></th>\n",
       "      <th></th>\n",
       "      <th></th>\n",
       "      <th></th>\n",
       "    </tr>\n",
       "  </thead>\n",
       "  <tbody>\n",
       "    <tr>\n",
       "      <th>1</th>\n",
       "      <td>12268</td>\n",
       "      <td>8124</td>\n",
       "      <td>842</td>\n",
       "      <td>526</td>\n",
       "      <td>21760</td>\n",
       "    </tr>\n",
       "    <tr>\n",
       "      <th>2</th>\n",
       "      <td>6599</td>\n",
       "      <td>4306</td>\n",
       "      <td>5109</td>\n",
       "      <td>3320</td>\n",
       "      <td>19334</td>\n",
       "    </tr>\n",
       "    <tr>\n",
       "      <th>Total</th>\n",
       "      <td>18867</td>\n",
       "      <td>12430</td>\n",
       "      <td>5951</td>\n",
       "      <td>3846</td>\n",
       "      <td>41094</td>\n",
       "    </tr>\n",
       "  </tbody>\n",
       "</table>\n",
       "</div>"
      ],
      "text/plain": [
       "class            <=50K   <=50K.   >50K   >50K.  Total\n",
       "marital_status                                       \n",
       "1                12268     8124    842     526  21760\n",
       "2                 6599     4306   5109    3320  19334\n",
       "Total            18867    12430   5951    3846  41094"
      ]
     },
     "execution_count": 21,
     "metadata": {},
     "output_type": "execute_result"
    }
   ],
   "source": [
    "def merge_marital_statuss_catergory(education):\n",
    "    if education in (' Married-civ-spouse',' Married-spouse-absent', ' Married-AF-spouse'):\n",
    "        return 2 #'Married'\n",
    "    elif education in (' Never-married', ' Divorced', ' Widowed',' Separated'):   \n",
    "        return 1 #'Single'\n",
    "    else:\n",
    "        return None\n",
    "        \n",
    "data['marital_status'] = data['marital_status'].apply(merge_marital_statuss_catergory)\n",
    "pd.crosstab(data['marital_status'], data['class'], margins=True, margins_name='Total')"
   ]
  },
  {
   "cell_type": "markdown",
   "metadata": {},
   "source": [
    "### Prepare Target (y) Variable"
   ]
  },
  {
   "cell_type": "code",
   "execution_count": 22,
   "metadata": {},
   "outputs": [
    {
     "data": {
      "text/plain": [
       "0    31297\n",
       "1     9797\n",
       "Name: y_act, dtype: int64"
      ]
     },
     "execution_count": 22,
     "metadata": {},
     "output_type": "execute_result"
    }
   ],
   "source": [
    "# Correct class labeling\n",
    "data['class'] = data['class'].replace(' >50K.', ' >50K')\n",
    "data['class'] = data['class'].replace(' <=50K.', ' <=50K')\n",
    "data['y_act'] = np.where(data['class']==' >50K',1,0)\n",
    "data['y_act'].value_counts()"
   ]
  },
  {
   "cell_type": "markdown",
   "metadata": {},
   "source": [
    "### Prepare Feature dataset"
   ]
  },
  {
   "cell_type": "code",
   "execution_count": 23,
   "metadata": {},
   "outputs": [
    {
     "name": "stdout",
     "output_type": "stream",
     "text": [
      "   age  hours_per_week  education_num  marital_status\n",
      "0   39            40.0             13               1\n",
      "1   50            13.0             13               2\n",
      "2   38            40.0              9               1\n",
      "3   53            40.0              7               2\n",
      "4   28            40.0             13               2\n",
      "\n",
      "\n",
      "                age  hours_per_week  education_num  marital_status\n",
      "count  41094.000000    41094.000000   41094.000000    41094.000000\n",
      "mean      38.669757       40.404585      10.079355        1.470482\n",
      "std       13.748166       12.371882       2.560937        0.499134\n",
      "min       17.000000        1.000000       1.000000        1.000000\n",
      "25%       28.000000       40.000000       9.000000        1.000000\n",
      "50%       37.000000       40.000000      10.000000        1.000000\n",
      "75%       48.000000       45.000000      12.000000        2.000000\n",
      "max       90.000000       99.000000      16.000000        2.000000\n"
     ]
    }
   ],
   "source": [
    "X_variables = ['age',  'hours_per_week', 'education_num', 'marital_status']\n",
    "y_varibale = 'y_act'\n",
    "\n",
    "X = data[X_variables]\n",
    "\n",
    "print(X.head())\n",
    "print('\\n')\n",
    "print(X.describe())"
   ]
  },
  {
   "cell_type": "markdown",
   "metadata": {},
   "source": [
    "### Apply `StandardScaler`"
   ]
  },
  {
   "cell_type": "code",
   "execution_count": 24,
   "metadata": {},
   "outputs": [
    {
     "name": "stdout",
     "output_type": "stream",
     "text": [
      "        age  hours_per_week  education_num  marital_status\n",
      "0  0.024021       -0.032702       1.140474       -0.942609\n",
      "1  0.824138       -2.215097       1.140474        1.060886\n",
      "2 -0.048717       -0.032702      -0.421474       -0.942609\n",
      "3  1.042351       -0.032702      -1.202448        1.060886\n",
      "4 -0.776095       -0.032702       1.140474        1.060886\n",
      "\n",
      "\n",
      "                age  hours_per_week  education_num  marital_status\n",
      "count  4.109400e+04    4.109400e+04   4.109400e+04    4.109400e+04\n",
      "mean   1.735983e-16   -1.655582e-17  -2.334240e-16   -1.850102e-16\n",
      "std    1.000012e+00    1.000012e+00   1.000012e+00    1.000012e+00\n",
      "min   -1.576212e+00   -3.185050e+00  -3.545369e+00   -9.426086e-01\n",
      "25%   -7.760953e-01   -3.270234e-02  -4.214738e-01   -9.426086e-01\n",
      "50%   -1.214546e-01   -3.270234e-02  -3.098695e-02   -9.426086e-01\n",
      "75%    6.786619e-01    3.714448e-01   7.499868e-01    1.060886e+00\n",
      "max    3.733652e+00    4.736234e+00   2.311934e+00    1.060886e+00\n"
     ]
    }
   ],
   "source": [
    "from sklearn.preprocessing import StandardScaler\n",
    "\n",
    "scaler = StandardScaler()\n",
    "scaler.fit(X)\n",
    "\n",
    "X = pd.DataFrame(scaler.transform(X), columns=X.columns)\n",
    "\n",
    "y = data[y_varibale]\n",
    "print(X.head())\n",
    "print('\\n')\n",
    "print(X.describe())"
   ]
  },
  {
   "cell_type": "markdown",
   "metadata": {},
   "source": [
    "### Variable Correlation with Target (y)"
   ]
  },
  {
   "cell_type": "code",
   "execution_count": 25,
   "metadata": {},
   "outputs": [
    {
     "data": {
      "text/html": [
       "<style  type=\"text/css\" >\n",
       "    #T_962cd152_a8c6_11ec_98bf_0028f808371arow0_col0 {\n",
       "            width:  10em;\n",
       "             height:  80%;\n",
       "            background:  linear-gradient(90deg,#5fba7d 52.7%, transparent 52.7%);\n",
       "        }    #T_962cd152_a8c6_11ec_98bf_0028f808371arow1_col0 {\n",
       "            width:  10em;\n",
       "             height:  80%;\n",
       "            background:  linear-gradient(90deg,#5fba7d 51.7%, transparent 51.7%);\n",
       "        }    #T_962cd152_a8c6_11ec_98bf_0028f808371arow2_col0 {\n",
       "            width:  10em;\n",
       "             height:  80%;\n",
       "            background:  linear-gradient(90deg,#5fba7d 76.2%, transparent 76.2%);\n",
       "        }    #T_962cd152_a8c6_11ec_98bf_0028f808371arow3_col0 {\n",
       "            width:  10em;\n",
       "             height:  80%;\n",
       "            background:  linear-gradient(90deg,#5fba7d 100.0%, transparent 100.0%);\n",
       "        }</style><table id=\"T_962cd152_a8c6_11ec_98bf_0028f808371a\" ><thead>    <tr>        <th class=\"blank level0\" ></th>        <th class=\"col_heading level0 col0\" >y_act</th>    </tr></thead><tbody>\n",
       "                <tr>\n",
       "                        <th id=\"T_962cd152_a8c6_11ec_98bf_0028f808371alevel0_row0\" class=\"row_heading level0 row0\" >age</th>\n",
       "                        <td id=\"T_962cd152_a8c6_11ec_98bf_0028f808371arow0_col0\" class=\"data row0 col0\" >0.139521</td>\n",
       "            </tr>\n",
       "            <tr>\n",
       "                        <th id=\"T_962cd152_a8c6_11ec_98bf_0028f808371alevel0_row1\" class=\"row_heading level0 row1\" >hours_per_week</th>\n",
       "                        <td id=\"T_962cd152_a8c6_11ec_98bf_0028f808371arow1_col0\" class=\"data row1 col0\" >0.137008</td>\n",
       "            </tr>\n",
       "            <tr>\n",
       "                        <th id=\"T_962cd152_a8c6_11ec_98bf_0028f808371alevel0_row2\" class=\"row_heading level0 row2\" >education_num</th>\n",
       "                        <td id=\"T_962cd152_a8c6_11ec_98bf_0028f808371arow2_col0\" class=\"data row2 col0\" >0.201737</td>\n",
       "            </tr>\n",
       "            <tr>\n",
       "                        <th id=\"T_962cd152_a8c6_11ec_98bf_0028f808371alevel0_row3\" class=\"row_heading level0 row3\" >marital_status</th>\n",
       "                        <td id=\"T_962cd152_a8c6_11ec_98bf_0028f808371arow3_col0\" class=\"data row3 col0\" >0.264779</td>\n",
       "            </tr>\n",
       "    </tbody></table>"
      ],
      "text/plain": [
       "<pandas.io.formats.style.Styler at 0x2663b279548>"
      ]
     },
     "execution_count": 25,
     "metadata": {},
     "output_type": "execute_result"
    }
   ],
   "source": [
    "correlation = pd.concat([X, y], axis=1).corr()[['y_act']].drop('y_act')\n",
    "correlation.style.bar(align='mid', color=['#d65f5f', '#5fba7d'])"
   ]
  },
  {
   "cell_type": "markdown",
   "metadata": {},
   "source": [
    "### Train Test Split"
   ]
  },
  {
   "cell_type": "code",
   "execution_count": 8,
   "metadata": {},
   "outputs": [
    {
     "name": "stdout",
     "output_type": "stream",
     "text": [
      "Train sample size = 28765\n",
      "Test sample size  = 12329\n"
     ]
    }
   ],
   "source": [
    "from sklearn.model_selection import train_test_split\n",
    "\n",
    "X_train, X_test, y_train, y_test = train_test_split(X, y, test_size=0.3, random_state=0)\n",
    "\n",
    "print(F\"Train sample size = {len(X_train)}\")\n",
    "print(F\"Test sample size  = {len(X_test)}\")"
   ]
  },
  {
   "cell_type": "markdown",
   "metadata": {},
   "source": [
    "## 2. Model Training"
   ]
  },
  {
   "cell_type": "markdown",
   "metadata": {},
   "source": [
    "### Train Logistic Regression Model"
   ]
  },
  {
   "cell_type": "code",
   "execution_count": 9,
   "metadata": {},
   "outputs": [
    {
     "name": "stdout",
     "output_type": "stream",
     "text": [
      "feature_profile:\n",
      "           feature  coefficients\n",
      "0             age      0.616352\n",
      "1  hours_per_week      0.521773\n",
      "2   education_num      0.879220\n",
      "intercept: -1.5222134454079626\n",
      "\n",
      "\n",
      "Model Parameters:\n",
      " C                         1\n",
      "class_weight           None\n",
      "dual                  False\n",
      "fit_intercept          True\n",
      "intercept_scaling         1\n",
      "l1_ratio               None\n",
      "max_iter                100\n",
      "multi_class            auto\n",
      "n_jobs                 None\n",
      "penalty                  l2\n",
      "random_state           None\n",
      "solver                lbfgs\n",
      "tol                  0.0001\n",
      "verbose                   0\n",
      "warm_start            False\n",
      "dtype: object\n"
     ]
    }
   ],
   "source": [
    "from sklearn.linear_model import LogisticRegression\n",
    "\n",
    "features_to_model = X_variables\n",
    "\n",
    "# Create Model\n",
    "model = LogisticRegression()\n",
    "\n",
    "# Train\n",
    "model.fit(X_train, y_train)\n",
    "\n",
    "# Feature importance/Coefficients\n",
    "coefficients = model.coef_[0]\n",
    "intercept = model.intercept_[0]\n",
    "feature_profile = pd.DataFrame({\"feature\":features_to_model, \"coefficients\":coefficients})\n",
    "print(\"feature_profile:\\n\", feature_profile)\n",
    "print(\"intercept:\", intercept)\n",
    "print('\\n')\n",
    "print(\"Model Parameters:\\n\", pd.Series(model.get_params()))"
   ]
  },
  {
   "cell_type": "markdown",
   "metadata": {},
   "source": [
    "### Predict"
   ]
  },
  {
   "cell_type": "code",
   "execution_count": 11,
   "metadata": {},
   "outputs": [
    {
     "name": "stdout",
     "output_type": "stream",
     "text": [
      "[0.2436276  0.26008232 0.06662007 0.08637721 0.39046274]\n"
     ]
    },
    {
     "data": {
      "text/html": [
       "<div>\n",
       "<style scoped>\n",
       "    .dataframe tbody tr th:only-of-type {\n",
       "        vertical-align: middle;\n",
       "    }\n",
       "\n",
       "    .dataframe tbody tr th {\n",
       "        vertical-align: top;\n",
       "    }\n",
       "\n",
       "    .dataframe thead th {\n",
       "        text-align: right;\n",
       "    }\n",
       "</style>\n",
       "<table border=\"1\" class=\"dataframe\">\n",
       "  <thead>\n",
       "    <tr style=\"text-align: right;\">\n",
       "      <th></th>\n",
       "      <th>y_act</th>\n",
       "      <th>y_pred</th>\n",
       "      <th>y_pred_prob</th>\n",
       "    </tr>\n",
       "  </thead>\n",
       "  <tbody>\n",
       "    <tr>\n",
       "      <th>8874</th>\n",
       "      <td>0</td>\n",
       "      <td>0</td>\n",
       "      <td>0.105785</td>\n",
       "    </tr>\n",
       "    <tr>\n",
       "      <th>1160</th>\n",
       "      <td>1</td>\n",
       "      <td>0</td>\n",
       "      <td>0.089981</td>\n",
       "    </tr>\n",
       "    <tr>\n",
       "      <th>747</th>\n",
       "      <td>0</td>\n",
       "      <td>0</td>\n",
       "      <td>0.240813</td>\n",
       "    </tr>\n",
       "    <tr>\n",
       "      <th>11689</th>\n",
       "      <td>1</td>\n",
       "      <td>0</td>\n",
       "      <td>0.177062</td>\n",
       "    </tr>\n",
       "    <tr>\n",
       "      <th>6971</th>\n",
       "      <td>0</td>\n",
       "      <td>0</td>\n",
       "      <td>0.203912</td>\n",
       "    </tr>\n",
       "    <tr>\n",
       "      <th>2044</th>\n",
       "      <td>0</td>\n",
       "      <td>1</td>\n",
       "      <td>0.628458</td>\n",
       "    </tr>\n",
       "    <tr>\n",
       "      <th>6305</th>\n",
       "      <td>1</td>\n",
       "      <td>0</td>\n",
       "      <td>0.426148</td>\n",
       "    </tr>\n",
       "    <tr>\n",
       "      <th>505</th>\n",
       "      <td>0</td>\n",
       "      <td>0</td>\n",
       "      <td>0.387305</td>\n",
       "    </tr>\n",
       "    <tr>\n",
       "      <th>9995</th>\n",
       "      <td>0</td>\n",
       "      <td>0</td>\n",
       "      <td>0.058390</td>\n",
       "    </tr>\n",
       "    <tr>\n",
       "      <th>10265</th>\n",
       "      <td>0</td>\n",
       "      <td>0</td>\n",
       "      <td>0.056114</td>\n",
       "    </tr>\n",
       "  </tbody>\n",
       "</table>\n",
       "</div>"
      ],
      "text/plain": [
       "       y_act  y_pred  y_pred_prob\n",
       "8874       0       0     0.105785\n",
       "1160       1       0     0.089981\n",
       "747        0       0     0.240813\n",
       "11689      1       0     0.177062\n",
       "6971       0       0     0.203912\n",
       "2044       0       1     0.628458\n",
       "6305       1       0     0.426148\n",
       "505        0       0     0.387305\n",
       "9995       0       0     0.058390\n",
       "10265      0       0     0.056114"
      ]
     },
     "execution_count": 11,
     "metadata": {},
     "output_type": "execute_result"
    }
   ],
   "source": [
    "# Predict\n",
    "y_pred = model.predict(X_test[features_to_model])\n",
    "y_pred_prob = model.predict_proba(X_test[features_to_model])[:,1]\n",
    "print(y_pred_prob[:5])\n",
    "\n",
    "test_result = pd.DataFrame(data={'y_act':y_test.values, 'y_pred':y_pred, 'y_pred_prob':y_pred_prob})\n",
    "test_result.sample(10)"
   ]
  },
  {
   "cell_type": "markdown",
   "metadata": {},
   "source": [
    "### Model Evaluation"
   ]
  },
  {
   "cell_type": "code",
   "execution_count": 12,
   "metadata": {},
   "outputs": [
    {
     "name": "stdout",
     "output_type": "stream",
     "text": [
      "Confusion Matrix:\n",
      " y_pred      0     1    All\n",
      "y_act                     \n",
      "0        8746   577   9323\n",
      "1        2087   919   3006\n",
      "All     10833  1496  12329\n",
      "\n",
      "\n",
      "acuracy_lgr: 0.7839240814340174\n",
      "f1_score_lgr: [0.86783092 0.40826299]\n",
      "\n",
      "\n",
      "classification_report:\n",
      "               precision    recall  f1-score   support\n",
      "\n",
      "           0       0.81      0.94      0.87      9323\n",
      "           1       0.61      0.31      0.41      3006\n",
      "\n",
      "    accuracy                           0.78     12329\n",
      "   macro avg       0.71      0.62      0.64     12329\n",
      "weighted avg       0.76      0.78      0.76     12329\n",
      "\n"
     ]
    }
   ],
   "source": [
    "from sklearn import metrics\n",
    "\n",
    "cfm = pd.crosstab(test_result['y_act'], test_result['y_pred'], margins=True)\n",
    "print(\"Confusion Matrix:\\n\", cfm)\n",
    "print('\\n')\n",
    "\n",
    "# Model evaluation\n",
    "# Use Scikit-Learn function (lgr = Logistic Regression)\n",
    "acuracy_lgr = metrics.accuracy_score(test_result['y_act'], test_result['y_pred']) \n",
    "print(\"acuracy_lgr:\", acuracy_lgr)\n",
    "\n",
    "# https://scikit-learn.org/stable/modules/generated/sklearn.metrics.f1_score.html\n",
    "f1_score_lgr = metrics.f1_score(test_result['y_act'], test_result['y_pred'], average=None)  #weighted accounts for label imbalance.\n",
    "print(\"f1_score_lgr:\",f1_score_lgr)\n",
    "print('\\n')\n",
    "\n",
    "from sklearn.metrics import classification_report\n",
    "print(\"classification_report:\\n\",classification_report(test_result['y_act'], test_result['y_pred']))"
   ]
  },
  {
   "cell_type": "markdown",
   "metadata": {},
   "source": [
    "## Train Decision Tree"
   ]
  },
  {
   "cell_type": "code",
   "execution_count": null,
   "metadata": {},
   "outputs": [],
   "source": [
    "from sklearn.linear_model import LogisticRegression\n",
    "\n",
    "features_to_model = X_variables\n",
    "\n",
    "# Create Model\n",
    "model = DecisionTreeClassifier()\n",
    "\n",
    "# Train\n",
    "model.fit(X_train, y_train)\n",
    "\n",
    "# Feature importance/Coefficients\n",
    "importance = model.feature_importances_\n",
    "feature_profile = pd.DataFrame({\"feature\":features_to_model, \"importance\":importance})\n",
    "print(\"feature_profile:\\n\", feature_profile)\n",
    "print('\\n')\n",
    "print(\"Model Parameters:\\n\", pd.Series(model.get_params()))"
   ]
  },
  {
   "cell_type": "markdown",
   "metadata": {},
   "source": [
    "### Model Evaluation"
   ]
  },
  {
   "cell_type": "code",
   "execution_count": null,
   "metadata": {},
   "outputs": [],
   "source": [
    "# Create a reusable function\n",
    "def evaluate_model(model, X_test, features_to_model):\n",
    "    # Predict\n",
    "    y_pred = model.predict(X_test[features_to_model])\n",
    "    y_pred_prob = model.predict_proba(X_test[features_to_model])[:,1]\n",
    "    print(y_pred_prob[:5])\n",
    "\n",
    "    test_result = pd.DataFrame(data={'y_act':y_test.values, 'y_pred':y_pred, 'y_pred_prob':y_pred_prob})\n",
    "    print(test_result.sample(10))\n",
    "    print('\\n')\n",
    "\n",
    "    from sklearn import metrics\n",
    "\n",
    "    cfm = pd.crosstab(test_result['y_act'], test_result['y_pred'], margins=True)\n",
    "    print(\"Confusion Matrix:\\n\", cfm)\n",
    "    print('\\n')\n",
    "\n",
    "    # Model evaluation\n",
    "    # Use Scikit-Learn function (lgr = Logistic Regression)\n",
    "    acuracy = metrics.accuracy_score(test_result['y_act'], test_result['y_pred']) \n",
    "    print(\"acuracy:\", acuracy)\n",
    "\n",
    "    # https://scikit-learn.org/stable/modules/generated/sklearn.metrics.f1_score.html\n",
    "    f1_score = metrics.f1_score(test_result['y_act'], test_result['y_pred'], average=None)  #weighted accounts for label imbalance.\n",
    "    print(\"f1_score:\",f1_score)\n",
    "    print('\\n')\n",
    "\n",
    "    from sklearn.metrics import classification_report\n",
    "    print(\"classification_report:\\n\",classification_report(test_result['y_act'], test_result['y_pred']))\n",
    "\n",
    "evaluate_model(model, X_test, features_to_model)"
   ]
  },
  {
   "cell_type": "markdown",
   "metadata": {},
   "source": [
    "## 3. Seraching for Optimum Hyper Parameters"
   ]
  },
  {
   "cell_type": "markdown",
   "metadata": {},
   "source": [
    "### 3.1 `GridSearchCV`"
   ]
  },
  {
   "cell_type": "markdown",
   "metadata": {},
   "source": [
    "#### Logistic Regression"
   ]
  },
  {
   "cell_type": "code",
   "execution_count": null,
   "metadata": {},
   "outputs": [],
   "source": [
    "from sklearn.model_selection import GridSearchCV\n",
    "\n",
    "# Define Hyperparameter Grid\n",
    "param_grid = {'C': [-1, 0.5, 1, 2, 5, 10]}\n",
    "  \n",
    "# Create model object\n",
    "model = LogisticRegression()\n",
    "  \n",
    "# Create GridSearchCV object\n",
    "model_cv = GridSearchCV(model, param_grid, cv=5, scoring='f1')\n",
    "  \n",
    "model_cv.fit(X_train[features_to_model], y_train)\n",
    "  \n",
    "# Print the tuned parameters and score\n",
    "print(\"Tuned Model Parameters: {}\".format(model_cv.best_params_))\n",
    "print(\"Best model score: {}\".format(model_cv.best_score_))"
   ]
  },
  {
   "cell_type": "markdown",
   "metadata": {},
   "source": [
    "#### Get Best Model"
   ]
  },
  {
   "cell_type": "code",
   "execution_count": null,
   "metadata": {},
   "outputs": [],
   "source": [
    "model = model_cv.best_estimator_\n",
    "\n",
    "# Feature importance/Coefficients\n",
    "coefficients = model.coef_[0]\n",
    "intercept = model.intercept_[0]\n",
    "feature_profile = pd.DataFrame({\"feature\":features_to_model, \"coefficients\":coefficients})\n",
    "print(\"feature_profile:\\n\", feature_profile)\n",
    "print(\"intercept:\", intercept)\n",
    "print('\\n')\n",
    "print(\"Model Parameters:\\n\", pd.Series(model.get_params()))\n",
    "\n",
    "# Evaluate Model\n",
    "evaluate_model(model, X_test, features_to_model)\n"
   ]
  },
  {
   "cell_type": "markdown",
   "metadata": {},
   "source": [
    "#### Descision Tree"
   ]
  },
  {
   "cell_type": "code",
   "execution_count": null,
   "metadata": {},
   "outputs": [],
   "source": [
    "from sklearn.model_selection import GridSearchCV\n",
    "\n",
    "# Define Hyperparameter Grid\n",
    "param_grid = {\"max_depth\": [5, 10],\n",
    "              \"min_samples_leaf\": [2, 10, 100],\n",
    "              \"min_samples_split\": [2, 10, 100]\n",
    "             }\n",
    "  \n",
    "# Create model object\n",
    "model = DecisionTreeClassifier()\n",
    " \n",
    "# Create GridSearchCV object\n",
    "model_cv = GridSearchCV(model, param_grid, cv=3, scoring='f1')\n",
    "  \n",
    "model_cv.fit(X_train[features_to_model], y_train)\n",
    "  \n",
    "# Print the tuned parameters and score\n",
    "print(\"Tuned Model Parameters: {}\".format(model_cv.best_params_))\n",
    "print(\"Best model score: {}\".format(model_cv.best_score_))"
   ]
  },
  {
   "cell_type": "markdown",
   "metadata": {},
   "source": [
    "#### Get Best Model"
   ]
  },
  {
   "cell_type": "code",
   "execution_count": null,
   "metadata": {},
   "outputs": [],
   "source": [
    "model = model_cv.best_estimator_\n",
    "\n",
    "# Feature importance/Coefficients\n",
    "importance = model.feature_importances_\n",
    "feature_profile = pd.DataFrame({\"feature\":features_to_model, \"importance\":importance})\n",
    "print(\"feature_profile:\\n\", feature_profile)\n",
    "print('\\n')\n",
    "print(\"Model Parameters:\\n\", pd.Series(model.get_params()))\n",
    "\n",
    "# Evaluate Model\n",
    "evaluate_model(model, X_test, features_to_model)\n"
   ]
  },
  {
   "cell_type": "markdown",
   "metadata": {},
   "source": [
    "### 3.2 `RandomizedSearchCV`"
   ]
  },
  {
   "cell_type": "markdown",
   "metadata": {},
   "source": [
    "#### Descicion Tree"
   ]
  },
  {
   "cell_type": "code",
   "execution_count": null,
   "metadata": {},
   "outputs": [],
   "source": [
    "from sklearn.model_selection import RandomizedSearchCV\n",
    "    \n",
    "# Define Hyperparameter Grid\n",
    "param_grid = {\"max_depth\": [3, 10, 100],\n",
    "              \"min_samples_leaf\": [5, 10, 50, 100, 200],\n",
    "              \"min_samples_split\": [5, 10, 20, 100]\n",
    "             }\n",
    "  \n",
    "# Create model object\n",
    "model = DecisionTreeClassifier()\n",
    "  \n",
    "# Create RandomizedSearchCV object\n",
    "model_cv = RandomizedSearchCV(model, param_grid, cv=5, scoring='precision')\n",
    "  \n",
    "model_cv.fit(X_train[features_to_model], y_train)\n",
    "  \n",
    "# Print the tuned parameters and score\n",
    "print(\"Tuned Model Parameters: {}\".format(model_cv.best_params_))\n",
    "print(\"Best model score: {}\".format(model_cv.best_score_))"
   ]
  },
  {
   "cell_type": "code",
   "execution_count": null,
   "metadata": {},
   "outputs": [],
   "source": [
    "model = model_cv.best_estimator_\n",
    "\n",
    "# Feature importance/Coefficients\n",
    "importance = model.feature_importances_\n",
    "feature_profile = pd.DataFrame({\"feature\":features_to_model, \"importance\":importance})\n",
    "print(\"feature_profile:\\n\", feature_profile)\n",
    "print('\\n')\n",
    "print(\"Model Parameters:\\n\", pd.Series(model.get_params()))\n",
    "\n",
    "# Evaluate Model\n",
    "evaluate_model(model, X_test, features_to_model)\n"
   ]
  },
  {
   "cell_type": "markdown",
   "metadata": {},
   "source": [
    "#### Random Forest Classifier"
   ]
  },
  {
   "cell_type": "code",
   "execution_count": null,
   "metadata": {},
   "outputs": [],
   "source": [
    "from sklearn.model_selection import RandomizedSearchCV\n",
    "    \n",
    "# Define Hyperparameter Grid\n",
    "param_grid = {\"max_depth\": [3, 10, 100],\n",
    "              \"min_samples_leaf\": [5, 10, 50, 100, 200],\n",
    "              \"min_samples_split\": [5, 10, 20, 100]\n",
    "             }\n",
    "  \n",
    "# Create model object\n",
    "model = RandomForestClassifier()\n",
    "  \n",
    "# Create RandomizedSearchCV object\n",
    "model_cv = RandomizedSearchCV(model, param_grid, cv=5, scoring='f1')\n",
    "  \n",
    "model_cv.fit(X_train[features_to_model], y_train)\n",
    "  \n",
    "# Print the tuned parameters and score\n",
    "print(\"Tuned Model Parameters: {}\".format(model_cv.best_params_))\n",
    "print(\"Best model score: {}\".format(model_cv.best_score_))"
   ]
  },
  {
   "cell_type": "code",
   "execution_count": null,
   "metadata": {},
   "outputs": [],
   "source": [
    "model = model_cv.best_estimator_\n",
    "\n",
    "# Feature importance/Coefficients\n",
    "importance = model.feature_importances_\n",
    "feature_profile = pd.DataFrame({\"feature\":features_to_model, \"importance\":importance})\n",
    "print(\"feature_profile:\\n\", feature_profile)\n",
    "print('\\n')\n",
    "print(\"Model Parameters:\\n\", pd.Series(model.get_params()))\n",
    "\n",
    "# Evaluate Model\n",
    "evaluate_model(model, X_test, features_to_model)"
   ]
  },
  {
   "cell_type": "markdown",
   "metadata": {},
   "source": [
    "<hr>\n",
    "Last update 2022-03-21 by Sumudu Tennakoon\n",
    "\n",
    "<a rel=\"license\" href=\"http://creativecommons.org/licenses/by-nc-sa/4.0/\"><img alt=\"Creative Commons License\" style=\"border-width:0\" src=\"https://i.creativecommons.org/l/by-nc-sa/4.0/88x31.png\" /></a><br />This work is licensed under a <a rel=\"license\" href=\"http://creativecommons.org/licenses/by-nc-sa/4.0/\">Creative Commons Attribution-NonCommercial-ShareAlike 4.0 International License</a>."
   ]
  }
 ],
 "metadata": {
  "@webio": {
   "lastCommId": null,
   "lastKernelId": null
  },
  "kernelspec": {
   "display_name": "Python 3",
   "language": "python",
   "name": "python3"
  },
  "language_info": {
   "codemirror_mode": {
    "name": "ipython",
    "version": 3
   },
   "file_extension": ".py",
   "mimetype": "text/x-python",
   "name": "python",
   "nbconvert_exporter": "python",
   "pygments_lexer": "ipython3",
   "version": "3.7.7"
  }
 },
 "nbformat": 4,
 "nbformat_minor": 4
}
