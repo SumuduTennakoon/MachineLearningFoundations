{
 "cells": [
  {
   "cell_type": "markdown",
   "metadata": {
    "id": "CJdSxv2Yx0da"
   },
   "source": [
    "# Supervised Machine Learning - Regression\n",
    "Sumudu Tennakoon, PhD\n",
    "\n",
    "To learn more about Python, refeer to the following websites\n",
    "\n",
    "* Python : www.python.org\n",
    "\n",
    "To learn more about the Python packages we explore in this notebook, refeer to the following websites\n",
    "\n",
    "* NumPy : www.numpy.org\n",
    "* Matplotlib : www.matplotlib.org\n",
    "* Pandas : https://pandas.pydata.org\n",
    "* Scikit-Learn : https://scikit-learn.org/\n",
    "* Seaborn: https://seaborn.pydata.org/\n",
    "* StatsModel : https://www.statsmodels.org"
   ]
  },
  {
   "cell_type": "code",
   "execution_count": null,
   "metadata": {
    "id": "8T8u26ZUH_kg"
   },
   "outputs": [],
   "source": [
    "import numpy as np\n",
    "import pandas as pd\n",
    "import matplotlib.pyplot as plt\n",
    "import seaborn as sns"
   ]
  },
  {
   "cell_type": "code",
   "execution_count": null,
   "metadata": {},
   "outputs": [],
   "source": []
  },
  {
   "cell_type": "markdown",
   "metadata": {
    "id": "lEX_eyyipB7V"
   },
   "source": [
    "# Polynomial Regression"
   ]
  },
  {
   "cell_type": "markdown",
   "metadata": {
    "id": "tvz-ibOc2Jrs"
   },
   "source": [
    "## Generate Dataset"
   ]
  },
  {
   "cell_type": "code",
   "execution_count": null,
   "metadata": {
    "id": "J3u1sbMBpBWW"
   },
   "outputs": [],
   "source": [
    "x = np.random.normal(0, 1, 25)\n",
    "print(F\"x = {x}\")"
   ]
  },
  {
   "cell_type": "code",
   "execution_count": null,
   "metadata": {
    "id": "6WBTsQi4p7FB"
   },
   "outputs": [],
   "source": [
    "y = 3.14 + 0.5*x + 2*(x**2) - 1.5*(x**3) + np.random.normal(-1, 1, 25)\n",
    "print(F\"y = {y}\")"
   ]
  },
  {
   "cell_type": "code",
   "execution_count": null,
   "metadata": {
    "id": "rkqfSczMqkCO"
   },
   "outputs": [],
   "source": [
    "data = pd.DataFrame(data={\"x\":x, \"y\":y})\n",
    "data"
   ]
  },
  {
   "cell_type": "code",
   "execution_count": null,
   "metadata": {
    "id": "843bgLz4rStd"
   },
   "outputs": [],
   "source": [
    "data.plot(x=\"x\", y=\"y\", kind=\"scatter\")"
   ]
  },
  {
   "cell_type": "code",
   "execution_count": null,
   "metadata": {
    "id": "mwpV8dj0r8lm"
   },
   "outputs": [],
   "source": [
    "\n",
    "from sklearn.linear_model import LinearRegression\n",
    "\n",
    "X = data[['x']]\n",
    "y = data['y']\n",
    "\n",
    "model = LinearRegression()\n",
    "model.fit(X, y)\n",
    "y_pred = model.predict(X)\n",
    "\n",
    "data['y_pred'] = y_pred\n",
    "\n",
    "data.head()"
   ]
  },
  {
   "cell_type": "code",
   "execution_count": null,
   "metadata": {
    "id": "At9-0j_CvAhn"
   },
   "outputs": [],
   "source": [
    "f,ax0 = plt.subplots()\n",
    "#ax1 = ax0.twinx()\n",
    "\n",
    "data.plot(x='x', y='y', kind='scatter', ax=ax0)\n",
    "data.plot(x='x', y='y_pred', kind='line', c='red', ax=ax0)\n",
    "\n",
    "plt.show()"
   ]
  },
  {
   "cell_type": "code",
   "execution_count": null,
   "metadata": {
    "id": "EH9Gsv2vskSW"
   },
   "outputs": [],
   "source": [
    "from sklearn.preprocessing import PolynomialFeatures\n",
    "\n",
    "polynomial_features= PolynomialFeatures(degree=3)\n",
    "\n",
    "data[['x0', 'x1', 'x2', 'x3']] = polynomial_features.fit_transform(data[[\"x\"]])\n",
    "data[['x', 'x0', 'x1', 'x2', 'x3', 'y']].head()"
   ]
  },
  {
   "cell_type": "code",
   "execution_count": null,
   "metadata": {
    "id": "JoZ62_fewE8U"
   },
   "outputs": [],
   "source": [
    "X = data[['x0', 'x1', 'x2', 'x3']] \n",
    "y = data['y']\n",
    "\n",
    "model = LinearRegression()\n",
    "model.fit(X, y)\n",
    "y_pred = model.predict(X)\n",
    "\n",
    "data['y_pred'] = y_pred\n",
    "\n",
    "data[['x0', 'x1', 'x2', 'x3', 'y', 'y_pred']] .head()"
   ]
  },
  {
   "cell_type": "code",
   "execution_count": null,
   "metadata": {
    "id": "8RDvo0VXwB7f"
   },
   "outputs": [],
   "source": [
    "f,ax0 = plt.subplots()\n",
    "#ax1 = ax0.twinx()\n",
    "\n",
    "data.plot(x='x', y='y', kind='scatter', ax=ax0)\n",
    "data.plot(x='x', y='y_pred', kind='line', c='red', ax=ax0)\n",
    "\n",
    "plt.show()"
   ]
  },
  {
   "cell_type": "code",
   "execution_count": null,
   "metadata": {
    "id": "zDWoonN2toG1"
   },
   "outputs": [],
   "source": [
    "f,ax0 = plt.subplots()\n",
    "#ax1 = ax0.twinx()\n",
    "\n",
    "data.plot(x='x', y='y', kind='scatter', ax=ax0)\n",
    "data.sort_values(by='x').plot(x='x', y='y_pred', kind='line', c='red', ax=ax0) # sort dstapoints\n",
    "\n",
    "plt.show()"
   ]
  },
  {
   "cell_type": "code",
   "execution_count": null,
   "metadata": {
    "id": "V_4drZ_xr8t8"
   },
   "outputs": [],
   "source": [
    "from sklearn.metrics import mean_squared_error, r2_score\n",
    "\n",
    "# Evaluate\n",
    "mse = mean_squared_error(data['y'], data['y_pred'])\n",
    "print(\"MSE:\", mse)\n",
    "\n",
    "rmse = np.sqrt(mse)\n",
    "print(\"RMSE:\", rmse)\n",
    "\n",
    "r2 = r2_score(data['y'], data['y_pred'])\n",
    "print(\"R2:\", r2)"
   ]
  },
  {
   "cell_type": "code",
   "execution_count": null,
   "metadata": {
    "id": "i738se_ozEnc"
   },
   "outputs": [],
   "source": [
    "# Degree = 2\n",
    "\n",
    "polynomial_features= PolynomialFeatures(degree=2)\n",
    "\n",
    "data[['x0', 'x1', 'x2']] = polynomial_features.fit_transform(data[[\"x\"]])\n",
    "\n",
    "X = data[['x0', 'x1', 'x2']] \n",
    "y = data['y']\n",
    "\n",
    "model = LinearRegression()\n",
    "model.fit(X, y)\n",
    "y_pred = model.predict(X)\n",
    "\n",
    "data['y_pred_d2'] = y_pred\n",
    "\n",
    "f,ax0 = plt.subplots()\n",
    "#ax1 = ax0.twinx()\n",
    "\n",
    "data.plot(x='x', y='y', kind='scatter', ax=ax0)\n",
    "data.sort_values(by='x').plot(x='x', y='y_pred_d2', kind='line', c='red', ax=ax0) # sort dstapoints\n",
    "\n",
    "plt.show()\n",
    "\n",
    "# Evaluate\n",
    "mse = mean_squared_error(data['y'], data['y_pred_d2'])\n",
    "print(\"MSE:\", mse)\n",
    "\n",
    "rmse = np.sqrt(mse)\n",
    "print(\"RMSE:\", rmse)\n",
    "\n",
    "r2 = r2_score(data['y'], data['y_pred_d2'])\n",
    "print(\"R2:\", r2)"
   ]
  },
  {
   "cell_type": "code",
   "execution_count": null,
   "metadata": {
    "id": "jltE2zP7zEwp"
   },
   "outputs": [],
   "source": [
    "# Degree = 10\n",
    "\n",
    "polynomial_features= PolynomialFeatures(degree=10)\n",
    "\n",
    "data[['x0', 'x1', 'x2', 'x3', 'x4', 'x5', 'x6', 'x7', 'x8', 'x9', 'x10']] = polynomial_features.fit_transform(data[[\"x\"]])\n",
    "\n",
    "X = data[['x0', 'x1', 'x2', 'x3', 'x4', 'x5', 'x6', 'x7', 'x8', 'x9', 'x10']] \n",
    "y = data['y']\n",
    "\n",
    "model = LinearRegression()\n",
    "model.fit(X, y)\n",
    "y_pred = model.predict(X)\n",
    "\n",
    "data['y_pred_d10'] = y_pred\n",
    "\n",
    "f,ax0 = plt.subplots()\n",
    "#ax1 = ax0.twinx()\n",
    "\n",
    "data.plot(x='x', y='y', kind='scatter', ax=ax0)\n",
    "data.sort_values(by='x').plot(x='x', y='y_pred_d10', kind='line', c='red', ax=ax0) # sort dstapoints\n",
    "\n",
    "plt.show()\n",
    "\n",
    "# Evaluate\n",
    "mse = mean_squared_error(data['y'], data['y_pred_d10'])\n",
    "print(\"MSE:\", mse)\n",
    "\n",
    "rmse = np.sqrt(mse)\n",
    "print(\"RMSE:\", rmse)\n",
    "\n",
    "r2 = r2_score(data['y'], data['y_pred'])\n",
    "print(\"R2:\", r2)"
   ]
  },
  {
   "cell_type": "code",
   "execution_count": null,
   "metadata": {
    "id": "2deCPK0a0pVi"
   },
   "outputs": [],
   "source": [
    "data[['x', 'y', 'y_pred', 'y_pred_d2', 'y_pred_d10']].head()"
   ]
  },
  {
   "cell_type": "markdown",
   "metadata": {
    "id": "oZOC0a8X1xVi"
   },
   "source": [
    "# Overfitting and Underfitting"
   ]
  },
  {
   "cell_type": "code",
   "execution_count": null,
   "metadata": {
    "id": "f7fDr4bm0pdW"
   },
   "outputs": [],
   "source": [
    "f,ax0 = plt.subplots()\n",
    "#ax1 = ax0.twinx()\n",
    "\n",
    "data.plot(x='x', y='y', kind='scatter', ax=ax0) \n",
    "data.sort_values(by='x').plot(x='x', y='y_pred_d2', kind='line', c='red', ax=ax0)\n",
    "data.sort_values(by='x').plot(x='x', y='y_pred_d10', kind='line', c='magenta', ax=ax0) \n",
    "data.sort_values(by='x').plot(x='x', y='y_pred', kind='line', c='green', linewidth=2, ax=ax0)"
   ]
  },
  {
   "cell_type": "markdown",
   "metadata": {
    "id": "hsvYBbVvxOB7"
   },
   "source": [
    "# Linear Regression"
   ]
  },
  {
   "cell_type": "code",
   "execution_count": null,
   "metadata": {
    "id": "yKeMpxVdw2m6"
   },
   "outputs": [],
   "source": [
    "file_name = 'https://archive.ics.uci.edu/ml/machine-learning-databases/wine-quality/winequality-red.csv'\n",
    "\n",
    "# Load CSV File\n",
    "data = pd.read_csv(file_name, sep=';')\n",
    "data.sample(20)"
   ]
  },
  {
   "cell_type": "code",
   "execution_count": null,
   "metadata": {
    "id": "ARk-vSKJH74N"
   },
   "outputs": [],
   "source": [
    "data.info()"
   ]
  },
  {
   "cell_type": "code",
   "execution_count": null,
   "metadata": {
    "id": "5-4n7MgeITVg"
   },
   "outputs": [],
   "source": [
    "data.describe(include='all').transpose()"
   ]
  },
  {
   "cell_type": "code",
   "execution_count": null,
   "metadata": {
    "id": "w-DtNWDSIX54"
   },
   "outputs": [],
   "source": [
    "data['id'] = data.index+1\n",
    "data.head()"
   ]
  },
  {
   "cell_type": "code",
   "execution_count": null,
   "metadata": {
    "id": "BQWmlbs7Ixf6"
   },
   "outputs": [],
   "source": [
    "data.columns"
   ]
  },
  {
   "cell_type": "code",
   "execution_count": null,
   "metadata": {
    "id": "CoTF4ionI0q5"
   },
   "outputs": [],
   "source": [
    "data = data[[ 'id', 'fixed acidity', 'volatile acidity', 'citric acid', 'residual sugar',\n",
    "       'chlorides', 'free sulfur dioxide', 'total sulfur dioxide', 'density',\n",
    "       'pH', 'sulphates', 'alcohol', 'quality']]\n",
    "\n",
    "data.head()"
   ]
  },
  {
   "cell_type": "code",
   "execution_count": null,
   "metadata": {
    "id": "AqWqpNarI6B5"
   },
   "outputs": [],
   "source": [
    "sns.pairplot(data[[ 'fixed acidity', 'volatile acidity', 'citric acid', 'residual sugar',\n",
    "       'chlorides', 'free sulfur dioxide', 'total sulfur dioxide', 'density',\n",
    "       'pH', 'sulphates', 'alcohol', 'quality']])\n",
    "plt.show()"
   ]
  },
  {
   "cell_type": "code",
   "execution_count": null,
   "metadata": {
    "id": "fQQ-nT1wKqES"
   },
   "outputs": [],
   "source": [
    "correlation_matrix = data[[ 'fixed acidity', 'volatile acidity', 'citric acid', 'residual sugar',\n",
    "       'chlorides', 'free sulfur dioxide', 'total sulfur dioxide', 'density',\n",
    "       'pH', 'sulphates', 'alcohol', 'quality']].corr()\n",
    "correlation_matrix"
   ]
  },
  {
   "cell_type": "code",
   "execution_count": null,
   "metadata": {
    "id": "g95XgOxMLBBy"
   },
   "outputs": [],
   "source": [
    "sns.heatmap(correlation_matrix.abs())"
   ]
  },
  {
   "cell_type": "code",
   "execution_count": null,
   "metadata": {
    "id": "etd4RWzTLo1z"
   },
   "outputs": [],
   "source": [
    "from sklearn import linear_model\n",
    "from sklearn.metrics import mean_squared_error, r2_score\n",
    "from sklearn.model_selection import train_test_split"
   ]
  },
  {
   "cell_type": "code",
   "execution_count": null,
   "metadata": {
    "id": "tAgxq1hzN7yj"
   },
   "outputs": [],
   "source": [
    "X = [ 'fixed acidity', 'volatile acidity', 'citric acid', 'residual sugar',\n",
    "       'chlorides', 'free sulfur dioxide', 'total sulfur dioxide', 'density',\n",
    "       'pH', 'sulphates', 'alcohol'\n",
    "    ]\n",
    "    \n",
    "y = ['quality']\n",
    "       \n",
    "X_train, X_test, y_train, y_test = train_test_split(data[X], data[y], test_size=0.3, random_state=42)"
   ]
  },
  {
   "cell_type": "code",
   "execution_count": null,
   "metadata": {
    "id": "hwW4MY5QOZbh"
   },
   "outputs": [],
   "source": [
    "X_train.head()"
   ]
  },
  {
   "cell_type": "code",
   "execution_count": null,
   "metadata": {
    "id": "A5kA28E_ObHB"
   },
   "outputs": [],
   "source": [
    "y_train.head()"
   ]
  },
  {
   "cell_type": "code",
   "execution_count": null,
   "metadata": {
    "id": "MOtvvh5dMaSk"
   },
   "outputs": [],
   "source": [
    "model = linear_model.LinearRegression()\n",
    "print(model)"
   ]
  },
  {
   "cell_type": "code",
   "execution_count": null,
   "metadata": {
    "id": "gN2ubjWsMv8x"
   },
   "outputs": [],
   "source": [
    "y_actual = 'quality'\n",
    "y_predict = 'prected_quality'\n",
    "correlation_matrix[y_actual].sort_values()"
   ]
  },
  {
   "cell_type": "code",
   "execution_count": null,
   "metadata": {
    "id": "PP1ShM7VMX6q"
   },
   "outputs": [],
   "source": [
    "# Seelct variables\n",
    "X = ['alcohol']\n",
    "\n",
    "#\n",
    "# Fit\n",
    "model.fit(X_train[X], y_train[y_actual])\n",
    "\n",
    "#Find model parameters\n",
    "coefficients = model.coef_\n",
    "intercept = model.intercept_\n",
    "\n",
    "print(pd.DataFrame(data={'features':X, 'coefficients':coefficients}))\n",
    "print('\\n') # Add new line to print\n",
    "print(F\"Intercept = {intercept}\")"
   ]
  },
  {
   "cell_type": "code",
   "execution_count": null,
   "metadata": {
    "id": "YP-yz38IQGqv"
   },
   "outputs": [],
   "source": [
    "result = y_test\n",
    "result[y_predict] = model.predict(X_test[X])\n",
    "\n",
    "result['abs_difference'] = (result[y_actual] - result[y_predict]).abs()\n",
    "result[[y_actual, y_predict, 'abs_difference']]"
   ]
  },
  {
   "cell_type": "code",
   "execution_count": null,
   "metadata": {
    "id": "hd1j-2TyNk_u"
   },
   "outputs": [],
   "source": [
    "result['abs_difference'].describe()"
   ]
  },
  {
   "cell_type": "code",
   "execution_count": null,
   "metadata": {
    "id": "_4NtJ845Mbar"
   },
   "outputs": [],
   "source": [
    "mse = mean_squared_error(result[y_actual], result[y_predict])\n",
    "print(\"MSE:\", mse)\n",
    "\n",
    "rmse = np.sqrt(mse)\n",
    "print(\"RMSE:\", rmse)\n",
    "\n",
    "r2 = r2_score(result[y_actual], result[y_predict])\n",
    "print(\"R2:\", r2)"
   ]
  },
  {
   "cell_type": "markdown",
   "metadata": {
    "id": "PXiLZ39-RlEO"
   },
   "source": [
    "## 2nd Iteration"
   ]
  },
  {
   "cell_type": "code",
   "execution_count": null,
   "metadata": {
    "id": "aW0ohYwrRkfd"
   },
   "outputs": [],
   "source": [
    "y_actual = 'quality'\n",
    "y_predict = 'prected_quality'\n",
    "correlation_matrix[y_actual].sort_values()"
   ]
  },
  {
   "cell_type": "code",
   "execution_count": null,
   "metadata": {
    "id": "IAK5abFlMdRb"
   },
   "outputs": [],
   "source": [
    "# Seelct variables\n",
    "X = ['alcohol', 'volatile acidity']\n",
    "\n",
    "# Fit\n",
    "model.fit(X_train[X], y_train[y_actual])\n",
    "\n",
    "#Find model parameters\n",
    "coefficients = model.coef_\n",
    "intercept = model.intercept_\n",
    "\n",
    "print(pd.DataFrame(data={'features':X, 'coefficients':coefficients}))\n",
    "print('\\n') # Add new line to print\n",
    "print(F\"Intercept = {intercept}\")\n",
    "\n",
    "result = y_test\n",
    "result[y_predict] = model.predict(X_test[X])\n",
    "\n",
    "mse = mean_squared_error(result[y_actual], result[y_predict])\n",
    "print(\"MSE:\", mse)\n",
    "\n",
    "rmse = np.sqrt(mse)\n",
    "print(\"RMSE:\", rmse)\n",
    "\n",
    "r2 = r2_score(result[y_actual], result[y_predict])\n",
    "print(\"R2:\", r2)"
   ]
  },
  {
   "cell_type": "code",
   "execution_count": null,
   "metadata": {
    "id": "FQ13PPTVRAW6"
   },
   "outputs": [],
   "source": []
  },
  {
   "cell_type": "markdown",
   "metadata": {
    "id": "69sMOYcjR5C3"
   },
   "source": [
    "## 3rd Iteration"
   ]
  },
  {
   "cell_type": "code",
   "execution_count": null,
   "metadata": {
    "id": "Jj1vRu1YR5C9"
   },
   "outputs": [],
   "source": [
    "y_actual = 'quality'\n",
    "y_predict = 'prected_quality'\n",
    "correlation_matrix[y_actual].abs().sort_values()"
   ]
  },
  {
   "cell_type": "code",
   "execution_count": null,
   "metadata": {
    "id": "Hz3KgeSqSbbO"
   },
   "outputs": [],
   "source": [
    "correlation_matrix[y_actual].abs().sort_values().index"
   ]
  },
  {
   "cell_type": "code",
   "execution_count": null,
   "metadata": {
    "id": "r9iWujHBR5DF"
   },
   "outputs": [],
   "source": [
    "# Seelct variables\n",
    "X = ['alcohol', 'volatile acidity', 'sulphates']\n",
    "\n",
    "# Fit\n",
    "model.fit(X_train[X], y_train[y_actual])\n",
    "\n",
    "#Find model parameters\n",
    "coefficients = model.coef_\n",
    "intercept = model.intercept_\n",
    "\n",
    "print(pd.DataFrame(data={'features':X, 'coefficients':coefficients}))\n",
    "print('\\n') # Add new line to print\n",
    "print(F\"Intercept = {intercept}\")\n",
    "\n",
    "result = y_test\n",
    "result[y_predict] = model.predict(X_test[X])\n",
    "\n",
    "mse = mean_squared_error(result[y_actual], result[y_predict])\n",
    "print(\"MSE:\", mse)\n",
    "\n",
    "rmse = np.sqrt(mse)\n",
    "print(\"RMSE:\", rmse)\n",
    "\n",
    "r2 = r2_score(result[y_actual], result[y_predict])\n",
    "print(\"R2:\", r2)"
   ]
  },
  {
   "cell_type": "code",
   "execution_count": null,
   "metadata": {
    "id": "Dn-_39-0R_0b"
   },
   "outputs": [],
   "source": [
    "# Seelct variables\n",
    "X = ['fixed acidity',\n",
    "       'chlorides', 'density', 'total sulfur dioxide', 'citric acid',\n",
    "       'sulphates', 'volatile acidity', 'alcohol']\n",
    "\n",
    "# Fit\n",
    "model.fit(X_train[X], y_train[y_actual])\n",
    "\n",
    "#Find model parameters\n",
    "coefficients = model.coef_\n",
    "intercept = model.intercept_\n",
    "\n",
    "print(pd.DataFrame(data={'features':X, 'coefficients':coefficients}))\n",
    "print('\\n') # Add new line to print\n",
    "print(F\"Intercept = {intercept}\")\n",
    "\n",
    "result = y_test\n",
    "result[y_predict] = model.predict(X_test[X])\n",
    "\n",
    "mse = mean_squared_error(result[y_actual], result[y_predict])\n",
    "print(\"MSE:\", mse)\n",
    "\n",
    "rmse = np.sqrt(mse)\n",
    "print(\"RMSE:\", rmse)\n",
    "\n",
    "r2 = r2_score(result[y_actual], result[y_predict])\n",
    "print(\"R2:\", r2)"
   ]
  },
  {
   "cell_type": "markdown",
   "metadata": {
    "id": "ARHsbtuhSsHQ"
   },
   "source": [
    "# Normalization"
   ]
  },
  {
   "cell_type": "code",
   "execution_count": null,
   "metadata": {
    "id": "VGLo14fWSFnz"
   },
   "outputs": [],
   "source": [
    "for column in X_train.columns:\n",
    "  print(F\"min({column}): {X_train[column].min()}\")\n",
    "  print(F\"max({column}): {X_train[column].max()}\")\n",
    "  X_train[column] = ( X_train[column] - X_train[column].min() ) / ( X_train[column].max() - X_train[column].min() )"
   ]
  },
  {
   "cell_type": "code",
   "execution_count": null,
   "metadata": {
    "id": "uDeJGMqnUyjk"
   },
   "outputs": [],
   "source": [
    "for column in X_test.columns:\n",
    "  print(F\"min({column}): {X_test[column].min()}\")\n",
    "  print(F\"max({column}): {X_test[column].max()}\")\n",
    "  X_test[column] = ( X_test[column] - X_test[column].min() ) / ( X_test[column].max() - X_test[column].min() )"
   ]
  },
  {
   "cell_type": "code",
   "execution_count": null,
   "metadata": {
    "id": "lGAPqjSITl88"
   },
   "outputs": [],
   "source": [
    "# Seelct variables\n",
    "X = X_train.columns\n",
    "\n",
    "# Fit\n",
    "model.fit(X_train[X], y_train[y_actual])\n",
    "\n",
    "#Find model parameters\n",
    "coefficients = model.coef_\n",
    "intercept = model.intercept_\n",
    "\n",
    "print(pd.DataFrame(data={'features':X, 'coefficients':coefficients}))\n",
    "print('\\n') # Add new line to print\n",
    "print(F\"Intercept = {intercept}\")\n",
    "\n",
    "result = y_test\n",
    "result[y_predict] = model.predict(X_test[X])\n",
    "\n",
    "mse = mean_squared_error(result[y_actual], result[y_predict])\n",
    "print(\"MSE:\", mse)\n",
    "\n",
    "rmse = np.sqrt(mse)\n",
    "print(\"RMSE:\", rmse)\n",
    "\n",
    "r2 = r2_score(result[y_actual], result[y_predict])\n",
    "print(\"R2:\", r2)"
   ]
  },
  {
   "cell_type": "markdown",
   "metadata": {
    "id": "zK73w0SETw2l"
   },
   "source": [
    "<hr>\n",
    "Last update 2021-10-16 by Sumudu Tennakoon\n",
    "\n",
    "<a rel=\"license\" href=\"http://creativecommons.org/licenses/by-nc-sa/4.0/\"><img alt=\"Creative Commons License\" style=\"border-width:0\" src=\"https://i.creativecommons.org/l/by-nc-sa/4.0/88x31.png\" /></a><br />This work is licensed under a <a rel=\"license\" href=\"http://creativecommons.org/licenses/by-nc-sa/4.0/\">Creative Commons Attribution-NonCommercial-ShareAlike 4.0 International License</a>."
   ]
  },
  {
   "cell_type": "code",
   "execution_count": null,
   "metadata": {},
   "outputs": [],
   "source": []
  }
 ],
 "metadata": {
  "colab": {
   "collapsed_sections": [
    "69sMOYcjR5C3"
   ],
   "name": "7-SupervisedMachineLearning.ipynb",
   "provenance": []
  },
  "kernelspec": {
   "display_name": "Python 3",
   "language": "python",
   "name": "python3"
  },
  "language_info": {
   "codemirror_mode": {
    "name": "ipython",
    "version": 3
   },
   "file_extension": ".py",
   "mimetype": "text/x-python",
   "name": "python",
   "nbconvert_exporter": "python",
   "pygments_lexer": "ipython3",
   "version": "3.7.7"
  }
 },
 "nbformat": 4,
 "nbformat_minor": 1
}
