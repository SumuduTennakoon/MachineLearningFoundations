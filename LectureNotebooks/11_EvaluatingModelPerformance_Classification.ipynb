{
 "cells": [
  {
   "cell_type": "markdown",
   "metadata": {
    "id": "2ujfzQipoaIn"
   },
   "source": [
    "## Machine Learning Foundations\n",
    "# Evaluating Model Performance - Classification\n",
    "Sumudu Tennakoon, PhD\n",
    "\n",
    "<hr>\n",
    "To learn more about Python, refeer to the following websites\n",
    "\n",
    "* Python : www.python.org\n",
    "\n",
    "To learn more about the Python packages we explore in this notebook, refeer to the following websites\n",
    "\n",
    "* NumPy : www.numpy.org\n",
    "* Matplotlib : www.matplotlib.org\n",
    "* Pandas : https://pandas.pydata.org\n",
    "* Scikit-Learn : https://scikit-learn.org/\n",
    "* Seaborn: https://seaborn.pydata.org/"
   ]
  },
  {
   "cell_type": "code",
   "execution_count": 1,
   "metadata": {
    "id": "v6AQ6dLmo2KJ"
   },
   "outputs": [],
   "source": [
    "import numpy as np\n",
    "import pandas as pd\n",
    "\n",
    "# Data visualization\n",
    "import matplotlib.pyplot as plt\n",
    "from matplotlib import cm # Colomaps\n",
    "import seaborn as sns\n",
    "from sklearn import tree\n",
    "\n",
    "# Classifier algorithms\n",
    "from sklearn.linear_model import LogisticRegression\n",
    "from sklearn.tree import DecisionTreeClassifier\n",
    "from sklearn.ensemble import RandomForestClassifier\n",
    "\n",
    "#train test split\n",
    "from sklearn.model_selection import train_test_split\n",
    "\n",
    "# Model evaluation\n",
    "from sklearn import metrics"
   ]
  },
  {
   "cell_type": "markdown",
   "metadata": {
    "id": "G8tJhrdPo-xc"
   },
   "source": [
    "# 1. Loading the Dataset"
   ]
  },
  {
   "cell_type": "code",
   "execution_count": 2,
   "metadata": {
    "colab": {
     "base_uri": "https://localhost:8080/",
     "height": 974
    },
    "id": "FzN3kA41ciU-",
    "outputId": "f182c996-aa2e-4d3e-ef51-02ae9827374a"
   },
   "outputs": [
    {
     "data": {
      "text/html": [
       "<div>\n",
       "<style scoped>\n",
       "    .dataframe tbody tr th:only-of-type {\n",
       "        vertical-align: middle;\n",
       "    }\n",
       "\n",
       "    .dataframe tbody tr th {\n",
       "        vertical-align: top;\n",
       "    }\n",
       "\n",
       "    .dataframe thead th {\n",
       "        text-align: right;\n",
       "    }\n",
       "</style>\n",
       "<table border=\"1\" class=\"dataframe\">\n",
       "  <thead>\n",
       "    <tr style=\"text-align: right;\">\n",
       "      <th></th>\n",
       "      <th>Unnamed: 0</th>\n",
       "      <th>age</th>\n",
       "      <th>workclass</th>\n",
       "      <th>fnlwgt</th>\n",
       "      <th>education</th>\n",
       "      <th>education_num</th>\n",
       "      <th>marital_status</th>\n",
       "      <th>occupation</th>\n",
       "      <th>relationship</th>\n",
       "      <th>race</th>\n",
       "      <th>sex</th>\n",
       "      <th>capital_gain</th>\n",
       "      <th>capital_loss</th>\n",
       "      <th>hours_per_week</th>\n",
       "      <th>native_country</th>\n",
       "      <th>class</th>\n",
       "    </tr>\n",
       "  </thead>\n",
       "  <tbody>\n",
       "    <tr>\n",
       "      <th>1688</th>\n",
       "      <td>1688</td>\n",
       "      <td>53</td>\n",
       "      <td>Private</td>\n",
       "      <td>117496</td>\n",
       "      <td>9th</td>\n",
       "      <td>5</td>\n",
       "      <td>Divorced</td>\n",
       "      <td>Other-service</td>\n",
       "      <td>Not-in-family</td>\n",
       "      <td>White</td>\n",
       "      <td>Female</td>\n",
       "      <td>0.0</td>\n",
       "      <td>0.0</td>\n",
       "      <td>36.0</td>\n",
       "      <td>Canada</td>\n",
       "      <td>&lt;=50K</td>\n",
       "    </tr>\n",
       "    <tr>\n",
       "      <th>17221</th>\n",
       "      <td>17228</td>\n",
       "      <td>41</td>\n",
       "      <td>Local-gov</td>\n",
       "      <td>33068</td>\n",
       "      <td>Masters</td>\n",
       "      <td>14</td>\n",
       "      <td>Divorced</td>\n",
       "      <td>Prof-specialty</td>\n",
       "      <td>Not-in-family</td>\n",
       "      <td>White</td>\n",
       "      <td>Male</td>\n",
       "      <td>0.0</td>\n",
       "      <td>1974.0</td>\n",
       "      <td>40.0</td>\n",
       "      <td>United-States</td>\n",
       "      <td>&lt;=50K</td>\n",
       "    </tr>\n",
       "    <tr>\n",
       "      <th>27654</th>\n",
       "      <td>2836</td>\n",
       "      <td>24</td>\n",
       "      <td>Private</td>\n",
       "      <td>199005</td>\n",
       "      <td>HS-grad</td>\n",
       "      <td>9</td>\n",
       "      <td>Never-married</td>\n",
       "      <td>Other-service</td>\n",
       "      <td>Own-child</td>\n",
       "      <td>White</td>\n",
       "      <td>Male</td>\n",
       "      <td>0.0</td>\n",
       "      <td>0.0</td>\n",
       "      <td>25.0</td>\n",
       "      <td>United-States</td>\n",
       "      <td>&lt;=50K.</td>\n",
       "    </tr>\n",
       "    <tr>\n",
       "      <th>15157</th>\n",
       "      <td>15163</td>\n",
       "      <td>25</td>\n",
       "      <td>Private</td>\n",
       "      <td>207875</td>\n",
       "      <td>Some-college</td>\n",
       "      <td>10</td>\n",
       "      <td>Never-married</td>\n",
       "      <td>Farming-fishing</td>\n",
       "      <td>Own-child</td>\n",
       "      <td>White</td>\n",
       "      <td>Male</td>\n",
       "      <td>0.0</td>\n",
       "      <td>0.0</td>\n",
       "      <td>20.0</td>\n",
       "      <td>United-States</td>\n",
       "      <td>&lt;=50K</td>\n",
       "    </tr>\n",
       "    <tr>\n",
       "      <th>32085</th>\n",
       "      <td>7267</td>\n",
       "      <td>19</td>\n",
       "      <td>Private</td>\n",
       "      <td>153019</td>\n",
       "      <td>HS-grad</td>\n",
       "      <td>9</td>\n",
       "      <td>Never-married</td>\n",
       "      <td>Exec-managerial</td>\n",
       "      <td>Own-child</td>\n",
       "      <td>White</td>\n",
       "      <td>Male</td>\n",
       "      <td>0.0</td>\n",
       "      <td>0.0</td>\n",
       "      <td>40.0</td>\n",
       "      <td>United-States</td>\n",
       "      <td>&lt;=50K.</td>\n",
       "    </tr>\n",
       "    <tr>\n",
       "      <th>34637</th>\n",
       "      <td>9819</td>\n",
       "      <td>20</td>\n",
       "      <td>Private</td>\n",
       "      <td>367240</td>\n",
       "      <td>Some-college</td>\n",
       "      <td>10</td>\n",
       "      <td>Never-married</td>\n",
       "      <td>Other-service</td>\n",
       "      <td>Own-child</td>\n",
       "      <td>White</td>\n",
       "      <td>Female</td>\n",
       "      <td>0.0</td>\n",
       "      <td>0.0</td>\n",
       "      <td>20.0</td>\n",
       "      <td>United-States</td>\n",
       "      <td>&lt;=50K.</td>\n",
       "    </tr>\n",
       "    <tr>\n",
       "      <th>33618</th>\n",
       "      <td>8800</td>\n",
       "      <td>44</td>\n",
       "      <td>Self-emp-not-inc</td>\n",
       "      <td>234767</td>\n",
       "      <td>Masters</td>\n",
       "      <td>14</td>\n",
       "      <td>Married-civ-spouse</td>\n",
       "      <td>Prof-specialty</td>\n",
       "      <td>Husband</td>\n",
       "      <td>White</td>\n",
       "      <td>Male</td>\n",
       "      <td>0.0</td>\n",
       "      <td>0.0</td>\n",
       "      <td>30.0</td>\n",
       "      <td>United-States</td>\n",
       "      <td>&gt;50K.</td>\n",
       "    </tr>\n",
       "    <tr>\n",
       "      <th>31955</th>\n",
       "      <td>7137</td>\n",
       "      <td>37</td>\n",
       "      <td>Federal-gov</td>\n",
       "      <td>54595</td>\n",
       "      <td>HS-grad</td>\n",
       "      <td>9</td>\n",
       "      <td>Never-married</td>\n",
       "      <td>Adm-clerical</td>\n",
       "      <td>Unmarried</td>\n",
       "      <td>Black</td>\n",
       "      <td>Female</td>\n",
       "      <td>0.0</td>\n",
       "      <td>0.0</td>\n",
       "      <td>40.0</td>\n",
       "      <td>United-States</td>\n",
       "      <td>&lt;=50K.</td>\n",
       "    </tr>\n",
       "    <tr>\n",
       "      <th>24580</th>\n",
       "      <td>24595</td>\n",
       "      <td>28</td>\n",
       "      <td>Private</td>\n",
       "      <td>113870</td>\n",
       "      <td>HS-grad</td>\n",
       "      <td>9</td>\n",
       "      <td>Never-married</td>\n",
       "      <td>Adm-clerical</td>\n",
       "      <td>Not-in-family</td>\n",
       "      <td>White</td>\n",
       "      <td>Male</td>\n",
       "      <td>0.0</td>\n",
       "      <td>0.0</td>\n",
       "      <td>40.0</td>\n",
       "      <td>United-States</td>\n",
       "      <td>&lt;=50K</td>\n",
       "    </tr>\n",
       "    <tr>\n",
       "      <th>21545</th>\n",
       "      <td>21556</td>\n",
       "      <td>37</td>\n",
       "      <td>Self-emp-inc</td>\n",
       "      <td>188774</td>\n",
       "      <td>11th</td>\n",
       "      <td>7</td>\n",
       "      <td>Married-spouse-absent</td>\n",
       "      <td>Sales</td>\n",
       "      <td>Not-in-family</td>\n",
       "      <td>White</td>\n",
       "      <td>Male</td>\n",
       "      <td>0.0</td>\n",
       "      <td>0.0</td>\n",
       "      <td>60.0</td>\n",
       "      <td>?</td>\n",
       "      <td>&lt;=50K</td>\n",
       "    </tr>\n",
       "  </tbody>\n",
       "</table>\n",
       "</div>"
      ],
      "text/plain": [
       "       Unnamed: 0  age          workclass  fnlwgt      education  \\\n",
       "1688         1688   53            Private  117496            9th   \n",
       "17221       17228   41          Local-gov   33068        Masters   \n",
       "27654        2836   24            Private  199005        HS-grad   \n",
       "15157       15163   25            Private  207875   Some-college   \n",
       "32085        7267   19            Private  153019        HS-grad   \n",
       "34637        9819   20            Private  367240   Some-college   \n",
       "33618        8800   44   Self-emp-not-inc  234767        Masters   \n",
       "31955        7137   37        Federal-gov   54595        HS-grad   \n",
       "24580       24595   28            Private  113870        HS-grad   \n",
       "21545       21556   37       Self-emp-inc  188774           11th   \n",
       "\n",
       "       education_num          marital_status        occupation  \\\n",
       "1688               5                Divorced     Other-service   \n",
       "17221             14                Divorced    Prof-specialty   \n",
       "27654              9           Never-married     Other-service   \n",
       "15157             10           Never-married   Farming-fishing   \n",
       "32085              9           Never-married   Exec-managerial   \n",
       "34637             10           Never-married     Other-service   \n",
       "33618             14      Married-civ-spouse    Prof-specialty   \n",
       "31955              9           Never-married      Adm-clerical   \n",
       "24580              9           Never-married      Adm-clerical   \n",
       "21545              7   Married-spouse-absent             Sales   \n",
       "\n",
       "         relationship    race      sex  capital_gain  capital_loss  \\\n",
       "1688    Not-in-family   White   Female           0.0           0.0   \n",
       "17221   Not-in-family   White     Male           0.0        1974.0   \n",
       "27654       Own-child   White     Male           0.0           0.0   \n",
       "15157       Own-child   White     Male           0.0           0.0   \n",
       "32085       Own-child   White     Male           0.0           0.0   \n",
       "34637       Own-child   White   Female           0.0           0.0   \n",
       "33618         Husband   White     Male           0.0           0.0   \n",
       "31955       Unmarried   Black   Female           0.0           0.0   \n",
       "24580   Not-in-family   White     Male           0.0           0.0   \n",
       "21545   Not-in-family   White     Male           0.0           0.0   \n",
       "\n",
       "       hours_per_week  native_country    class  \n",
       "1688             36.0          Canada    <=50K  \n",
       "17221            40.0   United-States    <=50K  \n",
       "27654            25.0   United-States   <=50K.  \n",
       "15157            20.0   United-States    <=50K  \n",
       "32085            40.0   United-States   <=50K.  \n",
       "34637            20.0   United-States   <=50K.  \n",
       "33618            30.0   United-States    >50K.  \n",
       "31955            40.0   United-States   <=50K.  \n",
       "24580            40.0   United-States    <=50K  \n",
       "21545            60.0               ?    <=50K  "
      ]
     },
     "execution_count": 2,
     "metadata": {},
     "output_type": "execute_result"
    }
   ],
   "source": [
    "file_name = 'https://raw.githubusercontent.com/SumuduTennakoon/MLFoundations/main/Datasets/income_data.csv'\n",
    "\n",
    "# Load CSV File\n",
    "data = pd.read_csv(file_name)\n",
    "data.sample(10)"
   ]
  },
  {
   "cell_type": "code",
   "execution_count": 3,
   "metadata": {},
   "outputs": [
    {
     "name": "stdout",
     "output_type": "stream",
     "text": [
      "<class 'pandas.core.frame.DataFrame'>\n",
      "RangeIndex: 41095 entries, 0 to 41094\n",
      "Data columns (total 16 columns):\n",
      " #   Column          Non-Null Count  Dtype  \n",
      "---  ------          --------------  -----  \n",
      " 0   Unnamed: 0      41095 non-null  int64  \n",
      " 1   age             41095 non-null  int64  \n",
      " 2   workclass       41095 non-null  object \n",
      " 3   fnlwgt          41095 non-null  int64  \n",
      " 4   education       41095 non-null  object \n",
      " 5   education_num   41095 non-null  int64  \n",
      " 6   marital_status  41095 non-null  object \n",
      " 7   occupation      41095 non-null  object \n",
      " 8   relationship    41095 non-null  object \n",
      " 9   race            41095 non-null  object \n",
      " 10  sex             41095 non-null  object \n",
      " 11  capital_gain    41094 non-null  float64\n",
      " 12  capital_loss    41094 non-null  float64\n",
      " 13  hours_per_week  41094 non-null  float64\n",
      " 14  native_country  41094 non-null  object \n",
      " 15  class           41094 non-null  object \n",
      "dtypes: float64(3), int64(4), object(9)\n",
      "memory usage: 5.0+ MB\n"
     ]
    }
   ],
   "source": [
    "data.info()"
   ]
  },
  {
   "cell_type": "code",
   "execution_count": 4,
   "metadata": {},
   "outputs": [
    {
     "data": {
      "text/html": [
       "<div>\n",
       "<style scoped>\n",
       "    .dataframe tbody tr th:only-of-type {\n",
       "        vertical-align: middle;\n",
       "    }\n",
       "\n",
       "    .dataframe tbody tr th {\n",
       "        vertical-align: top;\n",
       "    }\n",
       "\n",
       "    .dataframe thead th {\n",
       "        text-align: right;\n",
       "    }\n",
       "</style>\n",
       "<table border=\"1\" class=\"dataframe\">\n",
       "  <thead>\n",
       "    <tr style=\"text-align: right;\">\n",
       "      <th></th>\n",
       "      <th>count</th>\n",
       "      <th>unique</th>\n",
       "      <th>top</th>\n",
       "      <th>freq</th>\n",
       "      <th>mean</th>\n",
       "      <th>std</th>\n",
       "      <th>min</th>\n",
       "      <th>25%</th>\n",
       "      <th>50%</th>\n",
       "      <th>75%</th>\n",
       "      <th>max</th>\n",
       "    </tr>\n",
       "  </thead>\n",
       "  <tbody>\n",
       "    <tr>\n",
       "      <th>Unnamed: 0</th>\n",
       "      <td>41095.0</td>\n",
       "      <td>NaN</td>\n",
       "      <td>NaN</td>\n",
       "      <td>NaN</td>\n",
       "      <td>10721.02594</td>\n",
       "      <td>6645.180596</td>\n",
       "      <td>0.0</td>\n",
       "      <td>5138.0</td>\n",
       "      <td>10275.0</td>\n",
       "      <td>15415.0</td>\n",
       "      <td>24833.0</td>\n",
       "    </tr>\n",
       "    <tr>\n",
       "      <th>age</th>\n",
       "      <td>41095.0</td>\n",
       "      <td>NaN</td>\n",
       "      <td>NaN</td>\n",
       "      <td>NaN</td>\n",
       "      <td>38.669425</td>\n",
       "      <td>13.748164</td>\n",
       "      <td>17.0</td>\n",
       "      <td>28.0</td>\n",
       "      <td>37.0</td>\n",
       "      <td>48.0</td>\n",
       "      <td>90.0</td>\n",
       "    </tr>\n",
       "    <tr>\n",
       "      <th>workclass</th>\n",
       "      <td>41095</td>\n",
       "      <td>9</td>\n",
       "      <td>Private</td>\n",
       "      <td>28451</td>\n",
       "      <td>NaN</td>\n",
       "      <td>NaN</td>\n",
       "      <td>NaN</td>\n",
       "      <td>NaN</td>\n",
       "      <td>NaN</td>\n",
       "      <td>NaN</td>\n",
       "      <td>NaN</td>\n",
       "    </tr>\n",
       "    <tr>\n",
       "      <th>fnlwgt</th>\n",
       "      <td>41095.0</td>\n",
       "      <td>NaN</td>\n",
       "      <td>NaN</td>\n",
       "      <td>NaN</td>\n",
       "      <td>189652.134737</td>\n",
       "      <td>105499.712269</td>\n",
       "      <td>12285.0</td>\n",
       "      <td>117587.0</td>\n",
       "      <td>178109.0</td>\n",
       "      <td>237563.5</td>\n",
       "      <td>1490400.0</td>\n",
       "    </tr>\n",
       "    <tr>\n",
       "      <th>education</th>\n",
       "      <td>41095</td>\n",
       "      <td>16</td>\n",
       "      <td>HS-grad</td>\n",
       "      <td>13345</td>\n",
       "      <td>NaN</td>\n",
       "      <td>NaN</td>\n",
       "      <td>NaN</td>\n",
       "      <td>NaN</td>\n",
       "      <td>NaN</td>\n",
       "      <td>NaN</td>\n",
       "      <td>NaN</td>\n",
       "    </tr>\n",
       "    <tr>\n",
       "      <th>education_num</th>\n",
       "      <td>41095.0</td>\n",
       "      <td>NaN</td>\n",
       "      <td>NaN</td>\n",
       "      <td>NaN</td>\n",
       "      <td>10.079353</td>\n",
       "      <td>2.560906</td>\n",
       "      <td>1.0</td>\n",
       "      <td>9.0</td>\n",
       "      <td>10.0</td>\n",
       "      <td>12.0</td>\n",
       "      <td>16.0</td>\n",
       "    </tr>\n",
       "    <tr>\n",
       "      <th>marital_status</th>\n",
       "      <td>41095</td>\n",
       "      <td>7</td>\n",
       "      <td>Married-civ-spouse</td>\n",
       "      <td>18770</td>\n",
       "      <td>NaN</td>\n",
       "      <td>NaN</td>\n",
       "      <td>NaN</td>\n",
       "      <td>NaN</td>\n",
       "      <td>NaN</td>\n",
       "      <td>NaN</td>\n",
       "      <td>NaN</td>\n",
       "    </tr>\n",
       "    <tr>\n",
       "      <th>occupation</th>\n",
       "      <td>41095</td>\n",
       "      <td>15</td>\n",
       "      <td>Prof-specialty</td>\n",
       "      <td>5193</td>\n",
       "      <td>NaN</td>\n",
       "      <td>NaN</td>\n",
       "      <td>NaN</td>\n",
       "      <td>NaN</td>\n",
       "      <td>NaN</td>\n",
       "      <td>NaN</td>\n",
       "      <td>NaN</td>\n",
       "    </tr>\n",
       "    <tr>\n",
       "      <th>relationship</th>\n",
       "      <td>41095</td>\n",
       "      <td>6</td>\n",
       "      <td>Husband</td>\n",
       "      <td>16520</td>\n",
       "      <td>NaN</td>\n",
       "      <td>NaN</td>\n",
       "      <td>NaN</td>\n",
       "      <td>NaN</td>\n",
       "      <td>NaN</td>\n",
       "      <td>NaN</td>\n",
       "      <td>NaN</td>\n",
       "    </tr>\n",
       "    <tr>\n",
       "      <th>race</th>\n",
       "      <td>41095</td>\n",
       "      <td>5</td>\n",
       "      <td>White</td>\n",
       "      <td>35180</td>\n",
       "      <td>NaN</td>\n",
       "      <td>NaN</td>\n",
       "      <td>NaN</td>\n",
       "      <td>NaN</td>\n",
       "      <td>NaN</td>\n",
       "      <td>NaN</td>\n",
       "      <td>NaN</td>\n",
       "    </tr>\n",
       "    <tr>\n",
       "      <th>sex</th>\n",
       "      <td>41095</td>\n",
       "      <td>3</td>\n",
       "      <td>Male</td>\n",
       "      <td>27446</td>\n",
       "      <td>NaN</td>\n",
       "      <td>NaN</td>\n",
       "      <td>NaN</td>\n",
       "      <td>NaN</td>\n",
       "      <td>NaN</td>\n",
       "      <td>NaN</td>\n",
       "      <td>NaN</td>\n",
       "    </tr>\n",
       "    <tr>\n",
       "      <th>capital_gain</th>\n",
       "      <td>41094.0</td>\n",
       "      <td>NaN</td>\n",
       "      <td>NaN</td>\n",
       "      <td>NaN</td>\n",
       "      <td>1085.012581</td>\n",
       "      <td>7509.925734</td>\n",
       "      <td>0.0</td>\n",
       "      <td>0.0</td>\n",
       "      <td>0.0</td>\n",
       "      <td>0.0</td>\n",
       "      <td>99999.0</td>\n",
       "    </tr>\n",
       "    <tr>\n",
       "      <th>capital_loss</th>\n",
       "      <td>41094.0</td>\n",
       "      <td>NaN</td>\n",
       "      <td>NaN</td>\n",
       "      <td>NaN</td>\n",
       "      <td>86.899134</td>\n",
       "      <td>401.668898</td>\n",
       "      <td>0.0</td>\n",
       "      <td>0.0</td>\n",
       "      <td>0.0</td>\n",
       "      <td>0.0</td>\n",
       "      <td>4356.0</td>\n",
       "    </tr>\n",
       "    <tr>\n",
       "      <th>hours_per_week</th>\n",
       "      <td>41094.0</td>\n",
       "      <td>NaN</td>\n",
       "      <td>NaN</td>\n",
       "      <td>NaN</td>\n",
       "      <td>40.404585</td>\n",
       "      <td>12.371882</td>\n",
       "      <td>1.0</td>\n",
       "      <td>40.0</td>\n",
       "      <td>40.0</td>\n",
       "      <td>45.0</td>\n",
       "      <td>99.0</td>\n",
       "    </tr>\n",
       "    <tr>\n",
       "      <th>native_country</th>\n",
       "      <td>41094</td>\n",
       "      <td>42</td>\n",
       "      <td>United-States</td>\n",
       "      <td>36919</td>\n",
       "      <td>NaN</td>\n",
       "      <td>NaN</td>\n",
       "      <td>NaN</td>\n",
       "      <td>NaN</td>\n",
       "      <td>NaN</td>\n",
       "      <td>NaN</td>\n",
       "      <td>NaN</td>\n",
       "    </tr>\n",
       "    <tr>\n",
       "      <th>class</th>\n",
       "      <td>41094</td>\n",
       "      <td>4</td>\n",
       "      <td>&lt;=50K</td>\n",
       "      <td>18867</td>\n",
       "      <td>NaN</td>\n",
       "      <td>NaN</td>\n",
       "      <td>NaN</td>\n",
       "      <td>NaN</td>\n",
       "      <td>NaN</td>\n",
       "      <td>NaN</td>\n",
       "      <td>NaN</td>\n",
       "    </tr>\n",
       "  </tbody>\n",
       "</table>\n",
       "</div>"
      ],
      "text/plain": [
       "                  count unique                  top   freq           mean  \\\n",
       "Unnamed: 0      41095.0    NaN                  NaN    NaN    10721.02594   \n",
       "age             41095.0    NaN                  NaN    NaN      38.669425   \n",
       "workclass         41095      9              Private  28451            NaN   \n",
       "fnlwgt          41095.0    NaN                  NaN    NaN  189652.134737   \n",
       "education         41095     16              HS-grad  13345            NaN   \n",
       "education_num   41095.0    NaN                  NaN    NaN      10.079353   \n",
       "marital_status    41095      7   Married-civ-spouse  18770            NaN   \n",
       "occupation        41095     15       Prof-specialty   5193            NaN   \n",
       "relationship      41095      6              Husband  16520            NaN   \n",
       "race              41095      5                White  35180            NaN   \n",
       "sex               41095      3                 Male  27446            NaN   \n",
       "capital_gain    41094.0    NaN                  NaN    NaN    1085.012581   \n",
       "capital_loss    41094.0    NaN                  NaN    NaN      86.899134   \n",
       "hours_per_week  41094.0    NaN                  NaN    NaN      40.404585   \n",
       "native_country    41094     42        United-States  36919            NaN   \n",
       "class             41094      4                <=50K  18867            NaN   \n",
       "\n",
       "                          std      min       25%       50%       75%  \\\n",
       "Unnamed: 0        6645.180596      0.0    5138.0   10275.0   15415.0   \n",
       "age                 13.748164     17.0      28.0      37.0      48.0   \n",
       "workclass                 NaN      NaN       NaN       NaN       NaN   \n",
       "fnlwgt          105499.712269  12285.0  117587.0  178109.0  237563.5   \n",
       "education                 NaN      NaN       NaN       NaN       NaN   \n",
       "education_num        2.560906      1.0       9.0      10.0      12.0   \n",
       "marital_status            NaN      NaN       NaN       NaN       NaN   \n",
       "occupation                NaN      NaN       NaN       NaN       NaN   \n",
       "relationship              NaN      NaN       NaN       NaN       NaN   \n",
       "race                      NaN      NaN       NaN       NaN       NaN   \n",
       "sex                       NaN      NaN       NaN       NaN       NaN   \n",
       "capital_gain      7509.925734      0.0       0.0       0.0       0.0   \n",
       "capital_loss       401.668898      0.0       0.0       0.0       0.0   \n",
       "hours_per_week      12.371882      1.0      40.0      40.0      45.0   \n",
       "native_country            NaN      NaN       NaN       NaN       NaN   \n",
       "class                     NaN      NaN       NaN       NaN       NaN   \n",
       "\n",
       "                      max  \n",
       "Unnamed: 0        24833.0  \n",
       "age                  90.0  \n",
       "workclass             NaN  \n",
       "fnlwgt          1490400.0  \n",
       "education             NaN  \n",
       "education_num        16.0  \n",
       "marital_status        NaN  \n",
       "occupation            NaN  \n",
       "relationship          NaN  \n",
       "race                  NaN  \n",
       "sex                   NaN  \n",
       "capital_gain      99999.0  \n",
       "capital_loss       4356.0  \n",
       "hours_per_week       99.0  \n",
       "native_country        NaN  \n",
       "class                 NaN  "
      ]
     },
     "execution_count": 4,
     "metadata": {},
     "output_type": "execute_result"
    }
   ],
   "source": [
    "data.describe(include='all').transpose()"
   ]
  },
  {
   "cell_type": "markdown",
   "metadata": {},
   "source": [
    "# 2. Pre-Processing Tasks\n",
    "Reuse Code from Feature Engineering Notebook"
   ]
  },
  {
   "cell_type": "code",
   "execution_count": 5,
   "metadata": {},
   "outputs": [
    {
     "data": {
      "text/html": [
       "<div>\n",
       "<style scoped>\n",
       "    .dataframe tbody tr th:only-of-type {\n",
       "        vertical-align: middle;\n",
       "    }\n",
       "\n",
       "    .dataframe tbody tr th {\n",
       "        vertical-align: top;\n",
       "    }\n",
       "\n",
       "    .dataframe thead th {\n",
       "        text-align: right;\n",
       "    }\n",
       "</style>\n",
       "<table border=\"1\" class=\"dataframe\">\n",
       "  <thead>\n",
       "    <tr style=\"text-align: right;\">\n",
       "      <th></th>\n",
       "      <th>ID</th>\n",
       "      <th>age</th>\n",
       "      <th>workclass</th>\n",
       "      <th>education</th>\n",
       "      <th>education_num</th>\n",
       "      <th>marital_status</th>\n",
       "      <th>occupation</th>\n",
       "      <th>relationship</th>\n",
       "      <th>race</th>\n",
       "      <th>sex</th>\n",
       "      <th>capital_gain</th>\n",
       "      <th>capital_loss</th>\n",
       "      <th>hours_per_week</th>\n",
       "      <th>native_country</th>\n",
       "      <th>class</th>\n",
       "      <th>earn_gt_50K</th>\n",
       "    </tr>\n",
       "  </thead>\n",
       "  <tbody>\n",
       "    <tr>\n",
       "      <th>0</th>\n",
       "      <td>1</td>\n",
       "      <td>39</td>\n",
       "      <td>State-gov</td>\n",
       "      <td>Bachelors</td>\n",
       "      <td>13</td>\n",
       "      <td>Never-married</td>\n",
       "      <td>Adm-clerical</td>\n",
       "      <td>Not-in-family</td>\n",
       "      <td>White</td>\n",
       "      <td>Male</td>\n",
       "      <td>2174.0</td>\n",
       "      <td>0.0</td>\n",
       "      <td>40.0</td>\n",
       "      <td>United-States</td>\n",
       "      <td>&lt;=50K</td>\n",
       "      <td>0</td>\n",
       "    </tr>\n",
       "    <tr>\n",
       "      <th>1</th>\n",
       "      <td>2</td>\n",
       "      <td>50</td>\n",
       "      <td>Self-emp-not-inc</td>\n",
       "      <td>Bachelors</td>\n",
       "      <td>13</td>\n",
       "      <td>Married-civ-spouse</td>\n",
       "      <td>Exec-managerial</td>\n",
       "      <td>Husband</td>\n",
       "      <td>White</td>\n",
       "      <td>Male</td>\n",
       "      <td>0.0</td>\n",
       "      <td>0.0</td>\n",
       "      <td>13.0</td>\n",
       "      <td>United-States</td>\n",
       "      <td>&lt;=50K</td>\n",
       "      <td>0</td>\n",
       "    </tr>\n",
       "    <tr>\n",
       "      <th>2</th>\n",
       "      <td>3</td>\n",
       "      <td>38</td>\n",
       "      <td>Private</td>\n",
       "      <td>HS-grad</td>\n",
       "      <td>9</td>\n",
       "      <td>Divorced</td>\n",
       "      <td>Handlers-cleaners</td>\n",
       "      <td>Not-in-family</td>\n",
       "      <td>White</td>\n",
       "      <td>Male</td>\n",
       "      <td>0.0</td>\n",
       "      <td>0.0</td>\n",
       "      <td>40.0</td>\n",
       "      <td>United-States</td>\n",
       "      <td>&lt;=50K</td>\n",
       "      <td>0</td>\n",
       "    </tr>\n",
       "    <tr>\n",
       "      <th>3</th>\n",
       "      <td>4</td>\n",
       "      <td>53</td>\n",
       "      <td>Private</td>\n",
       "      <td>11th</td>\n",
       "      <td>7</td>\n",
       "      <td>Married-civ-spouse</td>\n",
       "      <td>Handlers-cleaners</td>\n",
       "      <td>Husband</td>\n",
       "      <td>Black</td>\n",
       "      <td>Male</td>\n",
       "      <td>0.0</td>\n",
       "      <td>0.0</td>\n",
       "      <td>40.0</td>\n",
       "      <td>United-States</td>\n",
       "      <td>&lt;=50K</td>\n",
       "      <td>0</td>\n",
       "    </tr>\n",
       "    <tr>\n",
       "      <th>4</th>\n",
       "      <td>5</td>\n",
       "      <td>28</td>\n",
       "      <td>Private</td>\n",
       "      <td>Bachelors</td>\n",
       "      <td>13</td>\n",
       "      <td>Married-civ-spouse</td>\n",
       "      <td>Prof-specialty</td>\n",
       "      <td>Wife</td>\n",
       "      <td>Black</td>\n",
       "      <td>Female</td>\n",
       "      <td>0.0</td>\n",
       "      <td>0.0</td>\n",
       "      <td>40.0</td>\n",
       "      <td>Cuba</td>\n",
       "      <td>&lt;=50K</td>\n",
       "      <td>0</td>\n",
       "    </tr>\n",
       "  </tbody>\n",
       "</table>\n",
       "</div>"
      ],
      "text/plain": [
       "   ID  age         workclass  education  education_num      marital_status  \\\n",
       "0   1   39         State-gov  Bachelors             13       Never-married   \n",
       "1   2   50  Self-emp-not-inc  Bachelors             13  Married-civ-spouse   \n",
       "2   3   38           Private    HS-grad              9            Divorced   \n",
       "3   4   53           Private       11th              7  Married-civ-spouse   \n",
       "4   5   28           Private  Bachelors             13  Married-civ-spouse   \n",
       "\n",
       "          occupation   relationship   race     sex  capital_gain  \\\n",
       "0       Adm-clerical  Not-in-family  White    Male        2174.0   \n",
       "1    Exec-managerial        Husband  White    Male           0.0   \n",
       "2  Handlers-cleaners  Not-in-family  White    Male           0.0   \n",
       "3  Handlers-cleaners        Husband  Black    Male           0.0   \n",
       "4     Prof-specialty           Wife  Black  Female           0.0   \n",
       "\n",
       "   capital_loss  hours_per_week native_country  class  earn_gt_50K  \n",
       "0           0.0            40.0  United-States  <=50K            0  \n",
       "1           0.0            13.0  United-States  <=50K            0  \n",
       "2           0.0            40.0  United-States  <=50K            0  \n",
       "3           0.0            40.0  United-States  <=50K            0  \n",
       "4           0.0            40.0           Cuba  <=50K            0  "
      ]
     },
     "execution_count": 5,
     "metadata": {},
     "output_type": "execute_result"
    }
   ],
   "source": [
    "# Drop unwanted column\n",
    "data.drop(labels='Unnamed: 0', axis=1, inplace=True)\n",
    "\n",
    "# Drop rows with missing values\n",
    "data.dropna(how='any', axis=0, inplace=True)\n",
    "\n",
    "# Remove leading and trailing spaces in string values\n",
    "def remove_spaces(data, columns):\n",
    "    for column in columns:\n",
    "        data[column] = data[column].str.strip()\n",
    "    return data\n",
    "\n",
    "columns = ['workclass', 'education', 'marital_status', 'occupation', 'relationship', 'race', 'sex', 'native_country', 'class']\n",
    "data = remove_spaces(data, columns)\n",
    "\n",
    "# Resolve duplicate representation in 'class' column\n",
    "data['class'].replace('>50K.', '>50K', inplace=True)\n",
    "data['class'].replace('<=50K.', '<=50K', inplace=True)\n",
    "\n",
    "# Convert 'class' column to Binary Column\n",
    "# \"<=50K\" -> 0\n",
    "# \">50K\"  -> 1\n",
    "data['earn_gt_50K'] = np.where(data['class']=='>50K',1,0)\n",
    "\n",
    "# Create Unique ID for Each Row\n",
    "data['ID'] = data.index+1\n",
    "\n",
    "# Rearrange Columns \n",
    "data = data[['ID', 'age', 'workclass', 'education', 'education_num',\n",
    "       'marital_status', 'occupation', 'relationship', 'race', 'sex',\n",
    "       'capital_gain', 'capital_loss', 'hours_per_week', 'native_country',\n",
    "       'class', 'earn_gt_50K']]\n",
    "\n",
    "# Optimize Memory Usage\n",
    "data['age'] = data['age'].astype('int8')\n",
    "data['education_num'] = data['education_num'].astype('int8')\n",
    "data['hours_per_week'] = data['hours_per_week'].astype('float32')\n",
    "data['capital_gain'] = data['capital_gain'].astype('float32')\n",
    "data['capital_loss'] = data['capital_loss'].astype('float32')\n",
    "\n",
    "data['workclass'] = data['workclass'].astype('category')\n",
    "data['education'] = data['education'].astype('category')\n",
    "data['marital_status'] = data['marital_status'].astype('category')\n",
    "data['education'] = data['education'].astype('category')\n",
    "data['occupation'] = data['occupation'].astype('category')\n",
    "data['relationship'] = data['relationship'].astype('category')\n",
    "data['race'] = data['race'].astype('category')\n",
    "data['sex'] = data['sex'].astype('category')\n",
    "data['native_country'] = data['native_country'].astype('category')\n",
    "\n",
    "# save as picke file (binary)\n",
    "#data.to_pickle('income_data_cleaned.pkl')\n",
    "\n",
    "# Save as .csv\n",
    "#data.to_csv('income_data_cleaned.csv', index=False)\n",
    "\n",
    "data.head()"
   ]
  },
  {
   "cell_type": "markdown",
   "metadata": {},
   "source": [
    "# 3. Feature Engineering\n",
    "Reuse Code from Feature Engineering Notebook"
   ]
  },
  {
   "cell_type": "code",
   "execution_count": 6,
   "metadata": {},
   "outputs": [
    {
     "data": {
      "text/html": [
       "<div>\n",
       "<style scoped>\n",
       "    .dataframe tbody tr th:only-of-type {\n",
       "        vertical-align: middle;\n",
       "    }\n",
       "\n",
       "    .dataframe tbody tr th {\n",
       "        vertical-align: top;\n",
       "    }\n",
       "\n",
       "    .dataframe thead th {\n",
       "        text-align: right;\n",
       "    }\n",
       "</style>\n",
       "<table border=\"1\" class=\"dataframe\">\n",
       "  <thead>\n",
       "    <tr style=\"text-align: right;\">\n",
       "      <th></th>\n",
       "      <th>ID</th>\n",
       "      <th>age</th>\n",
       "      <th>workclass</th>\n",
       "      <th>education</th>\n",
       "      <th>education_num</th>\n",
       "      <th>marital_status</th>\n",
       "      <th>occupation</th>\n",
       "      <th>relationship</th>\n",
       "      <th>race</th>\n",
       "      <th>sex</th>\n",
       "      <th>...</th>\n",
       "      <th>is_male</th>\n",
       "      <th>workclass_group</th>\n",
       "      <th>workclass_num</th>\n",
       "      <th>marital_status_group</th>\n",
       "      <th>marital_status_num</th>\n",
       "      <th>occupation_group</th>\n",
       "      <th>occupation_num</th>\n",
       "      <th>race_group</th>\n",
       "      <th>race_num</th>\n",
       "      <th>relationship_num</th>\n",
       "    </tr>\n",
       "  </thead>\n",
       "  <tbody>\n",
       "    <tr>\n",
       "      <th>0</th>\n",
       "      <td>1</td>\n",
       "      <td>39</td>\n",
       "      <td>State-gov</td>\n",
       "      <td>Bachelors</td>\n",
       "      <td>13</td>\n",
       "      <td>Never-married</td>\n",
       "      <td>Adm-clerical</td>\n",
       "      <td>Not-in-family</td>\n",
       "      <td>White</td>\n",
       "      <td>Male</td>\n",
       "      <td>...</td>\n",
       "      <td>1</td>\n",
       "      <td>Local-State-gov</td>\n",
       "      <td>4</td>\n",
       "      <td>Never-married</td>\n",
       "      <td>1</td>\n",
       "      <td>Adm-clerical</td>\n",
       "      <td>3</td>\n",
       "      <td>White</td>\n",
       "      <td>3</td>\n",
       "      <td>4</td>\n",
       "    </tr>\n",
       "    <tr>\n",
       "      <th>1</th>\n",
       "      <td>2</td>\n",
       "      <td>50</td>\n",
       "      <td>Self-emp-not-inc</td>\n",
       "      <td>Bachelors</td>\n",
       "      <td>13</td>\n",
       "      <td>Married-civ-spouse</td>\n",
       "      <td>Exec-managerial</td>\n",
       "      <td>Husband</td>\n",
       "      <td>White</td>\n",
       "      <td>Male</td>\n",
       "      <td>...</td>\n",
       "      <td>1</td>\n",
       "      <td>Self-emp-not-inc</td>\n",
       "      <td>3</td>\n",
       "      <td>Married-civ-AF-spouse</td>\n",
       "      <td>3</td>\n",
       "      <td>Exec-managerial-Prof-specialty</td>\n",
       "      <td>9</td>\n",
       "      <td>White</td>\n",
       "      <td>3</td>\n",
       "      <td>5</td>\n",
       "    </tr>\n",
       "    <tr>\n",
       "      <th>2</th>\n",
       "      <td>3</td>\n",
       "      <td>38</td>\n",
       "      <td>Private</td>\n",
       "      <td>HS-grad</td>\n",
       "      <td>9</td>\n",
       "      <td>Divorced</td>\n",
       "      <td>Handlers-cleaners</td>\n",
       "      <td>Not-in-family</td>\n",
       "      <td>White</td>\n",
       "      <td>Male</td>\n",
       "      <td>...</td>\n",
       "      <td>1</td>\n",
       "      <td>Private</td>\n",
       "      <td>2</td>\n",
       "      <td>Divorced-Separated-Widowed-Absent</td>\n",
       "      <td>2</td>\n",
       "      <td>Priv-house-serv-Handlers-cleaners-Other</td>\n",
       "      <td>1</td>\n",
       "      <td>White</td>\n",
       "      <td>3</td>\n",
       "      <td>4</td>\n",
       "    </tr>\n",
       "    <tr>\n",
       "      <th>3</th>\n",
       "      <td>4</td>\n",
       "      <td>53</td>\n",
       "      <td>Private</td>\n",
       "      <td>11th</td>\n",
       "      <td>7</td>\n",
       "      <td>Married-civ-spouse</td>\n",
       "      <td>Handlers-cleaners</td>\n",
       "      <td>Husband</td>\n",
       "      <td>Black</td>\n",
       "      <td>Male</td>\n",
       "      <td>...</td>\n",
       "      <td>1</td>\n",
       "      <td>Private</td>\n",
       "      <td>2</td>\n",
       "      <td>Married-civ-AF-spouse</td>\n",
       "      <td>3</td>\n",
       "      <td>Priv-house-serv-Handlers-cleaners-Other</td>\n",
       "      <td>1</td>\n",
       "      <td>Black</td>\n",
       "      <td>2</td>\n",
       "      <td>5</td>\n",
       "    </tr>\n",
       "    <tr>\n",
       "      <th>4</th>\n",
       "      <td>5</td>\n",
       "      <td>28</td>\n",
       "      <td>Private</td>\n",
       "      <td>Bachelors</td>\n",
       "      <td>13</td>\n",
       "      <td>Married-civ-spouse</td>\n",
       "      <td>Prof-specialty</td>\n",
       "      <td>Wife</td>\n",
       "      <td>Black</td>\n",
       "      <td>Female</td>\n",
       "      <td>...</td>\n",
       "      <td>0</td>\n",
       "      <td>Private</td>\n",
       "      <td>2</td>\n",
       "      <td>Married-civ-AF-spouse</td>\n",
       "      <td>3</td>\n",
       "      <td>Exec-managerial-Prof-specialty</td>\n",
       "      <td>9</td>\n",
       "      <td>Black</td>\n",
       "      <td>2</td>\n",
       "      <td>6</td>\n",
       "    </tr>\n",
       "  </tbody>\n",
       "</table>\n",
       "<p>5 rows × 26 columns</p>\n",
       "</div>"
      ],
      "text/plain": [
       "   ID  age         workclass  education  education_num      marital_status  \\\n",
       "0   1   39         State-gov  Bachelors             13       Never-married   \n",
       "1   2   50  Self-emp-not-inc  Bachelors             13  Married-civ-spouse   \n",
       "2   3   38           Private    HS-grad              9            Divorced   \n",
       "3   4   53           Private       11th              7  Married-civ-spouse   \n",
       "4   5   28           Private  Bachelors             13  Married-civ-spouse   \n",
       "\n",
       "          occupation   relationship   race     sex  ...  is_male  \\\n",
       "0       Adm-clerical  Not-in-family  White    Male  ...        1   \n",
       "1    Exec-managerial        Husband  White    Male  ...        1   \n",
       "2  Handlers-cleaners  Not-in-family  White    Male  ...        1   \n",
       "3  Handlers-cleaners        Husband  Black    Male  ...        1   \n",
       "4     Prof-specialty           Wife  Black  Female  ...        0   \n",
       "\n",
       "    workclass_group  workclass_num               marital_status_group  \\\n",
       "0   Local-State-gov              4                      Never-married   \n",
       "1  Self-emp-not-inc              3              Married-civ-AF-spouse   \n",
       "2           Private              2  Divorced-Separated-Widowed-Absent   \n",
       "3           Private              2              Married-civ-AF-spouse   \n",
       "4           Private              2              Married-civ-AF-spouse   \n",
       "\n",
       "  marital_status_num                         occupation_group  occupation_num  \\\n",
       "0                  1                             Adm-clerical               3   \n",
       "1                  3           Exec-managerial-Prof-specialty               9   \n",
       "2                  2  Priv-house-serv-Handlers-cleaners-Other               1   \n",
       "3                  3  Priv-house-serv-Handlers-cleaners-Other               1   \n",
       "4                  3           Exec-managerial-Prof-specialty               9   \n",
       "\n",
       "  race_group  race_num relationship_num  \n",
       "0      White         3                4  \n",
       "1      White         3                5  \n",
       "2      White         3                4  \n",
       "3      Black         2                5  \n",
       "4      Black         2                6  \n",
       "\n",
       "[5 rows x 26 columns]"
      ]
     },
     "execution_count": 6,
     "metadata": {},
     "output_type": "execute_result"
    }
   ],
   "source": [
    "# Functions\n",
    "def min_max_scalar(data, column):\n",
    "    max_value = data[column].max()\n",
    "    min_value = data[column].min()\n",
    "    data[f'{column}_scaled'] = (data[column]-min_value)/(max_value-min_value)\n",
    "    return data\n",
    "\n",
    "def z_score(data, column):\n",
    "    mean = data[column].mean()\n",
    "    std = data[column].std()\n",
    "    data[f'{column}_zscore'] = (data[column]-mean)/std\n",
    "    return data\n",
    "\n",
    "def numeric_to_categorical(data, column, bin_edges, labels):\n",
    "    data[F'{column}_group'] = pd.cut(x=data[column], bins=bin_edges, labels=labels)\n",
    "    return data\n",
    "\n",
    "def one_hot_encode(data, columns_to_keep, columns_to_one_hot):\n",
    "    dummy_columns = pd.get_dummies(data[columns_to_one_hot], drop_first=True)\n",
    "    data_one_hot = pd.concat([data[columns_to_keep], dummy_columns], axis=1)\n",
    "    one_hot_columns = dummy_columns.columns\n",
    "    return data_one_hot, one_hot_columns\n",
    "\n",
    "# Pre-processing tasks\n",
    "\n",
    "#sex\n",
    "data['is_male'] = np.where(data['sex']=='Male', 1,0)\n",
    "\n",
    "# workclass\n",
    "data['workclass_group'] = data['workclass'].replace({'?':'Other', 'Without-pay':'Other', 'Never-worked':'Other', 'Local-gov':'Local-State-gov', 'State-gov':'Local-State-gov'})\n",
    "data['workclass_num'] = data['workclass_group'].replace({'Other':1, 'Private':2, 'Self-emp-not-inc':3, 'Local-State-gov':4, 'Federal-gov':5, 'Self-emp-inc':6}).astype('int')\n",
    "\n",
    "# marital_status\n",
    "data['marital_status_group'] = data['marital_status'].replace({'Divorced':'Divorced-Separated-Widowed-Absent', 'Separated':'Divorced-Separated-Widowed-Absent', 'Widowed':'Divorced-Separated-Widowed-Absent', \n",
    "                                    'Married-spouse-absent':'Divorced-Separated-Widowed-Absent',\n",
    "                                    'Married-civ-spouse':'Married-civ-AF-spouse', 'Married-AF-spouse':'Married-civ-AF-spouse'})\n",
    "data['marital_status_num'] = data['marital_status_group'].replace({'Never-married':1, 'Divorced-Separated-Widowed-Absent':2, 'Married-civ-AF-spouse':3}).astype('int')\n",
    "\n",
    "# occupation\n",
    "data['occupation_group'] = data['occupation'].replace({'Prof-specialty':'Exec-managerial-Prof-specialty', 'Exec-managerial':'Exec-managerial-Prof-specialty', \n",
    "                                                                        'Protective-serv':'Armed-Forces-Protective-serv', 'Armed-Forces':'Armed-Forces-Protective-serv',\n",
    "                                                                        'Priv-house-serv':'Priv-house-serv-Handlers-cleaners-Other', 'Handlers-cleaners':'Priv-house-serv-Handlers-cleaners-Other', \n",
    "                                                                        'Other-service':'Priv-house-serv-Handlers-cleaners-Other', '?':'Priv-house-serv-Handlers-cleaners-Other',\n",
    "                                                                        'Farming-fishing':'Farming-fishing-Machine-op-inspct', 'Machine-op-inspct':'Farming-fishing-Machine-op-inspct',\n",
    "                                                                        })\n",
    "data['occupation_num'] = data['occupation_group'].replace({'Priv-house-serv-Handlers-cleaners-Other':1, 'Farming-fishing-Machine-op-inspct':2, \n",
    "                                                                                'Adm-clerical':3, 'Transport-moving':4,'Craft-repair':5, 'Sales':6, 'Tech-support':7,\n",
    "                                                                                'Armed-Forces-Protective-serv':8, 'Exec-managerial-Prof-specialty':9}).astype('int')\n",
    "\n",
    "# race\n",
    "data['race_group'] = data['race'].replace({'Other':'Amer-Indian-Eskimo-Other', 'Amer-Indian-Eskimo':'Amer-Indian-Eskimo-Other'})\n",
    "data['race_num'] = data['race_group'].replace({'Amer-Indian-Eskimo-Other':1, 'Black':2, 'White':3, 'Asian-Pac-Islander':4}).astype('int')\n",
    "\n",
    "# relationship\n",
    "data['relationship_num'] = data['relationship'].replace({'Own-child':1, 'Other-relative':2, 'Unmarried':3, 'Not-in-family':4, 'Husband':5, 'Wife':6}).astype('int')\n",
    "\n",
    "data.head()\n"
   ]
  },
  {
   "cell_type": "markdown",
   "metadata": {},
   "source": [
    "# 4. Formulating Machine Learning Problem"
   ]
  },
  {
   "cell_type": "code",
   "execution_count": 7,
   "metadata": {},
   "outputs": [],
   "source": [
    "X_columns = ['age', 'education_num', 'hours_per_week', 'marital_status_num', 'is_male', 'race_num', 'workclass_num', 'occupation_num'] #, 'relationship_num'\n",
    "y_column = 'y_act'"
   ]
  },
  {
   "cell_type": "code",
   "execution_count": 8,
   "metadata": {},
   "outputs": [],
   "source": [
    "data['y_act'] = data['earn_gt_50K']"
   ]
  },
  {
   "cell_type": "code",
   "execution_count": 9,
   "metadata": {},
   "outputs": [
    {
     "name": "stdout",
     "output_type": "stream",
     "text": [
      "Train sample size = 28765\n",
      "Test sample size  = 12329\n"
     ]
    }
   ],
   "source": [
    "X_train, X_test, y_train, y_test = train_test_split(data[X_columns], data[y_column], test_size=0.3, random_state=42)\n",
    "\n",
    "print(F\"Train sample size = {len(X_train)}\")\n",
    "print(F\"Test sample size  = {len(X_test)}\")"
   ]
  },
  {
   "cell_type": "markdown",
   "metadata": {},
   "source": [
    "# 5. Training and Evaluating Models"
   ]
  },
  {
   "cell_type": "markdown",
   "metadata": {
    "id": "ggbm7gyUYOLQ"
   },
   "source": [
    "## Create Logistic Regression Model\n",
    "* https://en.wikipedia.org/wiki/Logistic_regression\n",
    "* https://scikit-learn.org/stable/modules/generated/sklearn.linear_model.LogisticRegression.html"
   ]
  },
  {
   "cell_type": "code",
   "execution_count": 10,
   "metadata": {
    "colab": {
     "base_uri": "https://localhost:8080/"
    },
    "id": "0R1tMzJwkiYK",
    "outputId": "877111fc-59b9-4512-89a4-b15191b6f7d7"
   },
   "outputs": [
    {
     "data": {
      "text/plain": [
       "LogisticRegression(max_iter=200)"
      ]
     },
     "execution_count": 10,
     "metadata": {},
     "output_type": "execute_result"
    }
   ],
   "source": [
    "# Create model object\n",
    "model = LogisticRegression(max_iter=200)\n",
    "\n",
    "# Train Model\n",
    "model.fit(X_train, y_train)"
   ]
  },
  {
   "cell_type": "code",
   "execution_count": 11,
   "metadata": {
    "colab": {
     "base_uri": "https://localhost:8080/"
    },
    "id": "4jKtGR9_q7PW",
    "outputId": "e61ce146-6096-413d-e3e2-af340f68c925"
   },
   "outputs": [
    {
     "data": {
      "text/plain": [
       "array([[0.8196596 , 0.1803404 ],\n",
       "       [0.9754521 , 0.0245479 ],\n",
       "       [0.98944269, 0.01055731],\n",
       "       [0.99432405, 0.00567595],\n",
       "       [0.96616259, 0.03383741]])"
      ]
     },
     "execution_count": 11,
     "metadata": {},
     "output_type": "execute_result"
    }
   ],
   "source": [
    "# Predict Probability\n",
    "model.predict_proba(X_test)[:5]"
   ]
  },
  {
   "cell_type": "code",
   "execution_count": 12,
   "metadata": {
    "colab": {
     "base_uri": "https://localhost:8080/"
    },
    "id": "CnOkpQ9Eq7Tx",
    "outputId": "e08da11a-ed27-49a7-a4ed-3ecef8c5f413"
   },
   "outputs": [
    {
     "data": {
      "text/plain": [
       "array([0, 0, 0, 0, 0])"
      ]
     },
     "execution_count": 12,
     "metadata": {},
     "output_type": "execute_result"
    }
   ],
   "source": [
    "# Predict Class\n",
    "model.predict(X_test)[:5]"
   ]
  },
  {
   "cell_type": "code",
   "execution_count": 13,
   "metadata": {
    "colab": {
     "base_uri": "https://localhost:8080/",
     "height": 206
    },
    "id": "xK9v9fIgrJSR",
    "outputId": "790fd921-d053-4494-ca91-51b809564c02"
   },
   "outputs": [
    {
     "data": {
      "text/html": [
       "<div>\n",
       "<style scoped>\n",
       "    .dataframe tbody tr th:only-of-type {\n",
       "        vertical-align: middle;\n",
       "    }\n",
       "\n",
       "    .dataframe tbody tr th {\n",
       "        vertical-align: top;\n",
       "    }\n",
       "\n",
       "    .dataframe thead th {\n",
       "        text-align: right;\n",
       "    }\n",
       "</style>\n",
       "<table border=\"1\" class=\"dataframe\">\n",
       "  <thead>\n",
       "    <tr style=\"text-align: right;\">\n",
       "      <th></th>\n",
       "      <th>y_act</th>\n",
       "      <th>y_pred</th>\n",
       "      <th>y_pred_prob</th>\n",
       "    </tr>\n",
       "  </thead>\n",
       "  <tbody>\n",
       "    <tr>\n",
       "      <th>32150</th>\n",
       "      <td>1</td>\n",
       "      <td>1</td>\n",
       "      <td>0.881187</td>\n",
       "    </tr>\n",
       "    <tr>\n",
       "      <th>18026</th>\n",
       "      <td>0</td>\n",
       "      <td>0</td>\n",
       "      <td>0.030670</td>\n",
       "    </tr>\n",
       "    <tr>\n",
       "      <th>13314</th>\n",
       "      <td>0</td>\n",
       "      <td>0</td>\n",
       "      <td>0.003688</td>\n",
       "    </tr>\n",
       "    <tr>\n",
       "      <th>5556</th>\n",
       "      <td>0</td>\n",
       "      <td>0</td>\n",
       "      <td>0.335486</td>\n",
       "    </tr>\n",
       "    <tr>\n",
       "      <th>38101</th>\n",
       "      <td>0</td>\n",
       "      <td>0</td>\n",
       "      <td>0.013281</td>\n",
       "    </tr>\n",
       "  </tbody>\n",
       "</table>\n",
       "</div>"
      ],
      "text/plain": [
       "       y_act  y_pred  y_pred_prob\n",
       "32150      1       1     0.881187\n",
       "18026      0       0     0.030670\n",
       "13314      0       0     0.003688\n",
       "5556       0       0     0.335486\n",
       "38101      0       0     0.013281"
      ]
     },
     "execution_count": 13,
     "metadata": {},
     "output_type": "execute_result"
    }
   ],
   "source": [
    "# Predict on Testing Data\n",
    "\n",
    "# probabilities\n",
    "y_pred_prob = model.predict_proba(X_test)[:, 1]\n",
    "\n",
    "# Prediction\n",
    "y_pred = model.predict(X_test)\n",
    "\n",
    "# Results table\n",
    "test_result = pd.DataFrame(data={'y_act':y_test, 'y_pred':y_pred, 'y_pred_prob':y_pred_prob})\n",
    "test_result.sample(5)"
   ]
  },
  {
   "cell_type": "code",
   "execution_count": 14,
   "metadata": {
    "colab": {
     "base_uri": "https://localhost:8080/",
     "height": 175
    },
    "id": "HLC-ka8kr4jv",
    "outputId": "ecba306a-9da0-4a4c-b952-2d8b8b0654b9"
   },
   "outputs": [
    {
     "data": {
      "text/html": [
       "<div>\n",
       "<style scoped>\n",
       "    .dataframe tbody tr th:only-of-type {\n",
       "        vertical-align: middle;\n",
       "    }\n",
       "\n",
       "    .dataframe tbody tr th {\n",
       "        vertical-align: top;\n",
       "    }\n",
       "\n",
       "    .dataframe thead th {\n",
       "        text-align: right;\n",
       "    }\n",
       "</style>\n",
       "<table border=\"1\" class=\"dataframe\">\n",
       "  <thead>\n",
       "    <tr style=\"text-align: right;\">\n",
       "      <th>y_pred</th>\n",
       "      <th>0</th>\n",
       "      <th>1</th>\n",
       "      <th>All</th>\n",
       "    </tr>\n",
       "    <tr>\n",
       "      <th>y_act</th>\n",
       "      <th></th>\n",
       "      <th></th>\n",
       "      <th></th>\n",
       "    </tr>\n",
       "  </thead>\n",
       "  <tbody>\n",
       "    <tr>\n",
       "      <th>0</th>\n",
       "      <td>8665</td>\n",
       "      <td>722</td>\n",
       "      <td>9387</td>\n",
       "    </tr>\n",
       "    <tr>\n",
       "      <th>1</th>\n",
       "      <td>1395</td>\n",
       "      <td>1547</td>\n",
       "      <td>2942</td>\n",
       "    </tr>\n",
       "    <tr>\n",
       "      <th>All</th>\n",
       "      <td>10060</td>\n",
       "      <td>2269</td>\n",
       "      <td>12329</td>\n",
       "    </tr>\n",
       "  </tbody>\n",
       "</table>\n",
       "</div>"
      ],
      "text/plain": [
       "y_pred      0     1    All\n",
       "y_act                     \n",
       "0        8665   722   9387\n",
       "1        1395  1547   2942\n",
       "All     10060  2269  12329"
      ]
     },
     "execution_count": 14,
     "metadata": {},
     "output_type": "execute_result"
    }
   ],
   "source": [
    "cfm = pd.crosstab(test_result['y_act'], test_result['y_pred'], margins=True)\n",
    "cfm"
   ]
  },
  {
   "cell_type": "code",
   "execution_count": 15,
   "metadata": {
    "colab": {
     "base_uri": "https://localhost:8080/"
    },
    "id": "ANePESJBr4j1",
    "outputId": "74597e4a-af9a-4477-8bdd-035369e12f1a"
   },
   "outputs": [
    {
     "data": {
      "text/plain": [
       "0.8282910211696002"
      ]
     },
     "execution_count": 15,
     "metadata": {},
     "output_type": "execute_result"
    }
   ],
   "source": [
    "acuracy_lgr = metrics.accuracy_score(test_result['y_act'], test_result['y_pred']) \n",
    "acuracy_lgr"
   ]
  },
  {
   "cell_type": "code",
   "execution_count": 16,
   "metadata": {
    "colab": {
     "base_uri": "https://localhost:8080/"
    },
    "id": "IcUDKAMlr4j6",
    "outputId": "908cc013-e69f-4788-e122-84fa3227a702"
   },
   "outputs": [
    {
     "data": {
      "text/plain": [
       "0.6817981489643015"
      ]
     },
     "execution_count": 16,
     "metadata": {},
     "output_type": "execute_result"
    }
   ],
   "source": [
    "# https://scikit-learn.org/stable/modules/generated/sklearn.metrics.precision_score.html#sklearn.metrics.precision_score\n",
    "precision_lgr = metrics.precision_score(test_result['y_act'], test_result['y_pred'], average='binary', pos_label=1)\n",
    "precision_lgr"
   ]
  },
  {
   "cell_type": "code",
   "execution_count": 17,
   "metadata": {},
   "outputs": [
    {
     "data": {
      "text/plain": [
       "0.5258327668252889"
      ]
     },
     "execution_count": 17,
     "metadata": {},
     "output_type": "execute_result"
    }
   ],
   "source": [
    "recall_lgr = metrics.recall_score(test_result['y_act'], test_result['y_pred'], average='binary', pos_label=1)\n",
    "recall_lgr"
   ]
  },
  {
   "cell_type": "code",
   "execution_count": 18,
   "metadata": {
    "colab": {
     "base_uri": "https://localhost:8080/"
    },
    "id": "GzPtgyu2r4j_",
    "outputId": "53064525-25ee-402e-9de5-62c3044fcbdb"
   },
   "outputs": [
    {
     "data": {
      "text/plain": [
       "0.8201740806039219"
      ]
     },
     "execution_count": 18,
     "metadata": {},
     "output_type": "execute_result"
    }
   ],
   "source": [
    "f1_score_lgr = metrics.f1_score(test_result['y_act'], test_result['y_pred'], average='weighted')  #weighted accounts for label imbalance.\n",
    "f1_score_lgr"
   ]
  },
  {
   "cell_type": "markdown",
   "metadata": {
    "id": "FkwdY7ilvy9j"
   },
   "source": [
    "# Decision Tree Classifier\n",
    "* Use same training and testing datasets"
   ]
  },
  {
   "cell_type": "code",
   "execution_count": 19,
   "metadata": {
    "colab": {
     "base_uri": "https://localhost:8080/"
    },
    "id": "mI0z3cmCwHR6",
    "outputId": "dadb9b96-273c-4fb6-fe68-c966a92a760f"
   },
   "outputs": [
    {
     "data": {
      "text/plain": [
       "DecisionTreeClassifier(max_depth=10, min_samples_split=20, random_state=0)"
      ]
     },
     "execution_count": 19,
     "metadata": {},
     "output_type": "execute_result"
    }
   ],
   "source": [
    "# Create model object\n",
    "model = DecisionTreeClassifier(random_state=0, max_depth=10, min_samples_split=20)\n",
    "\n",
    "# Train Model\n",
    "model.fit(X_train, y_train)"
   ]
  },
  {
   "cell_type": "code",
   "execution_count": 20,
   "metadata": {
    "colab": {
     "base_uri": "https://localhost:8080/",
     "height": 206
    },
    "id": "bDhPL8DhsjQ6",
    "outputId": "b09427ae-068d-4cfa-d39b-e20f4e080159"
   },
   "outputs": [
    {
     "data": {
      "text/html": [
       "<div>\n",
       "<style scoped>\n",
       "    .dataframe tbody tr th:only-of-type {\n",
       "        vertical-align: middle;\n",
       "    }\n",
       "\n",
       "    .dataframe tbody tr th {\n",
       "        vertical-align: top;\n",
       "    }\n",
       "\n",
       "    .dataframe thead th {\n",
       "        text-align: right;\n",
       "    }\n",
       "</style>\n",
       "<table border=\"1\" class=\"dataframe\">\n",
       "  <thead>\n",
       "    <tr style=\"text-align: right;\">\n",
       "      <th></th>\n",
       "      <th>y_act</th>\n",
       "      <th>y_pred</th>\n",
       "      <th>y_pred_prob</th>\n",
       "    </tr>\n",
       "  </thead>\n",
       "  <tbody>\n",
       "    <tr>\n",
       "      <th>6597</th>\n",
       "      <td>1</td>\n",
       "      <td>1</td>\n",
       "      <td>0.845250</td>\n",
       "    </tr>\n",
       "    <tr>\n",
       "      <th>10930</th>\n",
       "      <td>0</td>\n",
       "      <td>0</td>\n",
       "      <td>0.000000</td>\n",
       "    </tr>\n",
       "    <tr>\n",
       "      <th>22181</th>\n",
       "      <td>1</td>\n",
       "      <td>1</td>\n",
       "      <td>0.709199</td>\n",
       "    </tr>\n",
       "    <tr>\n",
       "      <th>19165</th>\n",
       "      <td>0</td>\n",
       "      <td>0</td>\n",
       "      <td>0.033149</td>\n",
       "    </tr>\n",
       "    <tr>\n",
       "      <th>41028</th>\n",
       "      <td>0</td>\n",
       "      <td>0</td>\n",
       "      <td>0.045455</td>\n",
       "    </tr>\n",
       "  </tbody>\n",
       "</table>\n",
       "</div>"
      ],
      "text/plain": [
       "       y_act  y_pred  y_pred_prob\n",
       "6597       1       1     0.845250\n",
       "10930      0       0     0.000000\n",
       "22181      1       1     0.709199\n",
       "19165      0       0     0.033149\n",
       "41028      0       0     0.045455"
      ]
     },
     "execution_count": 20,
     "metadata": {},
     "output_type": "execute_result"
    }
   ],
   "source": [
    "# Predict on Testing Data\n",
    "\n",
    "# probabilities\n",
    "y_pred_prob = model.predict_proba(X_test)[:, 1]\n",
    "\n",
    "# Prediction\n",
    "y_pred = model.predict(X_test)\n",
    "\n",
    "# Results table\n",
    "test_result = pd.DataFrame(data={'y_act':y_test, 'y_pred':y_pred, 'y_pred_prob':y_pred_prob})\n",
    "test_result.sample(5)"
   ]
  },
  {
   "cell_type": "code",
   "execution_count": 21,
   "metadata": {
    "colab": {
     "base_uri": "https://localhost:8080/",
     "height": 175
    },
    "id": "OSbZilTqsjQ7",
    "outputId": "0de6d8d0-5bc1-4b36-b4fc-3302be73fa35"
   },
   "outputs": [
    {
     "data": {
      "text/html": [
       "<div>\n",
       "<style scoped>\n",
       "    .dataframe tbody tr th:only-of-type {\n",
       "        vertical-align: middle;\n",
       "    }\n",
       "\n",
       "    .dataframe tbody tr th {\n",
       "        vertical-align: top;\n",
       "    }\n",
       "\n",
       "    .dataframe thead th {\n",
       "        text-align: right;\n",
       "    }\n",
       "</style>\n",
       "<table border=\"1\" class=\"dataframe\">\n",
       "  <thead>\n",
       "    <tr style=\"text-align: right;\">\n",
       "      <th>y_pred</th>\n",
       "      <th>0</th>\n",
       "      <th>1</th>\n",
       "      <th>All</th>\n",
       "    </tr>\n",
       "    <tr>\n",
       "      <th>y_act</th>\n",
       "      <th></th>\n",
       "      <th></th>\n",
       "      <th></th>\n",
       "    </tr>\n",
       "  </thead>\n",
       "  <tbody>\n",
       "    <tr>\n",
       "      <th>0</th>\n",
       "      <td>8547</td>\n",
       "      <td>840</td>\n",
       "      <td>9387</td>\n",
       "    </tr>\n",
       "    <tr>\n",
       "      <th>1</th>\n",
       "      <td>1229</td>\n",
       "      <td>1713</td>\n",
       "      <td>2942</td>\n",
       "    </tr>\n",
       "    <tr>\n",
       "      <th>All</th>\n",
       "      <td>9776</td>\n",
       "      <td>2553</td>\n",
       "      <td>12329</td>\n",
       "    </tr>\n",
       "  </tbody>\n",
       "</table>\n",
       "</div>"
      ],
      "text/plain": [
       "y_pred     0     1    All\n",
       "y_act                    \n",
       "0       8547   840   9387\n",
       "1       1229  1713   2942\n",
       "All     9776  2553  12329"
      ]
     },
     "execution_count": 21,
     "metadata": {},
     "output_type": "execute_result"
    }
   ],
   "source": [
    "cfm = pd.crosstab(test_result['y_act'], test_result['y_pred'], margins=True)\n",
    "cfm"
   ]
  },
  {
   "cell_type": "code",
   "execution_count": 22,
   "metadata": {
    "colab": {
     "base_uri": "https://localhost:8080/"
    },
    "id": "gvBs2pX_sjQ8",
    "outputId": "2fa310b3-6f1b-45ed-8e23-c2ba7e0d37b5"
   },
   "outputs": [
    {
     "data": {
      "text/plain": [
       "0.8321842809635818"
      ]
     },
     "execution_count": 22,
     "metadata": {},
     "output_type": "execute_result"
    }
   ],
   "source": [
    "acuracy_tc = metrics.accuracy_score(test_result['y_act'], test_result['y_pred']) \n",
    "acuracy_tc"
   ]
  },
  {
   "cell_type": "code",
   "execution_count": 23,
   "metadata": {
    "colab": {
     "base_uri": "https://localhost:8080/"
    },
    "id": "5jB0KykFsjQ9",
    "outputId": "0ab4cb71-6e1f-4398-a560-4829878ec9b8"
   },
   "outputs": [
    {
     "data": {
      "text/plain": [
       "0.6709753231492362"
      ]
     },
     "execution_count": 23,
     "metadata": {},
     "output_type": "execute_result"
    }
   ],
   "source": [
    "# https://scikit-learn.org/stable/modules/generated/sklearn.metrics.precision_score.html#sklearn.metrics.precision_score\n",
    "precision_tc = metrics.precision_score(test_result['y_act'], test_result['y_pred'], average='binary', pos_label=1)\n",
    "precision_tc"
   ]
  },
  {
   "cell_type": "code",
   "execution_count": 24,
   "metadata": {},
   "outputs": [
    {
     "data": {
      "text/plain": [
       "0.5822569680489463"
      ]
     },
     "execution_count": 24,
     "metadata": {},
     "output_type": "execute_result"
    }
   ],
   "source": [
    "recall_tc = metrics.recall_score(test_result['y_act'], test_result['y_pred'], average='binary', pos_label=1)\n",
    "recall_tc"
   ]
  },
  {
   "cell_type": "code",
   "execution_count": 25,
   "metadata": {
    "colab": {
     "base_uri": "https://localhost:8080/"
    },
    "id": "d5GYfQTIsjQ9",
    "outputId": "e822ab38-2b59-46f6-df90-aecdf59291e2"
   },
   "outputs": [
    {
     "data": {
      "text/plain": [
       "0.8279475975014076"
      ]
     },
     "execution_count": 25,
     "metadata": {},
     "output_type": "execute_result"
    }
   ],
   "source": [
    "f1_score_tc = metrics.f1_score(test_result['y_act'], test_result['y_pred'], average='weighted')  #weighted accounts for label imbalance.\n",
    "f1_score_tc"
   ]
  },
  {
   "cell_type": "markdown",
   "metadata": {
    "id": "XvyUl1NxlqkG"
   },
   "source": [
    "# Random Forest Classifier\n",
    "* https://en.wikipedia.org/wiki/Random_forest\n",
    "* https://scikit-learn.org/stable/modules/generated/sklearn.ensemble.RandomForestClassifier.html"
   ]
  },
  {
   "cell_type": "code",
   "execution_count": 26,
   "metadata": {
    "colab": {
     "base_uri": "https://localhost:8080/"
    },
    "id": "D57GUQc0gnyT",
    "outputId": "2923815b-cc43-4774-931a-25d1fef25648"
   },
   "outputs": [
    {
     "data": {
      "text/plain": [
       "RandomForestClassifier(max_depth=20, n_estimators=500)"
      ]
     },
     "execution_count": 26,
     "metadata": {},
     "output_type": "execute_result"
    }
   ],
   "source": [
    "# Create model object\n",
    "model = RandomForestClassifier(n_estimators=500, max_depth=20)\n",
    "\n",
    "# Train Model\n",
    "model.fit(X_train, y_train)"
   ]
  },
  {
   "cell_type": "code",
   "execution_count": 27,
   "metadata": {
    "colab": {
     "base_uri": "https://localhost:8080/",
     "height": 206
    },
    "id": "zJrBwiLqg_Qb",
    "outputId": "3b32556b-dc58-4ec8-99e6-8c37b7c3826c"
   },
   "outputs": [
    {
     "data": {
      "text/html": [
       "<div>\n",
       "<style scoped>\n",
       "    .dataframe tbody tr th:only-of-type {\n",
       "        vertical-align: middle;\n",
       "    }\n",
       "\n",
       "    .dataframe tbody tr th {\n",
       "        vertical-align: top;\n",
       "    }\n",
       "\n",
       "    .dataframe thead th {\n",
       "        text-align: right;\n",
       "    }\n",
       "</style>\n",
       "<table border=\"1\" class=\"dataframe\">\n",
       "  <thead>\n",
       "    <tr style=\"text-align: right;\">\n",
       "      <th></th>\n",
       "      <th>y_act</th>\n",
       "      <th>y_pred</th>\n",
       "      <th>y_pred_prob</th>\n",
       "    </tr>\n",
       "  </thead>\n",
       "  <tbody>\n",
       "    <tr>\n",
       "      <th>24580</th>\n",
       "      <td>0</td>\n",
       "      <td>0</td>\n",
       "      <td>0.000013</td>\n",
       "    </tr>\n",
       "    <tr>\n",
       "      <th>13920</th>\n",
       "      <td>0</td>\n",
       "      <td>0</td>\n",
       "      <td>0.000044</td>\n",
       "    </tr>\n",
       "    <tr>\n",
       "      <th>6649</th>\n",
       "      <td>0</td>\n",
       "      <td>0</td>\n",
       "      <td>0.004615</td>\n",
       "    </tr>\n",
       "    <tr>\n",
       "      <th>37877</th>\n",
       "      <td>1</td>\n",
       "      <td>1</td>\n",
       "      <td>0.985920</td>\n",
       "    </tr>\n",
       "    <tr>\n",
       "      <th>35936</th>\n",
       "      <td>0</td>\n",
       "      <td>0</td>\n",
       "      <td>0.087259</td>\n",
       "    </tr>\n",
       "  </tbody>\n",
       "</table>\n",
       "</div>"
      ],
      "text/plain": [
       "       y_act  y_pred  y_pred_prob\n",
       "24580      0       0     0.000013\n",
       "13920      0       0     0.000044\n",
       "6649       0       0     0.004615\n",
       "37877      1       1     0.985920\n",
       "35936      0       0     0.087259"
      ]
     },
     "execution_count": 27,
     "metadata": {},
     "output_type": "execute_result"
    }
   ],
   "source": [
    "# Predict on Testing Data\n",
    "\n",
    "# probabilities\n",
    "y_pred_prob = model.predict_proba(X_test)[:, 1]\n",
    "\n",
    "# Prediction\n",
    "y_pred = model.predict(X_test)\n",
    "\n",
    "# Results table\n",
    "test_result = pd.DataFrame(data={'y_act':y_test, 'y_pred':y_pred, 'y_pred_prob':y_pred_prob})\n",
    "test_result.sample(5)"
   ]
  },
  {
   "cell_type": "code",
   "execution_count": 28,
   "metadata": {
    "colab": {
     "base_uri": "https://localhost:8080/",
     "height": 175
    },
    "id": "YJFWS-6BhDBg",
    "outputId": "36a11d92-7e87-49cc-e818-64d4a950458f"
   },
   "outputs": [
    {
     "data": {
      "text/html": [
       "<div>\n",
       "<style scoped>\n",
       "    .dataframe tbody tr th:only-of-type {\n",
       "        vertical-align: middle;\n",
       "    }\n",
       "\n",
       "    .dataframe tbody tr th {\n",
       "        vertical-align: top;\n",
       "    }\n",
       "\n",
       "    .dataframe thead th {\n",
       "        text-align: right;\n",
       "    }\n",
       "</style>\n",
       "<table border=\"1\" class=\"dataframe\">\n",
       "  <thead>\n",
       "    <tr style=\"text-align: right;\">\n",
       "      <th>y_pred</th>\n",
       "      <th>0</th>\n",
       "      <th>1</th>\n",
       "      <th>All</th>\n",
       "    </tr>\n",
       "    <tr>\n",
       "      <th>y_act</th>\n",
       "      <th></th>\n",
       "      <th></th>\n",
       "      <th></th>\n",
       "    </tr>\n",
       "  </thead>\n",
       "  <tbody>\n",
       "    <tr>\n",
       "      <th>0</th>\n",
       "      <td>8525</td>\n",
       "      <td>862</td>\n",
       "      <td>9387</td>\n",
       "    </tr>\n",
       "    <tr>\n",
       "      <th>1</th>\n",
       "      <td>1283</td>\n",
       "      <td>1659</td>\n",
       "      <td>2942</td>\n",
       "    </tr>\n",
       "    <tr>\n",
       "      <th>All</th>\n",
       "      <td>9808</td>\n",
       "      <td>2521</td>\n",
       "      <td>12329</td>\n",
       "    </tr>\n",
       "  </tbody>\n",
       "</table>\n",
       "</div>"
      ],
      "text/plain": [
       "y_pred     0     1    All\n",
       "y_act                    \n",
       "0       8525   862   9387\n",
       "1       1283  1659   2942\n",
       "All     9808  2521  12329"
      ]
     },
     "execution_count": 28,
     "metadata": {},
     "output_type": "execute_result"
    }
   ],
   "source": [
    "cfm = pd.crosstab(test_result['y_act'], test_result['y_pred'], margins=True)\n",
    "cfm"
   ]
  },
  {
   "cell_type": "code",
   "execution_count": 29,
   "metadata": {
    "colab": {
     "base_uri": "https://localhost:8080/"
    },
    "id": "uPhLpRLAw7dq",
    "outputId": "34d98baa-304f-4195-d71d-d35e26784d3c"
   },
   "outputs": [
    {
     "data": {
      "text/plain": [
       "0.8260199529564441"
      ]
     },
     "execution_count": 29,
     "metadata": {},
     "output_type": "execute_result"
    }
   ],
   "source": [
    "acuracy_rf = metrics.accuracy_score(test_result['y_act'], test_result['y_pred']) \n",
    "acuracy_rf"
   ]
  },
  {
   "cell_type": "code",
   "execution_count": 30,
   "metadata": {
    "colab": {
     "base_uri": "https://localhost:8080/"
    },
    "id": "tCY8kc6GtwL4",
    "outputId": "ce4ab3cf-91a1-4f76-d433-4beedbd28f74"
   },
   "outputs": [
    {
     "data": {
      "text/plain": [
       "0.6580721935739786"
      ]
     },
     "execution_count": 30,
     "metadata": {},
     "output_type": "execute_result"
    }
   ],
   "source": [
    "# https://scikit-learn.org/stable/modules/generated/sklearn.metrics.precision_score.html#sklearn.metrics.precision_score\n",
    "precision_rf = metrics.precision_score(test_result['y_act'], test_result['y_pred'], average='binary', pos_label=1)\n",
    "precision_rf"
   ]
  },
  {
   "cell_type": "code",
   "execution_count": 31,
   "metadata": {},
   "outputs": [
    {
     "data": {
      "text/plain": [
       "0.5639021074099252"
      ]
     },
     "execution_count": 31,
     "metadata": {},
     "output_type": "execute_result"
    }
   ],
   "source": [
    "recall_rf = metrics.recall_score(test_result['y_act'], test_result['y_pred'], average='binary', pos_label=1)\n",
    "recall_rf"
   ]
  },
  {
   "cell_type": "code",
   "execution_count": 32,
   "metadata": {
    "colab": {
     "base_uri": "https://localhost:8080/"
    },
    "id": "bzocTG9dkI2J",
    "outputId": "75634358-efc9-4957-9257-617eb9d32e73"
   },
   "outputs": [
    {
     "data": {
      "text/plain": [
       "0.8212240982002422"
      ]
     },
     "execution_count": 32,
     "metadata": {},
     "output_type": "execute_result"
    }
   ],
   "source": [
    "f1_score_rf = metrics.f1_score(test_result['y_act'], test_result['y_pred'], average='weighted')  #weighted accounts for label imbalance.\n",
    "f1_score_rf"
   ]
  },
  {
   "cell_type": "markdown",
   "metadata": {
    "id": "iW7BxieZsyDH"
   },
   "source": [
    "# 6. Comparing Models"
   ]
  },
  {
   "cell_type": "code",
   "execution_count": 33,
   "metadata": {
    "colab": {
     "base_uri": "https://localhost:8080/",
     "height": 143
    },
    "id": "vdH1MquHswhR",
    "outputId": "6c940b58-e392-4db4-a671-79e43540020c"
   },
   "outputs": [
    {
     "data": {
      "text/html": [
       "<div>\n",
       "<style scoped>\n",
       "    .dataframe tbody tr th:only-of-type {\n",
       "        vertical-align: middle;\n",
       "    }\n",
       "\n",
       "    .dataframe tbody tr th {\n",
       "        vertical-align: top;\n",
       "    }\n",
       "\n",
       "    .dataframe thead th {\n",
       "        text-align: right;\n",
       "    }\n",
       "</style>\n",
       "<table border=\"1\" class=\"dataframe\">\n",
       "  <thead>\n",
       "    <tr style=\"text-align: right;\">\n",
       "      <th></th>\n",
       "      <th>Model</th>\n",
       "      <th>accuracy</th>\n",
       "      <th>precision</th>\n",
       "      <th>recall</th>\n",
       "      <th>f1_score</th>\n",
       "    </tr>\n",
       "  </thead>\n",
       "  <tbody>\n",
       "    <tr>\n",
       "      <th>0</th>\n",
       "      <td>LGR</td>\n",
       "      <td>0.828291</td>\n",
       "      <td>0.681798</td>\n",
       "      <td>0.525833</td>\n",
       "      <td>0.820174</td>\n",
       "    </tr>\n",
       "    <tr>\n",
       "      <th>1</th>\n",
       "      <td>TC</td>\n",
       "      <td>0.832184</td>\n",
       "      <td>0.670975</td>\n",
       "      <td>0.582257</td>\n",
       "      <td>0.827948</td>\n",
       "    </tr>\n",
       "    <tr>\n",
       "      <th>2</th>\n",
       "      <td>RF</td>\n",
       "      <td>0.826020</td>\n",
       "      <td>0.658072</td>\n",
       "      <td>0.563902</td>\n",
       "      <td>0.821224</td>\n",
       "    </tr>\n",
       "  </tbody>\n",
       "</table>\n",
       "</div>"
      ],
      "text/plain": [
       "  Model  accuracy  precision    recall  f1_score\n",
       "0   LGR  0.828291   0.681798  0.525833  0.820174\n",
       "1    TC  0.832184   0.670975  0.582257  0.827948\n",
       "2    RF  0.826020   0.658072  0.563902  0.821224"
      ]
     },
     "execution_count": 33,
     "metadata": {},
     "output_type": "execute_result"
    }
   ],
   "source": [
    "metrics_comp = [['LGR', acuracy_lgr, precision_lgr, recall_lgr, f1_score_lgr],\n",
    "['TC', acuracy_tc, precision_tc, recall_tc, f1_score_tc],\n",
    "['RF', acuracy_rf, precision_rf, recall_rf, f1_score_rf]]\n",
    "\n",
    "pd.DataFrame(data=metrics_comp, columns=['Model', 'accuracy', 'precision', 'recall', 'f1_score'])"
   ]
  },
  {
   "cell_type": "markdown",
   "metadata": {
    "id": "DQ-1oz7WqlPH"
   },
   "source": [
    "# 7. Constructing Claibration Table For Selected Model"
   ]
  },
  {
   "cell_type": "markdown",
   "metadata": {},
   "source": [
    "## Retrain Model"
   ]
  },
  {
   "cell_type": "code",
   "execution_count": 34,
   "metadata": {
    "colab": {
     "base_uri": "https://localhost:8080/",
     "height": 206
    },
    "id": "mNGeGStSt-0W",
    "outputId": "8092212e-002e-4268-b910-fc268b36c48c"
   },
   "outputs": [
    {
     "name": "stderr",
     "output_type": "stream",
     "text": [
      "d:\\Python\\python-3.9.4.amd64\\lib\\site-packages\\sklearn\\linear_model\\_logistic.py:814: ConvergenceWarning: lbfgs failed to converge (status=1):\n",
      "STOP: TOTAL NO. of ITERATIONS REACHED LIMIT.\n",
      "\n",
      "Increase the number of iterations (max_iter) or scale the data as shown in:\n",
      "    https://scikit-learn.org/stable/modules/preprocessing.html\n",
      "Please also refer to the documentation for alternative solver options:\n",
      "    https://scikit-learn.org/stable/modules/linear_model.html#logistic-regression\n",
      "  n_iter_i = _check_optimize_result(\n"
     ]
    },
    {
     "data": {
      "text/html": [
       "<div>\n",
       "<style scoped>\n",
       "    .dataframe tbody tr th:only-of-type {\n",
       "        vertical-align: middle;\n",
       "    }\n",
       "\n",
       "    .dataframe tbody tr th {\n",
       "        vertical-align: top;\n",
       "    }\n",
       "\n",
       "    .dataframe thead th {\n",
       "        text-align: right;\n",
       "    }\n",
       "</style>\n",
       "<table border=\"1\" class=\"dataframe\">\n",
       "  <thead>\n",
       "    <tr style=\"text-align: right;\">\n",
       "      <th></th>\n",
       "      <th>y_act</th>\n",
       "      <th>y_pred</th>\n",
       "      <th>y_pred_prob</th>\n",
       "    </tr>\n",
       "  </thead>\n",
       "  <tbody>\n",
       "    <tr>\n",
       "      <th>40459</th>\n",
       "      <td>0</td>\n",
       "      <td>0</td>\n",
       "      <td>0.019239</td>\n",
       "    </tr>\n",
       "    <tr>\n",
       "      <th>37924</th>\n",
       "      <td>1</td>\n",
       "      <td>0</td>\n",
       "      <td>0.498802</td>\n",
       "    </tr>\n",
       "    <tr>\n",
       "      <th>28705</th>\n",
       "      <td>1</td>\n",
       "      <td>1</td>\n",
       "      <td>0.926760</td>\n",
       "    </tr>\n",
       "    <tr>\n",
       "      <th>15027</th>\n",
       "      <td>1</td>\n",
       "      <td>0</td>\n",
       "      <td>0.054292</td>\n",
       "    </tr>\n",
       "    <tr>\n",
       "      <th>712</th>\n",
       "      <td>0</td>\n",
       "      <td>0</td>\n",
       "      <td>0.347494</td>\n",
       "    </tr>\n",
       "  </tbody>\n",
       "</table>\n",
       "</div>"
      ],
      "text/plain": [
       "       y_act  y_pred  y_pred_prob\n",
       "40459      0       0     0.019239\n",
       "37924      1       0     0.498802\n",
       "28705      1       1     0.926760\n",
       "15027      1       0     0.054292\n",
       "712        0       0     0.347494"
      ]
     },
     "execution_count": 34,
     "metadata": {},
     "output_type": "execute_result"
    }
   ],
   "source": [
    "# Selected Logistic Regression\n",
    "\n",
    "# Create model object\n",
    "model = LogisticRegression()\n",
    "\n",
    "# Train Model\n",
    "model.fit(X_train, y_train)\n",
    "\n",
    "# Predict on Testing Data\n",
    "\n",
    "# probabilities\n",
    "y_pred_prob = model.predict_proba(X_test)[:, 1]\n",
    "\n",
    "# Prediction\n",
    "y_pred = model.predict(X_test)\n",
    "\n",
    "# Results table\n",
    "test_result = pd.DataFrame(data={'y_act':y_test, 'y_pred':y_pred, 'y_pred_prob':y_pred_prob})\n",
    "test_result.sample(5)"
   ]
  },
  {
   "cell_type": "markdown",
   "metadata": {},
   "source": [
    "## Analyze Predicted Probabilities"
   ]
  },
  {
   "cell_type": "code",
   "execution_count": 35,
   "metadata": {
    "colab": {
     "base_uri": "https://localhost:8080/"
    },
    "id": "nIh_axvoQH7M",
    "outputId": "d05eb8e8-f80b-4b71-cf9f-927acb279680"
   },
   "outputs": [
    {
     "data": {
      "text/plain": [
       "(-0.0016229999999999999, 0.0972]    5600\n",
       "(0.0972, 0.194]                     1499\n",
       "(0.194, 0.291]                      1143\n",
       "(0.291, 0.388]                       992\n",
       "(0.388, 0.484]                       722\n",
       "(0.484, 0.581]                       609\n",
       "(0.581, 0.678]                       531\n",
       "(0.678, 0.775]                       568\n",
       "(0.775, 0.872]                       490\n",
       "(0.872, 0.968]                       175\n",
       "Name: y_pred_prob, dtype: int64"
      ]
     },
     "execution_count": 35,
     "metadata": {},
     "output_type": "execute_result"
    }
   ],
   "source": [
    "test_result['y_pred_prob'].value_counts(bins=10, sort=False)"
   ]
  },
  {
   "cell_type": "code",
   "execution_count": 36,
   "metadata": {},
   "outputs": [
    {
     "data": {
      "text/plain": [
       "(-0.001, 0.1]    5645\n",
       "(0.1, 0.2]       1521\n",
       "(0.2, 0.3]       1182\n",
       "(0.3, 0.4]        993\n",
       "(0.4, 0.5]        714\n",
       "(0.5, 0.6]        620\n",
       "(0.6, 0.7]        533\n",
       "(0.7, 0.8]        609\n",
       "(0.8, 0.9]        440\n",
       "(0.9, 1.0]         72\n",
       "Name: y_pred_prob, dtype: int64"
      ]
     },
     "execution_count": 36,
     "metadata": {},
     "output_type": "execute_result"
    }
   ],
   "source": [
    "test_result['y_pred_prob'].value_counts(bins=[0, 0.1, 0.2, 0.3, 0.4, 0.5, 0.6, 0.7, 0.8, 0.9, 1.0], sort=False)"
   ]
  },
  {
   "cell_type": "markdown",
   "metadata": {},
   "source": [
    "## Assign Probability Bin Label \n",
    "### Use `pd.cut()` to get bins with given probability ranges"
   ]
  },
  {
   "cell_type": "code",
   "execution_count": 37,
   "metadata": {
    "colab": {
     "base_uri": "https://localhost:8080/"
    },
    "id": "j58c-MQeQRnQ",
    "outputId": "2b972166-c5bf-40a1-e459-e8209f89e90a"
   },
   "outputs": [
    {
     "data": {
      "text/plain": [
       "7070     (0.1, 0.2]\n",
       "34977    (0.0, 0.1]\n",
       "35523    (0.0, 0.1]\n",
       "10237    (0.0, 0.1]\n",
       "14018    (0.0, 0.1]\n",
       "            ...    \n",
       "4612     (0.8, 0.9]\n",
       "26908    (0.3, 0.4]\n",
       "39444    (0.0, 0.1]\n",
       "14839    (0.2, 0.3]\n",
       "30313    (0.5, 0.6]\n",
       "Name: prob_bucket, Length: 12329, dtype: category\n",
       "Categories (10, interval[float64, right]): [(0.0, 0.1] < (0.1, 0.2] < (0.2, 0.3] < (0.3, 0.4] ... (0.6, 0.7] < (0.7, 0.8] < (0.8, 0.9] < (0.9, 1.0]]"
      ]
     },
     "execution_count": 37,
     "metadata": {},
     "output_type": "execute_result"
    }
   ],
   "source": [
    "# Divide 10 buckets based on probability\n",
    "test_result['prob_bucket'] = pd.cut(test_result['y_pred_prob'], bins=[0, 0.1, 0.2, 0.3, 0.4, 0.5, 0.6, 0.7, 0.8, 0.9, 1.0])\n",
    "test_result['prob_bucket']"
   ]
  },
  {
   "cell_type": "code",
   "execution_count": 38,
   "metadata": {
    "colab": {
     "base_uri": "https://localhost:8080/",
     "height": 363
    },
    "id": "JLWKzWQcu2mZ",
    "outputId": "ca576111-555a-4dfe-ddc8-5a5fd08bde88"
   },
   "outputs": [
    {
     "data": {
      "text/html": [
       "<div>\n",
       "<style scoped>\n",
       "    .dataframe tbody tr th:only-of-type {\n",
       "        vertical-align: middle;\n",
       "    }\n",
       "\n",
       "    .dataframe tbody tr th {\n",
       "        vertical-align: top;\n",
       "    }\n",
       "\n",
       "    .dataframe thead th {\n",
       "        text-align: right;\n",
       "    }\n",
       "</style>\n",
       "<table border=\"1\" class=\"dataframe\">\n",
       "  <thead>\n",
       "    <tr style=\"text-align: right;\">\n",
       "      <th></th>\n",
       "      <th>prob_bucket</th>\n",
       "      <th>count</th>\n",
       "      <th>response_count</th>\n",
       "      <th>min_probability</th>\n",
       "      <th>mean_probability</th>\n",
       "    </tr>\n",
       "  </thead>\n",
       "  <tbody>\n",
       "    <tr>\n",
       "      <th>0</th>\n",
       "      <td>(0.0, 0.1]</td>\n",
       "      <td>5645</td>\n",
       "      <td>153</td>\n",
       "      <td>0.000345</td>\n",
       "      <td>0.030839</td>\n",
       "    </tr>\n",
       "    <tr>\n",
       "      <th>1</th>\n",
       "      <td>(0.1, 0.2]</td>\n",
       "      <td>1521</td>\n",
       "      <td>250</td>\n",
       "      <td>0.100094</td>\n",
       "      <td>0.147099</td>\n",
       "    </tr>\n",
       "    <tr>\n",
       "      <th>2</th>\n",
       "      <td>(0.2, 0.3]</td>\n",
       "      <td>1182</td>\n",
       "      <td>301</td>\n",
       "      <td>0.200139</td>\n",
       "      <td>0.248396</td>\n",
       "    </tr>\n",
       "    <tr>\n",
       "      <th>3</th>\n",
       "      <td>(0.3, 0.4]</td>\n",
       "      <td>993</td>\n",
       "      <td>369</td>\n",
       "      <td>0.300096</td>\n",
       "      <td>0.347549</td>\n",
       "    </tr>\n",
       "    <tr>\n",
       "      <th>4</th>\n",
       "      <td>(0.4, 0.5]</td>\n",
       "      <td>714</td>\n",
       "      <td>316</td>\n",
       "      <td>0.400050</td>\n",
       "      <td>0.447004</td>\n",
       "    </tr>\n",
       "    <tr>\n",
       "      <th>5</th>\n",
       "      <td>(0.5, 0.6]</td>\n",
       "      <td>620</td>\n",
       "      <td>349</td>\n",
       "      <td>0.500083</td>\n",
       "      <td>0.548608</td>\n",
       "    </tr>\n",
       "    <tr>\n",
       "      <th>6</th>\n",
       "      <td>(0.6, 0.7]</td>\n",
       "      <td>533</td>\n",
       "      <td>330</td>\n",
       "      <td>0.600318</td>\n",
       "      <td>0.648865</td>\n",
       "    </tr>\n",
       "    <tr>\n",
       "      <th>7</th>\n",
       "      <td>(0.7, 0.8]</td>\n",
       "      <td>609</td>\n",
       "      <td>444</td>\n",
       "      <td>0.700020</td>\n",
       "      <td>0.752539</td>\n",
       "    </tr>\n",
       "    <tr>\n",
       "      <th>8</th>\n",
       "      <td>(0.8, 0.9]</td>\n",
       "      <td>440</td>\n",
       "      <td>363</td>\n",
       "      <td>0.800562</td>\n",
       "      <td>0.845691</td>\n",
       "    </tr>\n",
       "    <tr>\n",
       "      <th>9</th>\n",
       "      <td>(0.9, 1.0]</td>\n",
       "      <td>72</td>\n",
       "      <td>67</td>\n",
       "      <td>0.900508</td>\n",
       "      <td>0.920317</td>\n",
       "    </tr>\n",
       "  </tbody>\n",
       "</table>\n",
       "</div>"
      ],
      "text/plain": [
       "  prob_bucket  count  response_count  min_probability  mean_probability\n",
       "0  (0.0, 0.1]   5645             153         0.000345          0.030839\n",
       "1  (0.1, 0.2]   1521             250         0.100094          0.147099\n",
       "2  (0.2, 0.3]   1182             301         0.200139          0.248396\n",
       "3  (0.3, 0.4]    993             369         0.300096          0.347549\n",
       "4  (0.4, 0.5]    714             316         0.400050          0.447004\n",
       "5  (0.5, 0.6]    620             349         0.500083          0.548608\n",
       "6  (0.6, 0.7]    533             330         0.600318          0.648865\n",
       "7  (0.7, 0.8]    609             444         0.700020          0.752539\n",
       "8  (0.8, 0.9]    440             363         0.800562          0.845691\n",
       "9  (0.9, 1.0]     72              67         0.900508          0.920317"
      ]
     },
     "execution_count": 38,
     "metadata": {},
     "output_type": "execute_result"
    }
   ],
   "source": [
    "calibration_table  = test_result.groupby(by='prob_bucket').agg(\n",
    "    count=pd.NamedAgg(column=\"prob_bucket\", aggfunc=\"count\"),\n",
    "    response_count=pd.NamedAgg(column=\"y_act\", aggfunc=\"sum\"),\n",
    "    min_probability = pd.NamedAgg(column=\"y_pred_prob\", aggfunc=\"min\"),\n",
    "    mean_probability = pd.NamedAgg(column=\"y_pred_prob\", aggfunc=\"mean\"),\n",
    "    ).reset_index()\n",
    "\n",
    "calibration_table"
   ]
  },
  {
   "cell_type": "markdown",
   "metadata": {},
   "source": [
    "## Assign Percentile Labels \n",
    "### Use `pd.qcut()` to get even count Bins"
   ]
  },
  {
   "cell_type": "code",
   "execution_count": 39,
   "metadata": {
    "colab": {
     "base_uri": "https://localhost:8080/"
    },
    "id": "nLr_m5gqQwJm",
    "outputId": "0fab8090-493a-437c-d12c-6a2092e3cdfa"
   },
   "outputs": [
    {
     "data": {
      "text/plain": [
       "7070           (0.131, 0.218]\n",
       "34977        (0.0155, 0.0366]\n",
       "35523       (0.00737, 0.0155]\n",
       "10237    (-0.000655, 0.00737]\n",
       "14018        (0.0155, 0.0366]\n",
       "                 ...         \n",
       "4612           (0.678, 0.968]\n",
       "26908          (0.327, 0.467]\n",
       "39444        (0.0366, 0.0702]\n",
       "14839          (0.218, 0.327]\n",
       "30313          (0.467, 0.678]\n",
       "Name: q_bucket, Length: 12329, dtype: category\n",
       "Categories (10, interval[float64, right]): [(-0.000655, 0.00737] < (0.00737, 0.0155] < (0.0155, 0.0366] < (0.0366, 0.0702] ... (0.218, 0.327] < (0.327, 0.467] < (0.467, 0.678] < (0.678, 0.968]]"
      ]
     },
     "execution_count": 39,
     "metadata": {},
     "output_type": "execute_result"
    }
   ],
   "source": [
    "# Divide 10 buckets with even samples sorted by probability\n",
    "test_result['q_bucket'] = pd.qcut(test_result['y_pred_prob'], q=10, duplicates='drop')\n",
    "test_result['q_bucket']"
   ]
  },
  {
   "cell_type": "code",
   "execution_count": 40,
   "metadata": {
    "colab": {
     "base_uri": "https://localhost:8080/",
     "height": 363
    },
    "id": "3_7bb2uRQ4M0",
    "outputId": "ccd52517-a6d9-4d3c-b660-0ce9c354ff0b"
   },
   "outputs": [
    {
     "data": {
      "text/html": [
       "<div>\n",
       "<style scoped>\n",
       "    .dataframe tbody tr th:only-of-type {\n",
       "        vertical-align: middle;\n",
       "    }\n",
       "\n",
       "    .dataframe tbody tr th {\n",
       "        vertical-align: top;\n",
       "    }\n",
       "\n",
       "    .dataframe thead th {\n",
       "        text-align: right;\n",
       "    }\n",
       "</style>\n",
       "<table border=\"1\" class=\"dataframe\">\n",
       "  <thead>\n",
       "    <tr style=\"text-align: right;\">\n",
       "      <th></th>\n",
       "      <th>q_bucket</th>\n",
       "      <th>count</th>\n",
       "      <th>response_count</th>\n",
       "      <th>min_probability</th>\n",
       "      <th>mean_probability</th>\n",
       "    </tr>\n",
       "  </thead>\n",
       "  <tbody>\n",
       "    <tr>\n",
       "      <th>0</th>\n",
       "      <td>(-0.000655, 0.00737]</td>\n",
       "      <td>1239</td>\n",
       "      <td>4</td>\n",
       "      <td>0.000345</td>\n",
       "      <td>0.004511</td>\n",
       "    </tr>\n",
       "    <tr>\n",
       "      <th>1</th>\n",
       "      <td>(0.00737, 0.0155]</td>\n",
       "      <td>1227</td>\n",
       "      <td>8</td>\n",
       "      <td>0.007368</td>\n",
       "      <td>0.010910</td>\n",
       "    </tr>\n",
       "    <tr>\n",
       "      <th>2</th>\n",
       "      <td>(0.0155, 0.0366]</td>\n",
       "      <td>1233</td>\n",
       "      <td>25</td>\n",
       "      <td>0.015528</td>\n",
       "      <td>0.024623</td>\n",
       "    </tr>\n",
       "    <tr>\n",
       "      <th>3</th>\n",
       "      <td>(0.0366, 0.0702]</td>\n",
       "      <td>1233</td>\n",
       "      <td>58</td>\n",
       "      <td>0.036616</td>\n",
       "      <td>0.052559</td>\n",
       "    </tr>\n",
       "    <tr>\n",
       "      <th>4</th>\n",
       "      <td>(0.0702, 0.131]</td>\n",
       "      <td>1233</td>\n",
       "      <td>122</td>\n",
       "      <td>0.070238</td>\n",
       "      <td>0.096884</td>\n",
       "    </tr>\n",
       "    <tr>\n",
       "      <th>5</th>\n",
       "      <td>(0.131, 0.218]</td>\n",
       "      <td>1232</td>\n",
       "      <td>238</td>\n",
       "      <td>0.130690</td>\n",
       "      <td>0.172484</td>\n",
       "    </tr>\n",
       "    <tr>\n",
       "      <th>6</th>\n",
       "      <td>(0.218, 0.327]</td>\n",
       "      <td>1233</td>\n",
       "      <td>349</td>\n",
       "      <td>0.218034</td>\n",
       "      <td>0.270487</td>\n",
       "    </tr>\n",
       "    <tr>\n",
       "      <th>7</th>\n",
       "      <td>(0.327, 0.467]</td>\n",
       "      <td>1233</td>\n",
       "      <td>497</td>\n",
       "      <td>0.326716</td>\n",
       "      <td>0.391743</td>\n",
       "    </tr>\n",
       "    <tr>\n",
       "      <th>8</th>\n",
       "      <td>(0.467, 0.678]</td>\n",
       "      <td>1233</td>\n",
       "      <td>695</td>\n",
       "      <td>0.467430</td>\n",
       "      <td>0.569231</td>\n",
       "    </tr>\n",
       "    <tr>\n",
       "      <th>9</th>\n",
       "      <td>(0.678, 0.968]</td>\n",
       "      <td>1233</td>\n",
       "      <td>946</td>\n",
       "      <td>0.678195</td>\n",
       "      <td>0.789828</td>\n",
       "    </tr>\n",
       "  </tbody>\n",
       "</table>\n",
       "</div>"
      ],
      "text/plain": [
       "               q_bucket  count  response_count  min_probability  \\\n",
       "0  (-0.000655, 0.00737]   1239               4         0.000345   \n",
       "1     (0.00737, 0.0155]   1227               8         0.007368   \n",
       "2      (0.0155, 0.0366]   1233              25         0.015528   \n",
       "3      (0.0366, 0.0702]   1233              58         0.036616   \n",
       "4       (0.0702, 0.131]   1233             122         0.070238   \n",
       "5        (0.131, 0.218]   1232             238         0.130690   \n",
       "6        (0.218, 0.327]   1233             349         0.218034   \n",
       "7        (0.327, 0.467]   1233             497         0.326716   \n",
       "8        (0.467, 0.678]   1233             695         0.467430   \n",
       "9        (0.678, 0.968]   1233             946         0.678195   \n",
       "\n",
       "   mean_probability  \n",
       "0          0.004511  \n",
       "1          0.010910  \n",
       "2          0.024623  \n",
       "3          0.052559  \n",
       "4          0.096884  \n",
       "5          0.172484  \n",
       "6          0.270487  \n",
       "7          0.391743  \n",
       "8          0.569231  \n",
       "9          0.789828  "
      ]
     },
     "execution_count": 40,
     "metadata": {},
     "output_type": "execute_result"
    }
   ],
   "source": [
    "calib_table  = test_result.groupby(by='q_bucket').agg(\n",
    "    count=pd.NamedAgg(column=\"q_bucket\", aggfunc=\"count\"),\n",
    "    response_count=pd.NamedAgg(column=\"y_act\", aggfunc=\"sum\"),\n",
    "    min_probability = pd.NamedAgg(column=\"y_pred_prob\", aggfunc=\"min\"),\n",
    "    mean_probability = pd.NamedAgg(column=\"y_pred_prob\", aggfunc=\"mean\"),\n",
    "    ).reset_index()\n",
    "\n",
    "calib_table"
   ]
  },
  {
   "cell_type": "markdown",
   "metadata": {},
   "source": [
    "## Get Precision from Each Bin and Response Fraction"
   ]
  },
  {
   "cell_type": "code",
   "execution_count": 41,
   "metadata": {
    "colab": {
     "base_uri": "https://localhost:8080/",
     "height": 363
    },
    "id": "8jEyctT1dZga",
    "outputId": "b1a4a748-512e-4042-864f-1e8f153b0f15"
   },
   "outputs": [
    {
     "data": {
      "text/html": [
       "<div>\n",
       "<style scoped>\n",
       "    .dataframe tbody tr th:only-of-type {\n",
       "        vertical-align: middle;\n",
       "    }\n",
       "\n",
       "    .dataframe tbody tr th {\n",
       "        vertical-align: top;\n",
       "    }\n",
       "\n",
       "    .dataframe thead th {\n",
       "        text-align: right;\n",
       "    }\n",
       "</style>\n",
       "<table border=\"1\" class=\"dataframe\">\n",
       "  <thead>\n",
       "    <tr style=\"text-align: right;\">\n",
       "      <th></th>\n",
       "      <th>q_bucket</th>\n",
       "      <th>count</th>\n",
       "      <th>response_count</th>\n",
       "      <th>min_probability</th>\n",
       "      <th>mean_probability</th>\n",
       "      <th>precision</th>\n",
       "      <th>response_fraction</th>\n",
       "    </tr>\n",
       "  </thead>\n",
       "  <tbody>\n",
       "    <tr>\n",
       "      <th>0</th>\n",
       "      <td>(-0.000655, 0.00737]</td>\n",
       "      <td>1239</td>\n",
       "      <td>4</td>\n",
       "      <td>0.000345</td>\n",
       "      <td>0.004511</td>\n",
       "      <td>0.003228</td>\n",
       "      <td>0.001360</td>\n",
       "    </tr>\n",
       "    <tr>\n",
       "      <th>1</th>\n",
       "      <td>(0.00737, 0.0155]</td>\n",
       "      <td>1227</td>\n",
       "      <td>8</td>\n",
       "      <td>0.007368</td>\n",
       "      <td>0.010910</td>\n",
       "      <td>0.006520</td>\n",
       "      <td>0.002719</td>\n",
       "    </tr>\n",
       "    <tr>\n",
       "      <th>2</th>\n",
       "      <td>(0.0155, 0.0366]</td>\n",
       "      <td>1233</td>\n",
       "      <td>25</td>\n",
       "      <td>0.015528</td>\n",
       "      <td>0.024623</td>\n",
       "      <td>0.020276</td>\n",
       "      <td>0.008498</td>\n",
       "    </tr>\n",
       "    <tr>\n",
       "      <th>3</th>\n",
       "      <td>(0.0366, 0.0702]</td>\n",
       "      <td>1233</td>\n",
       "      <td>58</td>\n",
       "      <td>0.036616</td>\n",
       "      <td>0.052559</td>\n",
       "      <td>0.047040</td>\n",
       "      <td>0.019714</td>\n",
       "    </tr>\n",
       "    <tr>\n",
       "      <th>4</th>\n",
       "      <td>(0.0702, 0.131]</td>\n",
       "      <td>1233</td>\n",
       "      <td>122</td>\n",
       "      <td>0.070238</td>\n",
       "      <td>0.096884</td>\n",
       "      <td>0.098946</td>\n",
       "      <td>0.041468</td>\n",
       "    </tr>\n",
       "    <tr>\n",
       "      <th>5</th>\n",
       "      <td>(0.131, 0.218]</td>\n",
       "      <td>1232</td>\n",
       "      <td>238</td>\n",
       "      <td>0.130690</td>\n",
       "      <td>0.172484</td>\n",
       "      <td>0.193182</td>\n",
       "      <td>0.080897</td>\n",
       "    </tr>\n",
       "    <tr>\n",
       "      <th>6</th>\n",
       "      <td>(0.218, 0.327]</td>\n",
       "      <td>1233</td>\n",
       "      <td>349</td>\n",
       "      <td>0.218034</td>\n",
       "      <td>0.270487</td>\n",
       "      <td>0.283049</td>\n",
       "      <td>0.118627</td>\n",
       "    </tr>\n",
       "    <tr>\n",
       "      <th>7</th>\n",
       "      <td>(0.327, 0.467]</td>\n",
       "      <td>1233</td>\n",
       "      <td>497</td>\n",
       "      <td>0.326716</td>\n",
       "      <td>0.391743</td>\n",
       "      <td>0.403082</td>\n",
       "      <td>0.168933</td>\n",
       "    </tr>\n",
       "    <tr>\n",
       "      <th>8</th>\n",
       "      <td>(0.467, 0.678]</td>\n",
       "      <td>1233</td>\n",
       "      <td>695</td>\n",
       "      <td>0.467430</td>\n",
       "      <td>0.569231</td>\n",
       "      <td>0.563666</td>\n",
       "      <td>0.236234</td>\n",
       "    </tr>\n",
       "    <tr>\n",
       "      <th>9</th>\n",
       "      <td>(0.678, 0.968]</td>\n",
       "      <td>1233</td>\n",
       "      <td>946</td>\n",
       "      <td>0.678195</td>\n",
       "      <td>0.789828</td>\n",
       "      <td>0.767234</td>\n",
       "      <td>0.321550</td>\n",
       "    </tr>\n",
       "  </tbody>\n",
       "</table>\n",
       "</div>"
      ],
      "text/plain": [
       "               q_bucket  count  response_count  min_probability  \\\n",
       "0  (-0.000655, 0.00737]   1239               4         0.000345   \n",
       "1     (0.00737, 0.0155]   1227               8         0.007368   \n",
       "2      (0.0155, 0.0366]   1233              25         0.015528   \n",
       "3      (0.0366, 0.0702]   1233              58         0.036616   \n",
       "4       (0.0702, 0.131]   1233             122         0.070238   \n",
       "5        (0.131, 0.218]   1232             238         0.130690   \n",
       "6        (0.218, 0.327]   1233             349         0.218034   \n",
       "7        (0.327, 0.467]   1233             497         0.326716   \n",
       "8        (0.467, 0.678]   1233             695         0.467430   \n",
       "9        (0.678, 0.968]   1233             946         0.678195   \n",
       "\n",
       "   mean_probability  precision  response_fraction  \n",
       "0          0.004511   0.003228           0.001360  \n",
       "1          0.010910   0.006520           0.002719  \n",
       "2          0.024623   0.020276           0.008498  \n",
       "3          0.052559   0.047040           0.019714  \n",
       "4          0.096884   0.098946           0.041468  \n",
       "5          0.172484   0.193182           0.080897  \n",
       "6          0.270487   0.283049           0.118627  \n",
       "7          0.391743   0.403082           0.168933  \n",
       "8          0.569231   0.563666           0.236234  \n",
       "9          0.789828   0.767234           0.321550  "
      ]
     },
     "execution_count": 41,
     "metadata": {},
     "output_type": "execute_result"
    }
   ],
   "source": [
    "calib_table['precision'] = calib_table['response_count'] / calib_table['count'] \n",
    "calib_table['response_fraction'] = calib_table['response_count'] / calib_table['response_count'].sum()\n",
    "calib_table"
   ]
  },
  {
   "cell_type": "markdown",
   "metadata": {},
   "source": [
    "# Get cumulative sum of count and response count in reverse order"
   ]
  },
  {
   "cell_type": "markdown",
   "metadata": {},
   "source": [
    "### Get Table in Reverse Order\n"
   ]
  },
  {
   "cell_type": "code",
   "execution_count": 42,
   "metadata": {
    "colab": {
     "base_uri": "https://localhost:8080/",
     "height": 363
    },
    "id": "56nkDaNXnx2P",
    "outputId": "50e59fa2-e6c5-42ce-c27c-f6fc52d0555a"
   },
   "outputs": [
    {
     "data": {
      "text/html": [
       "<div>\n",
       "<style scoped>\n",
       "    .dataframe tbody tr th:only-of-type {\n",
       "        vertical-align: middle;\n",
       "    }\n",
       "\n",
       "    .dataframe tbody tr th {\n",
       "        vertical-align: top;\n",
       "    }\n",
       "\n",
       "    .dataframe thead th {\n",
       "        text-align: right;\n",
       "    }\n",
       "</style>\n",
       "<table border=\"1\" class=\"dataframe\">\n",
       "  <thead>\n",
       "    <tr style=\"text-align: right;\">\n",
       "      <th></th>\n",
       "      <th>q_bucket</th>\n",
       "      <th>count</th>\n",
       "      <th>response_count</th>\n",
       "      <th>min_probability</th>\n",
       "      <th>mean_probability</th>\n",
       "      <th>precision</th>\n",
       "      <th>response_fraction</th>\n",
       "    </tr>\n",
       "  </thead>\n",
       "  <tbody>\n",
       "    <tr>\n",
       "      <th>9</th>\n",
       "      <td>(0.678, 0.968]</td>\n",
       "      <td>1233</td>\n",
       "      <td>946</td>\n",
       "      <td>0.678195</td>\n",
       "      <td>0.789828</td>\n",
       "      <td>0.767234</td>\n",
       "      <td>0.321550</td>\n",
       "    </tr>\n",
       "    <tr>\n",
       "      <th>8</th>\n",
       "      <td>(0.467, 0.678]</td>\n",
       "      <td>1233</td>\n",
       "      <td>695</td>\n",
       "      <td>0.467430</td>\n",
       "      <td>0.569231</td>\n",
       "      <td>0.563666</td>\n",
       "      <td>0.236234</td>\n",
       "    </tr>\n",
       "    <tr>\n",
       "      <th>7</th>\n",
       "      <td>(0.327, 0.467]</td>\n",
       "      <td>1233</td>\n",
       "      <td>497</td>\n",
       "      <td>0.326716</td>\n",
       "      <td>0.391743</td>\n",
       "      <td>0.403082</td>\n",
       "      <td>0.168933</td>\n",
       "    </tr>\n",
       "    <tr>\n",
       "      <th>6</th>\n",
       "      <td>(0.218, 0.327]</td>\n",
       "      <td>1233</td>\n",
       "      <td>349</td>\n",
       "      <td>0.218034</td>\n",
       "      <td>0.270487</td>\n",
       "      <td>0.283049</td>\n",
       "      <td>0.118627</td>\n",
       "    </tr>\n",
       "    <tr>\n",
       "      <th>5</th>\n",
       "      <td>(0.131, 0.218]</td>\n",
       "      <td>1232</td>\n",
       "      <td>238</td>\n",
       "      <td>0.130690</td>\n",
       "      <td>0.172484</td>\n",
       "      <td>0.193182</td>\n",
       "      <td>0.080897</td>\n",
       "    </tr>\n",
       "    <tr>\n",
       "      <th>4</th>\n",
       "      <td>(0.0702, 0.131]</td>\n",
       "      <td>1233</td>\n",
       "      <td>122</td>\n",
       "      <td>0.070238</td>\n",
       "      <td>0.096884</td>\n",
       "      <td>0.098946</td>\n",
       "      <td>0.041468</td>\n",
       "    </tr>\n",
       "    <tr>\n",
       "      <th>3</th>\n",
       "      <td>(0.0366, 0.0702]</td>\n",
       "      <td>1233</td>\n",
       "      <td>58</td>\n",
       "      <td>0.036616</td>\n",
       "      <td>0.052559</td>\n",
       "      <td>0.047040</td>\n",
       "      <td>0.019714</td>\n",
       "    </tr>\n",
       "    <tr>\n",
       "      <th>2</th>\n",
       "      <td>(0.0155, 0.0366]</td>\n",
       "      <td>1233</td>\n",
       "      <td>25</td>\n",
       "      <td>0.015528</td>\n",
       "      <td>0.024623</td>\n",
       "      <td>0.020276</td>\n",
       "      <td>0.008498</td>\n",
       "    </tr>\n",
       "    <tr>\n",
       "      <th>1</th>\n",
       "      <td>(0.00737, 0.0155]</td>\n",
       "      <td>1227</td>\n",
       "      <td>8</td>\n",
       "      <td>0.007368</td>\n",
       "      <td>0.010910</td>\n",
       "      <td>0.006520</td>\n",
       "      <td>0.002719</td>\n",
       "    </tr>\n",
       "    <tr>\n",
       "      <th>0</th>\n",
       "      <td>(-0.000655, 0.00737]</td>\n",
       "      <td>1239</td>\n",
       "      <td>4</td>\n",
       "      <td>0.000345</td>\n",
       "      <td>0.004511</td>\n",
       "      <td>0.003228</td>\n",
       "      <td>0.001360</td>\n",
       "    </tr>\n",
       "  </tbody>\n",
       "</table>\n",
       "</div>"
      ],
      "text/plain": [
       "               q_bucket  count  response_count  min_probability  \\\n",
       "9        (0.678, 0.968]   1233             946         0.678195   \n",
       "8        (0.467, 0.678]   1233             695         0.467430   \n",
       "7        (0.327, 0.467]   1233             497         0.326716   \n",
       "6        (0.218, 0.327]   1233             349         0.218034   \n",
       "5        (0.131, 0.218]   1232             238         0.130690   \n",
       "4       (0.0702, 0.131]   1233             122         0.070238   \n",
       "3      (0.0366, 0.0702]   1233              58         0.036616   \n",
       "2      (0.0155, 0.0366]   1233              25         0.015528   \n",
       "1     (0.00737, 0.0155]   1227               8         0.007368   \n",
       "0  (-0.000655, 0.00737]   1239               4         0.000345   \n",
       "\n",
       "   mean_probability  precision  response_fraction  \n",
       "9          0.789828   0.767234           0.321550  \n",
       "8          0.569231   0.563666           0.236234  \n",
       "7          0.391743   0.403082           0.168933  \n",
       "6          0.270487   0.283049           0.118627  \n",
       "5          0.172484   0.193182           0.080897  \n",
       "4          0.096884   0.098946           0.041468  \n",
       "3          0.052559   0.047040           0.019714  \n",
       "2          0.024623   0.020276           0.008498  \n",
       "1          0.010910   0.006520           0.002719  \n",
       "0          0.004511   0.003228           0.001360  "
      ]
     },
     "execution_count": 42,
     "metadata": {},
     "output_type": "execute_result"
    }
   ],
   "source": [
    "calib_table = calib_table.sort_index(ascending=False)\n",
    "calib_table"
   ]
  },
  {
   "cell_type": "markdown",
   "metadata": {},
   "source": [
    "### Get Cumulative Sum"
   ]
  },
  {
   "cell_type": "code",
   "execution_count": 43,
   "metadata": {
    "colab": {
     "base_uri": "https://localhost:8080/",
     "height": 363
    },
    "id": "H2dbFPxSjmgK",
    "outputId": "04f83095-6161-4c2a-eb3e-ae9a39c52094"
   },
   "outputs": [
    {
     "data": {
      "text/html": [
       "<div>\n",
       "<style scoped>\n",
       "    .dataframe tbody tr th:only-of-type {\n",
       "        vertical-align: middle;\n",
       "    }\n",
       "\n",
       "    .dataframe tbody tr th {\n",
       "        vertical-align: top;\n",
       "    }\n",
       "\n",
       "    .dataframe thead th {\n",
       "        text-align: right;\n",
       "    }\n",
       "</style>\n",
       "<table border=\"1\" class=\"dataframe\">\n",
       "  <thead>\n",
       "    <tr style=\"text-align: right;\">\n",
       "      <th></th>\n",
       "      <th>q_bucket</th>\n",
       "      <th>count</th>\n",
       "      <th>response_count</th>\n",
       "      <th>min_probability</th>\n",
       "      <th>mean_probability</th>\n",
       "      <th>precision</th>\n",
       "      <th>response_fraction</th>\n",
       "      <th>cumulative_response_count</th>\n",
       "      <th>cumulative_count</th>\n",
       "    </tr>\n",
       "  </thead>\n",
       "  <tbody>\n",
       "    <tr>\n",
       "      <th>9</th>\n",
       "      <td>(0.678, 0.968]</td>\n",
       "      <td>1233</td>\n",
       "      <td>946</td>\n",
       "      <td>0.678195</td>\n",
       "      <td>0.789828</td>\n",
       "      <td>0.767234</td>\n",
       "      <td>0.321550</td>\n",
       "      <td>946</td>\n",
       "      <td>1233</td>\n",
       "    </tr>\n",
       "    <tr>\n",
       "      <th>8</th>\n",
       "      <td>(0.467, 0.678]</td>\n",
       "      <td>1233</td>\n",
       "      <td>695</td>\n",
       "      <td>0.467430</td>\n",
       "      <td>0.569231</td>\n",
       "      <td>0.563666</td>\n",
       "      <td>0.236234</td>\n",
       "      <td>1641</td>\n",
       "      <td>2466</td>\n",
       "    </tr>\n",
       "    <tr>\n",
       "      <th>7</th>\n",
       "      <td>(0.327, 0.467]</td>\n",
       "      <td>1233</td>\n",
       "      <td>497</td>\n",
       "      <td>0.326716</td>\n",
       "      <td>0.391743</td>\n",
       "      <td>0.403082</td>\n",
       "      <td>0.168933</td>\n",
       "      <td>2138</td>\n",
       "      <td>3699</td>\n",
       "    </tr>\n",
       "    <tr>\n",
       "      <th>6</th>\n",
       "      <td>(0.218, 0.327]</td>\n",
       "      <td>1233</td>\n",
       "      <td>349</td>\n",
       "      <td>0.218034</td>\n",
       "      <td>0.270487</td>\n",
       "      <td>0.283049</td>\n",
       "      <td>0.118627</td>\n",
       "      <td>2487</td>\n",
       "      <td>4932</td>\n",
       "    </tr>\n",
       "    <tr>\n",
       "      <th>5</th>\n",
       "      <td>(0.131, 0.218]</td>\n",
       "      <td>1232</td>\n",
       "      <td>238</td>\n",
       "      <td>0.130690</td>\n",
       "      <td>0.172484</td>\n",
       "      <td>0.193182</td>\n",
       "      <td>0.080897</td>\n",
       "      <td>2725</td>\n",
       "      <td>6164</td>\n",
       "    </tr>\n",
       "    <tr>\n",
       "      <th>4</th>\n",
       "      <td>(0.0702, 0.131]</td>\n",
       "      <td>1233</td>\n",
       "      <td>122</td>\n",
       "      <td>0.070238</td>\n",
       "      <td>0.096884</td>\n",
       "      <td>0.098946</td>\n",
       "      <td>0.041468</td>\n",
       "      <td>2847</td>\n",
       "      <td>7397</td>\n",
       "    </tr>\n",
       "    <tr>\n",
       "      <th>3</th>\n",
       "      <td>(0.0366, 0.0702]</td>\n",
       "      <td>1233</td>\n",
       "      <td>58</td>\n",
       "      <td>0.036616</td>\n",
       "      <td>0.052559</td>\n",
       "      <td>0.047040</td>\n",
       "      <td>0.019714</td>\n",
       "      <td>2905</td>\n",
       "      <td>8630</td>\n",
       "    </tr>\n",
       "    <tr>\n",
       "      <th>2</th>\n",
       "      <td>(0.0155, 0.0366]</td>\n",
       "      <td>1233</td>\n",
       "      <td>25</td>\n",
       "      <td>0.015528</td>\n",
       "      <td>0.024623</td>\n",
       "      <td>0.020276</td>\n",
       "      <td>0.008498</td>\n",
       "      <td>2930</td>\n",
       "      <td>9863</td>\n",
       "    </tr>\n",
       "    <tr>\n",
       "      <th>1</th>\n",
       "      <td>(0.00737, 0.0155]</td>\n",
       "      <td>1227</td>\n",
       "      <td>8</td>\n",
       "      <td>0.007368</td>\n",
       "      <td>0.010910</td>\n",
       "      <td>0.006520</td>\n",
       "      <td>0.002719</td>\n",
       "      <td>2938</td>\n",
       "      <td>11090</td>\n",
       "    </tr>\n",
       "    <tr>\n",
       "      <th>0</th>\n",
       "      <td>(-0.000655, 0.00737]</td>\n",
       "      <td>1239</td>\n",
       "      <td>4</td>\n",
       "      <td>0.000345</td>\n",
       "      <td>0.004511</td>\n",
       "      <td>0.003228</td>\n",
       "      <td>0.001360</td>\n",
       "      <td>2942</td>\n",
       "      <td>12329</td>\n",
       "    </tr>\n",
       "  </tbody>\n",
       "</table>\n",
       "</div>"
      ],
      "text/plain": [
       "               q_bucket  count  response_count  min_probability  \\\n",
       "9        (0.678, 0.968]   1233             946         0.678195   \n",
       "8        (0.467, 0.678]   1233             695         0.467430   \n",
       "7        (0.327, 0.467]   1233             497         0.326716   \n",
       "6        (0.218, 0.327]   1233             349         0.218034   \n",
       "5        (0.131, 0.218]   1232             238         0.130690   \n",
       "4       (0.0702, 0.131]   1233             122         0.070238   \n",
       "3      (0.0366, 0.0702]   1233              58         0.036616   \n",
       "2      (0.0155, 0.0366]   1233              25         0.015528   \n",
       "1     (0.00737, 0.0155]   1227               8         0.007368   \n",
       "0  (-0.000655, 0.00737]   1239               4         0.000345   \n",
       "\n",
       "   mean_probability  precision  response_fraction  cumulative_response_count  \\\n",
       "9          0.789828   0.767234           0.321550                        946   \n",
       "8          0.569231   0.563666           0.236234                       1641   \n",
       "7          0.391743   0.403082           0.168933                       2138   \n",
       "6          0.270487   0.283049           0.118627                       2487   \n",
       "5          0.172484   0.193182           0.080897                       2725   \n",
       "4          0.096884   0.098946           0.041468                       2847   \n",
       "3          0.052559   0.047040           0.019714                       2905   \n",
       "2          0.024623   0.020276           0.008498                       2930   \n",
       "1          0.010910   0.006520           0.002719                       2938   \n",
       "0          0.004511   0.003228           0.001360                       2942   \n",
       "\n",
       "   cumulative_count  \n",
       "9              1233  \n",
       "8              2466  \n",
       "7              3699  \n",
       "6              4932  \n",
       "5              6164  \n",
       "4              7397  \n",
       "3              8630  \n",
       "2              9863  \n",
       "1             11090  \n",
       "0             12329  "
      ]
     },
     "execution_count": 43,
     "metadata": {},
     "output_type": "execute_result"
    }
   ],
   "source": [
    "calib_table['cumulative_response_count'] = calib_table['response_count'].cumsum()\n",
    "calib_table['cumulative_count'] = calib_table['count'].cumsum()\n",
    "calib_table"
   ]
  },
  {
   "cell_type": "markdown",
   "metadata": {},
   "source": [
    "### Reverse Order"
   ]
  },
  {
   "cell_type": "code",
   "execution_count": 44,
   "metadata": {},
   "outputs": [
    {
     "data": {
      "text/html": [
       "<div>\n",
       "<style scoped>\n",
       "    .dataframe tbody tr th:only-of-type {\n",
       "        vertical-align: middle;\n",
       "    }\n",
       "\n",
       "    .dataframe tbody tr th {\n",
       "        vertical-align: top;\n",
       "    }\n",
       "\n",
       "    .dataframe thead th {\n",
       "        text-align: right;\n",
       "    }\n",
       "</style>\n",
       "<table border=\"1\" class=\"dataframe\">\n",
       "  <thead>\n",
       "    <tr style=\"text-align: right;\">\n",
       "      <th></th>\n",
       "      <th>q_bucket</th>\n",
       "      <th>count</th>\n",
       "      <th>response_count</th>\n",
       "      <th>min_probability</th>\n",
       "      <th>mean_probability</th>\n",
       "      <th>precision</th>\n",
       "      <th>response_fraction</th>\n",
       "      <th>cumulative_response_count</th>\n",
       "      <th>cumulative_count</th>\n",
       "    </tr>\n",
       "  </thead>\n",
       "  <tbody>\n",
       "    <tr>\n",
       "      <th>0</th>\n",
       "      <td>(-0.000655, 0.00737]</td>\n",
       "      <td>1239</td>\n",
       "      <td>4</td>\n",
       "      <td>0.000345</td>\n",
       "      <td>0.004511</td>\n",
       "      <td>0.003228</td>\n",
       "      <td>0.001360</td>\n",
       "      <td>2942</td>\n",
       "      <td>12329</td>\n",
       "    </tr>\n",
       "    <tr>\n",
       "      <th>1</th>\n",
       "      <td>(0.00737, 0.0155]</td>\n",
       "      <td>1227</td>\n",
       "      <td>8</td>\n",
       "      <td>0.007368</td>\n",
       "      <td>0.010910</td>\n",
       "      <td>0.006520</td>\n",
       "      <td>0.002719</td>\n",
       "      <td>2938</td>\n",
       "      <td>11090</td>\n",
       "    </tr>\n",
       "    <tr>\n",
       "      <th>2</th>\n",
       "      <td>(0.0155, 0.0366]</td>\n",
       "      <td>1233</td>\n",
       "      <td>25</td>\n",
       "      <td>0.015528</td>\n",
       "      <td>0.024623</td>\n",
       "      <td>0.020276</td>\n",
       "      <td>0.008498</td>\n",
       "      <td>2930</td>\n",
       "      <td>9863</td>\n",
       "    </tr>\n",
       "    <tr>\n",
       "      <th>3</th>\n",
       "      <td>(0.0366, 0.0702]</td>\n",
       "      <td>1233</td>\n",
       "      <td>58</td>\n",
       "      <td>0.036616</td>\n",
       "      <td>0.052559</td>\n",
       "      <td>0.047040</td>\n",
       "      <td>0.019714</td>\n",
       "      <td>2905</td>\n",
       "      <td>8630</td>\n",
       "    </tr>\n",
       "    <tr>\n",
       "      <th>4</th>\n",
       "      <td>(0.0702, 0.131]</td>\n",
       "      <td>1233</td>\n",
       "      <td>122</td>\n",
       "      <td>0.070238</td>\n",
       "      <td>0.096884</td>\n",
       "      <td>0.098946</td>\n",
       "      <td>0.041468</td>\n",
       "      <td>2847</td>\n",
       "      <td>7397</td>\n",
       "    </tr>\n",
       "    <tr>\n",
       "      <th>5</th>\n",
       "      <td>(0.131, 0.218]</td>\n",
       "      <td>1232</td>\n",
       "      <td>238</td>\n",
       "      <td>0.130690</td>\n",
       "      <td>0.172484</td>\n",
       "      <td>0.193182</td>\n",
       "      <td>0.080897</td>\n",
       "      <td>2725</td>\n",
       "      <td>6164</td>\n",
       "    </tr>\n",
       "    <tr>\n",
       "      <th>6</th>\n",
       "      <td>(0.218, 0.327]</td>\n",
       "      <td>1233</td>\n",
       "      <td>349</td>\n",
       "      <td>0.218034</td>\n",
       "      <td>0.270487</td>\n",
       "      <td>0.283049</td>\n",
       "      <td>0.118627</td>\n",
       "      <td>2487</td>\n",
       "      <td>4932</td>\n",
       "    </tr>\n",
       "    <tr>\n",
       "      <th>7</th>\n",
       "      <td>(0.327, 0.467]</td>\n",
       "      <td>1233</td>\n",
       "      <td>497</td>\n",
       "      <td>0.326716</td>\n",
       "      <td>0.391743</td>\n",
       "      <td>0.403082</td>\n",
       "      <td>0.168933</td>\n",
       "      <td>2138</td>\n",
       "      <td>3699</td>\n",
       "    </tr>\n",
       "    <tr>\n",
       "      <th>8</th>\n",
       "      <td>(0.467, 0.678]</td>\n",
       "      <td>1233</td>\n",
       "      <td>695</td>\n",
       "      <td>0.467430</td>\n",
       "      <td>0.569231</td>\n",
       "      <td>0.563666</td>\n",
       "      <td>0.236234</td>\n",
       "      <td>1641</td>\n",
       "      <td>2466</td>\n",
       "    </tr>\n",
       "    <tr>\n",
       "      <th>9</th>\n",
       "      <td>(0.678, 0.968]</td>\n",
       "      <td>1233</td>\n",
       "      <td>946</td>\n",
       "      <td>0.678195</td>\n",
       "      <td>0.789828</td>\n",
       "      <td>0.767234</td>\n",
       "      <td>0.321550</td>\n",
       "      <td>946</td>\n",
       "      <td>1233</td>\n",
       "    </tr>\n",
       "  </tbody>\n",
       "</table>\n",
       "</div>"
      ],
      "text/plain": [
       "               q_bucket  count  response_count  min_probability  \\\n",
       "0  (-0.000655, 0.00737]   1239               4         0.000345   \n",
       "1     (0.00737, 0.0155]   1227               8         0.007368   \n",
       "2      (0.0155, 0.0366]   1233              25         0.015528   \n",
       "3      (0.0366, 0.0702]   1233              58         0.036616   \n",
       "4       (0.0702, 0.131]   1233             122         0.070238   \n",
       "5        (0.131, 0.218]   1232             238         0.130690   \n",
       "6        (0.218, 0.327]   1233             349         0.218034   \n",
       "7        (0.327, 0.467]   1233             497         0.326716   \n",
       "8        (0.467, 0.678]   1233             695         0.467430   \n",
       "9        (0.678, 0.968]   1233             946         0.678195   \n",
       "\n",
       "   mean_probability  precision  response_fraction  cumulative_response_count  \\\n",
       "0          0.004511   0.003228           0.001360                       2942   \n",
       "1          0.010910   0.006520           0.002719                       2938   \n",
       "2          0.024623   0.020276           0.008498                       2930   \n",
       "3          0.052559   0.047040           0.019714                       2905   \n",
       "4          0.096884   0.098946           0.041468                       2847   \n",
       "5          0.172484   0.193182           0.080897                       2725   \n",
       "6          0.270487   0.283049           0.118627                       2487   \n",
       "7          0.391743   0.403082           0.168933                       2138   \n",
       "8          0.569231   0.563666           0.236234                       1641   \n",
       "9          0.789828   0.767234           0.321550                        946   \n",
       "\n",
       "   cumulative_count  \n",
       "0             12329  \n",
       "1             11090  \n",
       "2              9863  \n",
       "3              8630  \n",
       "4              7397  \n",
       "5              6164  \n",
       "6              4932  \n",
       "7              3699  \n",
       "8              2466  \n",
       "9              1233  "
      ]
     },
     "execution_count": 44,
     "metadata": {},
     "output_type": "execute_result"
    }
   ],
   "source": [
    "calib_table = calib_table.sort_index(ascending=True)\n",
    "calib_table"
   ]
  },
  {
   "cell_type": "markdown",
   "metadata": {},
   "source": [
    "## Get Cumulative Precision and Recall from Heighest Probability Bin to Lowest"
   ]
  },
  {
   "cell_type": "code",
   "execution_count": 45,
   "metadata": {
    "colab": {
     "base_uri": "https://localhost:8080/",
     "height": 557
    },
    "id": "zuHIQQrAj8DM",
    "outputId": "3353b44e-7194-4b0b-e98c-39e015732c22"
   },
   "outputs": [
    {
     "data": {
      "text/html": [
       "<div>\n",
       "<style scoped>\n",
       "    .dataframe tbody tr th:only-of-type {\n",
       "        vertical-align: middle;\n",
       "    }\n",
       "\n",
       "    .dataframe tbody tr th {\n",
       "        vertical-align: top;\n",
       "    }\n",
       "\n",
       "    .dataframe thead th {\n",
       "        text-align: right;\n",
       "    }\n",
       "</style>\n",
       "<table border=\"1\" class=\"dataframe\">\n",
       "  <thead>\n",
       "    <tr style=\"text-align: right;\">\n",
       "      <th></th>\n",
       "      <th>q_bucket</th>\n",
       "      <th>count</th>\n",
       "      <th>response_count</th>\n",
       "      <th>min_probability</th>\n",
       "      <th>mean_probability</th>\n",
       "      <th>precision</th>\n",
       "      <th>response_fraction</th>\n",
       "      <th>cumulative_response_count</th>\n",
       "      <th>cumulative_count</th>\n",
       "      <th>cumulative_precision</th>\n",
       "      <th>cumulative_response_fraction</th>\n",
       "    </tr>\n",
       "  </thead>\n",
       "  <tbody>\n",
       "    <tr>\n",
       "      <th>0</th>\n",
       "      <td>(-0.000655, 0.00737]</td>\n",
       "      <td>1239</td>\n",
       "      <td>4</td>\n",
       "      <td>0.000345</td>\n",
       "      <td>0.004511</td>\n",
       "      <td>0.003228</td>\n",
       "      <td>0.001360</td>\n",
       "      <td>2942</td>\n",
       "      <td>12329</td>\n",
       "      <td>0.238624</td>\n",
       "      <td>1.000000</td>\n",
       "    </tr>\n",
       "    <tr>\n",
       "      <th>1</th>\n",
       "      <td>(0.00737, 0.0155]</td>\n",
       "      <td>1227</td>\n",
       "      <td>8</td>\n",
       "      <td>0.007368</td>\n",
       "      <td>0.010910</td>\n",
       "      <td>0.006520</td>\n",
       "      <td>0.002719</td>\n",
       "      <td>2938</td>\n",
       "      <td>11090</td>\n",
       "      <td>0.264923</td>\n",
       "      <td>0.998640</td>\n",
       "    </tr>\n",
       "    <tr>\n",
       "      <th>2</th>\n",
       "      <td>(0.0155, 0.0366]</td>\n",
       "      <td>1233</td>\n",
       "      <td>25</td>\n",
       "      <td>0.015528</td>\n",
       "      <td>0.024623</td>\n",
       "      <td>0.020276</td>\n",
       "      <td>0.008498</td>\n",
       "      <td>2930</td>\n",
       "      <td>9863</td>\n",
       "      <td>0.297070</td>\n",
       "      <td>0.995921</td>\n",
       "    </tr>\n",
       "    <tr>\n",
       "      <th>3</th>\n",
       "      <td>(0.0366, 0.0702]</td>\n",
       "      <td>1233</td>\n",
       "      <td>58</td>\n",
       "      <td>0.036616</td>\n",
       "      <td>0.052559</td>\n",
       "      <td>0.047040</td>\n",
       "      <td>0.019714</td>\n",
       "      <td>2905</td>\n",
       "      <td>8630</td>\n",
       "      <td>0.336616</td>\n",
       "      <td>0.987424</td>\n",
       "    </tr>\n",
       "    <tr>\n",
       "      <th>4</th>\n",
       "      <td>(0.0702, 0.131]</td>\n",
       "      <td>1233</td>\n",
       "      <td>122</td>\n",
       "      <td>0.070238</td>\n",
       "      <td>0.096884</td>\n",
       "      <td>0.098946</td>\n",
       "      <td>0.041468</td>\n",
       "      <td>2847</td>\n",
       "      <td>7397</td>\n",
       "      <td>0.384886</td>\n",
       "      <td>0.967709</td>\n",
       "    </tr>\n",
       "    <tr>\n",
       "      <th>5</th>\n",
       "      <td>(0.131, 0.218]</td>\n",
       "      <td>1232</td>\n",
       "      <td>238</td>\n",
       "      <td>0.130690</td>\n",
       "      <td>0.172484</td>\n",
       "      <td>0.193182</td>\n",
       "      <td>0.080897</td>\n",
       "      <td>2725</td>\n",
       "      <td>6164</td>\n",
       "      <td>0.442083</td>\n",
       "      <td>0.926241</td>\n",
       "    </tr>\n",
       "    <tr>\n",
       "      <th>6</th>\n",
       "      <td>(0.218, 0.327]</td>\n",
       "      <td>1233</td>\n",
       "      <td>349</td>\n",
       "      <td>0.218034</td>\n",
       "      <td>0.270487</td>\n",
       "      <td>0.283049</td>\n",
       "      <td>0.118627</td>\n",
       "      <td>2487</td>\n",
       "      <td>4932</td>\n",
       "      <td>0.504258</td>\n",
       "      <td>0.845343</td>\n",
       "    </tr>\n",
       "    <tr>\n",
       "      <th>7</th>\n",
       "      <td>(0.327, 0.467]</td>\n",
       "      <td>1233</td>\n",
       "      <td>497</td>\n",
       "      <td>0.326716</td>\n",
       "      <td>0.391743</td>\n",
       "      <td>0.403082</td>\n",
       "      <td>0.168933</td>\n",
       "      <td>2138</td>\n",
       "      <td>3699</td>\n",
       "      <td>0.577994</td>\n",
       "      <td>0.726717</td>\n",
       "    </tr>\n",
       "    <tr>\n",
       "      <th>8</th>\n",
       "      <td>(0.467, 0.678]</td>\n",
       "      <td>1233</td>\n",
       "      <td>695</td>\n",
       "      <td>0.467430</td>\n",
       "      <td>0.569231</td>\n",
       "      <td>0.563666</td>\n",
       "      <td>0.236234</td>\n",
       "      <td>1641</td>\n",
       "      <td>2466</td>\n",
       "      <td>0.665450</td>\n",
       "      <td>0.557784</td>\n",
       "    </tr>\n",
       "    <tr>\n",
       "      <th>9</th>\n",
       "      <td>(0.678, 0.968]</td>\n",
       "      <td>1233</td>\n",
       "      <td>946</td>\n",
       "      <td>0.678195</td>\n",
       "      <td>0.789828</td>\n",
       "      <td>0.767234</td>\n",
       "      <td>0.321550</td>\n",
       "      <td>946</td>\n",
       "      <td>1233</td>\n",
       "      <td>0.767234</td>\n",
       "      <td>0.321550</td>\n",
       "    </tr>\n",
       "  </tbody>\n",
       "</table>\n",
       "</div>"
      ],
      "text/plain": [
       "               q_bucket  count  response_count  min_probability  \\\n",
       "0  (-0.000655, 0.00737]   1239               4         0.000345   \n",
       "1     (0.00737, 0.0155]   1227               8         0.007368   \n",
       "2      (0.0155, 0.0366]   1233              25         0.015528   \n",
       "3      (0.0366, 0.0702]   1233              58         0.036616   \n",
       "4       (0.0702, 0.131]   1233             122         0.070238   \n",
       "5        (0.131, 0.218]   1232             238         0.130690   \n",
       "6        (0.218, 0.327]   1233             349         0.218034   \n",
       "7        (0.327, 0.467]   1233             497         0.326716   \n",
       "8        (0.467, 0.678]   1233             695         0.467430   \n",
       "9        (0.678, 0.968]   1233             946         0.678195   \n",
       "\n",
       "   mean_probability  precision  response_fraction  cumulative_response_count  \\\n",
       "0          0.004511   0.003228           0.001360                       2942   \n",
       "1          0.010910   0.006520           0.002719                       2938   \n",
       "2          0.024623   0.020276           0.008498                       2930   \n",
       "3          0.052559   0.047040           0.019714                       2905   \n",
       "4          0.096884   0.098946           0.041468                       2847   \n",
       "5          0.172484   0.193182           0.080897                       2725   \n",
       "6          0.270487   0.283049           0.118627                       2487   \n",
       "7          0.391743   0.403082           0.168933                       2138   \n",
       "8          0.569231   0.563666           0.236234                       1641   \n",
       "9          0.789828   0.767234           0.321550                        946   \n",
       "\n",
       "   cumulative_count  cumulative_precision  cumulative_response_fraction  \n",
       "0             12329              0.238624                      1.000000  \n",
       "1             11090              0.264923                      0.998640  \n",
       "2              9863              0.297070                      0.995921  \n",
       "3              8630              0.336616                      0.987424  \n",
       "4              7397              0.384886                      0.967709  \n",
       "5              6164              0.442083                      0.926241  \n",
       "6              4932              0.504258                      0.845343  \n",
       "7              3699              0.577994                      0.726717  \n",
       "8              2466              0.665450                      0.557784  \n",
       "9              1233              0.767234                      0.321550  "
      ]
     },
     "execution_count": 45,
     "metadata": {},
     "output_type": "execute_result"
    }
   ],
   "source": [
    "calib_table['cumulative_precision'] = calib_table['cumulative_response_count']/calib_table['cumulative_count']\n",
    "calib_table['cumulative_response_fraction'] = calib_table['cumulative_response_count'] / calib_table['response_count'].sum()\n",
    "calib_table"
   ]
  },
  {
   "cell_type": "markdown",
   "metadata": {
    "id": "-y2hTzaqx_4n"
   },
   "source": [
    "# Calibration Curve"
   ]
  },
  {
   "cell_type": "code",
   "execution_count": 46,
   "metadata": {},
   "outputs": [
    {
     "data": {
      "text/plain": [
       "<AxesSubplot:xlabel='x'>"
      ]
     },
     "execution_count": 46,
     "metadata": {},
     "output_type": "execute_result"
    },
    {
     "data": {
      "text/plain": [
       "<Figure size 432x288 with 0 Axes>"
      ]
     },
     "metadata": {},
     "output_type": "display_data"
    },
    {
     "data": {
      "image/png": "[encoded data removed]",
      "text/plain": [
       "<Figure size 432x288 with 1 Axes>"
      ]
     },
     "metadata": {
      "needs_background": "light"
     },
     "output_type": "display_data"
    }
   ],
   "source": [
    "fig=plt.figure()\n",
    "\n",
    "ax = calib_table.plot(x='mean_probability', y='precision', marker='o')\n",
    "pd.DataFrame({'x':[0,1], '1:1':[0,1]}).plot(x='x', y='1:1', ax=ax)"
   ]
  },
  {
   "cell_type": "code",
   "execution_count": 47,
   "metadata": {
    "colab": {
     "base_uri": "https://localhost:8080/",
     "height": 298
    },
    "id": "A206Ib9qw7Ae",
    "outputId": "0dd107d2-9e3d-4b9e-8fff-a415a3657e26"
   },
   "outputs": [
    {
     "data": {
      "text/plain": [
       "<AxesSubplot:xlabel='q_bucket'>"
      ]
     },
     "execution_count": 47,
     "metadata": {},
     "output_type": "execute_result"
    },
    {
     "data": {
      "image/png": "[encoded data removed]",
      "text/plain": [
       "<Figure size 432x288 with 1 Axes>"
      ]
     },
     "metadata": {
      "needs_background": "light"
     },
     "output_type": "display_data"
    }
   ],
   "source": [
    "calib_table.plot(kind='bar', x='q_bucket', y='response_fraction')"
   ]
  },
  {
   "cell_type": "code",
   "execution_count": 48,
   "metadata": {},
   "outputs": [
    {
     "data": {
      "text/html": [
       "<div>\n",
       "<style scoped>\n",
       "    .dataframe tbody tr th:only-of-type {\n",
       "        vertical-align: middle;\n",
       "    }\n",
       "\n",
       "    .dataframe tbody tr th {\n",
       "        vertical-align: top;\n",
       "    }\n",
       "\n",
       "    .dataframe thead th {\n",
       "        text-align: right;\n",
       "    }\n",
       "</style>\n",
       "<table border=\"1\" class=\"dataframe\">\n",
       "  <thead>\n",
       "    <tr style=\"text-align: right;\">\n",
       "      <th></th>\n",
       "      <th>ActualProbability</th>\n",
       "      <th>PredictedProbability</th>\n",
       "    </tr>\n",
       "  </thead>\n",
       "  <tbody>\n",
       "    <tr>\n",
       "      <th>0</th>\n",
       "      <td>0.027104</td>\n",
       "      <td>0.030839</td>\n",
       "    </tr>\n",
       "    <tr>\n",
       "      <th>1</th>\n",
       "      <td>0.164366</td>\n",
       "      <td>0.147099</td>\n",
       "    </tr>\n",
       "    <tr>\n",
       "      <th>2</th>\n",
       "      <td>0.254653</td>\n",
       "      <td>0.248396</td>\n",
       "    </tr>\n",
       "    <tr>\n",
       "      <th>3</th>\n",
       "      <td>0.371601</td>\n",
       "      <td>0.347549</td>\n",
       "    </tr>\n",
       "    <tr>\n",
       "      <th>4</th>\n",
       "      <td>0.442577</td>\n",
       "      <td>0.447004</td>\n",
       "    </tr>\n",
       "    <tr>\n",
       "      <th>5</th>\n",
       "      <td>0.562903</td>\n",
       "      <td>0.548608</td>\n",
       "    </tr>\n",
       "    <tr>\n",
       "      <th>6</th>\n",
       "      <td>0.619137</td>\n",
       "      <td>0.648865</td>\n",
       "    </tr>\n",
       "    <tr>\n",
       "      <th>7</th>\n",
       "      <td>0.729064</td>\n",
       "      <td>0.752539</td>\n",
       "    </tr>\n",
       "    <tr>\n",
       "      <th>8</th>\n",
       "      <td>0.825000</td>\n",
       "      <td>0.845691</td>\n",
       "    </tr>\n",
       "    <tr>\n",
       "      <th>9</th>\n",
       "      <td>0.930556</td>\n",
       "      <td>0.920317</td>\n",
       "    </tr>\n",
       "  </tbody>\n",
       "</table>\n",
       "</div>"
      ],
      "text/plain": [
       "   ActualProbability  PredictedProbability\n",
       "0           0.027104              0.030839\n",
       "1           0.164366              0.147099\n",
       "2           0.254653              0.248396\n",
       "3           0.371601              0.347549\n",
       "4           0.442577              0.447004\n",
       "5           0.562903              0.548608\n",
       "6           0.619137              0.648865\n",
       "7           0.729064              0.752539\n",
       "8           0.825000              0.845691\n",
       "9           0.930556              0.920317"
      ]
     },
     "execution_count": 48,
     "metadata": {},
     "output_type": "execute_result"
    },
    {
     "data": {
      "image/png": "[encoded data removed]",
      "text/plain": [
       "<Figure size 432x288 with 1 Axes>"
      ]
     },
     "metadata": {
      "needs_background": "light"
     },
     "output_type": "display_data"
    }
   ],
   "source": [
    "from sklearn.calibration import calibration_curve\n",
    "\n",
    "prob_true, prob_pred = calibration_curve(test_result['y_act'], test_result['y_pred_prob'], n_bins=10)\n",
    "\n",
    "calib = pd.DataFrame(data={'ActualProbability':prob_true, 'PredictedProbability':prob_pred})\n",
    "calib.plot(x='ActualProbability', y='PredictedProbability', marker='o')\n",
    "calib"
   ]
  },
  {
   "cell_type": "markdown",
   "metadata": {},
   "source": [
    "## Class Separation"
   ]
  },
  {
   "cell_type": "code",
   "execution_count": 49,
   "metadata": {},
   "outputs": [
    {
     "data": {
      "text/plain": [
       "<AxesSubplot:>"
      ]
     },
     "execution_count": 49,
     "metadata": {},
     "output_type": "execute_result"
    },
    {
     "data": {
      "image/png": "[encoded data removed]",
      "text/plain": [
       "<Figure size 432x288 with 1 Axes>"
      ]
     },
     "metadata": {
      "needs_background": "light"
     },
     "output_type": "display_data"
    }
   ],
   "source": [
    "test_result['y_pred_prob'].hist()\n",
    "test_result.query(\"y_act==1\")['y_pred_prob'].hist()\n",
    "test_result.query(\"y_act==0\")['y_pred_prob'].hist()"
   ]
  },
  {
   "cell_type": "code",
   "execution_count": 50,
   "metadata": {},
   "outputs": [
    {
     "data": {
      "text/plain": [
       "<AxesSubplot:ylabel='Density'>"
      ]
     },
     "execution_count": 50,
     "metadata": {},
     "output_type": "execute_result"
    },
    {
     "data": {
      "image/png": "[encoded data removed]",
      "text/plain": [
       "<Figure size 432x288 with 1 Axes>"
      ]
     },
     "metadata": {
      "needs_background": "light"
     },
     "output_type": "display_data"
    }
   ],
   "source": [
    "test_result['y_pred_prob'].plot(kind='kde')\n",
    "test_result.query(\"y_act==1\")['y_pred_prob'].plot(kind='kde')\n",
    "test_result.query(\"y_act==0\")['y_pred_prob'].plot(kind='kde')"
   ]
  },
  {
   "cell_type": "markdown",
   "metadata": {
    "id": "mignFaOSgPWn"
   },
   "source": [
    "#  8. Receiver operating characteristic (ROC)"
   ]
  },
  {
   "cell_type": "code",
   "execution_count": 51,
   "metadata": {
    "colab": {
     "base_uri": "https://localhost:8080/",
     "height": 270
    },
    "id": "59iL-rrRsxbT",
    "outputId": "d82a8b6b-ca98-4734-f881-b393b187d8fb"
   },
   "outputs": [
    {
     "name": "stdout",
     "output_type": "stream",
     "text": [
      "ROC AUC Score = 0.8754616343516283\n"
     ]
    },
    {
     "data": {
      "image/png": "[encoded data removed]",
      "text/plain": [
       "<Figure size 432x288 with 2 Axes>"
      ]
     },
     "metadata": {
      "needs_background": "light"
     },
     "output_type": "display_data"
    }
   ],
   "source": [
    "cmap = cm.get_cmap('cool') \n",
    "\n",
    "fpr, tpr, thresholds = metrics.roc_curve(test_result['y_act'], test_result['y_pred_prob'], pos_label=1)\n",
    "\n",
    "roc = pd.DataFrame(data={'Threshold':thresholds[1:], 'FPR':fpr[1:], 'TPR':tpr[1:]})\n",
    "roc.plot(kind='scatter', x='FPR', y='TPR', c='Threshold', cmap=cmap)\n",
    "\n",
    "roc_auc = metrics.roc_auc_score(test_result['y_act'], test_result['y_pred_prob'])\n",
    "\n",
    "print(F\"ROC AUC Score = {roc_auc}\")"
   ]
  },
  {
   "cell_type": "code",
   "execution_count": 52,
   "metadata": {
    "colab": {
     "base_uri": "https://localhost:8080/",
     "height": 206
    },
    "id": "GJ0YdchVjm3J",
    "outputId": "a52e313f-ae51-43f7-a718-e32693adf1ed"
   },
   "outputs": [
    {
     "data": {
      "text/html": [
       "<div>\n",
       "<style scoped>\n",
       "    .dataframe tbody tr th:only-of-type {\n",
       "        vertical-align: middle;\n",
       "    }\n",
       "\n",
       "    .dataframe tbody tr th {\n",
       "        vertical-align: top;\n",
       "    }\n",
       "\n",
       "    .dataframe thead th {\n",
       "        text-align: right;\n",
       "    }\n",
       "</style>\n",
       "<table border=\"1\" class=\"dataframe\">\n",
       "  <thead>\n",
       "    <tr style=\"text-align: right;\">\n",
       "      <th></th>\n",
       "      <th>Threshold</th>\n",
       "      <th>FPR</th>\n",
       "      <th>TPR</th>\n",
       "    </tr>\n",
       "  </thead>\n",
       "  <tbody>\n",
       "    <tr>\n",
       "      <th>0</th>\n",
       "      <td>0.968470</td>\n",
       "      <td>0.000000</td>\n",
       "      <td>0.000340</td>\n",
       "    </tr>\n",
       "    <tr>\n",
       "      <th>1</th>\n",
       "      <td>0.943633</td>\n",
       "      <td>0.000000</td>\n",
       "      <td>0.001700</td>\n",
       "    </tr>\n",
       "    <tr>\n",
       "      <th>2</th>\n",
       "      <td>0.940058</td>\n",
       "      <td>0.000107</td>\n",
       "      <td>0.001700</td>\n",
       "    </tr>\n",
       "    <tr>\n",
       "      <th>3</th>\n",
       "      <td>0.922287</td>\n",
       "      <td>0.000107</td>\n",
       "      <td>0.009177</td>\n",
       "    </tr>\n",
       "    <tr>\n",
       "      <th>4</th>\n",
       "      <td>0.921949</td>\n",
       "      <td>0.000213</td>\n",
       "      <td>0.009177</td>\n",
       "    </tr>\n",
       "  </tbody>\n",
       "</table>\n",
       "</div>"
      ],
      "text/plain": [
       "   Threshold       FPR       TPR\n",
       "0   0.968470  0.000000  0.000340\n",
       "1   0.943633  0.000000  0.001700\n",
       "2   0.940058  0.000107  0.001700\n",
       "3   0.922287  0.000107  0.009177\n",
       "4   0.921949  0.000213  0.009177"
      ]
     },
     "execution_count": 52,
     "metadata": {},
     "output_type": "execute_result"
    }
   ],
   "source": [
    "roc.head()"
   ]
  },
  {
   "cell_type": "markdown",
   "metadata": {
    "id": "3Xq64up_gWJ7"
   },
   "source": [
    "# 9. Precision Recall Curve (PRC)"
   ]
  },
  {
   "cell_type": "code",
   "execution_count": 53,
   "metadata": {
    "colab": {
     "base_uri": "https://localhost:8080/",
     "height": 270
    },
    "id": "-N4JxSHC7LV-",
    "outputId": "99ed59b9-c859-40c6-97ed-abd6cca0cf4f"
   },
   "outputs": [
    {
     "data": {
      "text/plain": [
       "<AxesSubplot:xlabel='Recall', ylabel='Precision'>"
      ]
     },
     "execution_count": 53,
     "metadata": {},
     "output_type": "execute_result"
    },
    {
     "data": {
      "image/png": "[encoded data removed]",
      "text/plain": [
       "<Figure size 432x288 with 2 Axes>"
      ]
     },
     "metadata": {
      "needs_background": "light"
     },
     "output_type": "display_data"
    }
   ],
   "source": [
    "precision, recall, thresholds = metrics.precision_recall_curve(test_result['y_act'], test_result['y_pred_prob'], pos_label=1)\n",
    "\n",
    "prc = pd.DataFrame(data={'Threshold':thresholds, 'Precision':precision[:-1], 'Recall':recall[:-1]})\n",
    "prc.plot(kind='scatter', x='Recall', y='Precision', c='Threshold', cmap=cmap)"
   ]
  },
  {
   "cell_type": "code",
   "execution_count": 54,
   "metadata": {},
   "outputs": [
    {
     "data": {
      "text/plain": [
       "<AxesSubplot:xlabel='Threshold'>"
      ]
     },
     "execution_count": 54,
     "metadata": {},
     "output_type": "execute_result"
    },
    {
     "data": {
      "text/plain": [
       "<Figure size 432x288 with 0 Axes>"
      ]
     },
     "metadata": {},
     "output_type": "display_data"
    },
    {
     "data": {
      "image/png": "[encoded data removed]",
      "text/plain": [
       "<Figure size 432x288 with 1 Axes>"
      ]
     },
     "metadata": {
      "needs_background": "light"
     },
     "output_type": "display_data"
    }
   ],
   "source": [
    "fig=plt.figure()\n",
    "\n",
    "ax = prc.plot( x='Threshold', y='Precision')\n",
    "prc.plot(x='Threshold', y='Recall', ax=ax)"
   ]
  },
  {
   "cell_type": "markdown",
   "metadata": {},
   "source": [
    "# 10. Classification Report"
   ]
  },
  {
   "cell_type": "code",
   "execution_count": 55,
   "metadata": {},
   "outputs": [
    {
     "name": "stdout",
     "output_type": "stream",
     "text": [
      "              precision    recall  f1-score   support\n",
      "\n",
      "           0       0.86      0.92      0.89      9387\n",
      "           1       0.68      0.53      0.60      2942\n",
      "\n",
      "    accuracy                           0.83     12329\n",
      "   macro avg       0.77      0.73      0.74     12329\n",
      "weighted avg       0.82      0.83      0.82     12329\n",
      "\n"
     ]
    }
   ],
   "source": [
    "from sklearn.metrics import classification_report\n",
    "\n",
    "print(classification_report(test_result['y_act'], test_result['y_pred']))"
   ]
  },
  {
   "cell_type": "markdown",
   "metadata": {
    "id": "VWUOKcxDyUxL"
   },
   "source": [
    "<hr>\n",
    "Last update 2022-11-15 by Sumudu Tennakoon\n",
    "\n",
    "<a rel=\"license\" href=\"http://creativecommons.org/licenses/by-nc-sa/4.0/\"><img alt=\"Creative Commons License\" style=\"border-width:0\" src=\"https://i.creativecommons.org/l/by-nc-sa/4.0/88x31.png\" /></a><br />This work is licensed under a <a rel=\"license\" href=\"http://creativecommons.org/licenses/by-nc-sa/4.0/\">Creative Commons Attribution-NonCommercial-ShareAlike 4.0 International License</a>."
   ]
  }
 ],
 "metadata": {
  "colab": {
   "collapsed_sections": [],
   "name": "10-EvaluatingModelPerformance-Classification.ipynb",
   "provenance": []
  },
  "kernelspec": {
   "display_name": "Python 3.9.4 64-bit",
   "language": "python",
   "name": "python3"
  },
  "language_info": {
   "codemirror_mode": {
    "name": "ipython",
    "version": 3
   },
   "file_extension": ".py",
   "mimetype": "text/x-python",
   "name": "python",
   "nbconvert_exporter": "python",
   "pygments_lexer": "ipython3",
   "version": "3.9.4"
  },
  "vscode": {
   "interpreter": {
    "hash": "6a5054f080f6f89f8108090c183ad9c7964b362bb8e166d0af3e56ae03939387"
   }
  }
 },
 "nbformat": 4,
 "nbformat_minor": 1
}
