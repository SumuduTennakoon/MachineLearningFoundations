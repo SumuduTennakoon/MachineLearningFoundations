{
 "cells": [
  {
   "cell_type": "markdown",
   "metadata": {
    "id": "2ujfzQipoaIn"
   },
   "source": [
    "# Evaluating Model Performance - Classification\n",
    "Sumudu Tennakoon, PhD\n",
    "\n",
    "To learn more about Python, refeer to the following websites\n",
    "\n",
    "* Python : www.python.org\n",
    "\n",
    "To learn more about the Python packages we explore in this notebook, refeer to the following websites\n",
    "\n",
    "* NumPy : www.numpy.org\n",
    "* Matplotlib : www.matplotlib.org\n",
    "* Pandas : https://pandas.pydata.org\n",
    "* Scikit-Learn : https://scikit-learn.org/\n",
    "* Seaborn: https://seaborn.pydata.org/\n",
    "* StatsModel : https://www.statsmodels.org"
   ]
  },
  {
   "cell_type": "code",
   "execution_count": 1,
   "metadata": {
    "id": "v6AQ6dLmo2KJ"
   },
   "outputs": [],
   "source": [
    "import numpy as np\n",
    "import pandas as pd\n",
    "\n",
    "# Data visualization\n",
    "import matplotlib.pyplot as plt\n",
    "from matplotlib import cm # Colomaps\n",
    "import seaborn as sns\n",
    "from sklearn import tree\n",
    "\n",
    "# Classifier algorithms\n",
    "from sklearn.linear_model import LogisticRegression\n",
    "from sklearn.tree import DecisionTreeClassifier\n",
    "from sklearn.ensemble import RandomForestClassifier\n",
    "\n",
    "#train test split\n",
    "from sklearn.model_selection import train_test_split\n",
    "\n",
    "# Model evaluation\n",
    "from sklearn import metrics"
   ]
  },
  {
   "cell_type": "markdown",
   "metadata": {
    "id": "G8tJhrdPo-xc"
   },
   "source": [
    "# Preparing the Dataset"
   ]
  },
  {
   "cell_type": "code",
   "execution_count": 2,
   "metadata": {
    "colab": {
     "base_uri": "https://localhost:8080/",
     "height": 974
    },
    "id": "FzN3kA41ciU-",
    "outputId": "f182c996-aa2e-4d3e-ef51-02ae9827374a"
   },
   "outputs": [
    {
     "data": {
      "text/html": [
       "<div>\n",
       "<style scoped>\n",
       "    .dataframe tbody tr th:only-of-type {\n",
       "        vertical-align: middle;\n",
       "    }\n",
       "\n",
       "    .dataframe tbody tr th {\n",
       "        vertical-align: top;\n",
       "    }\n",
       "\n",
       "    .dataframe thead th {\n",
       "        text-align: right;\n",
       "    }\n",
       "</style>\n",
       "<table border=\"1\" class=\"dataframe\">\n",
       "  <thead>\n",
       "    <tr style=\"text-align: right;\">\n",
       "      <th></th>\n",
       "      <th>Unnamed: 0</th>\n",
       "      <th>age</th>\n",
       "      <th>workclass</th>\n",
       "      <th>fnlwgt</th>\n",
       "      <th>education</th>\n",
       "      <th>education_num</th>\n",
       "      <th>marital_status</th>\n",
       "      <th>occupation</th>\n",
       "      <th>relationship</th>\n",
       "      <th>race</th>\n",
       "      <th>sex</th>\n",
       "      <th>capital_gain</th>\n",
       "      <th>capital_loss</th>\n",
       "      <th>hours_per_week</th>\n",
       "      <th>native_country</th>\n",
       "      <th>class</th>\n",
       "    </tr>\n",
       "  </thead>\n",
       "  <tbody>\n",
       "    <tr>\n",
       "      <th>13078</th>\n",
       "      <td>13082</td>\n",
       "      <td>30</td>\n",
       "      <td>Private</td>\n",
       "      <td>158002</td>\n",
       "      <td>Some-college</td>\n",
       "      <td>10</td>\n",
       "      <td>Never-married</td>\n",
       "      <td>Craft-repair</td>\n",
       "      <td>Other-relative</td>\n",
       "      <td>White</td>\n",
       "      <td>Male</td>\n",
       "      <td>0.0</td>\n",
       "      <td>0.0</td>\n",
       "      <td>55.0</td>\n",
       "      <td>Ecuador</td>\n",
       "      <td>&lt;=50K</td>\n",
       "    </tr>\n",
       "    <tr>\n",
       "      <th>29973</th>\n",
       "      <td>5155</td>\n",
       "      <td>19</td>\n",
       "      <td>Private</td>\n",
       "      <td>202951</td>\n",
       "      <td>Some-college</td>\n",
       "      <td>10</td>\n",
       "      <td>Never-married</td>\n",
       "      <td>Handlers-cleaners</td>\n",
       "      <td>Own-child</td>\n",
       "      <td>White</td>\n",
       "      <td>Male</td>\n",
       "      <td>0.0</td>\n",
       "      <td>0.0</td>\n",
       "      <td>20.0</td>\n",
       "      <td>United-States</td>\n",
       "      <td>&lt;=50K.</td>\n",
       "    </tr>\n",
       "    <tr>\n",
       "      <th>13799</th>\n",
       "      <td>13804</td>\n",
       "      <td>51</td>\n",
       "      <td>Private</td>\n",
       "      <td>220019</td>\n",
       "      <td>Assoc-acdm</td>\n",
       "      <td>12</td>\n",
       "      <td>Divorced</td>\n",
       "      <td>Prof-specialty</td>\n",
       "      <td>Not-in-family</td>\n",
       "      <td>White</td>\n",
       "      <td>Female</td>\n",
       "      <td>0.0</td>\n",
       "      <td>0.0</td>\n",
       "      <td>40.0</td>\n",
       "      <td>United-States</td>\n",
       "      <td>&lt;=50K</td>\n",
       "    </tr>\n",
       "    <tr>\n",
       "      <th>30294</th>\n",
       "      <td>5476</td>\n",
       "      <td>24</td>\n",
       "      <td>?</td>\n",
       "      <td>324469</td>\n",
       "      <td>Some-college</td>\n",
       "      <td>10</td>\n",
       "      <td>Never-married</td>\n",
       "      <td>?</td>\n",
       "      <td>Not-in-family</td>\n",
       "      <td>White</td>\n",
       "      <td>Female</td>\n",
       "      <td>0.0</td>\n",
       "      <td>0.0</td>\n",
       "      <td>38.0</td>\n",
       "      <td>United-States</td>\n",
       "      <td>&lt;=50K.</td>\n",
       "    </tr>\n",
       "    <tr>\n",
       "      <th>9340</th>\n",
       "      <td>9343</td>\n",
       "      <td>20</td>\n",
       "      <td>Private</td>\n",
       "      <td>262749</td>\n",
       "      <td>Some-college</td>\n",
       "      <td>10</td>\n",
       "      <td>Never-married</td>\n",
       "      <td>Other-service</td>\n",
       "      <td>Own-child</td>\n",
       "      <td>White</td>\n",
       "      <td>Male</td>\n",
       "      <td>0.0</td>\n",
       "      <td>0.0</td>\n",
       "      <td>35.0</td>\n",
       "      <td>United-States</td>\n",
       "      <td>&lt;=50K</td>\n",
       "    </tr>\n",
       "    <tr>\n",
       "      <th>10999</th>\n",
       "      <td>11002</td>\n",
       "      <td>25</td>\n",
       "      <td>Private</td>\n",
       "      <td>197036</td>\n",
       "      <td>10th</td>\n",
       "      <td>6</td>\n",
       "      <td>Never-married</td>\n",
       "      <td>Craft-repair</td>\n",
       "      <td>Own-child</td>\n",
       "      <td>White</td>\n",
       "      <td>Male</td>\n",
       "      <td>0.0</td>\n",
       "      <td>0.0</td>\n",
       "      <td>40.0</td>\n",
       "      <td>United-States</td>\n",
       "      <td>&lt;=50K</td>\n",
       "    </tr>\n",
       "    <tr>\n",
       "      <th>39717</th>\n",
       "      <td>14902</td>\n",
       "      <td>26</td>\n",
       "      <td>Private</td>\n",
       "      <td>216225</td>\n",
       "      <td>Assoc-acdm</td>\n",
       "      <td>12</td>\n",
       "      <td>Married-civ-spouse</td>\n",
       "      <td>Sales</td>\n",
       "      <td>Wife</td>\n",
       "      <td>White</td>\n",
       "      <td>Female</td>\n",
       "      <td>0.0</td>\n",
       "      <td>0.0</td>\n",
       "      <td>50.0</td>\n",
       "      <td>United-States</td>\n",
       "      <td>&gt;50K.</td>\n",
       "    </tr>\n",
       "    <tr>\n",
       "      <th>15969</th>\n",
       "      <td>15975</td>\n",
       "      <td>57</td>\n",
       "      <td>Private</td>\n",
       "      <td>32365</td>\n",
       "      <td>Some-college</td>\n",
       "      <td>10</td>\n",
       "      <td>Never-married</td>\n",
       "      <td>Protective-serv</td>\n",
       "      <td>Not-in-family</td>\n",
       "      <td>White</td>\n",
       "      <td>Male</td>\n",
       "      <td>0.0</td>\n",
       "      <td>0.0</td>\n",
       "      <td>40.0</td>\n",
       "      <td>United-States</td>\n",
       "      <td>&lt;=50K</td>\n",
       "    </tr>\n",
       "    <tr>\n",
       "      <th>4228</th>\n",
       "      <td>4228</td>\n",
       "      <td>38</td>\n",
       "      <td>Private</td>\n",
       "      <td>96330</td>\n",
       "      <td>Assoc-voc</td>\n",
       "      <td>11</td>\n",
       "      <td>Divorced</td>\n",
       "      <td>Adm-clerical</td>\n",
       "      <td>Unmarried</td>\n",
       "      <td>Black</td>\n",
       "      <td>Female</td>\n",
       "      <td>0.0</td>\n",
       "      <td>0.0</td>\n",
       "      <td>40.0</td>\n",
       "      <td>United-States</td>\n",
       "      <td>&lt;=50K</td>\n",
       "    </tr>\n",
       "    <tr>\n",
       "      <th>8605</th>\n",
       "      <td>8607</td>\n",
       "      <td>22</td>\n",
       "      <td>?</td>\n",
       "      <td>246386</td>\n",
       "      <td>HS-grad</td>\n",
       "      <td>9</td>\n",
       "      <td>Never-married</td>\n",
       "      <td>?</td>\n",
       "      <td>Unmarried</td>\n",
       "      <td>Black</td>\n",
       "      <td>Female</td>\n",
       "      <td>0.0</td>\n",
       "      <td>0.0</td>\n",
       "      <td>40.0</td>\n",
       "      <td>United-States</td>\n",
       "      <td>&lt;=50K</td>\n",
       "    </tr>\n",
       "    <tr>\n",
       "      <th>12349</th>\n",
       "      <td>12353</td>\n",
       "      <td>27</td>\n",
       "      <td>Private</td>\n",
       "      <td>180758</td>\n",
       "      <td>Assoc-acdm</td>\n",
       "      <td>12</td>\n",
       "      <td>Never-married</td>\n",
       "      <td>Sales</td>\n",
       "      <td>Not-in-family</td>\n",
       "      <td>White</td>\n",
       "      <td>Male</td>\n",
       "      <td>0.0</td>\n",
       "      <td>0.0</td>\n",
       "      <td>40.0</td>\n",
       "      <td>United-States</td>\n",
       "      <td>&lt;=50K</td>\n",
       "    </tr>\n",
       "    <tr>\n",
       "      <th>23960</th>\n",
       "      <td>23975</td>\n",
       "      <td>46</td>\n",
       "      <td>Private</td>\n",
       "      <td>164379</td>\n",
       "      <td>Bachelors</td>\n",
       "      <td>13</td>\n",
       "      <td>Divorced</td>\n",
       "      <td>Sales</td>\n",
       "      <td>Unmarried</td>\n",
       "      <td>Black</td>\n",
       "      <td>Female</td>\n",
       "      <td>0.0</td>\n",
       "      <td>0.0</td>\n",
       "      <td>35.0</td>\n",
       "      <td>United-States</td>\n",
       "      <td>&gt;50K</td>\n",
       "    </tr>\n",
       "    <tr>\n",
       "      <th>38661</th>\n",
       "      <td>13845</td>\n",
       "      <td>45</td>\n",
       "      <td>Private</td>\n",
       "      <td>55272</td>\n",
       "      <td>Assoc-voc</td>\n",
       "      <td>11</td>\n",
       "      <td>Married-civ-spouse</td>\n",
       "      <td>Craft-repair</td>\n",
       "      <td>Husband</td>\n",
       "      <td>White</td>\n",
       "      <td>Male</td>\n",
       "      <td>0.0</td>\n",
       "      <td>0.0</td>\n",
       "      <td>40.0</td>\n",
       "      <td>United-States</td>\n",
       "      <td>&lt;=50K.</td>\n",
       "    </tr>\n",
       "    <tr>\n",
       "      <th>12266</th>\n",
       "      <td>12270</td>\n",
       "      <td>53</td>\n",
       "      <td>Private</td>\n",
       "      <td>224894</td>\n",
       "      <td>5th-6th</td>\n",
       "      <td>3</td>\n",
       "      <td>Married-civ-spouse</td>\n",
       "      <td>Priv-house-serv</td>\n",
       "      <td>Wife</td>\n",
       "      <td>Black</td>\n",
       "      <td>Female</td>\n",
       "      <td>0.0</td>\n",
       "      <td>0.0</td>\n",
       "      <td>10.0</td>\n",
       "      <td>Haiti</td>\n",
       "      <td>&lt;=50K</td>\n",
       "    </tr>\n",
       "    <tr>\n",
       "      <th>2503</th>\n",
       "      <td>2503</td>\n",
       "      <td>52</td>\n",
       "      <td>Private</td>\n",
       "      <td>163027</td>\n",
       "      <td>HS-grad</td>\n",
       "      <td>9</td>\n",
       "      <td>Divorced</td>\n",
       "      <td>Craft-repair</td>\n",
       "      <td>Unmarried</td>\n",
       "      <td>White</td>\n",
       "      <td>Female</td>\n",
       "      <td>0.0</td>\n",
       "      <td>0.0</td>\n",
       "      <td>50.0</td>\n",
       "      <td>United-States</td>\n",
       "      <td>&lt;=50K</td>\n",
       "    </tr>\n",
       "    <tr>\n",
       "      <th>11835</th>\n",
       "      <td>11839</td>\n",
       "      <td>42</td>\n",
       "      <td>Private</td>\n",
       "      <td>193882</td>\n",
       "      <td>Some-college</td>\n",
       "      <td>10</td>\n",
       "      <td>Married-civ-spouse</td>\n",
       "      <td>Prof-specialty</td>\n",
       "      <td>Husband</td>\n",
       "      <td>White</td>\n",
       "      <td>Male</td>\n",
       "      <td>0.0</td>\n",
       "      <td>0.0</td>\n",
       "      <td>40.0</td>\n",
       "      <td>United-States</td>\n",
       "      <td>&gt;50K</td>\n",
       "    </tr>\n",
       "    <tr>\n",
       "      <th>16790</th>\n",
       "      <td>16796</td>\n",
       "      <td>48</td>\n",
       "      <td>Private</td>\n",
       "      <td>83444</td>\n",
       "      <td>Assoc-voc</td>\n",
       "      <td>11</td>\n",
       "      <td>Married-civ-spouse</td>\n",
       "      <td>Exec-managerial</td>\n",
       "      <td>Husband</td>\n",
       "      <td>White</td>\n",
       "      <td>Male</td>\n",
       "      <td>0.0</td>\n",
       "      <td>0.0</td>\n",
       "      <td>43.0</td>\n",
       "      <td>United-States</td>\n",
       "      <td>&gt;50K</td>\n",
       "    </tr>\n",
       "    <tr>\n",
       "      <th>14143</th>\n",
       "      <td>14148</td>\n",
       "      <td>32</td>\n",
       "      <td>Private</td>\n",
       "      <td>396745</td>\n",
       "      <td>Bachelors</td>\n",
       "      <td>13</td>\n",
       "      <td>Married-civ-spouse</td>\n",
       "      <td>Prof-specialty</td>\n",
       "      <td>Husband</td>\n",
       "      <td>White</td>\n",
       "      <td>Male</td>\n",
       "      <td>0.0</td>\n",
       "      <td>2415.0</td>\n",
       "      <td>48.0</td>\n",
       "      <td>United-States</td>\n",
       "      <td>&gt;50K</td>\n",
       "    </tr>\n",
       "    <tr>\n",
       "      <th>27990</th>\n",
       "      <td>3172</td>\n",
       "      <td>22</td>\n",
       "      <td>Private</td>\n",
       "      <td>152744</td>\n",
       "      <td>Some-college</td>\n",
       "      <td>10</td>\n",
       "      <td>Never-married</td>\n",
       "      <td>Adm-clerical</td>\n",
       "      <td>Not-in-family</td>\n",
       "      <td>Asian-Pac-Islander</td>\n",
       "      <td>Female</td>\n",
       "      <td>0.0</td>\n",
       "      <td>0.0</td>\n",
       "      <td>10.0</td>\n",
       "      <td>United-States</td>\n",
       "      <td>&lt;=50K.</td>\n",
       "    </tr>\n",
       "    <tr>\n",
       "      <th>39471</th>\n",
       "      <td>14656</td>\n",
       "      <td>58</td>\n",
       "      <td>?</td>\n",
       "      <td>129632</td>\n",
       "      <td>HS-grad</td>\n",
       "      <td>9</td>\n",
       "      <td>Never-married</td>\n",
       "      <td>?</td>\n",
       "      <td>Not-in-family</td>\n",
       "      <td>White</td>\n",
       "      <td>Female</td>\n",
       "      <td>0.0</td>\n",
       "      <td>0.0</td>\n",
       "      <td>4.0</td>\n",
       "      <td>United-States</td>\n",
       "      <td>&lt;=50K.</td>\n",
       "    </tr>\n",
       "  </tbody>\n",
       "</table>\n",
       "</div>"
      ],
      "text/plain": [
       "       Unnamed: 0  age workclass  ...  hours_per_week  native_country    class\n",
       "13078       13082   30   Private  ...            55.0         Ecuador    <=50K\n",
       "29973        5155   19   Private  ...            20.0   United-States   <=50K.\n",
       "13799       13804   51   Private  ...            40.0   United-States    <=50K\n",
       "30294        5476   24         ?  ...            38.0   United-States   <=50K.\n",
       "9340         9343   20   Private  ...            35.0   United-States    <=50K\n",
       "10999       11002   25   Private  ...            40.0   United-States    <=50K\n",
       "39717       14902   26   Private  ...            50.0   United-States    >50K.\n",
       "15969       15975   57   Private  ...            40.0   United-States    <=50K\n",
       "4228         4228   38   Private  ...            40.0   United-States    <=50K\n",
       "8605         8607   22         ?  ...            40.0   United-States    <=50K\n",
       "12349       12353   27   Private  ...            40.0   United-States    <=50K\n",
       "23960       23975   46   Private  ...            35.0   United-States     >50K\n",
       "38661       13845   45   Private  ...            40.0   United-States   <=50K.\n",
       "12266       12270   53   Private  ...            10.0           Haiti    <=50K\n",
       "2503         2503   52   Private  ...            50.0   United-States    <=50K\n",
       "11835       11839   42   Private  ...            40.0   United-States     >50K\n",
       "16790       16796   48   Private  ...            43.0   United-States     >50K\n",
       "14143       14148   32   Private  ...            48.0   United-States     >50K\n",
       "27990        3172   22   Private  ...            10.0   United-States   <=50K.\n",
       "39471       14656   58         ?  ...             4.0   United-States   <=50K.\n",
       "\n",
       "[20 rows x 16 columns]"
      ]
     },
     "execution_count": 2,
     "metadata": {},
     "output_type": "execute_result"
    }
   ],
   "source": [
    "file_name = 'https://raw.githubusercontent.com/SumuduTennakoon/MLFoundations/main/Datasets/income_data.csv'\n",
    "\n",
    "# Load CSV File\n",
    "data = pd.read_csv(file_name)\n",
    "data.sample(20)"
   ]
  },
  {
   "cell_type": "code",
   "execution_count": 3,
   "metadata": {
    "id": "2Nlksu80ciif"
   },
   "outputs": [],
   "source": [
    "data.drop(labels='Unnamed: 0', axis=1, inplace=True)"
   ]
  },
  {
   "cell_type": "code",
   "execution_count": 4,
   "metadata": {
    "id": "TJAd1eoEcim_"
   },
   "outputs": [],
   "source": [
    "data.dropna(how='any', axis=0, inplace=True)"
   ]
  },
  {
   "cell_type": "code",
   "execution_count": 5,
   "metadata": {
    "id": "Iq0Qjldjciqt"
   },
   "outputs": [],
   "source": [
    "data['class'].replace(' >50K.', ' >50K')\n",
    "data['class'].replace(' <=50K.', ' <=50K')\n",
    "data['y_act'] = np.where(data['class']==' >50K',1,0)"
   ]
  },
  {
   "cell_type": "code",
   "execution_count": 6,
   "metadata": {
    "colab": {
     "base_uri": "https://localhost:8080/",
     "height": 363
    },
    "id": "kRhPT6U7dJbi",
    "outputId": "28374879-fdfa-447f-82bb-b393375847d4"
   },
   "outputs": [
    {
     "data": {
      "text/html": [
       "<div>\n",
       "<style scoped>\n",
       "    .dataframe tbody tr th:only-of-type {\n",
       "        vertical-align: middle;\n",
       "    }\n",
       "\n",
       "    .dataframe tbody tr th {\n",
       "        vertical-align: top;\n",
       "    }\n",
       "\n",
       "    .dataframe thead th {\n",
       "        text-align: right;\n",
       "    }\n",
       "</style>\n",
       "<table border=\"1\" class=\"dataframe\">\n",
       "  <thead>\n",
       "    <tr style=\"text-align: right;\">\n",
       "      <th></th>\n",
       "      <th>class</th>\n",
       "      <th>y_act</th>\n",
       "    </tr>\n",
       "  </thead>\n",
       "  <tbody>\n",
       "    <tr>\n",
       "      <th>9254</th>\n",
       "      <td>&lt;=50K</td>\n",
       "      <td>0</td>\n",
       "    </tr>\n",
       "    <tr>\n",
       "      <th>2183</th>\n",
       "      <td>&lt;=50K</td>\n",
       "      <td>0</td>\n",
       "    </tr>\n",
       "    <tr>\n",
       "      <th>27958</th>\n",
       "      <td>&lt;=50K.</td>\n",
       "      <td>0</td>\n",
       "    </tr>\n",
       "    <tr>\n",
       "      <th>24964</th>\n",
       "      <td>&lt;=50K.</td>\n",
       "      <td>0</td>\n",
       "    </tr>\n",
       "    <tr>\n",
       "      <th>8169</th>\n",
       "      <td>&lt;=50K</td>\n",
       "      <td>0</td>\n",
       "    </tr>\n",
       "    <tr>\n",
       "      <th>39412</th>\n",
       "      <td>&lt;=50K.</td>\n",
       "      <td>0</td>\n",
       "    </tr>\n",
       "    <tr>\n",
       "      <th>36957</th>\n",
       "      <td>&lt;=50K.</td>\n",
       "      <td>0</td>\n",
       "    </tr>\n",
       "    <tr>\n",
       "      <th>28987</th>\n",
       "      <td>&lt;=50K.</td>\n",
       "      <td>0</td>\n",
       "    </tr>\n",
       "    <tr>\n",
       "      <th>40258</th>\n",
       "      <td>&lt;=50K.</td>\n",
       "      <td>0</td>\n",
       "    </tr>\n",
       "    <tr>\n",
       "      <th>31538</th>\n",
       "      <td>&lt;=50K.</td>\n",
       "      <td>0</td>\n",
       "    </tr>\n",
       "  </tbody>\n",
       "</table>\n",
       "</div>"
      ],
      "text/plain": [
       "         class  y_act\n",
       "9254     <=50K      0\n",
       "2183     <=50K      0\n",
       "27958   <=50K.      0\n",
       "24964   <=50K.      0\n",
       "8169     <=50K      0\n",
       "39412   <=50K.      0\n",
       "36957   <=50K.      0\n",
       "28987   <=50K.      0\n",
       "40258   <=50K.      0\n",
       "31538   <=50K.      0"
      ]
     },
     "execution_count": 6,
     "metadata": {},
     "output_type": "execute_result"
    }
   ],
   "source": [
    "data[['class', 'y_act']].sample(10)"
   ]
  },
  {
   "cell_type": "code",
   "execution_count": 7,
   "metadata": {
    "colab": {
     "base_uri": "https://localhost:8080/"
    },
    "id": "MdigwT1ldJeU",
    "outputId": "36849a8d-ac1a-4b93-87f3-0045d107221a"
   },
   "outputs": [
    {
     "data": {
      "text/plain": [
       "class    y_act\n",
       " <=50K   0        18867\n",
       " <=50K.  0        12430\n",
       " >50K    1         5951\n",
       " >50K.   0         3846\n",
       "dtype: int64"
      ]
     },
     "execution_count": 7,
     "metadata": {},
     "output_type": "execute_result"
    }
   ],
   "source": [
    "data[['class', 'y_act']].value_counts()"
   ]
  },
  {
   "cell_type": "code",
   "execution_count": 8,
   "metadata": {
    "colab": {
     "base_uri": "https://localhost:8080/",
     "height": 206
    },
    "id": "5KEKXbiBdJg-",
    "outputId": "99153302-b294-4a28-8e7d-c476281dfc9f"
   },
   "outputs": [
    {
     "data": {
      "text/html": [
       "<div>\n",
       "<style scoped>\n",
       "    .dataframe tbody tr th:only-of-type {\n",
       "        vertical-align: middle;\n",
       "    }\n",
       "\n",
       "    .dataframe tbody tr th {\n",
       "        vertical-align: top;\n",
       "    }\n",
       "\n",
       "    .dataframe thead th {\n",
       "        text-align: right;\n",
       "    }\n",
       "</style>\n",
       "<table border=\"1\" class=\"dataframe\">\n",
       "  <thead>\n",
       "    <tr style=\"text-align: right;\">\n",
       "      <th></th>\n",
       "      <th>age</th>\n",
       "      <th>hours_per_week</th>\n",
       "      <th>education_num</th>\n",
       "    </tr>\n",
       "  </thead>\n",
       "  <tbody>\n",
       "    <tr>\n",
       "      <th>0</th>\n",
       "      <td>39</td>\n",
       "      <td>40.0</td>\n",
       "      <td>13</td>\n",
       "    </tr>\n",
       "    <tr>\n",
       "      <th>1</th>\n",
       "      <td>50</td>\n",
       "      <td>13.0</td>\n",
       "      <td>13</td>\n",
       "    </tr>\n",
       "    <tr>\n",
       "      <th>2</th>\n",
       "      <td>38</td>\n",
       "      <td>40.0</td>\n",
       "      <td>9</td>\n",
       "    </tr>\n",
       "    <tr>\n",
       "      <th>3</th>\n",
       "      <td>53</td>\n",
       "      <td>40.0</td>\n",
       "      <td>7</td>\n",
       "    </tr>\n",
       "    <tr>\n",
       "      <th>4</th>\n",
       "      <td>28</td>\n",
       "      <td>40.0</td>\n",
       "      <td>13</td>\n",
       "    </tr>\n",
       "  </tbody>\n",
       "</table>\n",
       "</div>"
      ],
      "text/plain": [
       "   age  hours_per_week  education_num\n",
       "0   39            40.0             13\n",
       "1   50            13.0             13\n",
       "2   38            40.0              9\n",
       "3   53            40.0              7\n",
       "4   28            40.0             13"
      ]
     },
     "execution_count": 8,
     "metadata": {},
     "output_type": "execute_result"
    }
   ],
   "source": [
    "X_variables = ['age',  'hours_per_week', 'education_num']\n",
    "data[X_variables].head()"
   ]
  },
  {
   "cell_type": "code",
   "execution_count": 9,
   "metadata": {
    "colab": {
     "base_uri": "https://localhost:8080/"
    },
    "id": "kB4itMqLdcHA",
    "outputId": "6af00606-a226-405c-e631-916f2fdef871"
   },
   "outputs": [
    {
     "data": {
      "text/plain": [
       "0    0\n",
       "1    0\n",
       "2    0\n",
       "3    0\n",
       "4    0\n",
       "Name: y_act, dtype: int64"
      ]
     },
     "execution_count": 9,
     "metadata": {},
     "output_type": "execute_result"
    }
   ],
   "source": [
    "y_varibale = 'y_act'\n",
    "data[y_varibale].head()"
   ]
  },
  {
   "cell_type": "code",
   "execution_count": 10,
   "metadata": {
    "colab": {
     "base_uri": "https://localhost:8080/"
    },
    "id": "nFXSOGGCdcKj",
    "outputId": "d6b5f582-4eee-442a-80e6-7d1905f08965"
   },
   "outputs": [
    {
     "data": {
      "text/plain": [
       "array([[39., 40., 13.],\n",
       "       [50., 13., 13.],\n",
       "       [38., 40.,  9.],\n",
       "       ...,\n",
       "       [38., 50., 13.],\n",
       "       [44., 40., 13.],\n",
       "       [35., 60., 13.]])"
      ]
     },
     "execution_count": 10,
     "metadata": {},
     "output_type": "execute_result"
    }
   ],
   "source": [
    "X = data[X_variables].values\n",
    "X"
   ]
  },
  {
   "cell_type": "code",
   "execution_count": 11,
   "metadata": {
    "colab": {
     "base_uri": "https://localhost:8080/"
    },
    "id": "ieVyBjuvdlXN",
    "outputId": "3369e7f2-f61a-4a83-9f26-921f8a054463"
   },
   "outputs": [
    {
     "data": {
      "text/plain": [
       "array([0, 0, 0, ..., 0, 0, 0])"
      ]
     },
     "execution_count": 11,
     "metadata": {},
     "output_type": "execute_result"
    }
   ],
   "source": [
    "y = data[y_varibale].values\n",
    "y"
   ]
  },
  {
   "cell_type": "code",
   "execution_count": 12,
   "metadata": {
    "colab": {
     "base_uri": "https://localhost:8080/"
    },
    "id": "ZExl7B8bdpCS",
    "outputId": "4b0cd346-ecde-4dca-80d8-5415726a1a89"
   },
   "outputs": [
    {
     "name": "stdout",
     "output_type": "stream",
     "text": [
      "Train sample size = 28765\n",
      "Test sample size  = 12329\n"
     ]
    }
   ],
   "source": [
    "X_train, X_test, y_train, y_test = train_test_split(X, y, test_size=0.3, random_state=42)\n",
    "\n",
    "print(F\"Train sample size = {len(X_train)}\")\n",
    "print(F\"Test sample size  = {len(X_test)}\")"
   ]
  },
  {
   "cell_type": "markdown",
   "metadata": {
    "id": "ggbm7gyUYOLQ"
   },
   "source": [
    "## Create Logistic Regression Model\n",
    "* https://en.wikipedia.org/wiki/Logistic_regression\n",
    "* https://scikit-learn.org/stable/modules/generated/sklearn.linear_model.LogisticRegression.html"
   ]
  },
  {
   "cell_type": "code",
   "execution_count": 13,
   "metadata": {
    "colab": {
     "base_uri": "https://localhost:8080/"
    },
    "id": "0R1tMzJwkiYK",
    "outputId": "877111fc-59b9-4512-89a4-b15191b6f7d7"
   },
   "outputs": [
    {
     "data": {
      "text/plain": [
       "LogisticRegression(C=1.0, class_weight=None, dual=False, fit_intercept=True,\n",
       "                   intercept_scaling=1, l1_ratio=None, max_iter=100,\n",
       "                   multi_class='auto', n_jobs=None, penalty='l2',\n",
       "                   random_state=None, solver='lbfgs', tol=0.0001, verbose=0,\n",
       "                   warm_start=False)"
      ]
     },
     "execution_count": 13,
     "metadata": {},
     "output_type": "execute_result"
    }
   ],
   "source": [
    "# Create model object\n",
    "model = LogisticRegression()\n",
    "\n",
    "# Train Model\n",
    "model.fit(X_train, y_train)"
   ]
  },
  {
   "cell_type": "code",
   "execution_count": 14,
   "metadata": {
    "colab": {
     "base_uri": "https://localhost:8080/"
    },
    "id": "4jKtGR9_q7PW",
    "outputId": "e61ce146-6096-413d-e3e2-af340f68c925"
   },
   "outputs": [
    {
     "data": {
      "text/plain": [
       "array([[0.93424867, 0.06575133],\n",
       "       [0.91225889, 0.08774111],\n",
       "       [0.93501622, 0.06498378],\n",
       "       [0.94900601, 0.05099399],\n",
       "       [0.86769506, 0.13230494]])"
      ]
     },
     "execution_count": 14,
     "metadata": {},
     "output_type": "execute_result"
    }
   ],
   "source": [
    "# Predict Probability\n",
    "model.predict_proba(X_test)[:5]"
   ]
  },
  {
   "cell_type": "code",
   "execution_count": 15,
   "metadata": {
    "colab": {
     "base_uri": "https://localhost:8080/"
    },
    "id": "CnOkpQ9Eq7Tx",
    "outputId": "e08da11a-ed27-49a7-a4ed-3ecef8c5f413"
   },
   "outputs": [
    {
     "data": {
      "text/plain": [
       "array([0, 0, 0, 0, 0])"
      ]
     },
     "execution_count": 15,
     "metadata": {},
     "output_type": "execute_result"
    }
   ],
   "source": [
    "# Predict Class\n",
    "model.predict(X_test)[:5]"
   ]
  },
  {
   "cell_type": "code",
   "execution_count": 16,
   "metadata": {
    "colab": {
     "base_uri": "https://localhost:8080/",
     "height": 206
    },
    "id": "xK9v9fIgrJSR",
    "outputId": "790fd921-d053-4494-ca91-51b809564c02"
   },
   "outputs": [
    {
     "data": {
      "text/html": [
       "<div>\n",
       "<style scoped>\n",
       "    .dataframe tbody tr th:only-of-type {\n",
       "        vertical-align: middle;\n",
       "    }\n",
       "\n",
       "    .dataframe tbody tr th {\n",
       "        vertical-align: top;\n",
       "    }\n",
       "\n",
       "    .dataframe thead th {\n",
       "        text-align: right;\n",
       "    }\n",
       "</style>\n",
       "<table border=\"1\" class=\"dataframe\">\n",
       "  <thead>\n",
       "    <tr style=\"text-align: right;\">\n",
       "      <th></th>\n",
       "      <th>y_act</th>\n",
       "      <th>y_pred</th>\n",
       "      <th>y_pred_prob</th>\n",
       "    </tr>\n",
       "  </thead>\n",
       "  <tbody>\n",
       "    <tr>\n",
       "      <th>7397</th>\n",
       "      <td>0</td>\n",
       "      <td>0</td>\n",
       "      <td>0.079319</td>\n",
       "    </tr>\n",
       "    <tr>\n",
       "      <th>11721</th>\n",
       "      <td>0</td>\n",
       "      <td>0</td>\n",
       "      <td>0.064984</td>\n",
       "    </tr>\n",
       "    <tr>\n",
       "      <th>413</th>\n",
       "      <td>1</td>\n",
       "      <td>0</td>\n",
       "      <td>0.118628</td>\n",
       "    </tr>\n",
       "    <tr>\n",
       "      <th>3537</th>\n",
       "      <td>0</td>\n",
       "      <td>0</td>\n",
       "      <td>0.094484</td>\n",
       "    </tr>\n",
       "    <tr>\n",
       "      <th>6999</th>\n",
       "      <td>0</td>\n",
       "      <td>0</td>\n",
       "      <td>0.032679</td>\n",
       "    </tr>\n",
       "  </tbody>\n",
       "</table>\n",
       "</div>"
      ],
      "text/plain": [
       "       y_act  y_pred  y_pred_prob\n",
       "7397       0       0     0.079319\n",
       "11721      0       0     0.064984\n",
       "413        1       0     0.118628\n",
       "3537       0       0     0.094484\n",
       "6999       0       0     0.032679"
      ]
     },
     "execution_count": 16,
     "metadata": {},
     "output_type": "execute_result"
    }
   ],
   "source": [
    "# Predict on Testing Data\n",
    "\n",
    "# probabilities\n",
    "y_pred_prob = model.predict_proba(X_test)[:, 1]\n",
    "\n",
    "# Prediction\n",
    "y_pred = model.predict(X_test)\n",
    "\n",
    "# Results table\n",
    "test_result = pd.DataFrame(data={'y_act':y_test, 'y_pred':y_pred, 'y_pred_prob':y_pred_prob})\n",
    "test_result.sample(5)"
   ]
  },
  {
   "cell_type": "code",
   "execution_count": 17,
   "metadata": {
    "colab": {
     "base_uri": "https://localhost:8080/",
     "height": 175
    },
    "id": "HLC-ka8kr4jv",
    "outputId": "ecba306a-9da0-4a4c-b952-2d8b8b0654b9"
   },
   "outputs": [
    {
     "data": {
      "text/html": [
       "<div>\n",
       "<style scoped>\n",
       "    .dataframe tbody tr th:only-of-type {\n",
       "        vertical-align: middle;\n",
       "    }\n",
       "\n",
       "    .dataframe tbody tr th {\n",
       "        vertical-align: top;\n",
       "    }\n",
       "\n",
       "    .dataframe thead th {\n",
       "        text-align: right;\n",
       "    }\n",
       "</style>\n",
       "<table border=\"1\" class=\"dataframe\">\n",
       "  <thead>\n",
       "    <tr style=\"text-align: right;\">\n",
       "      <th>y_pred</th>\n",
       "      <th>0</th>\n",
       "      <th>1</th>\n",
       "      <th>All</th>\n",
       "    </tr>\n",
       "    <tr>\n",
       "      <th>y_act</th>\n",
       "      <th></th>\n",
       "      <th></th>\n",
       "      <th></th>\n",
       "    </tr>\n",
       "  </thead>\n",
       "  <tbody>\n",
       "    <tr>\n",
       "      <th>0</th>\n",
       "      <td>10402</td>\n",
       "      <td>121</td>\n",
       "      <td>10523</td>\n",
       "    </tr>\n",
       "    <tr>\n",
       "      <th>1</th>\n",
       "      <td>1691</td>\n",
       "      <td>115</td>\n",
       "      <td>1806</td>\n",
       "    </tr>\n",
       "    <tr>\n",
       "      <th>All</th>\n",
       "      <td>12093</td>\n",
       "      <td>236</td>\n",
       "      <td>12329</td>\n",
       "    </tr>\n",
       "  </tbody>\n",
       "</table>\n",
       "</div>"
      ],
      "text/plain": [
       "y_pred      0    1    All\n",
       "y_act                    \n",
       "0       10402  121  10523\n",
       "1        1691  115   1806\n",
       "All     12093  236  12329"
      ]
     },
     "execution_count": 17,
     "metadata": {},
     "output_type": "execute_result"
    }
   ],
   "source": [
    "cfm = pd.crosstab(test_result['y_act'], test_result['y_pred'], margins=True)\n",
    "cfm"
   ]
  },
  {
   "cell_type": "code",
   "execution_count": 18,
   "metadata": {
    "colab": {
     "base_uri": "https://localhost:8080/"
    },
    "id": "ANePESJBr4j1",
    "outputId": "74597e4a-af9a-4477-8bdd-035369e12f1a"
   },
   "outputs": [
    {
     "data": {
      "text/plain": [
       "0.853029442777192"
      ]
     },
     "execution_count": 18,
     "metadata": {},
     "output_type": "execute_result"
    }
   ],
   "source": [
    "acuracy_lgr = metrics.accuracy_score(test_result['y_act'], test_result['y_pred']) \n",
    "acuracy_lgr"
   ]
  },
  {
   "cell_type": "code",
   "execution_count": 19,
   "metadata": {
    "colab": {
     "base_uri": "https://localhost:8080/"
    },
    "id": "IcUDKAMlr4j6",
    "outputId": "908cc013-e69f-4788-e122-84fa3227a702"
   },
   "outputs": [
    {
     "data": {
      "text/plain": [
       "0.4872881355932203"
      ]
     },
     "execution_count": 19,
     "metadata": {},
     "output_type": "execute_result"
    }
   ],
   "source": [
    "# https://scikit-learn.org/stable/modules/generated/sklearn.metrics.precision_score.html#sklearn.metrics.precision_score\n",
    "precision_lgr = metrics.precision_score(test_result['y_act'], test_result['y_pred'], average='binary', pos_label=1)\n",
    "precision_lgr"
   ]
  },
  {
   "cell_type": "code",
   "execution_count": 20,
   "metadata": {
    "colab": {
     "base_uri": "https://localhost:8080/"
    },
    "id": "GzPtgyu2r4j_",
    "outputId": "53064525-25ee-402e-9de5-62c3044fcbdb"
   },
   "outputs": [
    {
     "data": {
      "text/plain": [
       "0.8016313268286415"
      ]
     },
     "execution_count": 20,
     "metadata": {},
     "output_type": "execute_result"
    }
   ],
   "source": [
    "f1_score_lgr = metrics.f1_score(test_result['y_act'], test_result['y_pred'], average='weighted')  #weighted accounts for label imbalance.\n",
    "f1_score_lgr"
   ]
  },
  {
   "cell_type": "markdown",
   "metadata": {
    "id": "FkwdY7ilvy9j"
   },
   "source": [
    "# Decision Tree Classifier\n",
    "* Use same training and testing datasets"
   ]
  },
  {
   "cell_type": "code",
   "execution_count": 21,
   "metadata": {
    "colab": {
     "base_uri": "https://localhost:8080/"
    },
    "id": "mI0z3cmCwHR6",
    "outputId": "dadb9b96-273c-4fb6-fe68-c966a92a760f"
   },
   "outputs": [
    {
     "data": {
      "text/plain": [
       "DecisionTreeClassifier(ccp_alpha=0.0, class_weight=None, criterion='gini',\n",
       "                       max_depth=10, max_features=None, max_leaf_nodes=None,\n",
       "                       min_impurity_decrease=0.0, min_impurity_split=None,\n",
       "                       min_samples_leaf=1, min_samples_split=20,\n",
       "                       min_weight_fraction_leaf=0.0, presort='deprecated',\n",
       "                       random_state=0, splitter='best')"
      ]
     },
     "execution_count": 21,
     "metadata": {},
     "output_type": "execute_result"
    }
   ],
   "source": [
    "# Create model object\n",
    "model = DecisionTreeClassifier(random_state=0, max_depth=10, min_samples_split=20)\n",
    "\n",
    "# Train Model\n",
    "model.fit(X_train, y_train)"
   ]
  },
  {
   "cell_type": "code",
   "execution_count": 22,
   "metadata": {
    "colab": {
     "base_uri": "https://localhost:8080/",
     "height": 206
    },
    "id": "bDhPL8DhsjQ6",
    "outputId": "b09427ae-068d-4cfa-d39b-e20f4e080159"
   },
   "outputs": [
    {
     "data": {
      "text/html": [
       "<div>\n",
       "<style scoped>\n",
       "    .dataframe tbody tr th:only-of-type {\n",
       "        vertical-align: middle;\n",
       "    }\n",
       "\n",
       "    .dataframe tbody tr th {\n",
       "        vertical-align: top;\n",
       "    }\n",
       "\n",
       "    .dataframe thead th {\n",
       "        text-align: right;\n",
       "    }\n",
       "</style>\n",
       "<table border=\"1\" class=\"dataframe\">\n",
       "  <thead>\n",
       "    <tr style=\"text-align: right;\">\n",
       "      <th></th>\n",
       "      <th>y_act</th>\n",
       "      <th>y_pred</th>\n",
       "      <th>y_pred_prob</th>\n",
       "    </tr>\n",
       "  </thead>\n",
       "  <tbody>\n",
       "    <tr>\n",
       "      <th>89</th>\n",
       "      <td>0</td>\n",
       "      <td>0</td>\n",
       "      <td>0.114894</td>\n",
       "    </tr>\n",
       "    <tr>\n",
       "      <th>7966</th>\n",
       "      <td>0</td>\n",
       "      <td>0</td>\n",
       "      <td>0.167785</td>\n",
       "    </tr>\n",
       "    <tr>\n",
       "      <th>1458</th>\n",
       "      <td>0</td>\n",
       "      <td>0</td>\n",
       "      <td>0.093385</td>\n",
       "    </tr>\n",
       "    <tr>\n",
       "      <th>3044</th>\n",
       "      <td>0</td>\n",
       "      <td>0</td>\n",
       "      <td>0.194595</td>\n",
       "    </tr>\n",
       "    <tr>\n",
       "      <th>10711</th>\n",
       "      <td>0</td>\n",
       "      <td>0</td>\n",
       "      <td>0.114754</td>\n",
       "    </tr>\n",
       "  </tbody>\n",
       "</table>\n",
       "</div>"
      ],
      "text/plain": [
       "       y_act  y_pred  y_pred_prob\n",
       "89         0       0     0.114894\n",
       "7966       0       0     0.167785\n",
       "1458       0       0     0.093385\n",
       "3044       0       0     0.194595\n",
       "10711      0       0     0.114754"
      ]
     },
     "execution_count": 22,
     "metadata": {},
     "output_type": "execute_result"
    }
   ],
   "source": [
    "# Predict on Testing Data\n",
    "\n",
    "# probabilities\n",
    "y_pred_prob = model.predict_proba(X_test)[:, 1]\n",
    "\n",
    "# Prediction\n",
    "y_pred = model.predict(X_test)\n",
    "\n",
    "# Results table\n",
    "test_result = pd.DataFrame(data={'y_act':y_test, 'y_pred':y_pred, 'y_pred_prob':y_pred_prob})\n",
    "test_result.sample(5)"
   ]
  },
  {
   "cell_type": "code",
   "execution_count": 23,
   "metadata": {
    "colab": {
     "base_uri": "https://localhost:8080/",
     "height": 175
    },
    "id": "OSbZilTqsjQ7",
    "outputId": "0de6d8d0-5bc1-4b36-b4fc-3302be73fa35"
   },
   "outputs": [
    {
     "data": {
      "text/html": [
       "<div>\n",
       "<style scoped>\n",
       "    .dataframe tbody tr th:only-of-type {\n",
       "        vertical-align: middle;\n",
       "    }\n",
       "\n",
       "    .dataframe tbody tr th {\n",
       "        vertical-align: top;\n",
       "    }\n",
       "\n",
       "    .dataframe thead th {\n",
       "        text-align: right;\n",
       "    }\n",
       "</style>\n",
       "<table border=\"1\" class=\"dataframe\">\n",
       "  <thead>\n",
       "    <tr style=\"text-align: right;\">\n",
       "      <th>y_pred</th>\n",
       "      <th>0</th>\n",
       "      <th>1</th>\n",
       "      <th>All</th>\n",
       "    </tr>\n",
       "    <tr>\n",
       "      <th>y_act</th>\n",
       "      <th></th>\n",
       "      <th></th>\n",
       "      <th></th>\n",
       "    </tr>\n",
       "  </thead>\n",
       "  <tbody>\n",
       "    <tr>\n",
       "      <th>0</th>\n",
       "      <td>10400</td>\n",
       "      <td>123</td>\n",
       "      <td>10523</td>\n",
       "    </tr>\n",
       "    <tr>\n",
       "      <th>1</th>\n",
       "      <td>1702</td>\n",
       "      <td>104</td>\n",
       "      <td>1806</td>\n",
       "    </tr>\n",
       "    <tr>\n",
       "      <th>All</th>\n",
       "      <td>12102</td>\n",
       "      <td>227</td>\n",
       "      <td>12329</td>\n",
       "    </tr>\n",
       "  </tbody>\n",
       "</table>\n",
       "</div>"
      ],
      "text/plain": [
       "y_pred      0    1    All\n",
       "y_act                    \n",
       "0       10400  123  10523\n",
       "1        1702  104   1806\n",
       "All     12102  227  12329"
      ]
     },
     "execution_count": 23,
     "metadata": {},
     "output_type": "execute_result"
    }
   ],
   "source": [
    "cfm = pd.crosstab(test_result['y_act'], test_result['y_pred'], margins=True)\n",
    "cfm"
   ]
  },
  {
   "cell_type": "code",
   "execution_count": 24,
   "metadata": {
    "colab": {
     "base_uri": "https://localhost:8080/"
    },
    "id": "gvBs2pX_sjQ8",
    "outputId": "2fa310b3-6f1b-45ed-8e23-c2ba7e0d37b5"
   },
   "outputs": [
    {
     "data": {
      "text/plain": [
       "0.8519750182496553"
      ]
     },
     "execution_count": 24,
     "metadata": {},
     "output_type": "execute_result"
    }
   ],
   "source": [
    "acuracy_tc = metrics.accuracy_score(test_result['y_act'], test_result['y_pred']) \n",
    "acuracy_tc"
   ]
  },
  {
   "cell_type": "code",
   "execution_count": 25,
   "metadata": {
    "colab": {
     "base_uri": "https://localhost:8080/"
    },
    "id": "5jB0KykFsjQ9",
    "outputId": "0ab4cb71-6e1f-4398-a560-4829878ec9b8"
   },
   "outputs": [
    {
     "data": {
      "text/plain": [
       "0.4581497797356828"
      ]
     },
     "execution_count": 25,
     "metadata": {},
     "output_type": "execute_result"
    }
   ],
   "source": [
    "# https://scikit-learn.org/stable/modules/generated/sklearn.metrics.precision_score.html#sklearn.metrics.precision_score\n",
    "precision_tc = metrics.precision_score(test_result['y_act'], test_result['y_pred'], average='binary', pos_label=1)\n",
    "precision_tc"
   ]
  },
  {
   "cell_type": "code",
   "execution_count": 26,
   "metadata": {
    "colab": {
     "base_uri": "https://localhost:8080/"
    },
    "id": "d5GYfQTIsjQ9",
    "outputId": "e822ab38-2b59-46f6-df90-aecdf59291e2"
   },
   "outputs": [
    {
     "data": {
      "text/plain": [
       "0.7996559846268982"
      ]
     },
     "execution_count": 26,
     "metadata": {},
     "output_type": "execute_result"
    }
   ],
   "source": [
    "f1_score_tc = metrics.f1_score(test_result['y_act'], test_result['y_pred'], average='weighted')  #weighted accounts for label imbalance.\n",
    "f1_score_tc"
   ]
  },
  {
   "cell_type": "markdown",
   "metadata": {
    "id": "XvyUl1NxlqkG"
   },
   "source": [
    "# Random Forest Classifier\n",
    "* https://en.wikipedia.org/wiki/Random_forest\n",
    "* https://scikit-learn.org/stable/modules/generated/sklearn.ensemble.RandomForestClassifier.html"
   ]
  },
  {
   "cell_type": "code",
   "execution_count": 27,
   "metadata": {
    "colab": {
     "base_uri": "https://localhost:8080/"
    },
    "id": "D57GUQc0gnyT",
    "outputId": "2923815b-cc43-4774-931a-25d1fef25648"
   },
   "outputs": [
    {
     "data": {
      "text/plain": [
       "RandomForestClassifier(bootstrap=True, ccp_alpha=0.0, class_weight=None,\n",
       "                       criterion='gini', max_depth=None, max_features='auto',\n",
       "                       max_leaf_nodes=None, max_samples=None,\n",
       "                       min_impurity_decrease=0.0, min_impurity_split=None,\n",
       "                       min_samples_leaf=1, min_samples_split=2,\n",
       "                       min_weight_fraction_leaf=0.0, n_estimators=500,\n",
       "                       n_jobs=None, oob_score=False, random_state=None,\n",
       "                       verbose=0, warm_start=False)"
      ]
     },
     "execution_count": 27,
     "metadata": {},
     "output_type": "execute_result"
    }
   ],
   "source": [
    "# Create model object\n",
    "model = RandomForestClassifier(n_estimators=500)\n",
    "\n",
    "# Train Model\n",
    "model.fit(X_train, y_train)"
   ]
  },
  {
   "cell_type": "code",
   "execution_count": 28,
   "metadata": {
    "colab": {
     "base_uri": "https://localhost:8080/",
     "height": 206
    },
    "id": "zJrBwiLqg_Qb",
    "outputId": "3b32556b-dc58-4ec8-99e6-8c37b7c3826c"
   },
   "outputs": [
    {
     "data": {
      "text/html": [
       "<div>\n",
       "<style scoped>\n",
       "    .dataframe tbody tr th:only-of-type {\n",
       "        vertical-align: middle;\n",
       "    }\n",
       "\n",
       "    .dataframe tbody tr th {\n",
       "        vertical-align: top;\n",
       "    }\n",
       "\n",
       "    .dataframe thead th {\n",
       "        text-align: right;\n",
       "    }\n",
       "</style>\n",
       "<table border=\"1\" class=\"dataframe\">\n",
       "  <thead>\n",
       "    <tr style=\"text-align: right;\">\n",
       "      <th></th>\n",
       "      <th>y_act</th>\n",
       "      <th>y_pred</th>\n",
       "      <th>y_pred_prob</th>\n",
       "    </tr>\n",
       "  </thead>\n",
       "  <tbody>\n",
       "    <tr>\n",
       "      <th>8103</th>\n",
       "      <td>0</td>\n",
       "      <td>0</td>\n",
       "      <td>0.057989</td>\n",
       "    </tr>\n",
       "    <tr>\n",
       "      <th>4527</th>\n",
       "      <td>0</td>\n",
       "      <td>0</td>\n",
       "      <td>0.385205</td>\n",
       "    </tr>\n",
       "    <tr>\n",
       "      <th>6727</th>\n",
       "      <td>0</td>\n",
       "      <td>0</td>\n",
       "      <td>0.000000</td>\n",
       "    </tr>\n",
       "    <tr>\n",
       "      <th>7261</th>\n",
       "      <td>0</td>\n",
       "      <td>0</td>\n",
       "      <td>0.053768</td>\n",
       "    </tr>\n",
       "    <tr>\n",
       "      <th>1401</th>\n",
       "      <td>0</td>\n",
       "      <td>0</td>\n",
       "      <td>0.047950</td>\n",
       "    </tr>\n",
       "  </tbody>\n",
       "</table>\n",
       "</div>"
      ],
      "text/plain": [
       "      y_act  y_pred  y_pred_prob\n",
       "8103      0       0     0.057989\n",
       "4527      0       0     0.385205\n",
       "6727      0       0     0.000000\n",
       "7261      0       0     0.053768\n",
       "1401      0       0     0.047950"
      ]
     },
     "execution_count": 28,
     "metadata": {},
     "output_type": "execute_result"
    }
   ],
   "source": [
    "# Predict on Testing Data\n",
    "\n",
    "# probabilities\n",
    "y_pred_prob = model.predict_proba(X_test)[:, 1]\n",
    "\n",
    "# Prediction\n",
    "y_pred = model.predict(X_test)\n",
    "\n",
    "# Results table\n",
    "test_result = pd.DataFrame(data={'y_act':y_test, 'y_pred':y_pred, 'y_pred_prob':y_pred_prob})\n",
    "test_result.sample(5)"
   ]
  },
  {
   "cell_type": "code",
   "execution_count": 29,
   "metadata": {
    "colab": {
     "base_uri": "https://localhost:8080/",
     "height": 175
    },
    "id": "YJFWS-6BhDBg",
    "outputId": "36a11d92-7e87-49cc-e818-64d4a950458f"
   },
   "outputs": [
    {
     "data": {
      "text/html": [
       "<div>\n",
       "<style scoped>\n",
       "    .dataframe tbody tr th:only-of-type {\n",
       "        vertical-align: middle;\n",
       "    }\n",
       "\n",
       "    .dataframe tbody tr th {\n",
       "        vertical-align: top;\n",
       "    }\n",
       "\n",
       "    .dataframe thead th {\n",
       "        text-align: right;\n",
       "    }\n",
       "</style>\n",
       "<table border=\"1\" class=\"dataframe\">\n",
       "  <thead>\n",
       "    <tr style=\"text-align: right;\">\n",
       "      <th>y_pred</th>\n",
       "      <th>0</th>\n",
       "      <th>1</th>\n",
       "      <th>All</th>\n",
       "    </tr>\n",
       "    <tr>\n",
       "      <th>y_act</th>\n",
       "      <th></th>\n",
       "      <th></th>\n",
       "      <th></th>\n",
       "    </tr>\n",
       "  </thead>\n",
       "  <tbody>\n",
       "    <tr>\n",
       "      <th>0</th>\n",
       "      <td>10162</td>\n",
       "      <td>361</td>\n",
       "      <td>10523</td>\n",
       "    </tr>\n",
       "    <tr>\n",
       "      <th>1</th>\n",
       "      <td>1581</td>\n",
       "      <td>225</td>\n",
       "      <td>1806</td>\n",
       "    </tr>\n",
       "    <tr>\n",
       "      <th>All</th>\n",
       "      <td>11743</td>\n",
       "      <td>586</td>\n",
       "      <td>12329</td>\n",
       "    </tr>\n",
       "  </tbody>\n",
       "</table>\n",
       "</div>"
      ],
      "text/plain": [
       "y_pred      0    1    All\n",
       "y_act                    \n",
       "0       10162  361  10523\n",
       "1        1581  225   1806\n",
       "All     11743  586  12329"
      ]
     },
     "execution_count": 29,
     "metadata": {},
     "output_type": "execute_result"
    }
   ],
   "source": [
    "cfm = pd.crosstab(test_result['y_act'], test_result['y_pred'], margins=True)\n",
    "cfm"
   ]
  },
  {
   "cell_type": "code",
   "execution_count": 30,
   "metadata": {
    "colab": {
     "base_uri": "https://localhost:8080/"
    },
    "id": "uPhLpRLAw7dq",
    "outputId": "34d98baa-304f-4195-d71d-d35e26784d3c"
   },
   "outputs": [
    {
     "data": {
      "text/plain": [
       "0.8424851975018249"
      ]
     },
     "execution_count": 30,
     "metadata": {},
     "output_type": "execute_result"
    }
   ],
   "source": [
    "acuracy_rf = metrics.accuracy_score(test_result['y_act'], test_result['y_pred']) \n",
    "acuracy_rf"
   ]
  },
  {
   "cell_type": "code",
   "execution_count": 31,
   "metadata": {
    "colab": {
     "base_uri": "https://localhost:8080/"
    },
    "id": "tCY8kc6GtwL4",
    "outputId": "ce4ab3cf-91a1-4f76-d433-4beedbd28f74"
   },
   "outputs": [
    {
     "data": {
      "text/plain": [
       "0.3839590443686007"
      ]
     },
     "execution_count": 31,
     "metadata": {},
     "output_type": "execute_result"
    }
   ],
   "source": [
    "# https://scikit-learn.org/stable/modules/generated/sklearn.metrics.precision_score.html#sklearn.metrics.precision_score\n",
    "precision_rf = metrics.precision_score(test_result['y_act'], test_result['y_pred'], average='binary', pos_label=1)\n",
    "precision_rf"
   ]
  },
  {
   "cell_type": "code",
   "execution_count": 32,
   "metadata": {
    "colab": {
     "base_uri": "https://localhost:8080/"
    },
    "id": "bzocTG9dkI2J",
    "outputId": "75634358-efc9-4957-9257-617eb9d32e73"
   },
   "outputs": [
    {
     "data": {
      "text/plain": [
       "0.8066315690645215"
      ]
     },
     "execution_count": 32,
     "metadata": {},
     "output_type": "execute_result"
    }
   ],
   "source": [
    "f1_score_rf = metrics.f1_score(test_result['y_act'], test_result['y_pred'], average='weighted')  #weighted accounts for label imbalance.\n",
    "f1_score_rf"
   ]
  },
  {
   "cell_type": "markdown",
   "metadata": {
    "id": "iW7BxieZsyDH"
   },
   "source": [
    "# Comparing Models"
   ]
  },
  {
   "cell_type": "code",
   "execution_count": 33,
   "metadata": {
    "colab": {
     "base_uri": "https://localhost:8080/",
     "height": 143
    },
    "id": "vdH1MquHswhR",
    "outputId": "6c940b58-e392-4db4-a671-79e43540020c"
   },
   "outputs": [
    {
     "data": {
      "text/html": [
       "<div>\n",
       "<style scoped>\n",
       "    .dataframe tbody tr th:only-of-type {\n",
       "        vertical-align: middle;\n",
       "    }\n",
       "\n",
       "    .dataframe tbody tr th {\n",
       "        vertical-align: top;\n",
       "    }\n",
       "\n",
       "    .dataframe thead th {\n",
       "        text-align: right;\n",
       "    }\n",
       "</style>\n",
       "<table border=\"1\" class=\"dataframe\">\n",
       "  <thead>\n",
       "    <tr style=\"text-align: right;\">\n",
       "      <th></th>\n",
       "      <th>Model</th>\n",
       "      <th>accuracy</th>\n",
       "      <th>precision</th>\n",
       "      <th>f1_score</th>\n",
       "    </tr>\n",
       "  </thead>\n",
       "  <tbody>\n",
       "    <tr>\n",
       "      <th>0</th>\n",
       "      <td>LGR</td>\n",
       "      <td>0.853029</td>\n",
       "      <td>0.487288</td>\n",
       "      <td>0.801631</td>\n",
       "    </tr>\n",
       "    <tr>\n",
       "      <th>1</th>\n",
       "      <td>TC</td>\n",
       "      <td>0.851975</td>\n",
       "      <td>0.458150</td>\n",
       "      <td>0.799656</td>\n",
       "    </tr>\n",
       "    <tr>\n",
       "      <th>2</th>\n",
       "      <td>RF</td>\n",
       "      <td>0.842485</td>\n",
       "      <td>0.383959</td>\n",
       "      <td>0.806632</td>\n",
       "    </tr>\n",
       "  </tbody>\n",
       "</table>\n",
       "</div>"
      ],
      "text/plain": [
       "  Model  accuracy  precision  f1_score\n",
       "0   LGR  0.853029   0.487288  0.801631\n",
       "1    TC  0.851975   0.458150  0.799656\n",
       "2    RF  0.842485   0.383959  0.806632"
      ]
     },
     "execution_count": 33,
     "metadata": {},
     "output_type": "execute_result"
    }
   ],
   "source": [
    "metrics_comp = [['LGR', acuracy_lgr, precision_lgr, f1_score_lgr],\n",
    "['TC', acuracy_tc, precision_tc, f1_score_tc],\n",
    "['RF', acuracy_rf, precision_rf, f1_score_rf]]\n",
    "\n",
    "pd.DataFrame(data=metrics_comp, columns=['Model', 'accuracy', 'precision', 'f1_score'])"
   ]
  },
  {
   "cell_type": "code",
   "execution_count": 33,
   "metadata": {
    "id": "xsqIfQW5swsl"
   },
   "outputs": [],
   "source": []
  },
  {
   "cell_type": "markdown",
   "metadata": {
    "id": "DQ-1oz7WqlPH"
   },
   "source": [
    "# Constructing Claibration Table For Selected Model"
   ]
  },
  {
   "cell_type": "code",
   "execution_count": 34,
   "metadata": {
    "colab": {
     "base_uri": "https://localhost:8080/",
     "height": 206
    },
    "id": "mNGeGStSt-0W",
    "outputId": "8092212e-002e-4268-b910-fc268b36c48c"
   },
   "outputs": [
    {
     "data": {
      "text/html": [
       "<div>\n",
       "<style scoped>\n",
       "    .dataframe tbody tr th:only-of-type {\n",
       "        vertical-align: middle;\n",
       "    }\n",
       "\n",
       "    .dataframe tbody tr th {\n",
       "        vertical-align: top;\n",
       "    }\n",
       "\n",
       "    .dataframe thead th {\n",
       "        text-align: right;\n",
       "    }\n",
       "</style>\n",
       "<table border=\"1\" class=\"dataframe\">\n",
       "  <thead>\n",
       "    <tr style=\"text-align: right;\">\n",
       "      <th></th>\n",
       "      <th>y_act</th>\n",
       "      <th>y_pred</th>\n",
       "      <th>y_pred_prob</th>\n",
       "    </tr>\n",
       "  </thead>\n",
       "  <tbody>\n",
       "    <tr>\n",
       "      <th>7862</th>\n",
       "      <td>0</td>\n",
       "      <td>0</td>\n",
       "      <td>0.225403</td>\n",
       "    </tr>\n",
       "    <tr>\n",
       "      <th>4342</th>\n",
       "      <td>0</td>\n",
       "      <td>0</td>\n",
       "      <td>0.231859</td>\n",
       "    </tr>\n",
       "    <tr>\n",
       "      <th>10066</th>\n",
       "      <td>1</td>\n",
       "      <td>0</td>\n",
       "      <td>0.272287</td>\n",
       "    </tr>\n",
       "    <tr>\n",
       "      <th>5445</th>\n",
       "      <td>0</td>\n",
       "      <td>0</td>\n",
       "      <td>0.020529</td>\n",
       "    </tr>\n",
       "    <tr>\n",
       "      <th>2594</th>\n",
       "      <td>0</td>\n",
       "      <td>0</td>\n",
       "      <td>0.055574</td>\n",
       "    </tr>\n",
       "  </tbody>\n",
       "</table>\n",
       "</div>"
      ],
      "text/plain": [
       "       y_act  y_pred  y_pred_prob\n",
       "7862       0       0     0.225403\n",
       "4342       0       0     0.231859\n",
       "10066      1       0     0.272287\n",
       "5445       0       0     0.020529\n",
       "2594       0       0     0.055574"
      ]
     },
     "execution_count": 34,
     "metadata": {},
     "output_type": "execute_result"
    }
   ],
   "source": [
    "# Selected Logistic Regression\n",
    "\n",
    "# Create model object\n",
    "model = LogisticRegression()\n",
    "\n",
    "# Train Model\n",
    "model.fit(X_train, y_train)\n",
    "\n",
    "# Predict on Testing Data\n",
    "\n",
    "# probabilities\n",
    "y_pred_prob = model.predict_proba(X_test)[:, 1]\n",
    "\n",
    "# Prediction\n",
    "y_pred = model.predict(X_test)\n",
    "\n",
    "# Results table\n",
    "test_result = pd.DataFrame(data={'y_act':y_test, 'y_pred':y_pred, 'y_pred_prob':y_pred_prob})\n",
    "test_result.sample(5)"
   ]
  },
  {
   "cell_type": "code",
   "execution_count": 35,
   "metadata": {
    "colab": {
     "base_uri": "https://localhost:8080/"
    },
    "id": "nIh_axvoQH7M",
    "outputId": "d05eb8e8-f80b-4b71-cf9f-927acb279680"
   },
   "outputs": [
    {
     "data": {
      "text/plain": [
       "(0.0005499999999999999, 0.096]    5548\n",
       "(0.096, 0.189]                    3690\n",
       "(0.189, 0.283]                    1579\n",
       "(0.283, 0.377]                     779\n",
       "(0.377, 0.47]                      425\n",
       "(0.47, 0.564]                      178\n",
       "(0.564, 0.657]                      88\n",
       "(0.657, 0.751]                      30\n",
       "(0.751, 0.844]                      10\n",
       "(0.844, 0.938]                       2\n",
       "Name: y_pred_prob, dtype: int64"
      ]
     },
     "execution_count": 35,
     "metadata": {},
     "output_type": "execute_result"
    }
   ],
   "source": [
    "test_result['y_pred_prob'].value_counts(bins=10)"
   ]
  },
  {
   "cell_type": "code",
   "execution_count": 36,
   "metadata": {
    "colab": {
     "base_uri": "https://localhost:8080/"
    },
    "id": "j58c-MQeQRnQ",
    "outputId": "2b972166-c5bf-40a1-e459-e8209f89e90a"
   },
   "outputs": [
    {
     "data": {
      "text/plain": [
       "0        (0.0, 0.1]\n",
       "1        (0.0, 0.1]\n",
       "2        (0.0, 0.1]\n",
       "3        (0.0, 0.1]\n",
       "4        (0.1, 0.2]\n",
       "            ...    \n",
       "12324    (0.4, 0.5]\n",
       "12325    (0.1, 0.2]\n",
       "12326    (0.0, 0.1]\n",
       "12327    (0.1, 0.2]\n",
       "12328    (0.2, 0.3]\n",
       "Name: prob_bucket, Length: 12329, dtype: category\n",
       "Categories (10, interval[float64]): [(0.0, 0.1] < (0.1, 0.2] < (0.2, 0.3] < (0.3, 0.4] < ... <\n",
       "                                     (0.6, 0.7] < (0.7, 0.8] < (0.8, 0.9] < (0.9, 1.0]]"
      ]
     },
     "execution_count": 36,
     "metadata": {},
     "output_type": "execute_result"
    }
   ],
   "source": [
    "# Divide 10 buckets based on probability\n",
    "test_result['prob_bucket'] = pd.cut(test_result['y_pred_prob'], bins=[0, 0.1, 0.2, 0.3, 0.4, 0.5, 0.6, 0.7, 0.8, 0.9, 1.0])\n",
    "test_result['prob_bucket']"
   ]
  },
  {
   "cell_type": "code",
   "execution_count": 37,
   "metadata": {
    "colab": {
     "base_uri": "https://localhost:8080/",
     "height": 363
    },
    "id": "JLWKzWQcu2mZ",
    "outputId": "ca576111-555a-4dfe-ddc8-5a5fd08bde88"
   },
   "outputs": [
    {
     "data": {
      "text/html": [
       "<div>\n",
       "<style scoped>\n",
       "    .dataframe tbody tr th:only-of-type {\n",
       "        vertical-align: middle;\n",
       "    }\n",
       "\n",
       "    .dataframe tbody tr th {\n",
       "        vertical-align: top;\n",
       "    }\n",
       "\n",
       "    .dataframe thead th {\n",
       "        text-align: right;\n",
       "    }\n",
       "</style>\n",
       "<table border=\"1\" class=\"dataframe\">\n",
       "  <thead>\n",
       "    <tr style=\"text-align: right;\">\n",
       "      <th></th>\n",
       "      <th>prob_bucket</th>\n",
       "      <th>count</th>\n",
       "      <th>response_count</th>\n",
       "      <th>min_probability</th>\n",
       "      <th>mean_probability</th>\n",
       "    </tr>\n",
       "  </thead>\n",
       "  <tbody>\n",
       "    <tr>\n",
       "      <th>0</th>\n",
       "      <td>(0.0, 0.1]</td>\n",
       "      <td>5789</td>\n",
       "      <td>277</td>\n",
       "      <td>0.002487</td>\n",
       "      <td>0.056339</td>\n",
       "    </tr>\n",
       "    <tr>\n",
       "      <th>1</th>\n",
       "      <td>(0.1, 0.2]</td>\n",
       "      <td>3707</td>\n",
       "      <td>588</td>\n",
       "      <td>0.100119</td>\n",
       "      <td>0.143142</td>\n",
       "    </tr>\n",
       "    <tr>\n",
       "      <th>2</th>\n",
       "      <td>(0.2, 0.3]</td>\n",
       "      <td>1514</td>\n",
       "      <td>421</td>\n",
       "      <td>0.200217</td>\n",
       "      <td>0.243700</td>\n",
       "    </tr>\n",
       "    <tr>\n",
       "      <th>3</th>\n",
       "      <td>(0.3, 0.4]</td>\n",
       "      <td>716</td>\n",
       "      <td>254</td>\n",
       "      <td>0.300174</td>\n",
       "      <td>0.344796</td>\n",
       "    </tr>\n",
       "    <tr>\n",
       "      <th>4</th>\n",
       "      <td>(0.4, 0.5]</td>\n",
       "      <td>367</td>\n",
       "      <td>151</td>\n",
       "      <td>0.400114</td>\n",
       "      <td>0.441718</td>\n",
       "    </tr>\n",
       "    <tr>\n",
       "      <th>5</th>\n",
       "      <td>(0.5, 0.6]</td>\n",
       "      <td>154</td>\n",
       "      <td>80</td>\n",
       "      <td>0.500557</td>\n",
       "      <td>0.543232</td>\n",
       "    </tr>\n",
       "    <tr>\n",
       "      <th>6</th>\n",
       "      <td>(0.6, 0.7]</td>\n",
       "      <td>60</td>\n",
       "      <td>28</td>\n",
       "      <td>0.600119</td>\n",
       "      <td>0.643924</td>\n",
       "    </tr>\n",
       "    <tr>\n",
       "      <th>7</th>\n",
       "      <td>(0.7, 0.8]</td>\n",
       "      <td>15</td>\n",
       "      <td>6</td>\n",
       "      <td>0.701278</td>\n",
       "      <td>0.741435</td>\n",
       "    </tr>\n",
       "    <tr>\n",
       "      <th>8</th>\n",
       "      <td>(0.8, 0.9]</td>\n",
       "      <td>6</td>\n",
       "      <td>1</td>\n",
       "      <td>0.803322</td>\n",
       "      <td>0.824696</td>\n",
       "    </tr>\n",
       "    <tr>\n",
       "      <th>9</th>\n",
       "      <td>(0.9, 1.0]</td>\n",
       "      <td>1</td>\n",
       "      <td>0</td>\n",
       "      <td>0.937528</td>\n",
       "      <td>0.937528</td>\n",
       "    </tr>\n",
       "  </tbody>\n",
       "</table>\n",
       "</div>"
      ],
      "text/plain": [
       "  prob_bucket  count  response_count  min_probability  mean_probability\n",
       "0  (0.0, 0.1]   5789             277         0.002487          0.056339\n",
       "1  (0.1, 0.2]   3707             588         0.100119          0.143142\n",
       "2  (0.2, 0.3]   1514             421         0.200217          0.243700\n",
       "3  (0.3, 0.4]    716             254         0.300174          0.344796\n",
       "4  (0.4, 0.5]    367             151         0.400114          0.441718\n",
       "5  (0.5, 0.6]    154              80         0.500557          0.543232\n",
       "6  (0.6, 0.7]     60              28         0.600119          0.643924\n",
       "7  (0.7, 0.8]     15               6         0.701278          0.741435\n",
       "8  (0.8, 0.9]      6               1         0.803322          0.824696\n",
       "9  (0.9, 1.0]      1               0         0.937528          0.937528"
      ]
     },
     "execution_count": 37,
     "metadata": {},
     "output_type": "execute_result"
    }
   ],
   "source": [
    "calibration_table  = test_result.groupby(by='prob_bucket').agg(\n",
    "    count=pd.NamedAgg(column=\"prob_bucket\", aggfunc=\"count\"),\n",
    "    response_count=pd.NamedAgg(column=\"y_act\", aggfunc=\"sum\"),\n",
    "    min_probability = pd.NamedAgg(column=\"y_pred_prob\", aggfunc=\"min\"),\n",
    "    mean_probability = pd.NamedAgg(column=\"y_pred_prob\", aggfunc=\"mean\"),\n",
    "    ).reset_index()\n",
    "\n",
    "calibration_table"
   ]
  },
  {
   "cell_type": "code",
   "execution_count": 38,
   "metadata": {
    "colab": {
     "base_uri": "https://localhost:8080/"
    },
    "id": "nLr_m5gqQwJm",
    "outputId": "0fab8090-493a-437c-d12c-6a2092e3cdfa"
   },
   "outputs": [
    {
     "data": {
      "text/plain": [
       "0        (0.0525, 0.0676]\n",
       "1         (0.0849, 0.107]\n",
       "2        (0.0525, 0.0676]\n",
       "3         (0.033, 0.0525]\n",
       "4          (0.107, 0.135]\n",
       "               ...       \n",
       "12324      (0.307, 0.938]\n",
       "12325      (0.107, 0.135]\n",
       "12326     (0.0849, 0.107]\n",
       "12327      (0.135, 0.169]\n",
       "12328      (0.169, 0.219]\n",
       "Name: q_bucket, Length: 12329, dtype: category\n",
       "Categories (10, interval[float64]): [(0.00149, 0.033] < (0.033, 0.0525] < (0.0525, 0.0676] <\n",
       "                                     (0.0676, 0.0849] ... (0.135, 0.169] < (0.169, 0.219] <\n",
       "                                     (0.219, 0.307] < (0.307, 0.938]]"
      ]
     },
     "execution_count": 38,
     "metadata": {},
     "output_type": "execute_result"
    }
   ],
   "source": [
    "# Divide 10 buckets with even samples sorted by probability\n",
    "test_result['q_bucket'] = pd.qcut(test_result['y_pred_prob'], q=10, duplicates='drop')\n",
    "test_result['q_bucket']"
   ]
  },
  {
   "cell_type": "code",
   "execution_count": 39,
   "metadata": {
    "colab": {
     "base_uri": "https://localhost:8080/",
     "height": 363
    },
    "id": "3_7bb2uRQ4M0",
    "outputId": "ccd52517-a6d9-4d3c-b660-0ce9c354ff0b"
   },
   "outputs": [
    {
     "data": {
      "text/html": [
       "<div>\n",
       "<style scoped>\n",
       "    .dataframe tbody tr th:only-of-type {\n",
       "        vertical-align: middle;\n",
       "    }\n",
       "\n",
       "    .dataframe tbody tr th {\n",
       "        vertical-align: top;\n",
       "    }\n",
       "\n",
       "    .dataframe thead th {\n",
       "        text-align: right;\n",
       "    }\n",
       "</style>\n",
       "<table border=\"1\" class=\"dataframe\">\n",
       "  <thead>\n",
       "    <tr style=\"text-align: right;\">\n",
       "      <th></th>\n",
       "      <th>q_bucket</th>\n",
       "      <th>count</th>\n",
       "      <th>response_count</th>\n",
       "      <th>min_probability</th>\n",
       "      <th>mean_probability</th>\n",
       "    </tr>\n",
       "  </thead>\n",
       "  <tbody>\n",
       "    <tr>\n",
       "      <th>0</th>\n",
       "      <td>(0.00149, 0.033]</td>\n",
       "      <td>1233</td>\n",
       "      <td>8</td>\n",
       "      <td>0.002487</td>\n",
       "      <td>0.021294</td>\n",
       "    </tr>\n",
       "    <tr>\n",
       "      <th>1</th>\n",
       "      <td>(0.033, 0.0525]</td>\n",
       "      <td>1233</td>\n",
       "      <td>27</td>\n",
       "      <td>0.032996</td>\n",
       "      <td>0.043321</td>\n",
       "    </tr>\n",
       "    <tr>\n",
       "      <th>2</th>\n",
       "      <td>(0.0525, 0.0676]</td>\n",
       "      <td>1233</td>\n",
       "      <td>51</td>\n",
       "      <td>0.052488</td>\n",
       "      <td>0.059891</td>\n",
       "    </tr>\n",
       "    <tr>\n",
       "      <th>3</th>\n",
       "      <td>(0.0676, 0.0849]</td>\n",
       "      <td>1238</td>\n",
       "      <td>104</td>\n",
       "      <td>0.067567</td>\n",
       "      <td>0.075839</td>\n",
       "    </tr>\n",
       "    <tr>\n",
       "      <th>4</th>\n",
       "      <td>(0.0849, 0.107]</td>\n",
       "      <td>1229</td>\n",
       "      <td>124</td>\n",
       "      <td>0.084960</td>\n",
       "      <td>0.095817</td>\n",
       "    </tr>\n",
       "    <tr>\n",
       "      <th>5</th>\n",
       "      <td>(0.107, 0.135]</td>\n",
       "      <td>1235</td>\n",
       "      <td>183</td>\n",
       "      <td>0.107326</td>\n",
       "      <td>0.120863</td>\n",
       "    </tr>\n",
       "    <tr>\n",
       "      <th>6</th>\n",
       "      <td>(0.135, 0.169]</td>\n",
       "      <td>1229</td>\n",
       "      <td>188</td>\n",
       "      <td>0.134751</td>\n",
       "      <td>0.149879</td>\n",
       "    </tr>\n",
       "    <tr>\n",
       "      <th>7</th>\n",
       "      <td>(0.169, 0.219]</td>\n",
       "      <td>1257</td>\n",
       "      <td>279</td>\n",
       "      <td>0.168661</td>\n",
       "      <td>0.190919</td>\n",
       "    </tr>\n",
       "    <tr>\n",
       "      <th>8</th>\n",
       "      <td>(0.219, 0.307]</td>\n",
       "      <td>1209</td>\n",
       "      <td>351</td>\n",
       "      <td>0.218994</td>\n",
       "      <td>0.259061</td>\n",
       "    </tr>\n",
       "    <tr>\n",
       "      <th>9</th>\n",
       "      <td>(0.307, 0.938]</td>\n",
       "      <td>1233</td>\n",
       "      <td>491</td>\n",
       "      <td>0.307433</td>\n",
       "      <td>0.423514</td>\n",
       "    </tr>\n",
       "  </tbody>\n",
       "</table>\n",
       "</div>"
      ],
      "text/plain": [
       "           q_bucket  count  response_count  min_probability  mean_probability\n",
       "0  (0.00149, 0.033]   1233               8         0.002487          0.021294\n",
       "1   (0.033, 0.0525]   1233              27         0.032996          0.043321\n",
       "2  (0.0525, 0.0676]   1233              51         0.052488          0.059891\n",
       "3  (0.0676, 0.0849]   1238             104         0.067567          0.075839\n",
       "4   (0.0849, 0.107]   1229             124         0.084960          0.095817\n",
       "5    (0.107, 0.135]   1235             183         0.107326          0.120863\n",
       "6    (0.135, 0.169]   1229             188         0.134751          0.149879\n",
       "7    (0.169, 0.219]   1257             279         0.168661          0.190919\n",
       "8    (0.219, 0.307]   1209             351         0.218994          0.259061\n",
       "9    (0.307, 0.938]   1233             491         0.307433          0.423514"
      ]
     },
     "execution_count": 39,
     "metadata": {},
     "output_type": "execute_result"
    }
   ],
   "source": [
    "calib_table  = test_result.groupby(by='q_bucket').agg(\n",
    "    count=pd.NamedAgg(column=\"q_bucket\", aggfunc=\"count\"),\n",
    "    response_count=pd.NamedAgg(column=\"y_act\", aggfunc=\"sum\"),\n",
    "    min_probability = pd.NamedAgg(column=\"y_pred_prob\", aggfunc=\"min\"),\n",
    "    mean_probability = pd.NamedAgg(column=\"y_pred_prob\", aggfunc=\"mean\"),\n",
    "    ).reset_index()\n",
    "\n",
    "calib_table"
   ]
  },
  {
   "cell_type": "code",
   "execution_count": 40,
   "metadata": {
    "colab": {
     "base_uri": "https://localhost:8080/",
     "height": 363
    },
    "id": "8jEyctT1dZga",
    "outputId": "b1a4a748-512e-4042-864f-1e8f153b0f15"
   },
   "outputs": [
    {
     "data": {
      "text/html": [
       "<div>\n",
       "<style scoped>\n",
       "    .dataframe tbody tr th:only-of-type {\n",
       "        vertical-align: middle;\n",
       "    }\n",
       "\n",
       "    .dataframe tbody tr th {\n",
       "        vertical-align: top;\n",
       "    }\n",
       "\n",
       "    .dataframe thead th {\n",
       "        text-align: right;\n",
       "    }\n",
       "</style>\n",
       "<table border=\"1\" class=\"dataframe\">\n",
       "  <thead>\n",
       "    <tr style=\"text-align: right;\">\n",
       "      <th></th>\n",
       "      <th>q_bucket</th>\n",
       "      <th>count</th>\n",
       "      <th>response_count</th>\n",
       "      <th>min_probability</th>\n",
       "      <th>mean_probability</th>\n",
       "      <th>precision</th>\n",
       "      <th>response_fraction</th>\n",
       "    </tr>\n",
       "  </thead>\n",
       "  <tbody>\n",
       "    <tr>\n",
       "      <th>0</th>\n",
       "      <td>(0.00149, 0.033]</td>\n",
       "      <td>1233</td>\n",
       "      <td>8</td>\n",
       "      <td>0.002487</td>\n",
       "      <td>0.021294</td>\n",
       "      <td>0.006488</td>\n",
       "      <td>0.004430</td>\n",
       "    </tr>\n",
       "    <tr>\n",
       "      <th>1</th>\n",
       "      <td>(0.033, 0.0525]</td>\n",
       "      <td>1233</td>\n",
       "      <td>27</td>\n",
       "      <td>0.032996</td>\n",
       "      <td>0.043321</td>\n",
       "      <td>0.021898</td>\n",
       "      <td>0.014950</td>\n",
       "    </tr>\n",
       "    <tr>\n",
       "      <th>2</th>\n",
       "      <td>(0.0525, 0.0676]</td>\n",
       "      <td>1233</td>\n",
       "      <td>51</td>\n",
       "      <td>0.052488</td>\n",
       "      <td>0.059891</td>\n",
       "      <td>0.041363</td>\n",
       "      <td>0.028239</td>\n",
       "    </tr>\n",
       "    <tr>\n",
       "      <th>3</th>\n",
       "      <td>(0.0676, 0.0849]</td>\n",
       "      <td>1238</td>\n",
       "      <td>104</td>\n",
       "      <td>0.067567</td>\n",
       "      <td>0.075839</td>\n",
       "      <td>0.084006</td>\n",
       "      <td>0.057586</td>\n",
       "    </tr>\n",
       "    <tr>\n",
       "      <th>4</th>\n",
       "      <td>(0.0849, 0.107]</td>\n",
       "      <td>1229</td>\n",
       "      <td>124</td>\n",
       "      <td>0.084960</td>\n",
       "      <td>0.095817</td>\n",
       "      <td>0.100895</td>\n",
       "      <td>0.068660</td>\n",
       "    </tr>\n",
       "    <tr>\n",
       "      <th>5</th>\n",
       "      <td>(0.107, 0.135]</td>\n",
       "      <td>1235</td>\n",
       "      <td>183</td>\n",
       "      <td>0.107326</td>\n",
       "      <td>0.120863</td>\n",
       "      <td>0.148178</td>\n",
       "      <td>0.101329</td>\n",
       "    </tr>\n",
       "    <tr>\n",
       "      <th>6</th>\n",
       "      <td>(0.135, 0.169]</td>\n",
       "      <td>1229</td>\n",
       "      <td>188</td>\n",
       "      <td>0.134751</td>\n",
       "      <td>0.149879</td>\n",
       "      <td>0.152970</td>\n",
       "      <td>0.104097</td>\n",
       "    </tr>\n",
       "    <tr>\n",
       "      <th>7</th>\n",
       "      <td>(0.169, 0.219]</td>\n",
       "      <td>1257</td>\n",
       "      <td>279</td>\n",
       "      <td>0.168661</td>\n",
       "      <td>0.190919</td>\n",
       "      <td>0.221957</td>\n",
       "      <td>0.154485</td>\n",
       "    </tr>\n",
       "    <tr>\n",
       "      <th>8</th>\n",
       "      <td>(0.219, 0.307]</td>\n",
       "      <td>1209</td>\n",
       "      <td>351</td>\n",
       "      <td>0.218994</td>\n",
       "      <td>0.259061</td>\n",
       "      <td>0.290323</td>\n",
       "      <td>0.194352</td>\n",
       "    </tr>\n",
       "    <tr>\n",
       "      <th>9</th>\n",
       "      <td>(0.307, 0.938]</td>\n",
       "      <td>1233</td>\n",
       "      <td>491</td>\n",
       "      <td>0.307433</td>\n",
       "      <td>0.423514</td>\n",
       "      <td>0.398216</td>\n",
       "      <td>0.271872</td>\n",
       "    </tr>\n",
       "  </tbody>\n",
       "</table>\n",
       "</div>"
      ],
      "text/plain": [
       "           q_bucket  count  ...  precision  response_fraction\n",
       "0  (0.00149, 0.033]   1233  ...   0.006488           0.004430\n",
       "1   (0.033, 0.0525]   1233  ...   0.021898           0.014950\n",
       "2  (0.0525, 0.0676]   1233  ...   0.041363           0.028239\n",
       "3  (0.0676, 0.0849]   1238  ...   0.084006           0.057586\n",
       "4   (0.0849, 0.107]   1229  ...   0.100895           0.068660\n",
       "5    (0.107, 0.135]   1235  ...   0.148178           0.101329\n",
       "6    (0.135, 0.169]   1229  ...   0.152970           0.104097\n",
       "7    (0.169, 0.219]   1257  ...   0.221957           0.154485\n",
       "8    (0.219, 0.307]   1209  ...   0.290323           0.194352\n",
       "9    (0.307, 0.938]   1233  ...   0.398216           0.271872\n",
       "\n",
       "[10 rows x 7 columns]"
      ]
     },
     "execution_count": 40,
     "metadata": {},
     "output_type": "execute_result"
    }
   ],
   "source": [
    "calib_table['precision'] = calib_table['response_count'] / calib_table['count'] \n",
    "calib_table['response_fraction'] = calib_table['response_count'] / calib_table['response_count'].sum()\n",
    "calib_table"
   ]
  },
  {
   "cell_type": "code",
   "execution_count": 41,
   "metadata": {
    "colab": {
     "base_uri": "https://localhost:8080/",
     "height": 363
    },
    "id": "56nkDaNXnx2P",
    "outputId": "50e59fa2-e6c5-42ce-c27c-f6fc52d0555a"
   },
   "outputs": [
    {
     "data": {
      "text/html": [
       "<div>\n",
       "<style scoped>\n",
       "    .dataframe tbody tr th:only-of-type {\n",
       "        vertical-align: middle;\n",
       "    }\n",
       "\n",
       "    .dataframe tbody tr th {\n",
       "        vertical-align: top;\n",
       "    }\n",
       "\n",
       "    .dataframe thead th {\n",
       "        text-align: right;\n",
       "    }\n",
       "</style>\n",
       "<table border=\"1\" class=\"dataframe\">\n",
       "  <thead>\n",
       "    <tr style=\"text-align: right;\">\n",
       "      <th></th>\n",
       "      <th>q_bucket</th>\n",
       "      <th>count</th>\n",
       "      <th>response_count</th>\n",
       "      <th>min_probability</th>\n",
       "      <th>mean_probability</th>\n",
       "      <th>precision</th>\n",
       "      <th>response_fraction</th>\n",
       "    </tr>\n",
       "  </thead>\n",
       "  <tbody>\n",
       "    <tr>\n",
       "      <th>9</th>\n",
       "      <td>(0.307, 0.938]</td>\n",
       "      <td>1233</td>\n",
       "      <td>491</td>\n",
       "      <td>0.307433</td>\n",
       "      <td>0.423514</td>\n",
       "      <td>0.398216</td>\n",
       "      <td>0.271872</td>\n",
       "    </tr>\n",
       "    <tr>\n",
       "      <th>8</th>\n",
       "      <td>(0.219, 0.307]</td>\n",
       "      <td>1209</td>\n",
       "      <td>351</td>\n",
       "      <td>0.218994</td>\n",
       "      <td>0.259061</td>\n",
       "      <td>0.290323</td>\n",
       "      <td>0.194352</td>\n",
       "    </tr>\n",
       "    <tr>\n",
       "      <th>7</th>\n",
       "      <td>(0.169, 0.219]</td>\n",
       "      <td>1257</td>\n",
       "      <td>279</td>\n",
       "      <td>0.168661</td>\n",
       "      <td>0.190919</td>\n",
       "      <td>0.221957</td>\n",
       "      <td>0.154485</td>\n",
       "    </tr>\n",
       "    <tr>\n",
       "      <th>6</th>\n",
       "      <td>(0.135, 0.169]</td>\n",
       "      <td>1229</td>\n",
       "      <td>188</td>\n",
       "      <td>0.134751</td>\n",
       "      <td>0.149879</td>\n",
       "      <td>0.152970</td>\n",
       "      <td>0.104097</td>\n",
       "    </tr>\n",
       "    <tr>\n",
       "      <th>5</th>\n",
       "      <td>(0.107, 0.135]</td>\n",
       "      <td>1235</td>\n",
       "      <td>183</td>\n",
       "      <td>0.107326</td>\n",
       "      <td>0.120863</td>\n",
       "      <td>0.148178</td>\n",
       "      <td>0.101329</td>\n",
       "    </tr>\n",
       "    <tr>\n",
       "      <th>4</th>\n",
       "      <td>(0.0849, 0.107]</td>\n",
       "      <td>1229</td>\n",
       "      <td>124</td>\n",
       "      <td>0.084960</td>\n",
       "      <td>0.095817</td>\n",
       "      <td>0.100895</td>\n",
       "      <td>0.068660</td>\n",
       "    </tr>\n",
       "    <tr>\n",
       "      <th>3</th>\n",
       "      <td>(0.0676, 0.0849]</td>\n",
       "      <td>1238</td>\n",
       "      <td>104</td>\n",
       "      <td>0.067567</td>\n",
       "      <td>0.075839</td>\n",
       "      <td>0.084006</td>\n",
       "      <td>0.057586</td>\n",
       "    </tr>\n",
       "    <tr>\n",
       "      <th>2</th>\n",
       "      <td>(0.0525, 0.0676]</td>\n",
       "      <td>1233</td>\n",
       "      <td>51</td>\n",
       "      <td>0.052488</td>\n",
       "      <td>0.059891</td>\n",
       "      <td>0.041363</td>\n",
       "      <td>0.028239</td>\n",
       "    </tr>\n",
       "    <tr>\n",
       "      <th>1</th>\n",
       "      <td>(0.033, 0.0525]</td>\n",
       "      <td>1233</td>\n",
       "      <td>27</td>\n",
       "      <td>0.032996</td>\n",
       "      <td>0.043321</td>\n",
       "      <td>0.021898</td>\n",
       "      <td>0.014950</td>\n",
       "    </tr>\n",
       "    <tr>\n",
       "      <th>0</th>\n",
       "      <td>(0.00149, 0.033]</td>\n",
       "      <td>1233</td>\n",
       "      <td>8</td>\n",
       "      <td>0.002487</td>\n",
       "      <td>0.021294</td>\n",
       "      <td>0.006488</td>\n",
       "      <td>0.004430</td>\n",
       "    </tr>\n",
       "  </tbody>\n",
       "</table>\n",
       "</div>"
      ],
      "text/plain": [
       "           q_bucket  count  ...  precision  response_fraction\n",
       "9    (0.307, 0.938]   1233  ...   0.398216           0.271872\n",
       "8    (0.219, 0.307]   1209  ...   0.290323           0.194352\n",
       "7    (0.169, 0.219]   1257  ...   0.221957           0.154485\n",
       "6    (0.135, 0.169]   1229  ...   0.152970           0.104097\n",
       "5    (0.107, 0.135]   1235  ...   0.148178           0.101329\n",
       "4   (0.0849, 0.107]   1229  ...   0.100895           0.068660\n",
       "3  (0.0676, 0.0849]   1238  ...   0.084006           0.057586\n",
       "2  (0.0525, 0.0676]   1233  ...   0.041363           0.028239\n",
       "1   (0.033, 0.0525]   1233  ...   0.021898           0.014950\n",
       "0  (0.00149, 0.033]   1233  ...   0.006488           0.004430\n",
       "\n",
       "[10 rows x 7 columns]"
      ]
     },
     "execution_count": 41,
     "metadata": {},
     "output_type": "execute_result"
    }
   ],
   "source": [
    "# Get cumulative sum in reverse order\n",
    "calib_table = calib_table.sort_index(ascending=False)\n",
    "calib_table"
   ]
  },
  {
   "cell_type": "code",
   "execution_count": 42,
   "metadata": {
    "colab": {
     "base_uri": "https://localhost:8080/",
     "height": 363
    },
    "id": "H2dbFPxSjmgK",
    "outputId": "04f83095-6161-4c2a-eb3e-ae9a39c52094"
   },
   "outputs": [
    {
     "data": {
      "text/html": [
       "<div>\n",
       "<style scoped>\n",
       "    .dataframe tbody tr th:only-of-type {\n",
       "        vertical-align: middle;\n",
       "    }\n",
       "\n",
       "    .dataframe tbody tr th {\n",
       "        vertical-align: top;\n",
       "    }\n",
       "\n",
       "    .dataframe thead th {\n",
       "        text-align: right;\n",
       "    }\n",
       "</style>\n",
       "<table border=\"1\" class=\"dataframe\">\n",
       "  <thead>\n",
       "    <tr style=\"text-align: right;\">\n",
       "      <th></th>\n",
       "      <th>q_bucket</th>\n",
       "      <th>count</th>\n",
       "      <th>response_count</th>\n",
       "      <th>min_probability</th>\n",
       "      <th>mean_probability</th>\n",
       "      <th>precision</th>\n",
       "      <th>response_fraction</th>\n",
       "      <th>cumulative_response_count</th>\n",
       "      <th>cumulative_count</th>\n",
       "    </tr>\n",
       "  </thead>\n",
       "  <tbody>\n",
       "    <tr>\n",
       "      <th>0</th>\n",
       "      <td>(0.00149, 0.033]</td>\n",
       "      <td>1233</td>\n",
       "      <td>8</td>\n",
       "      <td>0.002487</td>\n",
       "      <td>0.021294</td>\n",
       "      <td>0.006488</td>\n",
       "      <td>0.004430</td>\n",
       "      <td>1806</td>\n",
       "      <td>12329</td>\n",
       "    </tr>\n",
       "    <tr>\n",
       "      <th>1</th>\n",
       "      <td>(0.033, 0.0525]</td>\n",
       "      <td>1233</td>\n",
       "      <td>27</td>\n",
       "      <td>0.032996</td>\n",
       "      <td>0.043321</td>\n",
       "      <td>0.021898</td>\n",
       "      <td>0.014950</td>\n",
       "      <td>1798</td>\n",
       "      <td>11096</td>\n",
       "    </tr>\n",
       "    <tr>\n",
       "      <th>2</th>\n",
       "      <td>(0.0525, 0.0676]</td>\n",
       "      <td>1233</td>\n",
       "      <td>51</td>\n",
       "      <td>0.052488</td>\n",
       "      <td>0.059891</td>\n",
       "      <td>0.041363</td>\n",
       "      <td>0.028239</td>\n",
       "      <td>1771</td>\n",
       "      <td>9863</td>\n",
       "    </tr>\n",
       "    <tr>\n",
       "      <th>3</th>\n",
       "      <td>(0.0676, 0.0849]</td>\n",
       "      <td>1238</td>\n",
       "      <td>104</td>\n",
       "      <td>0.067567</td>\n",
       "      <td>0.075839</td>\n",
       "      <td>0.084006</td>\n",
       "      <td>0.057586</td>\n",
       "      <td>1720</td>\n",
       "      <td>8630</td>\n",
       "    </tr>\n",
       "    <tr>\n",
       "      <th>4</th>\n",
       "      <td>(0.0849, 0.107]</td>\n",
       "      <td>1229</td>\n",
       "      <td>124</td>\n",
       "      <td>0.084960</td>\n",
       "      <td>0.095817</td>\n",
       "      <td>0.100895</td>\n",
       "      <td>0.068660</td>\n",
       "      <td>1616</td>\n",
       "      <td>7392</td>\n",
       "    </tr>\n",
       "    <tr>\n",
       "      <th>5</th>\n",
       "      <td>(0.107, 0.135]</td>\n",
       "      <td>1235</td>\n",
       "      <td>183</td>\n",
       "      <td>0.107326</td>\n",
       "      <td>0.120863</td>\n",
       "      <td>0.148178</td>\n",
       "      <td>0.101329</td>\n",
       "      <td>1492</td>\n",
       "      <td>6163</td>\n",
       "    </tr>\n",
       "    <tr>\n",
       "      <th>6</th>\n",
       "      <td>(0.135, 0.169]</td>\n",
       "      <td>1229</td>\n",
       "      <td>188</td>\n",
       "      <td>0.134751</td>\n",
       "      <td>0.149879</td>\n",
       "      <td>0.152970</td>\n",
       "      <td>0.104097</td>\n",
       "      <td>1309</td>\n",
       "      <td>4928</td>\n",
       "    </tr>\n",
       "    <tr>\n",
       "      <th>7</th>\n",
       "      <td>(0.169, 0.219]</td>\n",
       "      <td>1257</td>\n",
       "      <td>279</td>\n",
       "      <td>0.168661</td>\n",
       "      <td>0.190919</td>\n",
       "      <td>0.221957</td>\n",
       "      <td>0.154485</td>\n",
       "      <td>1121</td>\n",
       "      <td>3699</td>\n",
       "    </tr>\n",
       "    <tr>\n",
       "      <th>8</th>\n",
       "      <td>(0.219, 0.307]</td>\n",
       "      <td>1209</td>\n",
       "      <td>351</td>\n",
       "      <td>0.218994</td>\n",
       "      <td>0.259061</td>\n",
       "      <td>0.290323</td>\n",
       "      <td>0.194352</td>\n",
       "      <td>842</td>\n",
       "      <td>2442</td>\n",
       "    </tr>\n",
       "    <tr>\n",
       "      <th>9</th>\n",
       "      <td>(0.307, 0.938]</td>\n",
       "      <td>1233</td>\n",
       "      <td>491</td>\n",
       "      <td>0.307433</td>\n",
       "      <td>0.423514</td>\n",
       "      <td>0.398216</td>\n",
       "      <td>0.271872</td>\n",
       "      <td>491</td>\n",
       "      <td>1233</td>\n",
       "    </tr>\n",
       "  </tbody>\n",
       "</table>\n",
       "</div>"
      ],
      "text/plain": [
       "           q_bucket  count  ...  cumulative_response_count  cumulative_count\n",
       "0  (0.00149, 0.033]   1233  ...                       1806             12329\n",
       "1   (0.033, 0.0525]   1233  ...                       1798             11096\n",
       "2  (0.0525, 0.0676]   1233  ...                       1771              9863\n",
       "3  (0.0676, 0.0849]   1238  ...                       1720              8630\n",
       "4   (0.0849, 0.107]   1229  ...                       1616              7392\n",
       "5    (0.107, 0.135]   1235  ...                       1492              6163\n",
       "6    (0.135, 0.169]   1229  ...                       1309              4928\n",
       "7    (0.169, 0.219]   1257  ...                       1121              3699\n",
       "8    (0.219, 0.307]   1209  ...                        842              2442\n",
       "9    (0.307, 0.938]   1233  ...                        491              1233\n",
       "\n",
       "[10 rows x 9 columns]"
      ]
     },
     "execution_count": 42,
     "metadata": {},
     "output_type": "execute_result"
    }
   ],
   "source": [
    "calib_table['cumulative_response_count'] = calib_table['response_count'].cumsum()\n",
    "calib_table['cumulative_count'] = calib_table['count'].cumsum()\n",
    "calib_table = calib_table.sort_index(ascending=True)\n",
    "calib_table\n"
   ]
  },
  {
   "cell_type": "code",
   "execution_count": 43,
   "metadata": {
    "colab": {
     "base_uri": "https://localhost:8080/",
     "height": 557
    },
    "id": "zuHIQQrAj8DM",
    "outputId": "3353b44e-7194-4b0b-e98c-39e015732c22"
   },
   "outputs": [
    {
     "data": {
      "text/html": [
       "<div>\n",
       "<style scoped>\n",
       "    .dataframe tbody tr th:only-of-type {\n",
       "        vertical-align: middle;\n",
       "    }\n",
       "\n",
       "    .dataframe tbody tr th {\n",
       "        vertical-align: top;\n",
       "    }\n",
       "\n",
       "    .dataframe thead th {\n",
       "        text-align: right;\n",
       "    }\n",
       "</style>\n",
       "<table border=\"1\" class=\"dataframe\">\n",
       "  <thead>\n",
       "    <tr style=\"text-align: right;\">\n",
       "      <th></th>\n",
       "      <th>q_bucket</th>\n",
       "      <th>count</th>\n",
       "      <th>response_count</th>\n",
       "      <th>min_probability</th>\n",
       "      <th>mean_probability</th>\n",
       "      <th>precision</th>\n",
       "      <th>response_fraction</th>\n",
       "      <th>cumulative_response_count</th>\n",
       "      <th>cumulative_count</th>\n",
       "      <th>cumulative_precision</th>\n",
       "      <th>cumulative_response_fraction</th>\n",
       "    </tr>\n",
       "  </thead>\n",
       "  <tbody>\n",
       "    <tr>\n",
       "      <th>0</th>\n",
       "      <td>(0.00149, 0.033]</td>\n",
       "      <td>1233</td>\n",
       "      <td>8</td>\n",
       "      <td>0.002487</td>\n",
       "      <td>0.021294</td>\n",
       "      <td>0.006488</td>\n",
       "      <td>0.004430</td>\n",
       "      <td>1806</td>\n",
       "      <td>12329</td>\n",
       "      <td>0.146484</td>\n",
       "      <td>1.000000</td>\n",
       "    </tr>\n",
       "    <tr>\n",
       "      <th>1</th>\n",
       "      <td>(0.033, 0.0525]</td>\n",
       "      <td>1233</td>\n",
       "      <td>27</td>\n",
       "      <td>0.032996</td>\n",
       "      <td>0.043321</td>\n",
       "      <td>0.021898</td>\n",
       "      <td>0.014950</td>\n",
       "      <td>1798</td>\n",
       "      <td>11096</td>\n",
       "      <td>0.162040</td>\n",
       "      <td>0.995570</td>\n",
       "    </tr>\n",
       "    <tr>\n",
       "      <th>2</th>\n",
       "      <td>(0.0525, 0.0676]</td>\n",
       "      <td>1233</td>\n",
       "      <td>51</td>\n",
       "      <td>0.052488</td>\n",
       "      <td>0.059891</td>\n",
       "      <td>0.041363</td>\n",
       "      <td>0.028239</td>\n",
       "      <td>1771</td>\n",
       "      <td>9863</td>\n",
       "      <td>0.179560</td>\n",
       "      <td>0.980620</td>\n",
       "    </tr>\n",
       "    <tr>\n",
       "      <th>3</th>\n",
       "      <td>(0.0676, 0.0849]</td>\n",
       "      <td>1238</td>\n",
       "      <td>104</td>\n",
       "      <td>0.067567</td>\n",
       "      <td>0.075839</td>\n",
       "      <td>0.084006</td>\n",
       "      <td>0.057586</td>\n",
       "      <td>1720</td>\n",
       "      <td>8630</td>\n",
       "      <td>0.199305</td>\n",
       "      <td>0.952381</td>\n",
       "    </tr>\n",
       "    <tr>\n",
       "      <th>4</th>\n",
       "      <td>(0.0849, 0.107]</td>\n",
       "      <td>1229</td>\n",
       "      <td>124</td>\n",
       "      <td>0.084960</td>\n",
       "      <td>0.095817</td>\n",
       "      <td>0.100895</td>\n",
       "      <td>0.068660</td>\n",
       "      <td>1616</td>\n",
       "      <td>7392</td>\n",
       "      <td>0.218615</td>\n",
       "      <td>0.894795</td>\n",
       "    </tr>\n",
       "    <tr>\n",
       "      <th>5</th>\n",
       "      <td>(0.107, 0.135]</td>\n",
       "      <td>1235</td>\n",
       "      <td>183</td>\n",
       "      <td>0.107326</td>\n",
       "      <td>0.120863</td>\n",
       "      <td>0.148178</td>\n",
       "      <td>0.101329</td>\n",
       "      <td>1492</td>\n",
       "      <td>6163</td>\n",
       "      <td>0.242090</td>\n",
       "      <td>0.826135</td>\n",
       "    </tr>\n",
       "    <tr>\n",
       "      <th>6</th>\n",
       "      <td>(0.135, 0.169]</td>\n",
       "      <td>1229</td>\n",
       "      <td>188</td>\n",
       "      <td>0.134751</td>\n",
       "      <td>0.149879</td>\n",
       "      <td>0.152970</td>\n",
       "      <td>0.104097</td>\n",
       "      <td>1309</td>\n",
       "      <td>4928</td>\n",
       "      <td>0.265625</td>\n",
       "      <td>0.724806</td>\n",
       "    </tr>\n",
       "    <tr>\n",
       "      <th>7</th>\n",
       "      <td>(0.169, 0.219]</td>\n",
       "      <td>1257</td>\n",
       "      <td>279</td>\n",
       "      <td>0.168661</td>\n",
       "      <td>0.190919</td>\n",
       "      <td>0.221957</td>\n",
       "      <td>0.154485</td>\n",
       "      <td>1121</td>\n",
       "      <td>3699</td>\n",
       "      <td>0.303055</td>\n",
       "      <td>0.620709</td>\n",
       "    </tr>\n",
       "    <tr>\n",
       "      <th>8</th>\n",
       "      <td>(0.219, 0.307]</td>\n",
       "      <td>1209</td>\n",
       "      <td>351</td>\n",
       "      <td>0.218994</td>\n",
       "      <td>0.259061</td>\n",
       "      <td>0.290323</td>\n",
       "      <td>0.194352</td>\n",
       "      <td>842</td>\n",
       "      <td>2442</td>\n",
       "      <td>0.344799</td>\n",
       "      <td>0.466224</td>\n",
       "    </tr>\n",
       "    <tr>\n",
       "      <th>9</th>\n",
       "      <td>(0.307, 0.938]</td>\n",
       "      <td>1233</td>\n",
       "      <td>491</td>\n",
       "      <td>0.307433</td>\n",
       "      <td>0.423514</td>\n",
       "      <td>0.398216</td>\n",
       "      <td>0.271872</td>\n",
       "      <td>491</td>\n",
       "      <td>1233</td>\n",
       "      <td>0.398216</td>\n",
       "      <td>0.271872</td>\n",
       "    </tr>\n",
       "  </tbody>\n",
       "</table>\n",
       "</div>"
      ],
      "text/plain": [
       "           q_bucket  count  ...  cumulative_precision  cumulative_response_fraction\n",
       "0  (0.00149, 0.033]   1233  ...              0.146484                      1.000000\n",
       "1   (0.033, 0.0525]   1233  ...              0.162040                      0.995570\n",
       "2  (0.0525, 0.0676]   1233  ...              0.179560                      0.980620\n",
       "3  (0.0676, 0.0849]   1238  ...              0.199305                      0.952381\n",
       "4   (0.0849, 0.107]   1229  ...              0.218615                      0.894795\n",
       "5    (0.107, 0.135]   1235  ...              0.242090                      0.826135\n",
       "6    (0.135, 0.169]   1229  ...              0.265625                      0.724806\n",
       "7    (0.169, 0.219]   1257  ...              0.303055                      0.620709\n",
       "8    (0.219, 0.307]   1209  ...              0.344799                      0.466224\n",
       "9    (0.307, 0.938]   1233  ...              0.398216                      0.271872\n",
       "\n",
       "[10 rows x 11 columns]"
      ]
     },
     "execution_count": 43,
     "metadata": {},
     "output_type": "execute_result"
    }
   ],
   "source": [
    "calib_table['cumulative_precision'] = calib_table['cumulative_response_count']/calib_table['cumulative_count']\n",
    "calib_table['cumulative_response_fraction'] = calib_table['cumulative_response_count'] / calib_table['response_count'].sum()\n",
    "calib_table"
   ]
  },
  {
   "cell_type": "markdown",
   "metadata": {
    "id": "-y2hTzaqx_4n"
   },
   "source": [
    "# Calibration Curve"
   ]
  },
  {
   "cell_type": "code",
   "execution_count": 44,
   "metadata": {
    "colab": {
     "base_uri": "https://localhost:8080/",
     "height": 298
    },
    "id": "A206Ib9qw7Ae",
    "outputId": "0dd107d2-9e3d-4b9e-8fff-a415a3657e26"
   },
   "outputs": [
    {
     "data": {
      "text/plain": [
       "<matplotlib.axes._subplots.AxesSubplot at 0x7f52b75c0cd0>"
      ]
     },
     "execution_count": 44,
     "metadata": {},
     "output_type": "execute_result"
    },
    {
     "data": {
      "image/png": "[encoded data removed]",
      "text/plain": [
       "<Figure size 432x288 with 1 Axes>"
      ]
     },
     "metadata": {
      "needs_background": "light"
     },
     "output_type": "display_data"
    }
   ],
   "source": [
    "calib_table.plot(x='mean_probability', y='response_fraction', marker='o')"
   ]
  },
  {
   "cell_type": "markdown",
   "metadata": {
    "id": "mignFaOSgPWn"
   },
   "source": [
    "#  Receiver operating characteristic (ROC)"
   ]
  },
  {
   "cell_type": "code",
   "execution_count": 45,
   "metadata": {
    "colab": {
     "base_uri": "https://localhost:8080/",
     "height": 270
    },
    "id": "59iL-rrRsxbT",
    "outputId": "d82a8b6b-ca98-4734-f881-b393b187d8fb"
   },
   "outputs": [
    {
     "name": "stdout",
     "output_type": "stream",
     "text": [
      "ROC AUC Score = 0.7654605968321881\n"
     ]
    },
    {
     "data": {
      "image/png": "[encoded data removed]",
      "text/plain": [
       "<Figure size 432x288 with 2 Axes>"
      ]
     },
     "metadata": {
      "needs_background": "light"
     },
     "output_type": "display_data"
    }
   ],
   "source": [
    "cmap = cm.get_cmap('cool') \n",
    "\n",
    "fpr, tpr, thresholds = metrics.roc_curve(test_result['y_act'], test_result['y_pred_prob'], pos_label=1)\n",
    "\n",
    "roc = pd.DataFrame(data={'Thresholds':thresholds[1:], 'FPR':fpr[1:], 'TPR':tpr[1:]})\n",
    "roc.plot(kind='scatter', x='FPR', y='TPR', c='Thresholds', cmap=cmap)\n",
    "\n",
    "roc_auc = metrics.roc_auc_score(test_result['y_act'], test_result['y_pred_prob'])\n",
    "\n",
    "print(F\"ROC AUC Score = {roc_auc}\")"
   ]
  },
  {
   "cell_type": "code",
   "execution_count": 46,
   "metadata": {
    "colab": {
     "base_uri": "https://localhost:8080/",
     "height": 206
    },
    "id": "GJ0YdchVjm3J",
    "outputId": "a52e313f-ae51-43f7-a718-e32693adf1ed"
   },
   "outputs": [
    {
     "data": {
      "text/html": [
       "<div>\n",
       "<style scoped>\n",
       "    .dataframe tbody tr th:only-of-type {\n",
       "        vertical-align: middle;\n",
       "    }\n",
       "\n",
       "    .dataframe tbody tr th {\n",
       "        vertical-align: top;\n",
       "    }\n",
       "\n",
       "    .dataframe thead th {\n",
       "        text-align: right;\n",
       "    }\n",
       "</style>\n",
       "<table border=\"1\" class=\"dataframe\">\n",
       "  <thead>\n",
       "    <tr style=\"text-align: right;\">\n",
       "      <th></th>\n",
       "      <th>Thresholds</th>\n",
       "      <th>FPR</th>\n",
       "      <th>TPR</th>\n",
       "    </tr>\n",
       "  </thead>\n",
       "  <tbody>\n",
       "    <tr>\n",
       "      <th>0</th>\n",
       "      <td>0.937528</td>\n",
       "      <td>0.000095</td>\n",
       "      <td>0.000000</td>\n",
       "    </tr>\n",
       "    <tr>\n",
       "      <th>1</th>\n",
       "      <td>0.837060</td>\n",
       "      <td>0.000380</td>\n",
       "      <td>0.000000</td>\n",
       "    </tr>\n",
       "    <tr>\n",
       "      <th>2</th>\n",
       "      <td>0.813069</td>\n",
       "      <td>0.000380</td>\n",
       "      <td>0.000554</td>\n",
       "    </tr>\n",
       "    <tr>\n",
       "      <th>3</th>\n",
       "      <td>0.799831</td>\n",
       "      <td>0.000665</td>\n",
       "      <td>0.000554</td>\n",
       "    </tr>\n",
       "    <tr>\n",
       "      <th>4</th>\n",
       "      <td>0.795568</td>\n",
       "      <td>0.000665</td>\n",
       "      <td>0.001107</td>\n",
       "    </tr>\n",
       "  </tbody>\n",
       "</table>\n",
       "</div>"
      ],
      "text/plain": [
       "   Thresholds       FPR       TPR\n",
       "0    0.937528  0.000095  0.000000\n",
       "1    0.837060  0.000380  0.000000\n",
       "2    0.813069  0.000380  0.000554\n",
       "3    0.799831  0.000665  0.000554\n",
       "4    0.795568  0.000665  0.001107"
      ]
     },
     "execution_count": 46,
     "metadata": {},
     "output_type": "execute_result"
    }
   ],
   "source": [
    "roc.head()"
   ]
  },
  {
   "cell_type": "markdown",
   "metadata": {
    "id": "3Xq64up_gWJ7"
   },
   "source": [
    "# Precision Recall Curve (PRC)"
   ]
  },
  {
   "cell_type": "code",
   "execution_count": 47,
   "metadata": {
    "colab": {
     "base_uri": "https://localhost:8080/",
     "height": 270
    },
    "id": "-N4JxSHC7LV-",
    "outputId": "99ed59b9-c859-40c6-97ed-abd6cca0cf4f"
   },
   "outputs": [
    {
     "data": {
      "text/plain": [
       "<matplotlib.axes._subplots.AxesSubplot at 0x7f52b6fced10>"
      ]
     },
     "execution_count": 47,
     "metadata": {},
     "output_type": "execute_result"
    },
    {
     "data": {
      "image/png": "[encoded data removed]",
      "text/plain": [
       "<Figure size 432x288 with 2 Axes>"
      ]
     },
     "metadata": {
      "needs_background": "light"
     },
     "output_type": "display_data"
    }
   ],
   "source": [
    "precision, recall, thresholds = metrics.precision_recall_curve(test_result['y_act'], test_result['y_pred_prob'], pos_label=1)\n",
    "\n",
    "prc = pd.DataFrame(data={'Thresholds':thresholds, 'Precision':precision[:-1], 'Recall':recall[:-1]})\n",
    "prc.plot(kind='scatter', x='Recall', y='Precision', c='Thresholds', cmap=cmap)"
   ]
  },
  {
   "cell_type": "markdown",
   "metadata": {
    "id": "VWUOKcxDyUxL"
   },
   "source": [
    "<hr>\n",
    "Last update 2021-10-16 by Sumudu Tennakoon\n",
    "\n",
    "<a rel=\"license\" href=\"http://creativecommons.org/licenses/by-nc-sa/4.0/\"><img alt=\"Creative Commons License\" style=\"border-width:0\" src=\"https://i.creativecommons.org/l/by-nc-sa/4.0/88x31.png\" /></a><br />This work is licensed under a <a rel=\"license\" href=\"http://creativecommons.org/licenses/by-nc-sa/4.0/\">Creative Commons Attribution-NonCommercial-ShareAlike 4.0 International License</a>."
   ]
  }
 ],
 "metadata": {
  "colab": {
   "collapsed_sections": [],
   "name": "10-EvaluatingModelPerformance-Classification.ipynb",
   "provenance": []
  },
  "kernelspec": {
   "display_name": "Python 3",
   "language": "python",
   "name": "python3"
  },
  "language_info": {
   "codemirror_mode": {
    "name": "ipython",
    "version": 3
   },
   "file_extension": ".py",
   "mimetype": "text/x-python",
   "name": "python",
   "nbconvert_exporter": "python",
   "pygments_lexer": "ipython3",
   "version": "3.7.7"
  }
 },
 "nbformat": 4,
 "nbformat_minor": 1
}
