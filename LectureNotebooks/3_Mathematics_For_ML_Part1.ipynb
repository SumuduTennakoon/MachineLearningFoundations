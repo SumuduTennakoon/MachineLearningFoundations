{
 "cells": [
  {
   "cell_type": "markdown",
   "metadata": {
    "id": "4ed28a79"
   },
   "source": [
    "# Machine Learning Foundations\n",
    "Sumudu Tennakoon, PhD"
   ]
  },
  {
   "cell_type": "markdown",
   "metadata": {
    "id": "7cc20808"
   },
   "source": [
    "# Vectors Matrices and Tensors\n",
    "\n",
    "In this notebook we will explore how implement and use vectors, matrices and tensors in Python. We first get introduced to the concepts and then look into applications.\n",
    "\n",
    "To learn more about Python, refeer to the following websites\n",
    "- Python : www.python.org\n",
    "\n",
    "To learn more about the Python packages we explore in this notebook, refeer to the following websites\n",
    "\n",
    "- NumPy : www.numpy.org\n",
    "- SciPy : www.scipy.org\n",
    "- Matplotlib : www.matplotlib.org\n",
    "- Scikit-image : https://scikit-image.org/"
   ]
  },
  {
   "cell_type": "code",
   "execution_count": 1,
   "metadata": {
    "id": "26d65478"
   },
   "outputs": [],
   "source": [
    "import numpy as np"
   ]
  },
  {
   "cell_type": "markdown",
   "metadata": {
    "id": "f3d5e2b9"
   },
   "source": [
    "# Scalar"
   ]
  },
  {
   "cell_type": "code",
   "execution_count": 2,
   "metadata": {
    "colab": {
     "base_uri": "https://localhost:8080/"
    },
    "id": "4d5f00fa",
    "outputId": "c800ef22-f614-4be5-a73e-e3454293c997"
   },
   "outputs": [
    {
     "name": "stdout",
     "output_type": "stream",
     "text": [
      "temperature = 25\n"
     ]
    }
   ],
   "source": [
    "temperature = 25\n",
    "print(F\"temperature = {temperature}\")"
   ]
  },
  {
   "cell_type": "markdown",
   "metadata": {
    "id": "1ed88cb8"
   },
   "source": [
    "# Vector"
   ]
  },
  {
   "cell_type": "code",
   "execution_count": 3,
   "metadata": {
    "colab": {
     "base_uri": "https://localhost:8080/"
    },
    "id": "843d1de3",
    "outputId": "31196cec-c965-4219-9583-01b8f7a66dbc"
   },
   "outputs": [
    {
     "name": "stdout",
     "output_type": "stream",
     "text": [
      "distance = [2 1 0]\n"
     ]
    }
   ],
   "source": [
    "distance = np.array([2, 1, 0])\n",
    "print(F\"distance = {distance}\")"
   ]
  },
  {
   "cell_type": "code",
   "execution_count": 4,
   "metadata": {
    "colab": {
     "base_uri": "https://localhost:8080/"
    },
    "id": "shzv2uXHQl0Q",
    "outputId": "4e9c33ad-5e8f-4d42-d236-8d5a2edc32e0"
   },
   "outputs": [
    {
     "data": {
      "text/plain": [
       "(3,)"
      ]
     },
     "execution_count": 4,
     "metadata": {},
     "output_type": "execute_result"
    }
   ],
   "source": [
    "distance.shape"
   ]
  },
  {
   "cell_type": "code",
   "execution_count": 5,
   "metadata": {
    "colab": {
     "base_uri": "https://localhost:8080/"
    },
    "id": "903453e7",
    "outputId": "466e524d-513a-46de-d326-3384ac3e29eb"
   },
   "outputs": [
    {
     "name": "stdout",
     "output_type": "stream",
     "text": [
      "distance (column) =\n",
      "[[2]\n",
      " [1]\n",
      " [0]]\n"
     ]
    }
   ],
   "source": [
    "distance_c = distance.reshape(3,1)\n",
    "print(F\"distance (column) =\\n{distance_c}\")"
   ]
  },
  {
   "cell_type": "code",
   "execution_count": 6,
   "metadata": {
    "colab": {
     "base_uri": "https://localhost:8080/"
    },
    "id": "9c963ec5",
    "outputId": "cd1be679-b712-43c4-fe06-2fefd98f9b0c"
   },
   "outputs": [
    {
     "name": "stdout",
     "output_type": "stream",
     "text": [
      "legth of distance array = 3\n"
     ]
    }
   ],
   "source": [
    "print(F\"legth of distance array = {len(distance)}\") "
   ]
  },
  {
   "cell_type": "code",
   "execution_count": 7,
   "metadata": {
    "colab": {
     "base_uri": "https://localhost:8080/"
    },
    "id": "6a72e7a3",
    "outputId": "914c6f53-a4f4-4a4e-f326-8a27c16b5e75"
   },
   "outputs": [
    {
     "name": "stdout",
     "output_type": "stream",
     "text": [
      "shpae of distance array = (3,)\n"
     ]
    }
   ],
   "source": [
    "print(F\"shpae of distance array = {distance.shape}\") "
   ]
  },
  {
   "cell_type": "code",
   "execution_count": 8,
   "metadata": {
    "colab": {
     "base_uri": "https://localhost:8080/"
    },
    "id": "b9b63a56",
    "outputId": "ff292a3b-068f-4553-f785-29a388bfe0cd"
   },
   "outputs": [
    {
     "name": "stdout",
     "output_type": "stream",
     "text": [
      "distance array is 1 dimentional\n"
     ]
    }
   ],
   "source": [
    "print(F\"distance array is {len(distance.shape)} dimentional\") "
   ]
  },
  {
   "cell_type": "markdown",
   "metadata": {
    "id": "7f869825"
   },
   "source": [
    "### Vector Operations"
   ]
  },
  {
   "cell_type": "code",
   "execution_count": 9,
   "metadata": {
    "colab": {
     "base_uri": "https://localhost:8080/"
    },
    "id": "bc1d9a48",
    "outputId": "ce2b8ee1-bc88-4f9f-c45d-63abc419d7ec"
   },
   "outputs": [
    {
     "name": "stdout",
     "output_type": "stream",
     "text": [
      "Vecor A = [1 2 3]\n",
      "Vecor B = [4 5 6]\n"
     ]
    }
   ],
   "source": [
    "A = np.array([1,2,3])\n",
    "B = np.array([4,5,6])\n",
    "\n",
    "print(F\"Vecor A = {A}\")\n",
    "print(F\"Vecor B = {B}\")"
   ]
  },
  {
   "cell_type": "code",
   "execution_count": 10,
   "metadata": {
    "colab": {
     "base_uri": "https://localhost:8080/"
    },
    "id": "c79f8a88",
    "outputId": "b47958e1-1ed6-4cf2-bf55-d6c39a91c2f0"
   },
   "outputs": [
    {
     "name": "stdout",
     "output_type": "stream",
     "text": [
      "A+B = [5 7 9]\n",
      "A-B = [-3 -3 -3]\n"
     ]
    }
   ],
   "source": [
    "# Addtion/Substraction\n",
    "print(F\"A+B = {A+B}\")\n",
    "print(F\"A-B = {A-B}\")"
   ]
  },
  {
   "cell_type": "code",
   "execution_count": 11,
   "metadata": {
    "colab": {
     "base_uri": "https://localhost:8080/"
    },
    "id": "2d52ac6a",
    "outputId": "4085bd12-c9a8-4694-9232-f540a487b818"
   },
   "outputs": [
    {
     "name": "stdout",
     "output_type": "stream",
     "text": [
      "2A = [2 4 6]\n"
     ]
    }
   ],
   "source": [
    "# Scalar multiplication\n",
    "print(F\"2A = {A*2}\")"
   ]
  },
  {
   "cell_type": "code",
   "execution_count": 12,
   "metadata": {
    "colab": {
     "base_uri": "https://localhost:8080/"
    },
    "id": "7393371f",
    "outputId": "63004e8f-0600-4340-8e43-69abc1ce540e"
   },
   "outputs": [
    {
     "name": "stdout",
     "output_type": "stream",
     "text": [
      "A*B = [ 4 10 18]\n"
     ]
    }
   ],
   "source": [
    "# Elementwise multiplication\n",
    "print(F\"A*B = {A*B}\")"
   ]
  },
  {
   "cell_type": "code",
   "execution_count": 13,
   "metadata": {
    "colab": {
     "base_uri": "https://localhost:8080/"
    },
    "id": "1bc4d2ea",
    "outputId": "b196507e-80f3-455a-d83b-fe7698477dac"
   },
   "outputs": [
    {
     "name": "stdout",
     "output_type": "stream",
     "text": [
      "A.B = 32\n",
      "A.B = 32\n"
     ]
    }
   ],
   "source": [
    "# Dot Product (Scalar Product) A.B\n",
    "print(F\"A.B = {A.dot(B)}\")\n",
    "print(F\"A.B = {np.dot(A,B)}\")"
   ]
  },
  {
   "cell_type": "code",
   "execution_count": 14,
   "metadata": {
    "colab": {
     "base_uri": "https://localhost:8080/"
    },
    "id": "10040927",
    "outputId": "6b5ac500-cf70-4837-c026-4ebf2d620842"
   },
   "outputs": [
    {
     "name": "stdout",
     "output_type": "stream",
     "text": [
      "AxB = [-3  6 -3]\n"
     ]
    }
   ],
   "source": [
    "# Vector Product (Cross Product)\n",
    "print(F\"AxB = {np.cross(A,B)}\")"
   ]
  },
  {
   "cell_type": "markdown",
   "metadata": {
    "id": "6a4e54ab"
   },
   "source": [
    "# Matrix"
   ]
  },
  {
   "cell_type": "code",
   "execution_count": 15,
   "metadata": {
    "colab": {
     "base_uri": "https://localhost:8080/"
    },
    "id": "0c744c71",
    "outputId": "59a0c491-0b84-4e26-903a-a8a094682fa7"
   },
   "outputs": [
    {
     "name": "stdout",
     "output_type": "stream",
     "text": [
      " A = \n",
      " [[1 2 3]\n",
      " [4 5 6]]\n"
     ]
    }
   ],
   "source": [
    "A = np.array([[1, 2, 3], [4, 5, 6]])\n",
    "             \n",
    "# alt method : A = np.arange(1,7).reshape(2, 3)\n",
    "             \n",
    "print(F\" A = \\n {A}\") "
   ]
  },
  {
   "cell_type": "code",
   "execution_count": 16,
   "metadata": {
    "colab": {
     "base_uri": "https://localhost:8080/"
    },
    "id": "f2a61521",
    "outputId": "13a462d7-b79f-4d77-da94-8607d6409833"
   },
   "outputs": [
    {
     "name": "stdout",
     "output_type": "stream",
     "text": [
      "legth of A array = 2\n",
      "shpae of A array = (2, 3)\n",
      "A array is 2 dimentional\n"
     ]
    }
   ],
   "source": [
    "print(F\"legth of A array = {len(A)}\") \n",
    "print(F\"shpae of A array = {A.shape}\")  #dimensions \n",
    "print(F\"A array is {len(A.shape)} dimentional\") "
   ]
  },
  {
   "cell_type": "markdown",
   "metadata": {
    "id": "958a36b7"
   },
   "source": [
    "### Transpose"
   ]
  },
  {
   "cell_type": "code",
   "execution_count": 17,
   "metadata": {
    "colab": {
     "base_uri": "https://localhost:8080/"
    },
    "id": "FEe6Mw_gSP5i",
    "outputId": "aa09a128-9b08-4677-f837-20b62f03c3ba"
   },
   "outputs": [
    {
     "data": {
      "text/plain": [
       "array([[1, 2, 3],\n",
       "       [4, 5, 6]])"
      ]
     },
     "execution_count": 17,
     "metadata": {},
     "output_type": "execute_result"
    }
   ],
   "source": [
    "A"
   ]
  },
  {
   "cell_type": "code",
   "execution_count": 18,
   "metadata": {
    "colab": {
     "base_uri": "https://localhost:8080/"
    },
    "id": "07bc071c",
    "outputId": "9ed7353f-5aef-4601-ae47-14d9f12bdc41"
   },
   "outputs": [
    {
     "name": "stdout",
     "output_type": "stream",
     "text": [
      " A_t = \n",
      " [[1 4]\n",
      " [2 5]\n",
      " [3 6]]\n"
     ]
    }
   ],
   "source": [
    "A_t = A.T\n",
    "\n",
    "print(F\" A_t = \\n {A_t}\") "
   ]
  },
  {
   "cell_type": "code",
   "execution_count": 19,
   "metadata": {
    "colab": {
     "base_uri": "https://localhost:8080/"
    },
    "id": "0cd406a2",
    "outputId": "e83328f2-18c4-416b-fe3c-f0448b1ff443"
   },
   "outputs": [
    {
     "name": "stdout",
     "output_type": "stream",
     "text": [
      "legth of A_t array = 3\n",
      "shpae of A_t array = (3, 2)\n",
      "A_t array is 2 dimentional\n"
     ]
    }
   ],
   "source": [
    "print(F\"legth of A_t array = {len(A_t)}\") \n",
    "print(F\"shpae of A_t array = {A_t.shape}\") \n",
    "print(F\"A_t array is {len(A_t.shape)} dimentional\") "
   ]
  },
  {
   "cell_type": "markdown",
   "metadata": {
    "id": "6ba285e1"
   },
   "source": [
    "### Sum of Elements"
   ]
  },
  {
   "cell_type": "code",
   "execution_count": 20,
   "metadata": {
    "colab": {
     "base_uri": "https://localhost:8080/"
    },
    "id": "3d3ac3f1",
    "outputId": "7bc7b738-7b2e-452e-bcc1-e9e86cee2cbf"
   },
   "outputs": [
    {
     "name": "stdout",
     "output_type": "stream",
     "text": [
      "Sum of elements of A = 21\n"
     ]
    }
   ],
   "source": [
    "print(F\"Sum of elements of A = {A.sum()}\")"
   ]
  },
  {
   "cell_type": "markdown",
   "metadata": {
    "id": "0fef8cb4"
   },
   "source": [
    "### Squre Matrix"
   ]
  },
  {
   "cell_type": "code",
   "execution_count": 21,
   "metadata": {
    "colab": {
     "base_uri": "https://localhost:8080/"
    },
    "id": "ff685864",
    "outputId": "282a8e98-df4c-4c5d-ac45-6bc8278d516d"
   },
   "outputs": [
    {
     "name": "stdout",
     "output_type": "stream",
     "text": [
      "B =\n",
      "[[1 2 3]\n",
      " [4 5 6]\n",
      " [7 8 9]]\n"
     ]
    }
   ],
   "source": [
    "B = np.array([[1, 2, 3], [4, 5, 6], [7, 8, 9]])\n",
    "print(F\"B =\\n{B}\")"
   ]
  },
  {
   "cell_type": "code",
   "execution_count": 22,
   "metadata": {
    "colab": {
     "base_uri": "https://localhost:8080/"
    },
    "id": "b36bfbe4",
    "outputId": "ebc3b583-b222-4b47-d304-596a48f4148b"
   },
   "outputs": [
    {
     "name": "stdout",
     "output_type": "stream",
     "text": [
      "legth of B array = 3\n",
      "shpae of B array = (3, 3)\n",
      "B array is 2 dimentional\n"
     ]
    }
   ],
   "source": [
    "print(F\"legth of B array = {len(B)}\") \n",
    "print(F\"shpae of B array = {B.shape}\")  #dimensions \n",
    "print(F\"B array is {len(B.shape)} dimentional\") "
   ]
  },
  {
   "cell_type": "code",
   "execution_count": 23,
   "metadata": {
    "colab": {
     "base_uri": "https://localhost:8080/"
    },
    "id": "d1053387",
    "outputId": "e937074e-d51c-4ef8-fad1-12d6af224a0c"
   },
   "outputs": [
    {
     "name": "stdout",
     "output_type": "stream",
     "text": [
      "Sum of elements of B = 45\n"
     ]
    }
   ],
   "source": [
    "print(F\"Sum of elements of B = {B.sum()}\")"
   ]
  },
  {
   "cell_type": "code",
   "execution_count": 24,
   "metadata": {
    "colab": {
     "base_uri": "https://localhost:8080/"
    },
    "id": "6ba5f9d3",
    "outputId": "f8ac25cd-d46b-4f60-effb-cc92df961750"
   },
   "outputs": [
    {
     "name": "stdout",
     "output_type": "stream",
     "text": [
      "Diagonal of B = [1 5 9]\n"
     ]
    }
   ],
   "source": [
    "print(F\"Diagonal of B = {B.diagonal()}\")"
   ]
  },
  {
   "cell_type": "code",
   "execution_count": 25,
   "metadata": {
    "colab": {
     "base_uri": "https://localhost:8080/"
    },
    "id": "e37f1ea1",
    "outputId": "a18dc59e-94f6-44f0-8bd7-f590f34b7b37"
   },
   "outputs": [
    {
     "name": "stdout",
     "output_type": "stream",
     "text": [
      "Trace of B = 15\n"
     ]
    }
   ],
   "source": [
    "print(F\"Trace of B = {B.trace()}\")"
   ]
  },
  {
   "cell_type": "code",
   "execution_count": 26,
   "metadata": {
    "colab": {
     "base_uri": "https://localhost:8080/"
    },
    "id": "RK2ppP1uBpOZ",
    "outputId": "42c40677-ad58-487d-a2fd-90c59f20c1be"
   },
   "outputs": [
    {
     "data": {
      "text/plain": [
       "array([[1, 2, 3],\n",
       "       [4, 5, 6],\n",
       "       [7, 8, 9]])"
      ]
     },
     "execution_count": 26,
     "metadata": {},
     "output_type": "execute_result"
    }
   ],
   "source": [
    "B"
   ]
  },
  {
   "cell_type": "code",
   "execution_count": 27,
   "metadata": {
    "colab": {
     "base_uri": "https://localhost:8080/"
    },
    "id": "nidQKtJjS1rY",
    "outputId": "24e9a7d5-0a96-436f-ae1c-21f99c7c5259"
   },
   "outputs": [
    {
     "data": {
      "text/plain": [
       "-9.51619735392994e-16"
      ]
     },
     "execution_count": 27,
     "metadata": {},
     "output_type": "execute_result"
    }
   ],
   "source": [
    "np.linalg.det(B)"
   ]
  },
  {
   "cell_type": "markdown",
   "metadata": {
    "id": "81Zz_vb4ip8u"
   },
   "source": [
    "### Slice Matrix (Extract rows and columns)"
   ]
  },
  {
   "cell_type": "code",
   "execution_count": 28,
   "metadata": {
    "colab": {
     "base_uri": "https://localhost:8080/"
    },
    "id": "66241b7e",
    "outputId": "86a1442a-5888-4bec-f3e1-9e46e3a3873d"
   },
   "outputs": [
    {
     "name": "stdout",
     "output_type": "stream",
     "text": [
      "B[0][0] = 1\n",
      "B[0][1] = 2\n",
      "B[2][2] = 9\n",
      "B[-1][-1] = 9\n"
     ]
    }
   ],
   "source": [
    "print(F\"B[0][0] = {B[0][0]}\") # a11\n",
    "print(F\"B[0][1] = {B[0][1]}\") # a12\n",
    "print(F\"B[2][2] = {B[2][2]}\") # a33\n",
    "print(F\"B[-1][-1] = {B[-1][-1]}\") # Last row last column = a33"
   ]
  },
  {
   "cell_type": "code",
   "execution_count": 29,
   "metadata": {
    "colab": {
     "base_uri": "https://localhost:8080/"
    },
    "id": "708a4887",
    "outputId": "cce5c459-f9f0-459a-8618-c64f3f305738"
   },
   "outputs": [
    {
     "name": "stdout",
     "output_type": "stream",
     "text": [
      "B[0][*] = [1 2 3]\n",
      "B[*][1] =[2 5 8]\n"
     ]
    }
   ],
   "source": [
    "# Extract Row\n",
    "print(F\"B[0][*] = {B[0]}\")\n",
    "\n",
    "# Extract Column\n",
    "print(F\"B[*][1] ={B[:,1]}\") "
   ]
  },
  {
   "cell_type": "markdown",
   "metadata": {
    "id": "J2bPj8yPi4As"
   },
   "source": [
    "### Transpose"
   ]
  },
  {
   "cell_type": "code",
   "execution_count": 30,
   "metadata": {
    "colab": {
     "base_uri": "https://localhost:8080/"
    },
    "id": "a41ad952",
    "outputId": "533b26ae-19e3-43b4-b29e-a7ce24dc551c"
   },
   "outputs": [
    {
     "name": "stdout",
     "output_type": "stream",
     "text": [
      " B = \n",
      " [[1 2 3]\n",
      " [4 5 6]\n",
      " [7 8 9]]\n",
      "\n",
      "\n",
      " B_t = \n",
      " [[1 4 7]\n",
      " [2 5 8]\n",
      " [3 6 9]]\n"
     ]
    }
   ],
   "source": [
    "B_t = B.transpose() # B.T can also be used\n",
    "print(F\" B = \\n {B}\")\n",
    "print(\"\\n\")\n",
    "print(F\" B_t = \\n {B_t}\") "
   ]
  },
  {
   "cell_type": "markdown",
   "metadata": {
    "id": "b6326ffa"
   },
   "source": [
    "### Matrix Operations"
   ]
  },
  {
   "cell_type": "code",
   "execution_count": 31,
   "metadata": {
    "colab": {
     "base_uri": "https://localhost:8080/"
    },
    "id": "09989037",
    "outputId": "400dd4d9-ec81-47ff-d12e-2efdf9614640"
   },
   "outputs": [
    {
     "name": "stdout",
     "output_type": "stream",
     "text": [
      "A =\n",
      "[[1 4 7]\n",
      " [2 5 8]\n",
      " [3 6 9]]\n",
      "B =\n",
      "[[1 2 3]\n",
      " [4 5 6]\n",
      " [7 8 9]]\n"
     ]
    }
   ],
   "source": [
    "A = np.array([[1, 4, 7],  [2, 5, 8],  [3, 6, 9]])\n",
    "print(F\"A =\\n{A}\")\n",
    "print(F\"B =\\n{B}\")"
   ]
  },
  {
   "cell_type": "markdown",
   "metadata": {
    "id": "4zw6_viLi87E"
   },
   "source": [
    "#### Addtion"
   ]
  },
  {
   "cell_type": "code",
   "execution_count": 32,
   "metadata": {
    "colab": {
     "base_uri": "https://localhost:8080/"
    },
    "id": "ee38387a",
    "outputId": "6ecf3d3d-8a33-4215-b194-5faf33153ca6"
   },
   "outputs": [
    {
     "name": "stdout",
     "output_type": "stream",
     "text": [
      "C = A + B =\n",
      "[[ 2  6 10]\n",
      " [ 6 10 14]\n",
      " [10 14 18]]\n"
     ]
    }
   ],
   "source": [
    "C = A + B\n",
    "print(F\"C = A + B =\\n{C}\")"
   ]
  },
  {
   "cell_type": "markdown",
   "metadata": {
    "id": "FSoONAwQi_J4"
   },
   "source": [
    "#### Subtraction"
   ]
  },
  {
   "cell_type": "code",
   "execution_count": 33,
   "metadata": {
    "colab": {
     "base_uri": "https://localhost:8080/"
    },
    "id": "87c83d85",
    "outputId": "ace668e2-f738-4538-b1aa-8243eda45bd1"
   },
   "outputs": [
    {
     "name": "stdout",
     "output_type": "stream",
     "text": [
      "C = A - B =\n",
      "[[ 0  2  4]\n",
      " [-2  0  2]\n",
      " [-4 -2  0]]\n"
     ]
    }
   ],
   "source": [
    "C = A - B\n",
    "print(F\"C = A - B =\\n{C}\")"
   ]
  },
  {
   "cell_type": "markdown",
   "metadata": {
    "id": "gqWogXPWjCd7"
   },
   "source": [
    "#### Scalar Multiplication"
   ]
  },
  {
   "cell_type": "code",
   "execution_count": 34,
   "metadata": {
    "colab": {
     "base_uri": "https://localhost:8080/"
    },
    "id": "a8447494",
    "outputId": "a71257e6-be89-4043-cbc6-f15f9d0018c8"
   },
   "outputs": [
    {
     "name": "stdout",
     "output_type": "stream",
     "text": [
      "C = 2A =\n",
      "[[ 2  8 14]\n",
      " [ 4 10 16]\n",
      " [ 6 12 18]]\n"
     ]
    }
   ],
   "source": [
    "C = A*2\n",
    "print(F\"C = 2A =\\n{C}\")"
   ]
  },
  {
   "cell_type": "markdown",
   "metadata": {
    "id": "CNkhCABljEs-"
   },
   "source": [
    "# Elementwise multiplication"
   ]
  },
  {
   "cell_type": "code",
   "execution_count": 35,
   "metadata": {
    "colab": {
     "base_uri": "https://localhost:8080/"
    },
    "id": "fef1dee8",
    "outputId": "584aea53-0890-4618-db99-d54618d7f37b"
   },
   "outputs": [
    {
     "name": "stdout",
     "output_type": "stream",
     "text": [
      "C = A * B =\n",
      "[[ 1  8 21]\n",
      " [ 8 25 48]\n",
      " [21 48 81]]\n"
     ]
    }
   ],
   "source": [
    "C = A * B\n",
    "print(F\"C = A * B =\\n{C}\")"
   ]
  },
  {
   "cell_type": "markdown",
   "metadata": {
    "id": "ognV-oC7jHMf"
   },
   "source": [
    "#### Matrix Multiplication (Dot Product)"
   ]
  },
  {
   "cell_type": "code",
   "execution_count": 36,
   "metadata": {
    "colab": {
     "base_uri": "https://localhost:8080/"
    },
    "id": "334955dd",
    "outputId": "c7652e5a-4d1f-4a69-84ec-6f0bdf097de2"
   },
   "outputs": [
    {
     "name": "stdout",
     "output_type": "stream",
     "text": [
      "C = A.B =\n",
      "[[ 66  78  90]\n",
      " [ 78  93 108]\n",
      " [ 90 108 126]]\n"
     ]
    }
   ],
   "source": [
    "C = A.dot(B)\n",
    "print(F\"C = A.B =\\n{C}\")"
   ]
  },
  {
   "cell_type": "markdown",
   "metadata": {
    "id": "dd91db02"
   },
   "source": [
    "### Determinant"
   ]
  },
  {
   "cell_type": "code",
   "execution_count": 37,
   "metadata": {
    "colab": {
     "base_uri": "https://localhost:8080/"
    },
    "id": "edb62341",
    "outputId": "30162c2e-d422-4d6c-8d48-0b404ca90307"
   },
   "outputs": [
    {
     "data": {
      "text/plain": [
       "-2.0000000000000004"
      ]
     },
     "execution_count": 37,
     "metadata": {},
     "output_type": "execute_result"
    }
   ],
   "source": [
    "A = np.array([[1, 2], [3, 4]])\n",
    "np.linalg.det(A)"
   ]
  },
  {
   "cell_type": "code",
   "execution_count": 38,
   "metadata": {
    "colab": {
     "base_uri": "https://localhost:8080/"
    },
    "id": "ZvpseimkT_F7",
    "outputId": "01543d03-c801-4963-aa11-55e9acd849c2"
   },
   "outputs": [
    {
     "data": {
      "text/plain": [
       "array([[1, 2],\n",
       "       [3, 4]])"
      ]
     },
     "execution_count": 38,
     "metadata": {},
     "output_type": "execute_result"
    }
   ],
   "source": [
    "A "
   ]
  },
  {
   "cell_type": "markdown",
   "metadata": {
    "id": "98904109"
   },
   "source": [
    "### Inverse"
   ]
  },
  {
   "cell_type": "code",
   "execution_count": 39,
   "metadata": {
    "colab": {
     "base_uri": "https://localhost:8080/"
    },
    "id": "6fc156a3",
    "outputId": "473b1e10-6192-43f6-b586-18a6301834ef"
   },
   "outputs": [
    {
     "data": {
      "text/plain": [
       "array([[-2. ,  1. ],\n",
       "       [ 1.5, -0.5]])"
      ]
     },
     "execution_count": 39,
     "metadata": {},
     "output_type": "execute_result"
    }
   ],
   "source": [
    "np.linalg.inv(A)"
   ]
  },
  {
   "cell_type": "markdown",
   "metadata": {
    "id": "408caeef"
   },
   "source": [
    "# Tensors"
   ]
  },
  {
   "cell_type": "code",
   "execution_count": 40,
   "metadata": {
    "colab": {
     "base_uri": "https://localhost:8080/"
    },
    "id": "d3a72806",
    "outputId": "7b043172-970c-46cc-cbd4-7d96b200ed37"
   },
   "outputs": [
    {
     "name": "stdout",
     "output_type": "stream",
     "text": [
      " B = \n",
      " [[[ 1  2]\n",
      "  [ 3  4]]\n",
      "\n",
      " [[ 5  6]\n",
      "  [ 7  8]]\n",
      "\n",
      " [[ 9 10]\n",
      "  [11 12]]]\n"
     ]
    }
   ],
   "source": [
    "B = np.array([ [ [ 1,  2],[ 3,  4]],\n",
    "       [[ 5,  6], [ 7,  8]],\n",
    "       [[ 9, 10], [11, 12]]] )\n",
    "\n",
    "# alt method :  np.arange(1,13).reshape(2, 2, 3)\n",
    "print(F\" B = \\n {B}\") "
   ]
  },
  {
   "cell_type": "code",
   "execution_count": 41,
   "metadata": {
    "colab": {
     "base_uri": "https://localhost:8080/"
    },
    "id": "0878fbd2",
    "outputId": "facd318f-b26e-4334-9488-a916a1d87156"
   },
   "outputs": [
    {
     "name": "stdout",
     "output_type": "stream",
     "text": [
      "legth of B array = 3\n",
      "shpae of B array = (3, 2, 2)\n",
      "B array is 3 dimentional\n"
     ]
    }
   ],
   "source": [
    "print(F\"legth of B array = {len(B)}\") \n",
    "print(F\"shpae of B array = {B.shape}\") \n",
    "print(F\"B array is {len(B.shape)} dimentional\") "
   ]
  },
  {
   "cell_type": "markdown",
   "metadata": {
    "id": "75a4f6cd"
   },
   "source": [
    "# Applications of Matrix in Data Processing and Numerical Computing"
   ]
  },
  {
   "cell_type": "markdown",
   "metadata": {
    "id": "bf5bccd1"
   },
   "source": [
    "## Solving Liear Equations"
   ]
  },
  {
   "cell_type": "code",
   "execution_count": 42,
   "metadata": {
    "colab": {
     "base_uri": "https://localhost:8080/"
    },
    "id": "08454444",
    "outputId": "c36e192a-57dd-43f5-b0b8-d30d6ad7ae8d"
   },
   "outputs": [
    {
     "name": "stdout",
     "output_type": "stream",
     "text": [
      "A = \n",
      "[[3 2]\n",
      " [4 5]]\n",
      "b = \n",
      "[12, 23]\n"
     ]
    }
   ],
   "source": [
    "A = np.array([[3,2], [4,5]])\n",
    "b = [12, 23]\n",
    "\n",
    "print(F\"A = \\n{A}\")\n",
    "print(F\"b = \\n{b}\")"
   ]
  },
  {
   "cell_type": "code",
   "execution_count": 43,
   "metadata": {
    "colab": {
     "base_uri": "https://localhost:8080/"
    },
    "id": "d3245613",
    "outputId": "c219496c-e1df-4db2-8b5b-da6310006642"
   },
   "outputs": [
    {
     "name": "stdout",
     "output_type": "stream",
     "text": [
      "A_inv = \n",
      "[[ 0.71428571 -0.28571429]\n",
      " [-0.57142857  0.42857143]]\n"
     ]
    }
   ],
   "source": [
    "A_inv = np.linalg.inv(A)\n",
    "print(F\"A_inv = \\n{A_inv}\")"
   ]
  },
  {
   "cell_type": "code",
   "execution_count": 44,
   "metadata": {
    "id": "3da33df9"
   },
   "outputs": [],
   "source": [
    "A_det = np.linalg.det(A)"
   ]
  },
  {
   "cell_type": "code",
   "execution_count": 45,
   "metadata": {
    "colab": {
     "base_uri": "https://localhost:8080/"
    },
    "id": "10d52f91",
    "outputId": "d2604940-91da-4c20-db21-90fcba74d26d"
   },
   "outputs": [
    {
     "data": {
      "text/plain": [
       "array([[ 5., -2.],\n",
       "       [-4.,  3.]])"
      ]
     },
     "execution_count": 45,
     "metadata": {},
     "output_type": "execute_result"
    }
   ],
   "source": [
    "A_inv*np.linalg.det(A)"
   ]
  },
  {
   "cell_type": "code",
   "execution_count": 46,
   "metadata": {
    "colab": {
     "base_uri": "https://localhost:8080/"
    },
    "id": "820a64bc",
    "outputId": "2900144e-745d-4f51-f0d8-261825a58e30"
   },
   "outputs": [
    {
     "name": "stdout",
     "output_type": "stream",
     "text": [
      "x  = \n",
      "[2. 3.]\n"
     ]
    }
   ],
   "source": [
    "x = np.dot(A_inv ,b)\n",
    "print(F\"x  = \\n{x}\")"
   ]
  },
  {
   "cell_type": "markdown",
   "metadata": {
    "id": "0ccd30c9"
   },
   "source": [
    "## Image Data"
   ]
  },
  {
   "cell_type": "code",
   "execution_count": 47,
   "metadata": {
    "id": "adf22faa"
   },
   "outputs": [],
   "source": [
    "import skimage\n",
    "from skimage import io, transform"
   ]
  },
  {
   "cell_type": "code",
   "execution_count": 48,
   "metadata": {
    "colab": {
     "base_uri": "https://localhost:8080/"
    },
    "id": "e5fb6485",
    "outputId": "550528c8-4c2b-492d-f964-6c4ec57eb93d",
    "scrolled": true
   },
   "outputs": [
    {
     "name": "stdout",
     "output_type": "stream",
     "text": [
      "[[[255 255 255]\n",
      "  [255 255 255]\n",
      "  [255 255 255]\n",
      "  ...\n",
      "  [255 255 255]\n",
      "  [255 255 255]\n",
      "  [255 255 255]]\n",
      "\n",
      " [[255 255 255]\n",
      "  [255 255 255]\n",
      "  [255 255 255]\n",
      "  ...\n",
      "  [255 255 255]\n",
      "  [255 255 255]\n",
      "  [255 255 255]]\n",
      "\n",
      " [[255 255 255]\n",
      "  [255 255 255]\n",
      "  [255 255 255]\n",
      "  ...\n",
      "  [255 255 255]\n",
      "  [255 255 255]\n",
      "  [255 255 255]]\n",
      "\n",
      " ...\n",
      "\n",
      " [[255 255 255]\n",
      "  [255 255 255]\n",
      "  [255 255 255]\n",
      "  ...\n",
      "  [255 255 255]\n",
      "  [255 255 255]\n",
      "  [255 255 255]]\n",
      "\n",
      " [[255 255 255]\n",
      "  [255 255 255]\n",
      "  [255 255 255]\n",
      "  ...\n",
      "  [255 255 255]\n",
      "  [255 255 255]\n",
      "  [255 255 255]]\n",
      "\n",
      " [[255 255 255]\n",
      "  [255 255 255]\n",
      "  [255 255 255]\n",
      "  ...\n",
      "  [255 255 255]\n",
      "  [255 255 255]\n",
      "  [255 255 255]]]\n"
     ]
    }
   ],
   "source": [
    "file_name = r'https://raw.githubusercontent.com/SumuduTennakoon/MLFoundations/main/Datasets/BlackApple.jpg'\n",
    "\n",
    "image0 = io.imread(file_name)\n",
    "print(image0)"
   ]
  },
  {
   "cell_type": "code",
   "execution_count": 49,
   "metadata": {
    "colab": {
     "base_uri": "https://localhost:8080/",
     "height": 315
    },
    "id": "e396b171",
    "outputId": "1ad55ef9-b726-47f3-f010-e8c981ef8d70"
   },
   "outputs": [
    {
     "data": {
      "text/plain": [
       "<matplotlib.image.AxesImage at 0x283e0e41850>"
      ]
     },
     "execution_count": 49,
     "metadata": {},
     "output_type": "execute_result"
    },
    {
     "data": {
      "image/png": "[encoded data removed]",
      "text/plain": [
       "<Figure size 432x288 with 1 Axes>"
      ]
     },
     "metadata": {
      "needs_background": "light"
     },
     "output_type": "display_data"
    }
   ],
   "source": [
    "io.imshow(image0)"
   ]
  },
  {
   "cell_type": "code",
   "execution_count": 50,
   "metadata": {
    "colab": {
     "base_uri": "https://localhost:8080/"
    },
    "id": "6fb7bc16",
    "outputId": "2c197231-d180-442e-e827-fb6790b54339"
   },
   "outputs": [
    {
     "data": {
      "text/plain": [
       "(161, 161, 3)"
      ]
     },
     "execution_count": 50,
     "metadata": {},
     "output_type": "execute_result"
    }
   ],
   "source": [
    "image0.shape"
   ]
  },
  {
   "cell_type": "code",
   "execution_count": 51,
   "metadata": {
    "colab": {
     "base_uri": "https://localhost:8080/",
     "height": 315
    },
    "id": "ggeRLBO_8Jml",
    "outputId": "bf61de7b-7231-4af4-e266-7f923cd65e3d"
   },
   "outputs": [
    {
     "data": {
      "text/plain": [
       "<matplotlib.image.AxesImage at 0x283e0ee4d90>"
      ]
     },
     "execution_count": 51,
     "metadata": {},
     "output_type": "execute_result"
    },
    {
     "data": {
      "image/png": "[encoded data removed]",
      "text/plain": [
       "<Figure size 432x288 with 1 Axes>"
      ]
     },
     "metadata": {
      "needs_background": "light"
     },
     "output_type": "display_data"
    }
   ],
   "source": [
    "io.imshow(image0[10:20,55:65])"
   ]
  },
  {
   "cell_type": "code",
   "execution_count": 52,
   "metadata": {
    "id": "xdUlHQ5R8bvK"
   },
   "outputs": [
    {
     "data": {
      "text/plain": [
       "array([[[255, 255, 255],\n",
       "        [251, 251, 251],\n",
       "        [255, 255, 255],\n",
       "        [255, 255, 255],\n",
       "        [248, 248, 248],\n",
       "        [249, 249, 249],\n",
       "        [255, 255, 255],\n",
       "        [255, 255, 255],\n",
       "        [254, 254, 254],\n",
       "        [255, 255, 255]],\n",
       "\n",
       "       [[255, 255, 255],\n",
       "        [255, 255, 255],\n",
       "        [253, 253, 253],\n",
       "        [255, 255, 255],\n",
       "        [255, 255, 255],\n",
       "        [255, 255, 255],\n",
       "        [255, 255, 255],\n",
       "        [255, 255, 255],\n",
       "        [253, 253, 253],\n",
       "        [255, 255, 255]],\n",
       "\n",
       "       [[255, 255, 255],\n",
       "        [255, 255, 255],\n",
       "        [248, 248, 248],\n",
       "        [253, 253, 253],\n",
       "        [255, 255, 255],\n",
       "        [248, 248, 248],\n",
       "        [255, 255, 255],\n",
       "        [248, 248, 248],\n",
       "        [255, 255, 255],\n",
       "        [255, 255, 255]],\n",
       "\n",
       "       [[255, 255, 255],\n",
       "        [250, 250, 250],\n",
       "        [255, 255, 255],\n",
       "        [251, 251, 251],\n",
       "        [255, 255, 255],\n",
       "        [255, 255, 255],\n",
       "        [255, 255, 255],\n",
       "        [254, 254, 254],\n",
       "        [255, 255, 255],\n",
       "        [255, 255, 255]],\n",
       "\n",
       "       [[255, 255, 255],\n",
       "        [251, 251, 251],\n",
       "        [255, 255, 255],\n",
       "        [253, 253, 253],\n",
       "        [204, 204, 204],\n",
       "        [253, 253, 253],\n",
       "        [255, 255, 255],\n",
       "        [252, 252, 252],\n",
       "        [255, 255, 255],\n",
       "        [255, 255, 255]],\n",
       "\n",
       "       [[255, 255, 255],\n",
       "        [255, 255, 255],\n",
       "        [250, 250, 250],\n",
       "        [255, 255, 255],\n",
       "        [ 42,  42,  42],\n",
       "        [151, 151, 151],\n",
       "        [255, 255, 255],\n",
       "        [253, 253, 253],\n",
       "        [255, 255, 255],\n",
       "        [255, 255, 255]],\n",
       "\n",
       "       [[254, 254, 254],\n",
       "        [250, 250, 250],\n",
       "        [255, 255, 255],\n",
       "        [122, 122, 122],\n",
       "        [  0,   0,   0],\n",
       "        [  6,   6,   6],\n",
       "        [ 85,  85,  85],\n",
       "        [239, 239, 239],\n",
       "        [255, 255, 255],\n",
       "        [254, 254, 254]],\n",
       "\n",
       "       [[255, 255, 255],\n",
       "        [255, 255, 255],\n",
       "        [209, 209, 209],\n",
       "        [  1,   1,   1],\n",
       "        [  6,   6,   6],\n",
       "        [  1,   1,   1],\n",
       "        [  2,   2,   2],\n",
       "        [ 31,  31,  31],\n",
       "        [180, 180, 180],\n",
       "        [255, 255, 255]],\n",
       "\n",
       "       [[249, 249, 249],\n",
       "        [251, 251, 251],\n",
       "        [ 73,  73,  73],\n",
       "        [  0,   0,   0],\n",
       "        [  3,   3,   3],\n",
       "        [  5,   5,   5],\n",
       "        [  1,   1,   1],\n",
       "        [  0,   0,   0],\n",
       "        [  9,   9,   9],\n",
       "        [127, 127, 127]],\n",
       "\n",
       "       [[255, 255, 255],\n",
       "        [164, 164, 164],\n",
       "        [  4,   4,   4],\n",
       "        [  5,   5,   5],\n",
       "        [  0,   0,   0],\n",
       "        [  7,   7,   7],\n",
       "        [  1,   1,   1],\n",
       "        [  0,   0,   0],\n",
       "        [  0,   0,   0],\n",
       "        [  7,   7,   7]]], dtype=uint8)"
      ]
     },
     "execution_count": 52,
     "metadata": {},
     "output_type": "execute_result"
    }
   ],
   "source": [
    "image0[10:20,55:65]"
   ]
  },
  {
   "cell_type": "code",
   "execution_count": 53,
   "metadata": {
    "colab": {
     "base_uri": "https://localhost:8080/",
     "height": 315
    },
    "id": "981b43f6",
    "outputId": "f8cea90b-3ff7-4f8d-c252-4e28f0ca8876",
    "scrolled": false
   },
   "outputs": [
    {
     "data": {
      "text/plain": [
       "<matplotlib.image.AxesImage at 0x283e0f4a400>"
      ]
     },
     "execution_count": 53,
     "metadata": {},
     "output_type": "execute_result"
    },
    {
     "data": {
      "image/png": "[encoded data removed]",
      "text/plain": [
       "<Figure size 432x288 with 1 Axes>"
      ]
     },
     "metadata": {
      "needs_background": "light"
     },
     "output_type": "display_data"
    }
   ],
   "source": [
    "file_name = r'https://raw.githubusercontent.com/SumuduTennakoon/MLFoundations/main/Datasets/ColorApple.jpg'\n",
    "\n",
    "image1 = skimage.io.imread(file_name)\n",
    "#print(image1)\n",
    "io.imshow(image1)"
   ]
  },
  {
   "cell_type": "code",
   "execution_count": 54,
   "metadata": {
    "colab": {
     "base_uri": "https://localhost:8080/"
    },
    "id": "bba0fde3",
    "outputId": "7f949906-5bdd-459b-f9ec-c6e07b61485a"
   },
   "outputs": [
    {
     "data": {
      "text/plain": [
       "(232, 193, 3)"
      ]
     },
     "execution_count": 54,
     "metadata": {},
     "output_type": "execute_result"
    }
   ],
   "source": [
    "image1.shape"
   ]
  },
  {
   "cell_type": "code",
   "execution_count": 55,
   "metadata": {
    "colab": {
     "base_uri": "https://localhost:8080/",
     "height": 315
    },
    "id": "452116b2",
    "outputId": "8ba4e069-56bf-4671-f848-2ce89e9d8228"
   },
   "outputs": [
    {
     "name": "stdout",
     "output_type": "stream",
     "text": [
      "(232, 193)\n"
     ]
    },
    {
     "data": {
      "image/png": "[encoded data removed]",
      "text/plain": [
       "<Figure size 432x288 with 1 Axes>"
      ]
     },
     "metadata": {
      "needs_background": "light"
     },
     "output_type": "display_data"
    }
   ],
   "source": [
    "image2 = skimage.color.rgb2gray(image1)\n",
    "io.imshow(image2)\n",
    "print(image2.shape)"
   ]
  },
  {
   "cell_type": "code",
   "execution_count": 56,
   "metadata": {
    "colab": {
     "base_uri": "https://localhost:8080/"
    },
    "id": "1bc2257b",
    "outputId": "86907bda-87cb-4568-ce07-20eac0ac7325"
   },
   "outputs": [
    {
     "data": {
      "text/plain": [
       "array([[1., 1., 1., ..., 1., 1., 1.],\n",
       "       [1., 1., 1., ..., 1., 1., 1.],\n",
       "       [1., 1., 1., ..., 1., 1., 1.],\n",
       "       ...,\n",
       "       [1., 1., 1., ..., 1., 1., 1.],\n",
       "       [1., 1., 1., ..., 1., 1., 1.],\n",
       "       [1., 1., 1., ..., 1., 1., 1.]])"
      ]
     },
     "execution_count": 56,
     "metadata": {},
     "output_type": "execute_result"
    }
   ],
   "source": [
    "image2"
   ]
  },
  {
   "cell_type": "code",
   "execution_count": 57,
   "metadata": {
    "colab": {
     "base_uri": "https://localhost:8080/",
     "height": 315
    },
    "id": "5iyzfHBb6JgP",
    "outputId": "27542ad6-dbdd-4887-9f4b-d75f12b34eea"
   },
   "outputs": [
    {
     "data": {
      "text/plain": [
       "<matplotlib.image.AxesImage at 0x283e1fbc790>"
      ]
     },
     "execution_count": 57,
     "metadata": {},
     "output_type": "execute_result"
    },
    {
     "data": {
      "image/png": "[encoded data removed]",
      "text/plain": [
       "<Figure size 432x288 with 1 Axes>"
      ]
     },
     "metadata": {
      "needs_background": "light"
     },
     "output_type": "display_data"
    }
   ],
   "source": [
    "io.imshow(image2[10:20,45:55])"
   ]
  },
  {
   "cell_type": "code",
   "execution_count": 58,
   "metadata": {
    "colab": {
     "base_uri": "https://localhost:8080/"
    },
    "id": "mEZEacBq6qTT",
    "outputId": "2a21fa53-94d0-4b41-d29d-a555217ffddb"
   },
   "outputs": [
    {
     "data": {
      "text/plain": [
       "array([[1.00000000e+00, 1.00000000e+00, 1.00000000e+00, 9.96666667e-01,\n",
       "        9.82669804e-01, 9.96369020e-01, 9.97752941e-01, 9.79811765e-01,\n",
       "        9.96063529e-01, 9.87647059e-01],\n",
       "       [1.00000000e+00, 1.00000000e+00, 1.00000000e+00, 9.91651765e-01,\n",
       "        9.96666667e-01, 9.98601176e-01, 9.98869020e-01, 9.98586275e-01,\n",
       "        9.96063529e-01, 9.11447843e-01],\n",
       "       [1.00000000e+00, 1.00000000e+00, 1.00000000e+00, 9.95000000e-01,\n",
       "        9.97500000e-01, 9.83748235e-01, 9.96063529e-01, 9.68024314e-01,\n",
       "        9.87647059e-01, 4.50674902e-01],\n",
       "       [1.00000000e+00, 1.00000000e+00, 1.00000000e+00, 9.97500000e-01,\n",
       "        9.95527843e-01, 9.97194510e-01, 9.93823529e-01, 9.96063529e-01,\n",
       "        7.24619216e-01, 0.00000000e+00],\n",
       "       [1.00000000e+00, 1.00000000e+00, 1.00000000e+00, 9.91889020e-01,\n",
       "        9.94389020e-01, 9.97194510e-01, 9.68567059e-01, 9.93823529e-01,\n",
       "        2.22658431e-01, 2.80549020e-03],\n",
       "       [1.00000000e+00, 1.00000000e+00, 1.00000000e+00, 9.97194510e-01,\n",
       "        9.94389020e-01, 9.88778039e-01, 9.91583529e-01, 5.60723922e-01,\n",
       "        8.33333333e-04, 5.61098039e-03],\n",
       "       [1.00000000e+00, 1.00000000e+00, 1.00000000e+00, 9.74750588e-01,\n",
       "        9.58223137e-01, 9.97500000e-01, 8.68408627e-01, 4.84654902e-02,\n",
       "        5.83333333e-03, 6.66666667e-03],\n",
       "       [1.00000000e+00, 1.00000000e+00, 1.00000000e+00, 9.85972549e-01,\n",
       "        9.94389020e-01, 9.79305882e-01, 3.85199608e-01, 5.65490196e-04,\n",
       "        4.16666667e-03, 4.16666667e-03],\n",
       "       [1.00000000e+00, 1.00000000e+00, 1.00000000e+00, 9.76172941e-01,\n",
       "        9.83748235e-01, 7.25222353e-01, 8.42352941e-03, 2.81254902e-03,\n",
       "        3.91372549e-03, 1.79333333e-02],\n",
       "       [1.00000000e+00, 1.00000000e+00, 1.00000000e+00, 9.94955294e-01,\n",
       "        9.93288627e-01, 1.79826667e-01, 1.96431373e-03, 1.34533333e-02,\n",
       "        3.39294118e-03, 3.11019608e-03]])"
      ]
     },
     "execution_count": 58,
     "metadata": {},
     "output_type": "execute_result"
    }
   ],
   "source": [
    "image2[10:20,45:55]"
   ]
  },
  {
   "cell_type": "code",
   "execution_count": 59,
   "metadata": {
    "colab": {
     "base_uri": "https://localhost:8080/"
    },
    "id": "c2972746",
    "outputId": "8d76d99c-8e42-494e-de7c-ff0c581fa68d"
   },
   "outputs": [
    {
     "data": {
      "text/plain": [
       "1.0"
      ]
     },
     "execution_count": 59,
     "metadata": {},
     "output_type": "execute_result"
    }
   ],
   "source": [
    "np.max(image2)"
   ]
  },
  {
   "cell_type": "code",
   "execution_count": 60,
   "metadata": {
    "colab": {
     "base_uri": "https://localhost:8080/"
    },
    "id": "0b8b6086",
    "outputId": "ec9b5391-9a34-4780-d330-773761eaf362"
   },
   "outputs": [
    {
     "data": {
      "text/plain": [
       "255"
      ]
     },
     "execution_count": 60,
     "metadata": {},
     "output_type": "execute_result"
    }
   ],
   "source": [
    "np.max(image1)"
   ]
  },
  {
   "cell_type": "code",
   "execution_count": 61,
   "metadata": {
    "colab": {
     "base_uri": "https://localhost:8080/",
     "height": 315
    },
    "id": "d4266ec2",
    "outputId": "63b1aafe-754a-4263-e824-e6b7a3c517e3"
   },
   "outputs": [
    {
     "data": {
      "text/plain": [
       "<matplotlib.image.AxesImage at 0x283e201aa00>"
      ]
     },
     "execution_count": 61,
     "metadata": {},
     "output_type": "execute_result"
    },
    {
     "data": {
      "image/png": "[encoded data removed]",
      "text/plain": [
       "<Figure size 432x288 with 1 Axes>"
      ]
     },
     "metadata": {
      "needs_background": "light"
     },
     "output_type": "display_data"
    }
   ],
   "source": [
    "image3 = transform.rotate(image1,90, resize=True)\n",
    "io.imshow(image3)"
   ]
  },
  {
   "cell_type": "code",
   "execution_count": 62,
   "metadata": {
    "colab": {
     "base_uri": "https://localhost:8080/"
    },
    "id": "87f78e44",
    "outputId": "9d47eb50-df41-4d20-9925-06727a5a3a58"
   },
   "outputs": [
    {
     "name": "stdout",
     "output_type": "stream",
     "text": [
      "(193, 232, 3)\n"
     ]
    }
   ],
   "source": [
    "print(image3.shape)"
   ]
  },
  {
   "cell_type": "markdown",
   "metadata": {
    "id": "6f3b2d0c"
   },
   "source": [
    "## Sound Data"
   ]
  },
  {
   "cell_type": "code",
   "execution_count": 63,
   "metadata": {
    "id": "afc1ad14"
   },
   "outputs": [],
   "source": [
    "from scipy.io.wavfile import read"
   ]
  },
  {
   "cell_type": "code",
   "execution_count": 64,
   "metadata": {
    "id": "ihu-jjGE1lWe"
   },
   "outputs": [],
   "source": [
    "import wave"
   ]
  },
  {
   "cell_type": "code",
   "execution_count": 65,
   "metadata": {
    "colab": {
     "base_uri": "https://localhost:8080/"
    },
    "id": "b2506a91",
    "outputId": "60b5826e-bb30-4490-cdc0-caac166364ec"
   },
   "outputs": [
    {
     "name": "stdout",
     "output_type": "stream",
     "text": [
      "sample_rate = 44100\n",
      "samples = 88200\n",
      "duration = 2.0\n"
     ]
    }
   ],
   "source": [
    "sample_rate, amplitude = read(r'tone.wav')\n",
    "samples = len(amplitude)\n",
    "duration = samples/sample_rate\n",
    "time = np.arange(0, duration, duration/samples)\n",
    "\n",
    "print(F\"sample_rate = {sample_rate}\")\n",
    "print(F\"samples = {samples}\")\n",
    "print(F\"duration = {duration}\")"
   ]
  },
  {
   "cell_type": "code",
   "execution_count": 66,
   "metadata": {
    "colab": {
     "base_uri": "https://localhost:8080/"
    },
    "id": "a8290d05",
    "outputId": "e8f9d165-0a71-42cb-af27-0cdc95d969f1"
   },
   "outputs": [
    {
     "name": "stdout",
     "output_type": "stream",
     "text": [
      "First 10 time data points = [0.00000000e+00 2.26757370e-05 4.53514739e-05 6.80272109e-05\n",
      " 9.07029478e-05 1.13378685e-04 1.36054422e-04 1.58730159e-04\n",
      " 1.81405896e-04 2.04081633e-04]\n",
      "\n",
      "\n",
      "First 10 amplitude data points = [ 0  7 14 21 28 35 42 48 55 61]\n"
     ]
    }
   ],
   "source": [
    "print(F\"First 10 time data points = {time[:10]}\")\n",
    "print(\"\\n\")\n",
    "print(F\"First 10 amplitude data points = {amplitude[:10]}\")"
   ]
  },
  {
   "cell_type": "code",
   "execution_count": 67,
   "metadata": {
    "colab": {
     "base_uri": "https://localhost:8080/",
     "height": 295
    },
    "id": "3f5b49a6",
    "outputId": "1b997f82-864f-420b-fee7-f42bafd6936e"
   },
   "outputs": [
    {
     "data": {
      "image/png": "[encoded data removed]",
      "text/plain": [
       "<Figure size 432x288 with 1 Axes>"
      ]
     },
     "metadata": {
      "needs_background": "light"
     },
     "output_type": "display_data"
    }
   ],
   "source": [
    "import matplotlib.pyplot as plt\n",
    "plt.figure()\n",
    "plt.plot(time[0:200], amplitude[0:200], '-o')\n",
    "plt.xlabel('time (s)')\n",
    "plt.ylabel('Amplitude (arb)')\n",
    "plt.title('Waveform of Test Audio')\n",
    "plt.show()"
   ]
  },
  {
   "cell_type": "code",
   "execution_count": 68,
   "metadata": {
    "colab": {
     "base_uri": "https://localhost:8080/"
    },
    "id": "80041b7a",
    "outputId": "9942ecd6-e200-475f-a8b4-133c936bb9b5"
   },
   "outputs": [
    {
     "name": "stdout",
     "output_type": "stream",
     "text": [
      "First 10 amplitude data points                        = [ 0  7 14 21 28 35 42 48 55 61]\n",
      "First 10 amplitude data points with 2x amplification  = [  0  14  28  42  56  70  84  96 110 122]\n"
     ]
    }
   ],
   "source": [
    "# Increase Volume (make it double)\n",
    "print(F\"First 10 amplitude data points                        = {amplitude[:10]}\")\n",
    "amplitude2x = amplitude * 2\n",
    "print(F\"First 10 amplitude data points with 2x amplification  = {amplitude2x[:10]}\")"
   ]
  },
  {
   "cell_type": "code",
   "execution_count": 69,
   "metadata": {
    "colab": {
     "base_uri": "https://localhost:8080/",
     "height": 295
    },
    "id": "O1caoK_a3Jku",
    "outputId": "90d327e1-cc8d-421c-cc6f-103972be43e0"
   },
   "outputs": [
    {
     "data": {
      "image/png": "[encoded data removed]",
      "text/plain": [
       "<Figure size 432x288 with 1 Axes>"
      ]
     },
     "metadata": {
      "needs_background": "light"
     },
     "output_type": "display_data"
    }
   ],
   "source": [
    "import matplotlib.pyplot as plt\n",
    "plt.figure()\n",
    "plt.plot(time[0:200], amplitude[0:200])\n",
    "plt.plot(time[0:200], amplitude2x[0:200])\n",
    "plt.xlabel('time (s)')\n",
    "plt.ylabel('Amplitude (arb)')\n",
    "plt.title('Waveform of Test Audio')\n",
    "plt.show()"
   ]
  },
  {
   "cell_type": "markdown",
   "metadata": {},
   "source": [
    "<hr>"
   ]
  },
  {
   "cell_type": "markdown",
   "metadata": {},
   "source": [
    "# Numpy Matrix Functions (Recap)"
   ]
  },
  {
   "cell_type": "code",
   "execution_count": 70,
   "metadata": {},
   "outputs": [
    {
     "name": "stdout",
     "output_type": "stream",
     "text": [
      "A = \n",
      "[[1 3 5]\n",
      " [2 4 6]\n",
      " [7 8 0]]\n",
      "shpae of A array = (3, 3)\n",
      "B = \n",
      "[[1 2 3]\n",
      " [4 5 6]\n",
      " [7 8 9]]\n",
      "shpae of B array = (3, 3)\n"
     ]
    }
   ],
   "source": [
    "A = np.array([[1, 3, 5],  [2, 4, 6],  [7, 8, 0]])\n",
    "B = np.array([[1, 2, 3], [4, 5, 6], [7, 8, 9]])\n",
    "\n",
    "print(F\"A = \\n{A}\")\n",
    "print(F\"shpae of A array = {A.shape}\")  #dimensions \n",
    "\n",
    "print(F\"B = \\n{B}\")\n",
    "print(F\"shpae of B array = {B.shape}\")  #dimensions "
   ]
  },
  {
   "cell_type": "code",
   "execution_count": 71,
   "metadata": {},
   "outputs": [
    {
     "name": "stdout",
     "output_type": "stream",
     "text": [
      "diagonal(A) = \n",
      "[1 4 0]\n"
     ]
    }
   ],
   "source": [
    "# diagonal\n",
    "print(F\"diagonal(A) = \\n{np.diagonal(A)}\") "
   ]
  },
  {
   "cell_type": "code",
   "execution_count": 72,
   "metadata": {},
   "outputs": [
    {
     "name": "stdout",
     "output_type": "stream",
     "text": [
      "trace(A) = \n",
      "5\n"
     ]
    }
   ],
   "source": [
    "# trace\n",
    "np.trace(A)\n",
    "print(F\"trace(A) = \\n{np.trace(A)}\") "
   ]
  },
  {
   "cell_type": "code",
   "execution_count": 73,
   "metadata": {},
   "outputs": [
    {
     "name": "stdout",
     "output_type": "stream",
     "text": [
      "sum(A) = \n",
      "36\n"
     ]
    }
   ],
   "source": [
    "# sum of all elements\n",
    "print(F\"sum(A) = \\n{np.sum(A)}\") "
   ]
  },
  {
   "cell_type": "code",
   "execution_count": 74,
   "metadata": {},
   "outputs": [
    {
     "name": "stdout",
     "output_type": "stream",
     "text": [
      "A_t = \n",
      "[[1 2 7]\n",
      " [3 4 8]\n",
      " [5 6 0]]\n"
     ]
    }
   ],
   "source": [
    "# transpose\n",
    "A_t = np.transpose(A) \n",
    "print(F\"A_t = \\n{A_t}\")"
   ]
  },
  {
   "cell_type": "code",
   "execution_count": 75,
   "metadata": {},
   "outputs": [
    {
     "name": "stdout",
     "output_type": "stream",
     "text": [
      "A_det = \n",
      "17.999999999999996\n"
     ]
    }
   ],
   "source": [
    "# determinant\n",
    "A_det = np.linalg.det(A) \n",
    "print(F\"A_det = \\n{A_det}\")"
   ]
  },
  {
   "cell_type": "code",
   "execution_count": 76,
   "metadata": {},
   "outputs": [
    {
     "name": "stdout",
     "output_type": "stream",
     "text": [
      "A_inv = \n",
      "[[-2.66666667  2.22222222 -0.11111111]\n",
      " [ 2.33333333 -1.94444444  0.22222222]\n",
      " [-0.66666667  0.72222222 -0.11111111]]\n"
     ]
    }
   ],
   "source": [
    "# inverse\n",
    "A_inv = np.linalg.inv(A) \n",
    "print(F\"A_inv = \\n{A_inv}\")"
   ]
  },
  {
   "cell_type": "code",
   "execution_count": 77,
   "metadata": {},
   "outputs": [
    {
     "name": "stdout",
     "output_type": "stream",
     "text": [
      "A+B = \n",
      "[[ 2  5  8]\n",
      " [ 6  9 12]\n",
      " [14 16  9]]\n"
     ]
    }
   ],
   "source": [
    "# addition\n",
    "C = np.add(A,B)\n",
    "print(F\"A+B = \\n{C}\")"
   ]
  },
  {
   "cell_type": "code",
   "execution_count": 78,
   "metadata": {},
   "outputs": [
    {
     "name": "stdout",
     "output_type": "stream",
     "text": [
      "A-B = \n",
      "[[ 0  1  2]\n",
      " [-2 -1  0]\n",
      " [ 0  0 -9]]\n"
     ]
    }
   ],
   "source": [
    "#subtract\n",
    "C = np.subtract(A,B)\n",
    "print(F\"A-B = \\n{C}\")"
   ]
  },
  {
   "cell_type": "code",
   "execution_count": 79,
   "metadata": {},
   "outputs": [
    {
     "name": "stdout",
     "output_type": "stream",
     "text": [
      "A*B = \n",
      "[[ 1  6 15]\n",
      " [ 8 20 36]\n",
      " [49 64  0]]\n"
     ]
    }
   ],
   "source": [
    "# elemenetwise multiplication\n",
    "C = np.multiply(A,B)\n",
    "print(F\"A*B = \\n{C}\")"
   ]
  },
  {
   "cell_type": "code",
   "execution_count": 80,
   "metadata": {},
   "outputs": [
    {
     "name": "stdout",
     "output_type": "stream",
     "text": [
      "A.B = \n",
      "[[48 57 66]\n",
      " [60 72 84]\n",
      " [39 54 69]]\n"
     ]
    }
   ],
   "source": [
    "# dot product \n",
    "C = np.dot(A,B)\n",
    "print(F\"A.B = \\n{C}\")"
   ]
  },
  {
   "cell_type": "code",
   "execution_count": 81,
   "metadata": {},
   "outputs": [
    {
     "name": "stdout",
     "output_type": "stream",
     "text": [
      "Z = \n",
      "[[0. 0. 0.]\n",
      " [0. 0. 0.]\n",
      " [0. 0. 0.]]\n"
     ]
    }
   ],
   "source": [
    "# Create 3 x 3 matrix with all elements =0 (zero matrix) \n",
    "Z = np.zeros((3,3))\n",
    "print(F\"Z = \\n{Z}\")"
   ]
  },
  {
   "cell_type": "code",
   "execution_count": 82,
   "metadata": {},
   "outputs": [
    {
     "name": "stdout",
     "output_type": "stream",
     "text": [
      "Z = \n",
      "[[1. 1. 1.]\n",
      " [1. 1. 1.]\n",
      " [1. 1. 1.]]\n"
     ]
    }
   ],
   "source": [
    "# Create 3 x 3 matrix with all elements =1 \n",
    "N = np.ones((3,3))\n",
    "print(F\"Z = \\n{N}\")"
   ]
  },
  {
   "cell_type": "code",
   "execution_count": 83,
   "metadata": {},
   "outputs": [
    {
     "name": "stdout",
     "output_type": "stream",
     "text": [
      "Z = \n",
      "[[1. 0. 0.]\n",
      " [0. 1. 0.]\n",
      " [0. 0. 1.]]\n"
     ]
    }
   ],
   "source": [
    "# Create 3 x 3 identity matrix \n",
    "N = np.identity(3)\n",
    "print(F\"Z = \\n{N}\")"
   ]
  },
  {
   "cell_type": "markdown",
   "metadata": {
    "id": "so9XhplZgNKU"
   },
   "source": [
    "# Exercise\n",
    "\n",
    "Formulate the following system of linear equation in matrix form and solve using numpy arrays.\n",
    "\n",
    "$$ x+2y+3z=5 $$\n",
    "$$ 4x+y+2z=9 $$\n",
    "$$ 2x+3y+5z=8 $$"
   ]
  },
  {
   "cell_type": "code",
   "execution_count": null,
   "metadata": {
    "colab": {
     "base_uri": "https://localhost:8080/"
    },
    "id": "puRsmQqngsVf",
    "outputId": "3daf9218-1c6b-4604-d904-4d6fdbb6d903"
   },
   "outputs": [],
   "source": [
    "# complete the lines with #? (4,5,10,13 and 16)\n",
    "import numpy as np\n",
    "\n",
    "A = np.array( ) #?\n",
    "b = np.array( ) #?\n",
    "\n",
    "print(F\"A=\\n{A}\")\n",
    "print(F\"b=\\n{A}\")\n",
    "\n",
    "A_inv =  #?\n",
    "print(F\"A_inv=\\n{A_inv}\")\n",
    "\n",
    "A_det = #?\n",
    "print(F\"A_det=\\n{A_det}\")\n",
    "\n",
    "x = #?\n",
    "print(F\"x=\\n{x}\")"
   ]
  },
  {
   "cell_type": "markdown",
   "metadata": {
    "id": "vhgHu3uif9Po"
   },
   "source": [
    "<hr>\n"
   ]
  },
  {
   "cell_type": "markdown",
   "metadata": {
    "id": "c2KU-F5DgGgr"
   },
   "source": [
    "Last update 2021-09-18 by Sumudu Tennakoon\n",
    "\n",
    "<a rel=\"license\" href=\"http://creativecommons.org/licenses/by-nc-sa/4.0/\"><img alt=\"Creative Commons License\" style=\"border-width:0\" src=\"https://i.creativecommons.org/l/by-nc-sa/4.0/88x31.png\" /></a><br />This work is licensed under a <a rel=\"license\" href=\"http://creativecommons.org/licenses/by-nc-sa/4.0/\">Creative Commons Attribution-NonCommercial-ShareAlike 4.0 International License</a>.\n"
   ]
  }
 ],
 "metadata": {
  "@webio": {
   "lastCommId": null,
   "lastKernelId": null
  },
  "colab": {
   "collapsed_sections": [],
   "name": "3-Mathematics_For_ML_Part1.ipynb",
   "provenance": []
  },
  "kernelspec": {
   "display_name": "Python 3",
   "language": "python",
   "name": "python3"
  },
  "language_info": {
   "codemirror_mode": {
    "name": "ipython",
    "version": 3
   },
   "file_extension": ".py",
   "mimetype": "text/x-python",
   "name": "python",
   "nbconvert_exporter": "python",
   "pygments_lexer": "ipython3",
   "version": "3.7.7"
  }
 },
 "nbformat": 4,
 "nbformat_minor": 5
}
