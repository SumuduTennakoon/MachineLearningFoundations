{
 "cells": [
  {
   "cell_type": "markdown",
   "metadata": {
    "id": "36c28a58"
   },
   "source": [
    "# Machine Learning Foundations\n",
    "Sumudu Tennakoon, PhD"
   ]
  },
  {
   "cell_type": "markdown",
   "metadata": {
    "id": "0c021388"
   },
   "source": [
    "# Sets, Logic Gates and Functions\n",
    "\n",
    "In this notebook we will explore how implement and use vectors, matrices and tensors in Python. We first get introduced to the concepts and then look into applications.\n",
    "\n",
    "To learn more about Python, refeer to the following websites\n",
    "- Python : www.python.org\n",
    "\n",
    "To learn more about the Python packages we explore in this notebook, refeer to the following websites\n",
    "\n",
    "- NumPy : www.numpy.org\n",
    "- SciPy : www.scipy.org\n",
    "- Matplotlib : www.matplotlib.org"
   ]
  },
  {
   "cell_type": "code",
   "execution_count": 1,
   "metadata": {},
   "outputs": [],
   "source": [
    "import numpy as np"
   ]
  },
  {
   "cell_type": "markdown",
   "metadata": {
    "id": "1ab17394"
   },
   "source": [
    "# Sets"
   ]
  },
  {
   "cell_type": "code",
   "execution_count": 2,
   "metadata": {
    "id": "1bfb91f3",
    "outputId": "1da4e57c-4312-4fa4-a5af-d9a88df23639"
   },
   "outputs": [
    {
     "name": "stdout",
     "output_type": "stream",
     "text": [
      "A = {1, 3, 5, 7, 9}\n",
      "type(A) = <class 'set'>\n"
     ]
    }
   ],
   "source": [
    "# Set of odd numbers between 1 and 10, 10 exclusive.\n",
    "# A = {x | x E A, 1<=x< 10}\n",
    "A = {1, 3, 5, 7, 9}\n",
    "print(F\"A = {A}\")\n",
    "print(F\"type(A) = {type(A)}\")"
   ]
  },
  {
   "cell_type": "code",
   "execution_count": 3,
   "metadata": {
    "colab": {
     "base_uri": "https://localhost:8080/"
    },
    "id": "fd470d84",
    "outputId": "c210fca0-477a-4878-f2d9-280618d89931"
   },
   "outputs": [
    {
     "name": "stdout",
     "output_type": "stream",
     "text": [
      "A = {1, 3, 5, 7, 9}\n"
     ]
    }
   ],
   "source": [
    "# one representation per item\n",
    "A = {1, 3, 5, 7, 9, 1, 7, 1}\n",
    "print(F\"A = {A}\")"
   ]
  },
  {
   "cell_type": "code",
   "execution_count": 4,
   "metadata": {
    "colab": {
     "base_uri": "https://localhost:8080/"
    },
    "id": "Yznm2LF-HYuU",
    "outputId": "08d570f0-f999-470c-9163-0bc8b7b07037"
   },
   "outputs": [
    {
     "name": "stdout",
     "output_type": "stream",
     "text": [
      "C = {1, 3, 5, 7, 9}\n",
      "type(C) = <class 'numpy.ndarray'>\n"
     ]
    }
   ],
   "source": [
    "# Convert set to and array\n",
    "C = np.array(A)\n",
    "print(F\"C = {C}\")\n",
    "print(F\"type(C) = {type(C)}\")"
   ]
  },
  {
   "cell_type": "code",
   "execution_count": 5,
   "metadata": {
    "colab": {
     "base_uri": "https://localhost:8080/"
    },
    "id": "0a9e00d2",
    "outputId": "d251127d-972e-4bc4-d0d1-49e1638385de"
   },
   "outputs": [
    {
     "name": "stdout",
     "output_type": "stream",
     "text": [
      "B = {8, 2, 4, 6}\n"
     ]
    }
   ],
   "source": [
    "#Set of even numbers between 1 and 10, 10 exclusive.\n",
    "B = { 2, 4, 6, 8}\n",
    "print(F\"B = {B}\")"
   ]
  },
  {
   "cell_type": "code",
   "execution_count": 6,
   "metadata": {
    "colab": {
     "base_uri": "https://localhost:8080/"
    },
    "id": "3e8ec6e3",
    "outputId": "0414412c-b1e0-4d5d-eb2b-0d7d6302f960"
   },
   "outputs": [
    {
     "name": "stdout",
     "output_type": "stream",
     "text": [
      "C = {2, 3, 5, 7}\n"
     ]
    }
   ],
   "source": [
    "#Set of prime numbers between 1 and 10, 10 exclusive.\n",
    "C = {2, 3, 5, 7}\n",
    "print(F\"C = {C}\")"
   ]
  },
  {
   "cell_type": "code",
   "execution_count": 7,
   "metadata": {
    "colab": {
     "base_uri": "https://localhost:8080/"
    },
    "id": "34ff7421",
    "outputId": "7ba36115-07ee-4bee-e60e-26a1c41ed3e0"
   },
   "outputs": [
    {
     "name": "stdout",
     "output_type": "stream",
     "text": [
      "D = {1, 2, 3, 4, 5, 6, 7, 8, 9}\n"
     ]
    }
   ],
   "source": [
    "#Set of all numbers between 1 and 10, 10 exclusive.\n",
    "D = { 1, 2, 3, 4, 5, 6, 7, 8, 9}\n",
    "print(F\"D = {D}\")"
   ]
  },
  {
   "cell_type": "markdown",
   "metadata": {
    "id": "0a7d2395"
   },
   "source": [
    "## Set Operations"
   ]
  },
  {
   "cell_type": "markdown",
   "metadata": {
    "id": "578e2a8f"
   },
   "source": [
    "### Intersection\tA ∩ B"
   ]
  },
  {
   "cell_type": "code",
   "execution_count": 8,
   "metadata": {
    "colab": {
     "base_uri": "https://localhost:8080/"
    },
    "id": "da759dc8",
    "outputId": "d40f0645-4cfe-4ba7-b22f-c90c214a3273"
   },
   "outputs": [
    {
     "name": "stdout",
     "output_type": "stream",
     "text": [
      "A ∩ B = set()\n",
      "A ∩ C = {3, 5, 7}\n",
      "A ∩ C = {3, 5, 7}\n"
     ]
    }
   ],
   "source": [
    "print(F\"A ∩ B = {A.intersection(B)}\")\n",
    "print(F\"A ∩ C = {A.intersection(C)}\")\n",
    "print(F\"A ∩ C = {A&C}\")"
   ]
  },
  {
   "cell_type": "markdown",
   "metadata": {
    "id": "9a47062a"
   },
   "source": [
    "### Union\tA ∪ B"
   ]
  },
  {
   "cell_type": "code",
   "execution_count": 9,
   "metadata": {
    "colab": {
     "base_uri": "https://localhost:8080/"
    },
    "id": "6d5a1813",
    "outputId": "54782ac3-bf41-4972-ab50-af087c3c0706"
   },
   "outputs": [
    {
     "name": "stdout",
     "output_type": "stream",
     "text": [
      "A ∪ B = {1, 2, 3, 4, 5, 6, 7, 8, 9}\n",
      "A ∪ C = {1, 2, 3, 5, 7, 9}\n",
      "A ∪ C = {1, 2, 3, 5, 7, 9}\n"
     ]
    }
   ],
   "source": [
    "print(F\"A ∪ B = {A.union(B)}\")\n",
    "print(F\"A ∪ C = {A.union(C)}\")\n",
    "print(F\"A ∪ C = {A|C}\")"
   ]
  },
  {
   "cell_type": "markdown",
   "metadata": {
    "id": "9c12357d"
   },
   "source": [
    "### Difference\tA − B"
   ]
  },
  {
   "cell_type": "code",
   "execution_count": 10,
   "metadata": {
    "colab": {
     "base_uri": "https://localhost:8080/"
    },
    "id": "d7f064f5",
    "outputId": "ae1135ba-41b7-4f79-a1d1-babd30550d8d"
   },
   "outputs": [
    {
     "name": "stdout",
     "output_type": "stream",
     "text": [
      "A - B = {1, 3, 5, 7, 9}\n",
      "A - C = {1, 9}\n",
      "A - C = {1, 9}\n"
     ]
    }
   ],
   "source": [
    "print(F\"A - B = {A.difference(B)}\")\n",
    "print(F\"A - C = {A.difference(C)}\")\n",
    "print(F\"A - C = {A-C}\")"
   ]
  },
  {
   "cell_type": "markdown",
   "metadata": {
    "id": "ca5e31b6"
   },
   "source": [
    "### Some useful operations"
   ]
  },
  {
   "cell_type": "code",
   "execution_count": 11,
   "metadata": {
    "colab": {
     "base_uri": "https://localhost:8080/"
    },
    "id": "f211d16e",
    "outputId": "0744fd12-ad5f-44ad-c4ae-5f18539b3abc"
   },
   "outputs": [
    {
     "name": "stdout",
     "output_type": "stream",
     "text": [
      "A after clear = set()\n"
     ]
    }
   ],
   "source": [
    "### Make a set empty\n",
    "A.clear()\n",
    "print(F\"A after clear = {A}\") "
   ]
  },
  {
   "cell_type": "code",
   "execution_count": 12,
   "metadata": {
    "colab": {
     "base_uri": "https://localhost:8080/"
    },
    "id": "cb955f15",
    "outputId": "83e1ea33-eda8-4017-c627-5b016fd44204"
   },
   "outputs": [
    {
     "name": "stdout",
     "output_type": "stream",
     "text": [
      "A after add 1 and 0 = {0, 1}\n"
     ]
    }
   ],
   "source": [
    "### Add item to a set\n",
    "A.add(0)\n",
    "A.add(1)\n",
    "print(F\"A after add 1 and 0 = {A}\") "
   ]
  },
  {
   "cell_type": "code",
   "execution_count": 13,
   "metadata": {
    "colab": {
     "base_uri": "https://localhost:8080/"
    },
    "id": "3bd7ad6e",
    "outputId": "83568e61-c807-41a8-eb1b-120dbc55dd77"
   },
   "outputs": [
    {
     "name": "stdout",
     "output_type": "stream",
     "text": [
      "A after union with (1, 3, 5, 7, 9) = {0, 1, 3, 5, 7, 9, 11}\n"
     ]
    }
   ],
   "source": [
    "### Merge two sets (with union)\n",
    "A.update({1, 3, 5, 7, 9, 11})\n",
    "print(F\"A after union with {1, 3, 5, 7, 9} = {A}\") "
   ]
  },
  {
   "cell_type": "code",
   "execution_count": 14,
   "metadata": {
    "colab": {
     "base_uri": "https://localhost:8080/"
    },
    "id": "8c4a646c",
    "outputId": "8841a653-2322-487e-cc80-3a05968fa397"
   },
   "outputs": [
    {
     "name": "stdout",
     "output_type": "stream",
     "text": [
      "A after removing 0 and 11 = {1, 3, 5, 7, 9}\n"
     ]
    }
   ],
   "source": [
    "# Remove element\n",
    "A.remove(0) #the item need to be an element. trows an error if item not found\n",
    "A.discard(11) #the item need to be an element. does not throw an error if item not found\n",
    "print(F\"A after removing 0 and 11 = {A}\") "
   ]
  },
  {
   "cell_type": "code",
   "execution_count": 15,
   "metadata": {
    "colab": {
     "base_uri": "https://localhost:8080/",
     "height": 172
    },
    "id": "CaHtnCs3K8pM",
    "outputId": "ff077f04-58d2-4ba1-fb32-57864ccfa0c7"
   },
   "outputs": [
    {
     "ename": "KeyError",
     "evalue": "0",
     "output_type": "error",
     "traceback": [
      "\u001b[1;31m---------------------------------------------------------------------------\u001b[0m",
      "\u001b[1;31mKeyError\u001b[0m                                  Traceback (most recent call last)",
      "\u001b[1;32m<ipython-input-15-f7c6e08422da>\u001b[0m in \u001b[0;36m<module>\u001b[1;34m\u001b[0m\n\u001b[1;32m----> 1\u001b[1;33m \u001b[0mA\u001b[0m\u001b[1;33m.\u001b[0m\u001b[0mremove\u001b[0m\u001b[1;33m(\u001b[0m\u001b[1;36m0\u001b[0m\u001b[1;33m)\u001b[0m\u001b[1;33m\u001b[0m\u001b[1;33m\u001b[0m\u001b[0m\n\u001b[0m",
      "\u001b[1;31mKeyError\u001b[0m: 0"
     ]
    }
   ],
   "source": [
    "# Throws an error when element not found in the set \n",
    "A.remove(0)"
   ]
  },
  {
   "cell_type": "markdown",
   "metadata": {
    "id": "ff261b96"
   },
   "source": [
    "### Is elemnt of "
   ]
  },
  {
   "cell_type": "code",
   "execution_count": 16,
   "metadata": {
    "colab": {
     "base_uri": "https://localhost:8080/"
    },
    "id": "b67e734b",
    "outputId": "44642755-0be8-4206-caed-d02661085118"
   },
   "outputs": [
    {
     "name": "stdout",
     "output_type": "stream",
     "text": [
      " 2 ∈ A = False\n",
      " 3 ∈ A = True\n"
     ]
    }
   ],
   "source": [
    "print(F\" 2 ∈ A = {2 in A}\") \n",
    "print(F\" 3 ∈ A = {3 in A}\") "
   ]
  },
  {
   "cell_type": "code",
   "execution_count": 17,
   "metadata": {
    "id": "8d0da410",
    "outputId": "061d2d5f-48af-42b4-d02f-080e8ef13a36"
   },
   "outputs": [
    {
     "name": "stdout",
     "output_type": "stream",
     "text": [
      " 2 ∉ A = True\n",
      " 3 ∉ A = False\n"
     ]
    }
   ],
   "source": [
    "print(F\" 2 ∉ A = {2 not in A}\") \n",
    "print(F\" 3 ∉ A = {3 not in A}\") "
   ]
  },
  {
   "cell_type": "code",
   "execution_count": 18,
   "metadata": {
    "colab": {
     "base_uri": "https://localhost:8080/"
    },
    "id": "xmfitZvsQV8T",
    "outputId": "713bec21-d57a-425b-a4e1-482f167e257b"
   },
   "outputs": [
    {
     "data": {
      "text/plain": [
       "True"
      ]
     },
     "execution_count": 18,
     "metadata": {},
     "output_type": "execute_result"
    }
   ],
   "source": [
    "2 not in A"
   ]
  },
  {
   "cell_type": "markdown",
   "metadata": {
    "id": "1e481132"
   },
   "source": [
    "### Is Subset"
   ]
  },
  {
   "cell_type": "code",
   "execution_count": 19,
   "metadata": {
    "colab": {
     "base_uri": "https://localhost:8080/"
    },
    "id": "149142e2",
    "outputId": "5f347118-060e-43c9-b9db-1acc0fa64e70"
   },
   "outputs": [
    {
     "name": "stdout",
     "output_type": "stream",
     "text": [
      " A ⊂ C = False\n",
      " A ⊂ D = True\n",
      " A ⊂ D = True\n"
     ]
    }
   ],
   "source": [
    "print(F\" A ⊂ C = {A.issubset(C)}\") \n",
    "print(F\" A ⊂ D = {A.issubset(D)}\") \n",
    "print(F\" A ⊂ D = {A<=D}\") "
   ]
  },
  {
   "cell_type": "markdown",
   "metadata": {
    "id": "cd5b6279"
   },
   "source": [
    "### Is Superset"
   ]
  },
  {
   "cell_type": "code",
   "execution_count": 20,
   "metadata": {
    "colab": {
     "base_uri": "https://localhost:8080/"
    },
    "id": "2b0f32d1",
    "outputId": "cf769ba1-040f-4e7f-9034-7789ec42add0"
   },
   "outputs": [
    {
     "name": "stdout",
     "output_type": "stream",
     "text": [
      " D ⊃ A = True\n",
      " D ⊃ A = True\n"
     ]
    }
   ],
   "source": [
    "print(F\" D ⊃ A = {D.issuperset(A)}\")\n",
    "print(F\" D ⊃ A = {D>=A}\")"
   ]
  },
  {
   "cell_type": "markdown",
   "metadata": {
    "id": "7d84a22f"
   },
   "source": [
    "### Is Disjoint"
   ]
  },
  {
   "cell_type": "code",
   "execution_count": 21,
   "metadata": {
    "colab": {
     "base_uri": "https://localhost:8080/"
    },
    "id": "4b1cc5fb",
    "outputId": "c59f94bb-135e-4eb7-fccd-07afecebe850"
   },
   "outputs": [
    {
     "name": "stdout",
     "output_type": "stream",
     "text": [
      " A and B are disjoint sets= True\n",
      " A and C are disjoint sets= False\n"
     ]
    }
   ],
   "source": [
    "print(F\" A and B are disjoint sets= {A.isdisjoint(B)}\")  \n",
    "print(F\" A and C are disjoint sets= {A.isdisjoint(C)}\")  "
   ]
  },
  {
   "cell_type": "markdown",
   "metadata": {
    "id": "3any_5MqR7x1"
   },
   "source": [
    "# Is Equal"
   ]
  },
  {
   "cell_type": "code",
   "execution_count": 22,
   "metadata": {
    "colab": {
     "base_uri": "https://localhost:8080/"
    },
    "id": "t_YuU3gSSA7G",
    "outputId": "c368e788-e5b6-4950-f93e-c1cfbf130863"
   },
   "outputs": [
    {
     "data": {
      "text/plain": [
       "True"
      ]
     },
     "execution_count": 22,
     "metadata": {},
     "output_type": "execute_result"
    }
   ],
   "source": [
    "1 != 2"
   ]
  },
  {
   "cell_type": "code",
   "execution_count": 23,
   "metadata": {
    "colab": {
     "base_uri": "https://localhost:8080/"
    },
    "id": "f867dc8e",
    "outputId": "c926c492-cb9b-4cc1-be6b-fb9e49ef0352"
   },
   "outputs": [
    {
     "data": {
      "text/plain": [
       "True"
      ]
     },
     "execution_count": 23,
     "metadata": {},
     "output_type": "execute_result"
    }
   ],
   "source": [
    "A == {1,3,5,7,9}"
   ]
  },
  {
   "cell_type": "code",
   "execution_count": 24,
   "metadata": {
    "colab": {
     "base_uri": "https://localhost:8080/"
    },
    "id": "68uzlL-ASIpS",
    "outputId": "387bb531-5fd7-422f-da43-ae2c6a472e10"
   },
   "outputs": [
    {
     "data": {
      "text/plain": [
       "{1, 3, 5, 7, 9}"
      ]
     },
     "execution_count": 24,
     "metadata": {},
     "output_type": "execute_result"
    }
   ],
   "source": [
    "A"
   ]
  },
  {
   "cell_type": "code",
   "execution_count": 25,
   "metadata": {
    "colab": {
     "base_uri": "https://localhost:8080/"
    },
    "id": "eqaQUuQnSHlW",
    "outputId": "b907a282-2935-40fa-b78f-cfa2e20bd7a3"
   },
   "outputs": [
    {
     "data": {
      "text/plain": [
       "True"
      ]
     },
     "execution_count": 25,
     "metadata": {},
     "output_type": "execute_result"
    }
   ],
   "source": [
    "A == {3,5,7,9, 1}"
   ]
  },
  {
   "cell_type": "code",
   "execution_count": 26,
   "metadata": {
    "colab": {
     "base_uri": "https://localhost:8080/"
    },
    "id": "V-Ylz6gISWGE",
    "outputId": "e6df4784-f178-4f90-c839-10cd8cca0d7f"
   },
   "outputs": [
    {
     "data": {
      "text/plain": [
       "False"
      ]
     },
     "execution_count": 26,
     "metadata": {},
     "output_type": "execute_result"
    }
   ],
   "source": [
    "A == {1,3,5,7,9,11}"
   ]
  },
  {
   "cell_type": "code",
   "execution_count": 27,
   "metadata": {
    "colab": {
     "base_uri": "https://localhost:8080/"
    },
    "id": "dbce1295",
    "outputId": "f203733b-3761-4855-badc-9830130cd30c"
   },
   "outputs": [
    {
     "data": {
      "text/plain": [
       "True"
      ]
     },
     "execution_count": 27,
     "metadata": {},
     "output_type": "execute_result"
    }
   ],
   "source": [
    "A != {1,3,5,7,9,11}"
   ]
  },
  {
   "cell_type": "markdown",
   "metadata": {
    "id": "bf538535"
   },
   "source": [
    "### Cardinality"
   ]
  },
  {
   "cell_type": "code",
   "execution_count": 28,
   "metadata": {
    "colab": {
     "base_uri": "https://localhost:8080/"
    },
    "id": "7a3eeb3c",
    "outputId": "46f988ce-5cd6-4e97-c93a-d1b90c80b387"
   },
   "outputs": [
    {
     "name": "stdout",
     "output_type": "stream",
     "text": [
      "Set A has 5 elements\n"
     ]
    }
   ],
   "source": [
    "print(F\"Set A has {len(A)} elements\")  "
   ]
  },
  {
   "cell_type": "markdown",
   "metadata": {
    "id": "2487320f"
   },
   "source": [
    "# Exercise 1\n",
    "Count how many unique values in the list given below. Obtain a list of unique values."
   ]
  },
  {
   "cell_type": "code",
   "execution_count": 29,
   "metadata": {
    "colab": {
     "base_uri": "https://localhost:8080/"
    },
    "id": "25ce8c8a",
    "outputId": "cb0a0244-180e-4fe3-8597-3280eedbace0"
   },
   "outputs": [
    {
     "name": "stdout",
     "output_type": "stream",
     "text": [
      "list = ['apple', 'orange', 'apple', 'banana', 'orange', 'orange', 'banana', 'apple', 'apple', 'strawberry']\n",
      "Length of the list = 10\n"
     ]
    }
   ],
   "source": [
    "fruits = [\"apple\", \"orange\", \"apple\", \"banana\", \"orange\", \"orange\", \"banana\", \"apple\", \"apple\", \"strawberry\"]\n",
    "print(F\"list = {fruits}\")\n",
    "print(F\"Length of the list = {len(fruits)}\")"
   ]
  },
  {
   "cell_type": "code",
   "execution_count": 30,
   "metadata": {
    "id": "3329bd26"
   },
   "outputs": [],
   "source": [
    "# Type your code here"
   ]
  },
  {
   "cell_type": "markdown",
   "metadata": {
    "id": "b731df60"
   },
   "source": [
    "# Logic Gates"
   ]
  },
  {
   "cell_type": "code",
   "execution_count": 31,
   "metadata": {
    "colab": {
     "base_uri": "https://localhost:8080/"
    },
    "id": "567f409b",
    "outputId": "aea7e1fe-9d06-4d79-d387-eb4990fd9d9d"
   },
   "outputs": [
    {
     "name": "stdout",
     "output_type": "stream",
     "text": [
      "A = True\n",
      "B = False\n",
      "!A = False\n",
      "!B = True\n",
      "A & B = False\n",
      "A | B = True\n"
     ]
    }
   ],
   "source": [
    "A = True\n",
    "B = False\n",
    "\n",
    "print(F\"A = {A}\")\n",
    "print(F\"B = {B}\")\n",
    "print(F\"!A = {not A}\")\n",
    "print(F\"!B = {not B}\")\n",
    "print(F\"A & B = {A and B}\")\n",
    "print(F\"A | B = {A or B}\")"
   ]
  },
  {
   "cell_type": "code",
   "execution_count": 32,
   "metadata": {
    "colab": {
     "base_uri": "https://localhost:8080/"
    },
    "id": "20192f63",
    "outputId": "c51e2fae-012c-4b7b-acb5-f9734808f8ba"
   },
   "outputs": [
    {
     "name": "stdout",
     "output_type": "stream",
     "text": [
      "A = True\n",
      "B = True\n",
      "!A = False\n",
      "!B = False\n",
      "A & B = True\n",
      "A | B = True\n"
     ]
    }
   ],
   "source": [
    "A = True\n",
    "B = True\n",
    "\n",
    "print(F\"A = {A}\")\n",
    "print(F\"B = {B}\")\n",
    "print(F\"!A = {not A}\")\n",
    "print(F\"!B = {not B}\")\n",
    "print(F\"A & B = {A and B}\")\n",
    "print(F\"A | B = {A or B}\")"
   ]
  },
  {
   "cell_type": "code",
   "execution_count": 33,
   "metadata": {
    "colab": {
     "base_uri": "https://localhost:8080/"
    },
    "id": "23d8d9df",
    "outputId": "46b5283f-1165-407c-9fc9-647fb5680569"
   },
   "outputs": [
    {
     "name": "stdout",
     "output_type": "stream",
     "text": [
      "A = False\n",
      "B = False\n",
      "!A = True\n",
      "!B = True\n",
      "A & B = False\n",
      "A | B = False\n"
     ]
    }
   ],
   "source": [
    "A = False\n",
    "B = False\n",
    "\n",
    "print(F\"A = {A}\")\n",
    "print(F\"B = {B}\")\n",
    "print(F\"!A = {not A}\")\n",
    "print(F\"!B = {not B}\")\n",
    "print(F\"A & B = {A and B}\")\n",
    "print(F\"A | B = {A or B}\")"
   ]
  },
  {
   "cell_type": "code",
   "execution_count": 34,
   "metadata": {
    "colab": {
     "base_uri": "https://localhost:8080/"
    },
    "id": "bhiK7teLToXr",
    "outputId": "e648339f-5840-4045-cea6-6e8f8652fa13"
   },
   "outputs": [
    {
     "data": {
      "text/plain": [
       "False"
      ]
     },
     "execution_count": 34,
     "metadata": {},
     "output_type": "execute_result"
    }
   ],
   "source": [
    "A = False\n",
    "B = False\n",
    "C = True\n",
    "\n",
    "A and B and C"
   ]
  },
  {
   "cell_type": "code",
   "execution_count": 35,
   "metadata": {
    "colab": {
     "base_uri": "https://localhost:8080/"
    },
    "id": "jy_PGTibT0nb",
    "outputId": "2664fe8b-2730-4041-fca4-2cf6d07d2aea"
   },
   "outputs": [
    {
     "data": {
      "text/plain": [
       "True"
      ]
     },
     "execution_count": 35,
     "metadata": {},
     "output_type": "execute_result"
    }
   ],
   "source": [
    "A or B or C"
   ]
  },
  {
   "cell_type": "code",
   "execution_count": 36,
   "metadata": {
    "colab": {
     "base_uri": "https://localhost:8080/"
    },
    "id": "txtt1GP5T36v",
    "outputId": "71bf9fe1-e25d-490c-9e8b-5f65a8c41eb4"
   },
   "outputs": [
    {
     "data": {
      "text/plain": [
       "True"
      ]
     },
     "execution_count": 36,
     "metadata": {},
     "output_type": "execute_result"
    }
   ],
   "source": [
    "A and B or C"
   ]
  },
  {
   "cell_type": "code",
   "execution_count": 37,
   "metadata": {
    "colab": {
     "base_uri": "https://localhost:8080/"
    },
    "id": "9703b26f",
    "outputId": "ab26f611-59ca-4b8e-b060-9a923d1ed857"
   },
   "outputs": [
    {
     "name": "stdout",
     "output_type": "stream",
     "text": [
      "a<b = True\n",
      "a==b = False\n",
      "a==c = True\n"
     ]
    }
   ],
   "source": [
    "a = 5\n",
    "b = 10\n",
    "c = 5\n",
    "\n",
    "print(F\"a<b = {a<b}\")\n",
    "print(F\"a==b = {a==b}\")\n",
    "print(F\"a==c = {a==c}\")"
   ]
  },
  {
   "cell_type": "code",
   "execution_count": 38,
   "metadata": {
    "colab": {
     "base_uri": "https://localhost:8080/"
    },
    "id": "1f9534cc",
    "outputId": "76752345-fc0f-41a0-b6b5-99b8fdb634b1"
   },
   "outputs": [
    {
     "name": "stdout",
     "output_type": "stream",
     "text": [
      "(a<b) & (a==b) = False\n",
      "(a<b) | (a==b) = True\n"
     ]
    }
   ],
   "source": [
    "print(F\"(a<b) & (a==b) = {(a<b) and (a==b)}\")\n",
    "print(F\"(a<b) | (a==b) = {(a<b) or (a==b)}\")"
   ]
  },
  {
   "cell_type": "code",
   "execution_count": 39,
   "metadata": {
    "colab": {
     "base_uri": "https://localhost:8080/"
    },
    "id": "63293b11",
    "outputId": "f6ce82db-5c6a-49b6-c2c7-52e4c425f3c1"
   },
   "outputs": [
    {
     "name": "stdout",
     "output_type": "stream",
     "text": [
      "(a<b) & (a==c) = True\n",
      "(a<b) | (a==c) = True\n"
     ]
    }
   ],
   "source": [
    "print(F\"(a<b) & (a==c) = {(a<b) and (a==c)}\")\n",
    "print(F\"(a<b) | (a==c) = {(a<b) or (not (a==c))}\")"
   ]
  },
  {
   "cell_type": "code",
   "execution_count": 40,
   "metadata": {
    "colab": {
     "base_uri": "https://localhost:8080/"
    },
    "id": "0550b6f5",
    "outputId": "3f92bfa3-d814-4321-8558-4cb776eeac72"
   },
   "outputs": [
    {
     "name": "stdout",
     "output_type": "stream",
     "text": [
      "(a<b) & !(a==b) = True\n"
     ]
    }
   ],
   "source": [
    "print(F\"(a<b) & !(a==b) = {(a<b) and not (a==b)}\")"
   ]
  },
  {
   "cell_type": "markdown",
   "metadata": {
    "id": "5d494a23"
   },
   "source": [
    "# Logarithms"
   ]
  },
  {
   "cell_type": "code",
   "execution_count": 41,
   "metadata": {
    "id": "851e269e"
   },
   "outputs": [],
   "source": [
    "import numpy as np"
   ]
  },
  {
   "cell_type": "code",
   "execution_count": 42,
   "metadata": {
    "id": "6bb8905a"
   },
   "outputs": [],
   "source": [
    "a = 1000\n",
    "b = 8"
   ]
  },
  {
   "cell_type": "markdown",
   "metadata": {
    "id": "82573591"
   },
   "source": [
    "### Natural log (base e)"
   ]
  },
  {
   "cell_type": "code",
   "execution_count": 43,
   "metadata": {
    "colab": {
     "base_uri": "https://localhost:8080/"
    },
    "id": "fdf86854",
    "outputId": "0d09284b-9dfc-4991-cf61-dea456777a9e"
   },
   "outputs": [
    {
     "name": "stdout",
     "output_type": "stream",
     "text": [
      "log_2(1000) = 9.965784284662087\n",
      "log_e(1000) = 6.907755278982137\n",
      "log_10(1000) = 3.0\n"
     ]
    }
   ],
   "source": [
    "print(F\"log_2({a}) = {np.log2(a)}\")\n",
    "print(F\"log_e({a}) = {np.log(a)}\")\n",
    "print(F\"log_10({a}) = {np.log10(a)}\")"
   ]
  },
  {
   "cell_type": "code",
   "execution_count": 44,
   "metadata": {
    "colab": {
     "base_uri": "https://localhost:8080/"
    },
    "id": "8617333e",
    "outputId": "3ece72b9-5582-4702-8eb4-7b4a5f27a3e9"
   },
   "outputs": [
    {
     "name": "stdout",
     "output_type": "stream",
     "text": [
      "e = 2.718281828459045\n"
     ]
    }
   ],
   "source": [
    "print(F\"e = {np.e}\")"
   ]
  },
  {
   "cell_type": "code",
   "execution_count": 45,
   "metadata": {
    "colab": {
     "base_uri": "https://localhost:8080/"
    },
    "id": "1db50575",
    "outputId": "1c7cd8e2-e0ab-43b7-d21f-0c4e6936f523"
   },
   "outputs": [
    {
     "name": "stdout",
     "output_type": "stream",
     "text": [
      "log_2(8) = 3.0\n",
      "log_e(8) = 2.0794415416798357\n",
      "log_10(8) = 0.9030899869919435\n"
     ]
    }
   ],
   "source": [
    "print(F\"log_2({b}) = {np.log2(b)}\")\n",
    "print(F\"log_e({b}) = {np.log(b)}\")\n",
    "print(F\"log_10({b}) = {np.log10(b)}\")"
   ]
  },
  {
   "cell_type": "code",
   "execution_count": 46,
   "metadata": {
    "colab": {
     "base_uri": "https://localhost:8080/"
    },
    "id": "515daccd",
    "outputId": "525ba2e6-43f0-4a82-e32f-cce9b2b5f630"
   },
   "outputs": [
    {
     "name": "stdout",
     "output_type": "stream",
     "text": [
      "2^3 = 8\n",
      "e^6.90775 = 999.9999999999998\n",
      "10^3 = 1000\n"
     ]
    }
   ],
   "source": [
    "print(F\"2^3 = {2**3}\")\n",
    "print(F\"e^6.90775 = {np.exp(6.907755278982137)}\")\n",
    "print(F\"10^3 = {10**3}\")"
   ]
  },
  {
   "cell_type": "code",
   "execution_count": 47,
   "metadata": {
    "colab": {
     "base_uri": "https://localhost:8080/"
    },
    "id": "YfMS6fbJWXjP",
    "outputId": "9cdb7cd7-2599-433b-abde-67af9d86a2b5"
   },
   "outputs": [
    {
     "data": {
      "text/plain": [
       "1.0"
      ]
     },
     "execution_count": 47,
     "metadata": {},
     "output_type": "execute_result"
    }
   ],
   "source": [
    "np.log(np.e)"
   ]
  },
  {
   "cell_type": "code",
   "execution_count": 48,
   "metadata": {
    "colab": {
     "base_uri": "https://localhost:8080/"
    },
    "id": "vPpC1oWlWhdE",
    "outputId": "c064b116-5b14-460b-fb1a-bf9b3082bc09"
   },
   "outputs": [
    {
     "data": {
      "text/plain": [
       "1.0"
      ]
     },
     "execution_count": 48,
     "metadata": {},
     "output_type": "execute_result"
    }
   ],
   "source": [
    "np.log10(10)"
   ]
  },
  {
   "cell_type": "code",
   "execution_count": 49,
   "metadata": {
    "colab": {
     "base_uri": "https://localhost:8080/"
    },
    "id": "EzhMgM_dWk_X",
    "outputId": "1e3277f5-a739-4b7f-d32b-285b34c433a9"
   },
   "outputs": [
    {
     "data": {
      "text/plain": [
       "1.0"
      ]
     },
     "execution_count": 49,
     "metadata": {},
     "output_type": "execute_result"
    }
   ],
   "source": [
    "np.log2(2)"
   ]
  },
  {
   "cell_type": "markdown",
   "metadata": {
    "id": "aeb15c80"
   },
   "source": [
    "# Functions"
   ]
  },
  {
   "cell_type": "code",
   "execution_count": 50,
   "metadata": {
    "colab": {
     "base_uri": "https://localhost:8080/"
    },
    "id": "e8e07d09",
    "outputId": "ab6632ed-062e-4d0f-9f02-d596fe21090b"
   },
   "outputs": [
    {
     "name": "stdout",
     "output_type": "stream",
     "text": [
      "angle_deg = 45\n",
      "angle_rad = 0.7853981633974483\n",
      "sin(45) = 0.7071067811865476\n",
      "cos(45) = 0.7071067811865476\n",
      "tan(45) = 0.9999999999999999\n"
     ]
    }
   ],
   "source": [
    "angle_deg = 45\n",
    "angle_rad = np.radians(angle_deg)\n",
    "print(F\"angle_deg = {angle_deg}\")\n",
    "print(F\"angle_rad = {angle_rad}\")\n",
    "# sin(45)\n",
    "print(F\"sin(45) = {np.sin(angle_rad)}\")\n",
    "# cos(45)\n",
    "print(F\"cos(45) = {np.cos(angle_rad)}\")\n",
    "# tan(45)\n",
    "print(F\"tan(45) = {np.tan(angle_rad)}\")"
   ]
  },
  {
   "cell_type": "code",
   "execution_count": 51,
   "metadata": {
    "colab": {
     "base_uri": "https://localhost:8080/"
    },
    "id": "363f1f82",
    "outputId": "7690a914-e502-4c04-83e7-d6afb21e5ac6"
   },
   "outputs": [
    {
     "name": "stdout",
     "output_type": "stream",
     "text": [
      "angle_deg = 30\n",
      "angle_rad = 0.5235987755982988\n",
      "sin(45) = 0.49999999999999994\n",
      "cos(45) = 0.8660254037844387\n",
      "tan(45) = 0.5773502691896257\n"
     ]
    }
   ],
   "source": [
    "angle_deg = 30\n",
    "angle_rad = np.radians(angle_deg)\n",
    "print(F\"angle_deg = {angle_deg}\")\n",
    "print(F\"angle_rad = {angle_rad}\")\n",
    "# sin(45)\n",
    "print(F\"sin(45) = {np.sin(angle_rad)}\")\n",
    "# cos(45)\n",
    "print(F\"cos(45) = {np.cos(angle_rad)}\")\n",
    "# tan(45)\n",
    "print(F\"tan(45) = {np.tan(angle_rad)}\")"
   ]
  },
  {
   "cell_type": "code",
   "execution_count": 52,
   "metadata": {
    "colab": {
     "base_uri": "https://localhost:8080/"
    },
    "id": "0217fcca",
    "outputId": "82811b51-87f2-438c-91c3-0c2851450c09"
   },
   "outputs": [
    {
     "data": {
      "text/plain": [
       "3.14"
      ]
     },
     "execution_count": 52,
     "metadata": {},
     "output_type": "execute_result"
    }
   ],
   "source": [
    "np.absolute(-3.14)\n",
    "np.abs(-3.14)"
   ]
  },
  {
   "cell_type": "markdown",
   "metadata": {
    "id": "2b4613e0"
   },
   "source": [
    "## numpy functions on an array of elements"
   ]
  },
  {
   "cell_type": "code",
   "execution_count": 53,
   "metadata": {
    "colab": {
     "base_uri": "https://localhost:8080/"
    },
    "id": "3e219432",
    "outputId": "e8857c9f-734e-43ec-a101-2b21794d19df"
   },
   "outputs": [
    {
     "name": "stdout",
     "output_type": "stream",
     "text": [
      "[-10.   -9.9  -9.8  -9.7  -9.6  -9.5  -9.4  -9.3  -9.2  -9.1]\n",
      "[9.  9.1 9.2 9.3 9.4 9.5 9.6 9.7 9.8 9.9]\n",
      "200\n",
      "<class 'numpy.ndarray'>\n"
     ]
    }
   ],
   "source": [
    "x = np.arange(-10,10,.1)\n",
    "print(x[:10])\n",
    "print(x[-10:])\n",
    "print(len(x))\n",
    "print(type(x))"
   ]
  },
  {
   "cell_type": "code",
   "execution_count": 54,
   "metadata": {
    "colab": {
     "base_uri": "https://localhost:8080/",
     "height": 368
    },
    "id": "b1ed01ab",
    "outputId": "a329d7e8-b188-4146-836e-b06527ea3f55"
   },
   "outputs": [
    {
     "name": "stdout",
     "output_type": "stream",
     "text": [
      "[100.    98.01  96.04  94.09  92.16  90.25  88.36  86.49  84.64  82.81]\n",
      "[81.   82.81 84.64 86.49 88.36 90.25 92.16 94.09 96.04 98.01]\n",
      "200\n",
      "<class 'numpy.ndarray'>\n"
     ]
    },
    {
     "data": {
      "image/png": "[encoded data removed]",
      "text/plain": [
       "<Figure size 432x288 with 1 Axes>"
      ]
     },
     "metadata": {
      "needs_background": "light"
     },
     "output_type": "display_data"
    }
   ],
   "source": [
    "import matplotlib.pyplot as plt\n",
    "%matplotlib inline\n",
    "\n",
    "y = x**2\n",
    "\n",
    "print(y[:10])\n",
    "print(y[-10:])\n",
    "print(len(y))\n",
    "print(type(y))\n",
    "\n",
    "plt.plot(x, y)\n",
    "plt.xlabel(\"x\")\n",
    "plt.ylabel(\"y\")\n",
    "plt.title(\"Function Plot\")\n",
    "\n",
    "plt.show()"
   ]
  },
  {
   "cell_type": "code",
   "execution_count": 55,
   "metadata": {
    "colab": {
     "base_uri": "https://localhost:8080/",
     "height": 295
    },
    "id": "be1890c4",
    "outputId": "e7620e32-4f8b-427c-faca-94df6cbaa4d9"
   },
   "outputs": [
    {
     "data": {
      "image/png": "[encoded data removed]",
      "text/plain": [
       "<Figure size 432x288 with 1 Axes>"
      ]
     },
     "metadata": {
      "needs_background": "light"
     },
     "output_type": "display_data"
    }
   ],
   "source": [
    "y1 = np.sin(x+2)\n",
    "y2 = np.cos(x*2)\n",
    "#y3 = np.tan(x)\n",
    "\n",
    "plt.plot(np.rad2deg(x), y1)\n",
    "plt.plot(np.rad2deg(x), y2)\n",
    "#plt.plot(np.rad2deg(x), y3)\n",
    "\n",
    "plt.xlabel(\"x (deg)\")\n",
    "plt.ylabel(\"y\")\n",
    "plt.title(\"Function Plot\")\n",
    "\n",
    "plt.show()"
   ]
  },
  {
   "cell_type": "code",
   "execution_count": 56,
   "metadata": {
    "colab": {
     "base_uri": "https://localhost:8080/",
     "height": 295
    },
    "id": "b3f6d97d",
    "outputId": "9291df57-f46c-46f9-873f-0053a4864011"
   },
   "outputs": [
    {
     "data": {
      "image/png": "[encoded data removed]",
      "text/plain": [
       "<Figure size 432x288 with 1 Axes>"
      ]
     },
     "metadata": {
      "needs_background": "light"
     },
     "output_type": "display_data"
    }
   ],
   "source": [
    "y = np.abs(x)\n",
    "plt.plot(x, y)\n",
    "plt.xlabel(\"x\")\n",
    "plt.ylabel(\"y\")\n",
    "plt.title(\"Function Plot\")\n",
    "\n",
    "plt.show()"
   ]
  },
  {
   "cell_type": "code",
   "execution_count": 57,
   "metadata": {
    "colab": {
     "base_uri": "https://localhost:8080/"
    },
    "id": "XjqFsCVgapsT",
    "outputId": "bd5458da-53be-41a4-8ef0-de52946f3483"
   },
   "outputs": [
    {
     "data": {
      "text/plain": [
       "array([ 3,  7, 13])"
      ]
     },
     "execution_count": 57,
     "metadata": {},
     "output_type": "execute_result"
    }
   ],
   "source": [
    "def quadratic(x, a0, a1, a2):\n",
    "    return a0 + a1*x + a2*x**2\n",
    "\n",
    "quadratic(np.array([1,2,3]), 1,1,1)"
   ]
  },
  {
   "cell_type": "code",
   "execution_count": 58,
   "metadata": {
    "colab": {
     "base_uri": "https://localhost:8080/"
    },
    "id": "vxf9rgCda2n1",
    "outputId": "97b9e113-456d-4b79-cc4d-efa3c81973f6"
   },
   "outputs": [
    {
     "data": {
      "text/plain": [
       "[1, 2, 3]"
      ]
     },
     "execution_count": 58,
     "metadata": {},
     "output_type": "execute_result"
    }
   ],
   "source": [
    "[1,2,3]"
   ]
  },
  {
   "cell_type": "code",
   "execution_count": 59,
   "metadata": {
    "id": "0f3c35a4"
   },
   "outputs": [],
   "source": [
    "# User Defined function\n",
    "def quadratic(x, a0, a1, a2):\n",
    "    return a0 + a1*x + a2*x**2\n",
    "\n",
    "# Vectorize the function to apply on each elemnt on an array\n",
    "quadratic_v = np.vectorize(quadratic)"
   ]
  },
  {
   "cell_type": "code",
   "execution_count": 60,
   "metadata": {
    "colab": {
     "base_uri": "https://localhost:8080/",
     "height": 295
    },
    "id": "379f3d7a",
    "outputId": "5255abd3-2560-4ca2-b5ed-b6544eedf635"
   },
   "outputs": [
    {
     "data": {
      "image/png": "[encoded data removed]",
      "text/plain": [
       "<Figure size 432x288 with 1 Axes>"
      ]
     },
     "metadata": {
      "needs_background": "light"
     },
     "output_type": "display_data"
    }
   ],
   "source": [
    "y = quadratic_v(x, 10, 5, 1.5)\n",
    "\n",
    "\n",
    "plt.plot(x, y)\n",
    "plt.xlabel(\"x\")\n",
    "plt.ylabel(\"y\")\n",
    "plt.title(\"Function Plot\")\n",
    "\n",
    "plt.show()"
   ]
  },
  {
   "cell_type": "code",
   "execution_count": 61,
   "metadata": {
    "colab": {
     "base_uri": "https://localhost:8080/",
     "height": 295
    },
    "id": "2fc6191b",
    "outputId": "ec2f748a-3b8c-4f7c-942c-fc7c59f7565a"
   },
   "outputs": [
    {
     "ename": "SyntaxError",
     "evalue": "invalid syntax (<ipython-input-61-7e827b99d92a>, line 15)",
     "output_type": "error",
     "traceback": [
      "\u001b[1;36m  File \u001b[1;32m\"<ipython-input-61-7e827b99d92a>\"\u001b[1;36m, line \u001b[1;32m15\u001b[0m\n\u001b[1;33m    plt.title(\"Function Plot\")1/(1+np.exp(-x))\u001b[0m\n\u001b[1;37m                              ^\u001b[0m\n\u001b[1;31mSyntaxError\u001b[0m\u001b[1;31m:\u001b[0m invalid syntax\n"
     ]
    }
   ],
   "source": [
    "# User Defined function\n",
    "# Logistic, sigmoid function (k=1, x0=0)\n",
    "\n",
    "def sigmoid(x):\n",
    "    return \n",
    "\n",
    "# Vectorize the function to apply on each elemnt on an array\n",
    "sigmoid_v = np.vectorize(sigmoid)\n",
    "\n",
    "y = sigmoid_v(x)\n",
    "\n",
    "plt.plot(x, y)\n",
    "plt.xlabel(\"x\")\n",
    "plt.ylabel(\"y\")\n",
    "plt.title(\"Function Plot\")1/(1+np.exp(-x))\n",
    "\n",
    "plt.show()"
   ]
  },
  {
   "cell_type": "code",
   "execution_count": 62,
   "metadata": {
    "colab": {
     "base_uri": "https://localhost:8080/",
     "height": 295
    },
    "id": "917ec0f9",
    "outputId": "462374b0-452f-4c99-99a8-e9aad87fd8bc"
   },
   "outputs": [
    {
     "data": {
      "image/png": "[encoded data removed]",
      "text/plain": [
       "<Figure size 432x288 with 1 Axes>"
      ]
     },
     "metadata": {
      "needs_background": "light"
     },
     "output_type": "display_data"
    }
   ],
   "source": [
    "# User Defined function\n",
    "# Rectified linear unit (ReLU)\n",
    "\n",
    "def relu(x):\n",
    "    if x<0:\n",
    "        return 0.0\n",
    "    else:\n",
    "        return x\n",
    "\n",
    "# Vectorize the function to apply on each elemnt on an array\n",
    "relu_v = np.vectorize(relu)\n",
    "#y = relu(x)\n",
    "y = relu_v(x)\n",
    "\n",
    "plt.plot(x, y)\n",
    "plt.xlabel(\"x\")\n",
    "plt.ylabel(\"y\")\n",
    "plt.title(\"Function Plot\")\n",
    "\n",
    "plt.show()"
   ]
  },
  {
   "cell_type": "markdown",
   "metadata": {
    "id": "4b5c2bda"
   },
   "source": [
    "# Sequence"
   ]
  },
  {
   "cell_type": "code",
   "execution_count": 63,
   "metadata": {
    "colab": {
     "base_uri": "https://localhost:8080/"
    },
    "id": "08980b94",
    "outputId": "68b2feb6-0526-4828-e337-15498adff2b3"
   },
   "outputs": [
    {
     "name": "stdout",
     "output_type": "stream",
     "text": [
      "[ 0  1  4  9 16 25 36 49 64 81]\n"
     ]
    }
   ],
   "source": [
    "n = np.arange(0, 10, 1)\n",
    "Sn = n**2\n",
    "print(Sn)"
   ]
  },
  {
   "cell_type": "code",
   "execution_count": 64,
   "metadata": {
    "colab": {
     "base_uri": "https://localhost:8080/"
    },
    "id": "d9f6ac13",
    "outputId": "049fcf82-47df-45cb-f662-92cdd6a5d717"
   },
   "outputs": [
    {
     "data": {
      "text/plain": [
       "285"
      ]
     },
     "execution_count": 64,
     "metadata": {},
     "output_type": "execute_result"
    }
   ],
   "source": [
    "Sn.sum()"
   ]
  },
  {
   "cell_type": "markdown",
   "metadata": {
    "id": "b5fc71b8"
   },
   "source": [
    "# Series"
   ]
  },
  {
   "cell_type": "code",
   "execution_count": 65,
   "metadata": {
    "colab": {
     "base_uri": "https://localhost:8080/"
    },
    "id": "f62494d3",
    "outputId": "9dd898eb-9547-4f79-8afd-fce3af9b99c5"
   },
   "outputs": [
    {
     "name": "stdout",
     "output_type": "stream",
     "text": [
      "numpy pi   = 3.141592653589793\n",
      "Madhava-Gregory-Leibniz Series\n",
      "Terms             = 10000000\n",
      "pi (M-G-L)        = 3.141592553589792\n",
      "difference        = 0.000000100000002\n",
      "difference        = 0.00000 %\n"
     ]
    }
   ],
   "source": [
    "# Calculate pi using a series method\n",
    "# https://en.wikipedia.org/wiki/Gregory%27s_series\n",
    "# https://pub.towardsai.net/unrolling-the-digits-of-pi-%CF%80-7e8b404be08e\n",
    "\n",
    "print('numpy pi   = {:.15f}'.format(np.pi))\n",
    "\n",
    "print(\"Madhava-Gregory-Leibniz Series\")\n",
    "N = 10000000\n",
    "\n",
    "Sn = 0\n",
    "for n in range(1, N+1):\n",
    "    Sn += ( (-1)**(n+1) ) / (2*n-1) \n",
    "    \n",
    "pi = 4.0 * Sn\n",
    "\n",
    "print(\"Terms             = {}\".format(N))\n",
    "print(\"pi (M-G-L)        = {:.15f}\".format(pi))\n",
    "print(\"difference        = {:.15f}\".format(abs(pi - np.pi)))\n",
    "print(\"difference        = {:.5f} %\".format(abs(pi - np.pi) * 100 / (np.pi)))\n"
   ]
  },
  {
   "cell_type": "markdown",
   "metadata": {
    "id": "ec6480b6"
   },
   "source": [
    "# Exercise 2: "
   ]
  },
  {
   "cell_type": "markdown",
   "metadata": {
    "id": "4fdecebf"
   },
   "source": [
    "Create a function to give a letter grade based on the exam score using the the following criteria. Function should apply to the nupy array without using `for` loop. Use np.vectorize().\n",
    "\n",
    "* A : score >= 90\n",
    "* B : 70 <= score < 80 \n",
    "* C : 50 <= score < 70 \n",
    "* D : 30 <= score < 50 \n",
    "* F : score < 30 "
   ]
  },
  {
   "cell_type": "code",
   "execution_count": 66,
   "metadata": {
    "id": "b8852bda",
    "outputId": "d6f1f481-7b57-4b69-c4ff-1e80d4fd103a"
   },
   "outputs": [
    {
     "name": "stdout",
     "output_type": "stream",
     "text": [
      "scores = [ 75  59  63  51  53  39  85  69  73  73  34  56  34  80  78 100  64  95\n",
      "  74  95]\n"
     ]
    }
   ],
   "source": [
    "scores = np.array([75, 59, 63, 51, 53, 39, 85, 69, 73, 73, 34, 56, 34, 80, 78, 100, 64, 95, 74, 95])\n",
    "print(F\"scores = {scores}\")"
   ]
  },
  {
   "cell_type": "code",
   "execution_count": null,
   "metadata": {
    "id": "d4bb4414"
   },
   "outputs": [],
   "source": [
    "# code your solution here"
   ]
  },
  {
   "cell_type": "markdown",
   "metadata": {
    "id": "e91d699f"
   },
   "source": [
    "<hr>\n",
    "Last update 2021-09-11 by Sumudu Tennakoon\n",
    "\n",
    "<a rel=\"license\" href=\"http://creativecommons.org/licenses/by-nc-sa/4.0/\"><img alt=\"Creative Commons License\" style=\"border-width:0\" src=\"https://i.creativecommons.org/l/by-nc-sa/4.0/88x31.png\" /></a><br />This work is licensed under a <a rel=\"license\" href=\"http://creativecommons.org/licenses/by-nc-sa/4.0/\">Creative Commons Attribution-NonCommercial-ShareAlike 4.0 International License</a>."
   ]
  }
 ],
 "metadata": {
  "@webio": {
   "lastCommId": null,
   "lastKernelId": null
  },
  "colab": {
   "name": "4-Mathematics_For_ML_Part2.ipynb",
   "provenance": []
  },
  "kernelspec": {
   "display_name": "Python 3",
   "language": "python",
   "name": "python3"
  },
  "language_info": {
   "codemirror_mode": {
    "name": "ipython",
    "version": 3
   },
   "file_extension": ".py",
   "mimetype": "text/x-python",
   "name": "python",
   "nbconvert_exporter": "python",
   "pygments_lexer": "ipython3",
   "version": "3.7.7"
  }
 },
 "nbformat": 4,
 "nbformat_minor": 5
}
