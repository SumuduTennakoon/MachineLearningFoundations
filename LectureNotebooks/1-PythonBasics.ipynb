{
 "cells": [
  {
   "cell_type": "markdown",
   "metadata": {
    "id": "kYmStDyzCmLz"
   },
   "source": [
    "# Machine Learning Foundations\n",
    "Sumudu Tennakoon, PhD"
   ]
  },
  {
   "cell_type": "markdown",
   "metadata": {
    "id": "maoXt0VNCuNb"
   },
   "source": [
    "# Python Basics\n",
    "In this notebook we will explore some basic fetures on Python programing language for those who have a prior programing expereince. \n",
    "\n",
    "To learn more about Python, refeer to the following websites\n",
    "- Python : www.python.org\n",
    "\n",
    "To learn more about the Python packages we explore in this notebook, refeer to the following websites\n",
    "\n",
    "- NumPy : www.numpy.org\n",
    "- Matplotlib : www.matplotlib.org\n",
    "- Pandas : www.pandas.pydata.org"
   ]
  },
  {
   "cell_type": "markdown",
   "metadata": {
    "id": "mspbFZ3rC4US"
   },
   "source": [
    "## Variables"
   ]
  },
  {
   "cell_type": "code",
   "execution_count": 1,
   "metadata": {
    "colab": {
     "base_uri": "https://localhost:8080/"
    },
    "id": "uBuPTYVCCggN",
    "outputId": "8f1ebdb7-911a-49f4-c657-c77a10a2272a"
   },
   "outputs": [
    {
     "name": "stdout",
     "output_type": "stream",
     "text": [
      "5\n"
     ]
    }
   ],
   "source": [
    "a = 2\n",
    "b = 3\n",
    "\n",
    "print(a+b)"
   ]
  },
  {
   "cell_type": "code",
   "execution_count": 2,
   "metadata": {
    "colab": {
     "base_uri": "https://localhost:8080/"
    },
    "id": "ePtjBDUDC8bM",
    "outputId": "230a389c-2d7f-4d11-a5ca-7951874395bb"
   },
   "outputs": [
    {
     "name": "stdout",
     "output_type": "stream",
     "text": [
      "Hello\n"
     ]
    }
   ],
   "source": [
    "print(\"Hello\")"
   ]
  },
  {
   "cell_type": "code",
   "execution_count": 3,
   "metadata": {
    "colab": {
     "base_uri": "https://localhost:8080/"
    },
    "id": "xTviXyxZDIB9",
    "outputId": "8e2b3de6-f9f6-4340-fab5-5f00a01d31b1"
   },
   "outputs": [
    {
     "name": "stdout",
     "output_type": "stream",
     "text": [
      "3\n"
     ]
    }
   ],
   "source": [
    "b = \"3\"\n",
    "print(b)"
   ]
  },
  {
   "cell_type": "markdown",
   "metadata": {
    "id": "LiF33BV3Df1Q"
   },
   "source": [
    "## Data Types"
   ]
  },
  {
   "cell_type": "code",
   "execution_count": 4,
   "metadata": {
    "colab": {
     "base_uri": "https://localhost:8080/"
    },
    "id": "T14kAynVDQjr",
    "outputId": "c416ee54-6d58-4a7b-f732-e83eb317dc3b"
   },
   "outputs": [
    {
     "name": "stdout",
     "output_type": "stream",
     "text": [
      "value of a = 1 and type of a is <class 'int'>\n",
      "value of b = 3.14 and type of b is <class 'float'>\n",
      "value of c = A and type of c is <class 'str'>\n",
      "value of d = ABC and type of d is <class 'str'>\n",
      "value of e = True and type of e is <class 'bool'>\n"
     ]
    }
   ],
   "source": [
    "a = 1\n",
    "b = 3.14\n",
    "c = 'A'\n",
    "d = \"ABC\"\n",
    "e = True #False\n",
    "\n",
    "\n",
    "print(\"value of a = \" + str(a) + \" and type of a is \" + str(type(a)))\n",
    "print(\"value of b = \" + str(b) + \" and type of b is \" + str(type(b)))\n",
    "print(\"value of c = \" + str(c) + \" and type of c is \" + str(type(c)))\n",
    "print(\"value of d = \" + str(d) + \" and type of d is \" + str(type(d)))\n",
    "print(\"value of e = \" + str(e) + \" and type of e is \" + str(type(e)))"
   ]
  },
  {
   "cell_type": "code",
   "execution_count": 5,
   "metadata": {
    "colab": {
     "base_uri": "https://localhost:8080/"
    },
    "id": "uwh_6yc8EUG1",
    "outputId": "a4c2032e-150c-449d-ecf0-41a0497dcc9e"
   },
   "outputs": [
    {
     "name": "stdout",
     "output_type": "stream",
     "text": [
      "\n",
      "Hello\n",
      "World\n",
      "\n"
     ]
    }
   ],
   "source": [
    "f = \"\"\"\n",
    "Hello\n",
    "World\n",
    "\"\"\"\n",
    "\n",
    "print(f)"
   ]
  },
  {
   "cell_type": "code",
   "execution_count": 6,
   "metadata": {
    "colab": {
     "base_uri": "https://localhost:8080/"
    },
    "id": "fJklH2cGE2Vj",
    "outputId": "896f89f8-b51c-4b16-a724-6d1d2b7651e7"
   },
   "outputs": [
    {
     "name": "stdout",
     "output_type": "stream",
     "text": [
      "value of f = \n",
      "Hello\n",
      "World\n",
      " and type of f is <class 'str'>\n"
     ]
    }
   ],
   "source": [
    "print(\"value of f = \" + str(f) + \" and type of f is \" + str(type(f)))"
   ]
  },
  {
   "cell_type": "code",
   "execution_count": 7,
   "metadata": {
    "colab": {
     "base_uri": "https://localhost:8080/"
    },
    "id": "WYwI3FzZE67U",
    "outputId": "d711e088-607d-46f6-c42d-645478da1b76"
   },
   "outputs": [
    {
     "name": "stdout",
     "output_type": "stream",
     "text": [
      "value of b = 3.14 and type of b is <class 'float'>\n"
     ]
    }
   ],
   "source": [
    "#print with str.format()\n",
    "print(\"value of b = {} and type of b is {}\".format(b, type(b)))"
   ]
  },
  {
   "cell_type": "code",
   "execution_count": 8,
   "metadata": {
    "colab": {
     "base_uri": "https://localhost:8080/"
    },
    "id": "yr9uHGqnFlPn",
    "outputId": "0f6f3f0a-bafe-4d23-de85-5528c5ff33b7"
   },
   "outputs": [
    {
     "name": "stdout",
     "output_type": "stream",
     "text": [
      "value of b = 3.14 and type of b is <class 'float'>\n"
     ]
    }
   ],
   "source": [
    "#print with F string\n",
    "print(F\"value of b = {b} and type of b is {type(b)}\")"
   ]
  },
  {
   "cell_type": "markdown",
   "metadata": {
    "id": "nbXlBOhSGfpc"
   },
   "source": [
    "## Lists"
   ]
  },
  {
   "cell_type": "code",
   "execution_count": 9,
   "metadata": {
    "colab": {
     "base_uri": "https://localhost:8080/"
    },
    "id": "8SSUT2dGFu69",
    "outputId": "5492acbc-45eb-4def-9d78-b75e43b42c34"
   },
   "outputs": [
    {
     "name": "stdout",
     "output_type": "stream",
     "text": [
      "[1, 2, 3, 4, 5]\n"
     ]
    }
   ],
   "source": [
    "l = [1,2,3,4,5]\n",
    "\n",
    "print(l)"
   ]
  },
  {
   "cell_type": "code",
   "execution_count": 10,
   "metadata": {
    "colab": {
     "base_uri": "https://localhost:8080/"
    },
    "id": "V6trtkkpGE2G",
    "outputId": "cdb7b80c-37c8-4b1e-b91e-9e1b8a8fd491"
   },
   "outputs": [
    {
     "name": "stdout",
     "output_type": "stream",
     "text": [
      "1\n",
      "5\n"
     ]
    }
   ],
   "source": [
    "print(l[0])\n",
    "print(l[4])"
   ]
  },
  {
   "cell_type": "code",
   "execution_count": 11,
   "metadata": {
    "colab": {
     "base_uri": "https://localhost:8080/"
    },
    "id": "D-ePHkMuH-Kx",
    "outputId": "38b55ada-8972-4fa3-b97a-5c6fefa44ab1"
   },
   "outputs": [
    {
     "name": "stdout",
     "output_type": "stream",
     "text": [
      "5\n"
     ]
    }
   ],
   "source": [
    "print(len(l))"
   ]
  },
  {
   "cell_type": "code",
   "execution_count": 12,
   "metadata": {
    "colab": {
     "base_uri": "https://localhost:8080/"
    },
    "id": "tMxGOUcyGWR3",
    "outputId": "9a4e50fe-d236-4389-cde0-d70dbc281345"
   },
   "outputs": [
    {
     "name": "stdout",
     "output_type": "stream",
     "text": [
      "['A', 2, 3.14, 'Four', True, '##']\n"
     ]
    }
   ],
   "source": [
    "l_mix = ['A',2,3.14,\"Four\",True, '##']\n",
    "print(l_mix)"
   ]
  },
  {
   "cell_type": "code",
   "execution_count": 13,
   "metadata": {
    "colab": {
     "base_uri": "https://localhost:8080/"
    },
    "id": "ML7VzH0NGa9j",
    "outputId": "bb7a8d9f-9c4e-4a80-c0d0-e2c7413c4b08"
   },
   "outputs": [
    {
     "name": "stdout",
     "output_type": "stream",
     "text": [
      "6\n"
     ]
    }
   ],
   "source": [
    "print(len(l_mix))"
   ]
  },
  {
   "cell_type": "code",
   "execution_count": 14,
   "metadata": {
    "colab": {
     "base_uri": "https://localhost:8080/"
    },
    "id": "1veDZlZWIZCB",
    "outputId": "4b056a1e-11c9-4466-fecb-f09447d920a3"
   },
   "outputs": [
    {
     "name": "stdout",
     "output_type": "stream",
     "text": [
      "[1, 2, 3, 4, 5]\n",
      "[1, 2, 3, 7, 5]\n"
     ]
    }
   ],
   "source": [
    "print(l)\n",
    "l[3] = 7\n",
    "print(l)"
   ]
  },
  {
   "cell_type": "markdown",
   "metadata": {
    "id": "Swv07VoBIOld"
   },
   "source": [
    "## Tuples"
   ]
  },
  {
   "cell_type": "code",
   "execution_count": 15,
   "metadata": {
    "colab": {
     "base_uri": "https://localhost:8080/"
    },
    "id": "Kl3q_9jpIHgX",
    "outputId": "bfcf0342-7799-4855-8d5e-b12c2d4ed2e3"
   },
   "outputs": [
    {
     "name": "stdout",
     "output_type": "stream",
     "text": [
      "(1, 2, 3, 4, 5)\n"
     ]
    }
   ],
   "source": [
    "t = (1,2,3,4,5)\n",
    "print(t)"
   ]
  },
  {
   "cell_type": "code",
   "execution_count": 16,
   "metadata": {
    "colab": {
     "base_uri": "https://localhost:8080/"
    },
    "id": "cU62HXhMI09N",
    "outputId": "b43be874-c735-487a-d0df-053059d8407d"
   },
   "outputs": [
    {
     "name": "stdout",
     "output_type": "stream",
     "text": [
      "1\n",
      "5\n"
     ]
    }
   ],
   "source": [
    "print(t[0])\n",
    "print(t[4])"
   ]
  },
  {
   "cell_type": "code",
   "execution_count": 17,
   "metadata": {
    "colab": {
     "base_uri": "https://localhost:8080/",
     "height": 227
    },
    "id": "A5qw-acxI580",
    "outputId": "43900442-5fbf-4499-ba4b-fd2f60ac5283"
   },
   "outputs": [
    {
     "name": "stdout",
     "output_type": "stream",
     "text": [
      "(1, 2, 3, 4, 5)\n"
     ]
    },
    {
     "ename": "TypeError",
     "evalue": "'tuple' object does not support item assignment",
     "output_type": "error",
     "traceback": [
      "\u001b[1;31m---------------------------------------------------------------------------\u001b[0m",
      "\u001b[1;31mTypeError\u001b[0m                                 Traceback (most recent call last)",
      "\u001b[1;32m<ipython-input-17-a1f23d8c4f2b>\u001b[0m in \u001b[0;36m<module>\u001b[1;34m\u001b[0m\n\u001b[0;32m      1\u001b[0m \u001b[0mprint\u001b[0m\u001b[1;33m(\u001b[0m\u001b[0mt\u001b[0m\u001b[1;33m)\u001b[0m\u001b[1;33m\u001b[0m\u001b[1;33m\u001b[0m\u001b[0m\n\u001b[1;32m----> 2\u001b[1;33m \u001b[0mt\u001b[0m\u001b[1;33m[\u001b[0m\u001b[1;36m3\u001b[0m\u001b[1;33m]\u001b[0m \u001b[1;33m=\u001b[0m \u001b[1;36m7\u001b[0m\u001b[1;33m\u001b[0m\u001b[1;33m\u001b[0m\u001b[0m\n\u001b[0m\u001b[0;32m      3\u001b[0m \u001b[0mprint\u001b[0m\u001b[1;33m(\u001b[0m\u001b[0mt\u001b[0m\u001b[1;33m)\u001b[0m\u001b[1;33m\u001b[0m\u001b[1;33m\u001b[0m\u001b[0m\n",
      "\u001b[1;31mTypeError\u001b[0m: 'tuple' object does not support item assignment"
     ]
    }
   ],
   "source": [
    "print(t)\n",
    "t[3] = 7\n",
    "print(t)"
   ]
  },
  {
   "cell_type": "code",
   "execution_count": 18,
   "metadata": {
    "colab": {
     "base_uri": "https://localhost:8080/"
    },
    "id": "9t2TiPZyI-Ww",
    "outputId": "60f5a4ba-4e05-4ae8-9972-71284e881d20"
   },
   "outputs": [
    {
     "name": "stdout",
     "output_type": "stream",
     "text": [
      "('A', 2, 3.14, 'Four', True)\n"
     ]
    }
   ],
   "source": [
    "t_mix = ('A',2,3.14,\"Four\",True)\n",
    "print(t_mix)"
   ]
  },
  {
   "cell_type": "code",
   "execution_count": 19,
   "metadata": {
    "colab": {
     "base_uri": "https://localhost:8080/"
    },
    "id": "JAzy-gG4JMV1",
    "outputId": "2b7e0419-60df-4872-e93c-4501b1e30781"
   },
   "outputs": [
    {
     "name": "stdout",
     "output_type": "stream",
     "text": [
      "(1, 2, 3, 7, 5)\n"
     ]
    }
   ],
   "source": [
    "t2 = tuple(l)\n",
    "print(t2)"
   ]
  },
  {
   "cell_type": "markdown",
   "metadata": {
    "id": "AXNG34MRJaNl"
   },
   "source": [
    "## Sets"
   ]
  },
  {
   "cell_type": "code",
   "execution_count": 20,
   "metadata": {
    "colab": {
     "base_uri": "https://localhost:8080/"
    },
    "id": "zfLTi1ZkJTBu",
    "outputId": "d08c855c-9a53-45df-f239-837363fa1250"
   },
   "outputs": [
    {
     "name": "stdout",
     "output_type": "stream",
     "text": [
      "{'pineapple', 'strawberry', 'apple'}\n"
     ]
    }
   ],
   "source": [
    "fruits = {\"apple\", \"pineapple\", \"strawberry\", \"apple\", \"strawberry\"}\n",
    "print(fruits)"
   ]
  },
  {
   "cell_type": "code",
   "execution_count": 21,
   "metadata": {
    "colab": {
     "base_uri": "https://localhost:8080/"
    },
    "id": "PwvBJajnJmck",
    "outputId": "d7d47c7e-2288-4047-fb45-d9202e2cdf6c"
   },
   "outputs": [
    {
     "name": "stdout",
     "output_type": "stream",
     "text": [
      "{1, 2, 3, 4}\n"
     ]
    }
   ],
   "source": [
    "s = set([1,2,3,2,4,1])\n",
    "print(s)"
   ]
  },
  {
   "cell_type": "code",
   "execution_count": 22,
   "metadata": {
    "colab": {
     "base_uri": "https://localhost:8080/"
    },
    "id": "rN2A4KzaJ6dS",
    "outputId": "88a23287-4c00-49a6-eb58-bfda414b2911"
   },
   "outputs": [
    {
     "name": "stdout",
     "output_type": "stream",
     "text": [
      "{False, 1, '1', 3.14, 'Two'}\n"
     ]
    }
   ],
   "source": [
    "s2 = {1, \"1\", \"Two\", 3.14, False}\n",
    "print(s2)"
   ]
  },
  {
   "cell_type": "markdown",
   "metadata": {
    "id": "6W7LOEt1KErk"
   },
   "source": [
    "## Dictionary"
   ]
  },
  {
   "cell_type": "code",
   "execution_count": 23,
   "metadata": {
    "colab": {
     "base_uri": "https://localhost:8080/"
    },
    "id": "QdbhywlBJ-mF",
    "outputId": "7bf240e1-f33f-450b-95b8-b1c7e66a96fd"
   },
   "outputs": [
    {
     "name": "stdout",
     "output_type": "stream",
     "text": [
      "{'name': 'John', 'age': 16, 'score': 85.5}\n"
     ]
    }
   ],
   "source": [
    "student = {\"name\": \"John\",           \n",
    "           \"age\":16,           \n",
    "           \"score\": 85.5          }\n",
    "print(student)"
   ]
  },
  {
   "cell_type": "code",
   "execution_count": 24,
   "metadata": {
    "colab": {
     "base_uri": "https://localhost:8080/"
    },
    "id": "EjsnOl79KN-d",
    "outputId": "fad8acad-2a36-4b82-c005-23c11efc94cc"
   },
   "outputs": [
    {
     "name": "stdout",
     "output_type": "stream",
     "text": [
      "{0: 'John', 'age': 16, 'score': 85.5}\n"
     ]
    }
   ],
   "source": [
    "student2 = {0: \"John\",\n",
    "           \"age\":16,\n",
    "           \"score\": 85.5\n",
    "          }\n",
    "print(student2)"
   ]
  },
  {
   "cell_type": "code",
   "execution_count": 25,
   "metadata": {
    "colab": {
     "base_uri": "https://localhost:8080/"
    },
    "id": "Ltw8IXFZKcvq",
    "outputId": "d5d0673b-59e5-45f4-b9d6-29f6af7a2823"
   },
   "outputs": [
    {
     "data": {
      "text/plain": [
       "[{'name': 'John', 'age': 16, 'score': 85.5},\n",
       " {'name': 'John', 'age': 16, 'score': 85.5},\n",
       " {'name': 'John', 'age': 16, 'score': 85.5}]"
      ]
     },
     "execution_count": 25,
     "metadata": {},
     "output_type": "execute_result"
    }
   ],
   "source": [
    "# List of Dictionaries\n",
    "[student, student, student]"
   ]
  },
  {
   "cell_type": "code",
   "execution_count": 26,
   "metadata": {
    "colab": {
     "base_uri": "https://localhost:8080/"
    },
    "id": "z_DP4WgzKtDR",
    "outputId": "54b1ea11-df0a-4cb5-d801-1125a65dfb33"
   },
   "outputs": [
    {
     "name": "stdout",
     "output_type": "stream",
     "text": [
      "John\n"
     ]
    }
   ],
   "source": [
    "print(student['name'])"
   ]
  },
  {
   "cell_type": "code",
   "execution_count": 27,
   "metadata": {
    "colab": {
     "base_uri": "https://localhost:8080/"
    },
    "id": "InHIsEimKydP",
    "outputId": "1ae10639-c5d2-41f2-d809-dc5084cb5cd9"
   },
   "outputs": [
    {
     "name": "stdout",
     "output_type": "stream",
     "text": [
      "16\n"
     ]
    }
   ],
   "source": [
    "print(student['age'])"
   ]
  },
  {
   "cell_type": "code",
   "execution_count": 28,
   "metadata": {
    "colab": {
     "base_uri": "https://localhost:8080/"
    },
    "id": "dunry55rK6i-",
    "outputId": "ef00acfd-ad5b-4093-e688-79e9b1ec2963"
   },
   "outputs": [
    {
     "name": "stdout",
     "output_type": "stream",
     "text": [
      "dict_keys(['name', 'age', 'score'])\n"
     ]
    }
   ],
   "source": [
    "print(student.keys())"
   ]
  },
  {
   "cell_type": "code",
   "execution_count": 29,
   "metadata": {
    "colab": {
     "base_uri": "https://localhost:8080/"
    },
    "id": "dmso4LMiK8jx",
    "outputId": "70aeaeec-9dce-44e5-84cf-9cfecd67daa6"
   },
   "outputs": [
    {
     "data": {
      "text/plain": [
       "dict_keys(['name', 'age', 'score'])"
      ]
     },
     "execution_count": 29,
     "metadata": {},
     "output_type": "execute_result"
    }
   ],
   "source": [
    "student.keys()"
   ]
  },
  {
   "cell_type": "code",
   "execution_count": 30,
   "metadata": {
    "colab": {
     "base_uri": "https://localhost:8080/"
    },
    "id": "AI013HIULCEc",
    "outputId": "d8cf208b-5941-42e9-a799-2578b87d16ce"
   },
   "outputs": [
    {
     "data": {
      "text/plain": [
       "dict_values(['John', 16, 85.5])"
      ]
     },
     "execution_count": 30,
     "metadata": {},
     "output_type": "execute_result"
    }
   ],
   "source": [
    "student.values()"
   ]
  },
  {
   "cell_type": "code",
   "execution_count": 31,
   "metadata": {
    "colab": {
     "base_uri": "https://localhost:8080/"
    },
    "id": "UwlkVk-1LF3F",
    "outputId": "d86679dd-a9cb-4ed1-810b-55eacefc0eb0"
   },
   "outputs": [
    {
     "data": {
      "text/plain": [
       "[('name', 'John'), ('age', 16), ('score', 85.5)]"
      ]
     },
     "execution_count": 31,
     "metadata": {},
     "output_type": "execute_result"
    }
   ],
   "source": [
    "list(student.items())"
   ]
  },
  {
   "cell_type": "markdown",
   "metadata": {
    "id": "vGONUmXKLdnI"
   },
   "source": [
    "## Conditions"
   ]
  },
  {
   "cell_type": "code",
   "execution_count": 32,
   "metadata": {
    "id": "8fjqcTW6LIyd"
   },
   "outputs": [],
   "source": [
    "a = 9"
   ]
  },
  {
   "cell_type": "code",
   "execution_count": 33,
   "metadata": {
    "id": "TZ6UMGm_Lkfq"
   },
   "outputs": [],
   "source": [
    "b = 5"
   ]
  },
  {
   "cell_type": "code",
   "execution_count": 34,
   "metadata": {
    "colab": {
     "base_uri": "https://localhost:8080/"
    },
    "id": "dRP2bgCyLeht",
    "outputId": "313e2f24-80fd-47b6-836e-e617c3adf48f"
   },
   "outputs": [
    {
     "name": "stdout",
     "output_type": "stream",
     "text": [
      "a > b\n"
     ]
    }
   ],
   "source": [
    "if (a>b):\n",
    "    print('a > b')\n",
    "elif (a==b):\n",
    "    print('a==b')\n",
    "else:\n",
    "    print('a < b')\n",
    "    "
   ]
  },
  {
   "cell_type": "markdown",
   "metadata": {
    "id": "rxbzOUmiMBIo"
   },
   "source": [
    "## Functions"
   ]
  },
  {
   "cell_type": "code",
   "execution_count": 35,
   "metadata": {
    "colab": {
     "base_uri": "https://localhost:8080/"
    },
    "id": "sdf_AWUSLfsG",
    "outputId": "cd2e265b-7fa0-4e30-d8a3-c1334022b4f6"
   },
   "outputs": [
    {
     "name": "stdout",
     "output_type": "stream",
     "text": [
      "14\n"
     ]
    }
   ],
   "source": [
    "# Function name: add\n",
    "# Parameters or Arguements = a, b\n",
    "# Function returns the value of a+b\n",
    "\n",
    "def add(a,b):\n",
    "    return a+b\n",
    "\n",
    "c = add(a, b)\n",
    "print(c)"
   ]
  },
  {
   "cell_type": "markdown",
   "metadata": {
    "id": "478l_S7KTS_h"
   },
   "source": [
    "# Exercise 1:"
   ]
  },
  {
   "cell_type": "code",
   "execution_count": 36,
   "metadata": {
    "id": "EZGfMTiVMGv0"
   },
   "outputs": [
    {
     "name": "stdout",
     "output_type": "stream",
     "text": [
      "a < b\n",
      "a==b\n",
      "a > b\n"
     ]
    }
   ],
   "source": [
    "# Write a function to compare and and b\n",
    "\n",
    "def compare(a,b):\n",
    "    if (a>b):\n",
    "        return 'a > b'\n",
    "    elif (a==b):\n",
    "        return 'a==b'\n",
    "    else:\n",
    "        return 'a < b'\n",
    "        \n",
    "print(compare(2,3))\n",
    "print(compare(2,2))   \n",
    "print(compare(3,2))  "
   ]
  },
  {
   "cell_type": "markdown",
   "metadata": {
    "id": "3HwaOQBtMacZ"
   },
   "source": [
    "## Loops"
   ]
  },
  {
   "cell_type": "code",
   "execution_count": 37,
   "metadata": {
    "colab": {
     "base_uri": "https://localhost:8080/"
    },
    "id": "CnI0Ja9mMUUX",
    "outputId": "13532b66-710d-4c0c-8e6b-2abfc27baaa5"
   },
   "outputs": [
    {
     "name": "stdout",
     "output_type": "stream",
     "text": [
      "1\n",
      "2\n",
      "A\n",
      "4\n",
      "5\n"
     ]
    }
   ],
   "source": [
    "for i in [1, 2, 'A', 4, 5]:\n",
    "    print(i)"
   ]
  },
  {
   "cell_type": "code",
   "execution_count": 38,
   "metadata": {
    "colab": {
     "base_uri": "https://localhost:8080/"
    },
    "id": "gZcBzTlaMjyW",
    "outputId": "8f434af1-be41-4e6d-debd-6ea181105016"
   },
   "outputs": [
    {
     "name": "stdout",
     "output_type": "stream",
     "text": [
      "0\n",
      "1\n",
      "2\n",
      "3\n",
      "4\n",
      "5\n",
      "6\n",
      "7\n",
      "8\n",
      "9\n"
     ]
    }
   ],
   "source": [
    "for i in range(10):\n",
    "    print(i)"
   ]
  },
  {
   "cell_type": "code",
   "execution_count": 39,
   "metadata": {
    "colab": {
     "base_uri": "https://localhost:8080/"
    },
    "id": "AaRahozHMuOU",
    "outputId": "96c837d6-b127-4234-b4cc-6267bcf9a7cb"
   },
   "outputs": [
    {
     "data": {
      "text/plain": [
       "[0, 1, 2, 3, 4]"
      ]
     },
     "execution_count": 39,
     "metadata": {},
     "output_type": "execute_result"
    }
   ],
   "source": [
    "list(range(5))"
   ]
  },
  {
   "cell_type": "code",
   "execution_count": 40,
   "metadata": {
    "colab": {
     "base_uri": "https://localhost:8080/"
    },
    "id": "oilwPgPsM--I",
    "outputId": "1e735ce4-638c-49de-d246-1b6521141cde"
   },
   "outputs": [
    {
     "data": {
      "text/plain": [
       "[1, 2, 3, 7, 5]"
      ]
     },
     "execution_count": 40,
     "metadata": {},
     "output_type": "execute_result"
    }
   ],
   "source": [
    "l"
   ]
  },
  {
   "cell_type": "code",
   "execution_count": 41,
   "metadata": {
    "colab": {
     "base_uri": "https://localhost:8080/"
    },
    "id": "2LInLpl2MySf",
    "outputId": "81084178-d1f4-4ddb-9e8e-8b642b5ce7ab"
   },
   "outputs": [
    {
     "name": "stdout",
     "output_type": "stream",
     "text": [
      "[1, 4, 9, 49, 25]\n"
     ]
    }
   ],
   "source": [
    "#Squre each element in list l\n",
    "l2 = [x**2 for x in l]\n",
    "print(l2)"
   ]
  },
  {
   "cell_type": "markdown",
   "metadata": {
    "id": "VKFpcuKdNKwv"
   },
   "source": [
    "<hr>"
   ]
  },
  {
   "cell_type": "markdown",
   "metadata": {
    "id": "S2ZAxvgEOXg8"
   },
   "source": [
    "# Numpy"
   ]
  },
  {
   "cell_type": "code",
   "execution_count": 42,
   "metadata": {
    "id": "51JSgVMSOaaM"
   },
   "outputs": [],
   "source": [
    "# Import python library\n",
    "# import is a keyworrd\n",
    "# np is an alias we create to numpy and will be used in the code\n",
    "import numpy as np"
   ]
  },
  {
   "cell_type": "code",
   "execution_count": 43,
   "metadata": {
    "colab": {
     "base_uri": "https://localhost:8080/"
    },
    "id": "RNcJaFsEO6iq",
    "outputId": "761a3f11-4fad-4fb5-d545-a2f4b7895472"
   },
   "outputs": [
    {
     "name": "stdout",
     "output_type": "stream",
     "text": [
      "[1 2 3 7 5]\n",
      "value of l = [1, 2, 3, 7, 5] and type of l is <class 'list'>\n",
      "value of arr = [1 2 3 7 5] and type of arr is <class 'numpy.ndarray'>\n"
     ]
    }
   ],
   "source": [
    "arr = np.array(l)\n",
    "print(arr)\n",
    "print(F\"value of l = {l} and type of l is {type(l)}\")\n",
    "print(F\"value of arr = {arr} and type of arr is {type(arr)}\")"
   ]
  },
  {
   "cell_type": "code",
   "execution_count": 44,
   "metadata": {
    "colab": {
     "base_uri": "https://localhost:8080/"
    },
    "id": "Q09NpuznO78s",
    "outputId": "599e1c69-f05b-4995-b0f0-71042b9cd608"
   },
   "outputs": [
    {
     "name": "stdout",
     "output_type": "stream",
     "text": [
      "5\n"
     ]
    }
   ],
   "source": [
    "#size \n",
    "print(arr.size)"
   ]
  },
  {
   "cell_type": "code",
   "execution_count": 45,
   "metadata": {
    "colab": {
     "base_uri": "https://localhost:8080/"
    },
    "id": "WiShlt09PaZH",
    "outputId": "cd938b9d-0aee-4ab2-8415-6c8ea722da53"
   },
   "outputs": [
    {
     "name": "stdout",
     "output_type": "stream",
     "text": [
      "[[1, 2, 3], [4, 5, 6]]\n"
     ]
    }
   ],
   "source": [
    "l2d = [[1,2,3], [4,5,6]]\n",
    "print(l2d)"
   ]
  },
  {
   "cell_type": "code",
   "execution_count": 46,
   "metadata": {
    "colab": {
     "base_uri": "https://localhost:8080/"
    },
    "id": "_e40kWCoPelI",
    "outputId": "6922db9f-e22d-4aa3-adcd-4f44d32ed1a1"
   },
   "outputs": [
    {
     "name": "stdout",
     "output_type": "stream",
     "text": [
      "[[1 2 3]\n",
      " [4 5 6]]\n"
     ]
    }
   ],
   "source": [
    "arr2d = np.array(l2d)\n",
    "print(arr2d)"
   ]
  },
  {
   "cell_type": "code",
   "execution_count": 47,
   "metadata": {
    "colab": {
     "base_uri": "https://localhost:8080/"
    },
    "id": "BfCH7z_LPiyz",
    "outputId": "8b99bd6f-6cf7-4b83-80c2-f856f959b2ea"
   },
   "outputs": [
    {
     "name": "stdout",
     "output_type": "stream",
     "text": [
      "['A', 2, 3.14, 'Four', True, '##']\n",
      "['A' '2' '3.14' 'Four' 'True' '##']\n"
     ]
    }
   ],
   "source": [
    "# All elements in an array should be the same\n",
    "print(l_mix)\n",
    "arr_mix = np.array(l_mix)\n",
    "print(arr_mix)"
   ]
  },
  {
   "cell_type": "markdown",
   "metadata": {
    "id": "j2eV2_AIPv0Z"
   },
   "source": [
    "## Random Numbers"
   ]
  },
  {
   "cell_type": "code",
   "execution_count": 48,
   "metadata": {
    "colab": {
     "base_uri": "https://localhost:8080/"
    },
    "id": "SHvB48nOPpt9",
    "outputId": "e0b16763-710a-4b0e-b708-fe3bc4626615"
   },
   "outputs": [
    {
     "data": {
      "text/plain": [
       "array([0.05094863, 0.47217364, 0.98010873, 0.06752424, 0.27949691,\n",
       "       0.36603529, 0.47895472])"
      ]
     },
     "execution_count": 48,
     "metadata": {},
     "output_type": "execute_result"
    }
   ],
   "source": [
    "# Random values in a given shape.\n",
    "# value between 1, 0\n",
    "np.random.rand(7)"
   ]
  },
  {
   "cell_type": "code",
   "execution_count": 49,
   "metadata": {
    "colab": {
     "base_uri": "https://localhost:8080/"
    },
    "id": "sEUUYK32P45A",
    "outputId": "da45517c-d203-43a3-f657-e6a5efe18c1e"
   },
   "outputs": [
    {
     "data": {
      "text/plain": [
       "array([[0.41139567, 0.3815814 , 0.11439878],\n",
       "       [0.78336803, 0.4356976 , 0.47621617]])"
      ]
     },
     "execution_count": 49,
     "metadata": {},
     "output_type": "execute_result"
    }
   ],
   "source": [
    "# Multi dimentional random numbers\n",
    "np.random.rand(2,3)"
   ]
  },
  {
   "cell_type": "code",
   "execution_count": 50,
   "metadata": {
    "colab": {
     "base_uri": "https://localhost:8080/"
    },
    "id": "AcbCYAZ9P8hq",
    "outputId": "68bc0289-597e-4b26-cec6-fd8411b9a802"
   },
   "outputs": [
    {
     "data": {
      "text/plain": [
       "5"
      ]
     },
     "execution_count": 50,
     "metadata": {},
     "output_type": "execute_result"
    }
   ],
   "source": [
    "#Return random integers from the \"discrete uniform\" distribution [low, high)\n",
    "np.random.randint(low=1, high=11)"
   ]
  },
  {
   "cell_type": "code",
   "execution_count": 51,
   "metadata": {
    "colab": {
     "base_uri": "https://localhost:8080/"
    },
    "id": "KXiHiAy4QLp-",
    "outputId": "87008303-cb21-49e2-f5c7-3916b764dd1d"
   },
   "outputs": [
    {
     "data": {
      "text/plain": [
       "0.9498569273999422"
      ]
     },
     "execution_count": 51,
     "metadata": {},
     "output_type": "execute_result"
    }
   ],
   "source": [
    "#Return random floats in the half-open interval [0.0, 1.0\n",
    "np.random.random()"
   ]
  },
  {
   "cell_type": "markdown",
   "metadata": {
    "id": "YMixHRqlQTio"
   },
   "source": [
    "## Processing Data"
   ]
  },
  {
   "cell_type": "code",
   "execution_count": 52,
   "metadata": {
    "colab": {
     "base_uri": "https://localhost:8080/"
    },
    "id": "J_gQGc4RQV9W",
    "outputId": "b765ca94-71e5-43f9-b117-708cd67b7382"
   },
   "outputs": [
    {
     "name": "stdout",
     "output_type": "stream",
     "text": [
      "scores = [ 82.53986715 114.06724993 106.78502685  44.74675535  58.61783908\n",
      "  82.43912179  73.54122508  51.64630507  56.87773893  98.81921293\n",
      "  48.67632267  62.02944604  82.49125052  93.61214983  68.43087571\n",
      "  76.04418365  86.65447665  67.52234979  66.43116125  90.5391314 ]\n"
     ]
    }
   ],
   "source": [
    "# Draw random samples from a normal (Gaussian) distribution.(https://en.wikipedia.org/wiki/Normal_distribution)\n",
    "# Parameters: loc (Mean), scale (Standard deviation), size (Number of samples)\n",
    "\n",
    "scores = np.random.normal(loc=70.0, scale=20.0, size=20)\n",
    "print(F\"scores = {scores}\")"
   ]
  },
  {
   "cell_type": "code",
   "execution_count": 53,
   "metadata": {
    "colab": {
     "base_uri": "https://localhost:8080/"
    },
    "id": "4lROwqE_QhoT",
    "outputId": "c41d2914-1d1b-42d4-adc6-f3707e0a3800"
   },
   "outputs": [
    {
     "name": "stdout",
     "output_type": "stream",
     "text": [
      "scores = [82, 114, 106, 44, 58, 82, 73, 51, 56, 98, 48, 62, 82, 93, 68, 76, 86, 67, 66, 90]\n"
     ]
    }
   ],
   "source": [
    "# convert floating point numbers to integers (truncate decimal places)\n",
    "scores = [int(s) for s in scores]\n",
    "print(F\"scores = {scores}\")"
   ]
  },
  {
   "cell_type": "code",
   "execution_count": 54,
   "metadata": {
    "colab": {
     "base_uri": "https://localhost:8080/"
    },
    "id": "2avktaKOQs5z",
    "outputId": "ac24ace0-69cb-4da2-aee2-d2908cd79f0e"
   },
   "outputs": [
    {
     "name": "stdout",
     "output_type": "stream",
     "text": [
      "scores = [82, 100, 100, 44, 58, 82, 73, 51, 56, 98, 48, 62, 82, 93, 68, 76, 86, 67, 66, 90]\n"
     ]
    }
   ],
   "source": [
    "# Assign any value > 100 with 100.\n",
    "scores = [s if s<=100 else 100 for s in scores]\n",
    "print(F\"scores = {scores}\")"
   ]
  },
  {
   "cell_type": "code",
   "execution_count": 55,
   "metadata": {
    "colab": {
     "base_uri": "https://localhost:8080/"
    },
    "id": "1ODnlYcBQzgW",
    "outputId": "57611fb3-a3b3-4b8f-d617-2e552329cd9a"
   },
   "outputs": [
    {
     "name": "stdout",
     "output_type": "stream",
     "text": [
      "max_score = 100\n"
     ]
    }
   ],
   "source": [
    "# Get maximum score \n",
    "max_score = np.max(scores)\n",
    "print(F\"max_score = {max_score}\")"
   ]
  },
  {
   "cell_type": "code",
   "execution_count": 56,
   "metadata": {
    "colab": {
     "base_uri": "https://localhost:8080/"
    },
    "id": "KdQB1h5qQ30_",
    "outputId": "fb5f95b9-f076-4454-818f-e4ef8f3f7986"
   },
   "outputs": [
    {
     "name": "stdout",
     "output_type": "stream",
     "text": [
      "min_score = 44\n"
     ]
    }
   ],
   "source": [
    "# Get minimum score \n",
    "min_score = np.min(scores)\n",
    "print(F\"min_score = {min_score}\")"
   ]
  },
  {
   "cell_type": "code",
   "execution_count": 57,
   "metadata": {
    "colab": {
     "base_uri": "https://localhost:8080/"
    },
    "id": "eYgjaGzZQ7FQ",
    "outputId": "2320cad8-0f64-4826-976f-ed3c26976e7d"
   },
   "outputs": [
    {
     "name": "stdout",
     "output_type": "stream",
     "text": [
      "mean = 74.1\n"
     ]
    }
   ],
   "source": [
    "# Get mean (average) score\n",
    "mean = np.mean(scores)\n",
    "print(F\"mean = {mean}\")"
   ]
  },
  {
   "cell_type": "code",
   "execution_count": 58,
   "metadata": {
    "colab": {
     "base_uri": "https://localhost:8080/"
    },
    "id": "XCem33uRQ9kY",
    "outputId": "11b0ad68-0ad7-4dfe-866a-f552d75c9d01"
   },
   "outputs": [
    {
     "name": "stdout",
     "output_type": "stream",
     "text": [
      "std = 17.122791828437325\n"
     ]
    }
   ],
   "source": [
    "# Get Standard deviation (https://en.wikipedia.org/wiki/Standard_deviation)\n",
    "std = np.std(scores)\n",
    "print(F\"std = {std}\")"
   ]
  },
  {
   "cell_type": "code",
   "execution_count": 59,
   "metadata": {
    "colab": {
     "base_uri": "https://localhost:8080/"
    },
    "id": "8dNQ9N8YRBQ3",
    "outputId": "7bd39947-4fa2-4a91-8f5e-3c841378d6d6"
   },
   "outputs": [
    {
     "name": "stdout",
     "output_type": "stream",
     "text": [
      "Zscores = [0.46137336008954927, 1.5126038007999139, 1.5126038007999139, -1.7578909036323316, -0.9402672275242703, 0.46137336008954927, -0.06424186026563307, -1.349079065578301, -1.057070609825422, 1.3958004184987622, -1.5242841390300284, -0.706660462921967, 0.46137336008954927, 1.1037919627458832, -0.35625031601851215, 0.11096321318609438, 0.6949801246918526, -0.41465200716908795, -0.47305369831966376, 0.9285868892941558]\n"
     ]
    }
   ],
   "source": [
    "# Calculate Z-Score (https://en.wikipedia.org/wiki/Standard_score) for the class\n",
    "Zscores = [(s-mean)/std if s<=100 else 100 for s in scores]\n",
    "print(F\"Zscores = {Zscores}\")"
   ]
  },
  {
   "cell_type": "code",
   "execution_count": 60,
   "metadata": {
    "colab": {
     "base_uri": "https://localhost:8080/"
    },
    "id": "KbATxc3HRH84",
    "outputId": "9b9a60a7-ff6b-4f4c-8913-cb62bf124c09"
   },
   "outputs": [
    {
     "name": "stdout",
     "output_type": "stream",
     "text": [
      "Zscores = [0.461, 1.513, 1.513, -1.758, -0.94, 0.461, -0.064, -1.349, -1.057, 1.396, -1.524, -0.707, 0.461, 1.104, -0.356, 0.111, 0.695, -0.415, -0.473, 0.929]\n"
     ]
    }
   ],
   "source": [
    "# Round Z-Score values to 3rd decimal place\n",
    "Zscores = [np.round(z,3) for z in Zscores]\n",
    "print(F\"Zscores = {Zscores}\")"
   ]
  },
  {
   "cell_type": "markdown",
   "metadata": {
    "id": "rmtgkRR_RT05"
   },
   "source": [
    "# Matplotlib"
   ]
  },
  {
   "cell_type": "code",
   "execution_count": 61,
   "metadata": {},
   "outputs": [],
   "source": [
    "import matplotlib.pyplot as plt"
   ]
  },
  {
   "cell_type": "code",
   "execution_count": 62,
   "metadata": {
    "colab": {
     "base_uri": "https://localhost:8080/",
     "height": 296
    },
    "id": "Ugdxksr6RVcw",
    "outputId": "b9c773a8-b37e-42bc-9f14-24f5db0ea0d7"
   },
   "outputs": [
    {
     "data": {
      "image/png": "[encoded data removed]",
      "text/plain": [
       "<Figure size 432x288 with 1 Axes>"
      ]
     },
     "metadata": {
      "needs_background": "light"
     },
     "output_type": "display_data"
    }
   ],
   "source": [
    "# Plot individual student score. \n",
    "#Each bar represnt a student (x-axis)\n",
    "\n",
    "# Create unique Student ID for display purpose\n",
    "student_ids = range(len(scores))\n",
    "student_ids = [str(id) for id in student_ids]\n",
    "\n",
    "plt.bar(x=student_ids, height=scores)\n",
    "plt.xlabel(\"student_id\")\n",
    "plt.ylabel(\"score\")\n",
    "plt.title(\"Exam Scores\")\n",
    "\n",
    "plt.show()"
   ]
  },
  {
   "cell_type": "code",
   "execution_count": 63,
   "metadata": {
    "colab": {
     "base_uri": "https://localhost:8080/",
     "height": 295
    },
    "id": "eea1FRWgRZDT",
    "outputId": "5e3c2c4d-a49d-402e-a5eb-1abef2c4b513"
   },
   "outputs": [
    {
     "data": {
      "image/png": "[encoded data removed]",
      "text/plain": [
       "<Figure size 432x288 with 1 Axes>"
      ]
     },
     "metadata": {
      "needs_background": "light"
     },
     "output_type": "display_data"
    }
   ],
   "source": [
    "# Create Histogram\n",
    "\n",
    "plt.hist(scores, bins=10)\n",
    "plt.xlabel(\"Score\")\n",
    "plt.ylabel(\"Count\")\n",
    "plt.title(\"Exam Scores\")\n",
    "\n",
    "plt.show()"
   ]
  },
  {
   "cell_type": "markdown",
   "metadata": {
    "id": "EFKnrj--Tdoz"
   },
   "source": [
    "# Exercise 2: "
   ]
  },
  {
   "cell_type": "markdown",
   "metadata": {
    "id": "XmfpM20OTgIn"
   },
   "source": [
    "Create a function to give a letter grade based on the exam score using the the following criteria\n",
    "* A : score >= 90\n",
    "* B : 80 >= score < 90 \n",
    "* C : 70 >= score < 80 \n",
    "* D : 50 <= score < 70 \n",
    "* D : 30 <= score < 50 \n",
    "* F : score < 30 "
   ]
  },
  {
   "cell_type": "code",
   "execution_count": null,
   "metadata": {
    "id": "5hN5W1ZaTcuV"
   },
   "outputs": [],
   "source": [
    "# type your code here"
   ]
  },
  {
   "cell_type": "markdown",
   "metadata": {
    "id": "XR7ykHCgTkcI"
   },
   "source": [
    "<hr/>\n",
    "Last update 2021-09-11 by Sumudu Tennakoon\n",
    "\n",
    "<a rel=\"license\" href=\"http://creativecommons.org/licenses/by-nc-sa/4.0/\"><img alt=\"Creative Commons License\" style=\"border-width:0\" src=\"https://i.creativecommons.org/l/by-nc-sa/4.0/88x31.png\" /></a><br />This work is licensed under a <a rel=\"license\" href=\"http://creativecommons.org/licenses/by-nc-sa/4.0/\">Creative Commons Attribution-NonCommercial-ShareAlike 4.0 International License</a>."
   ]
  }
 ],
 "metadata": {
  "@webio": {
   "lastCommId": null,
   "lastKernelId": null
  },
  "colab": {
   "collapsed_sections": [],
   "name": "Untitled5.ipynb",
   "provenance": [],
   "toc_visible": true
  },
  "kernelspec": {
   "display_name": "Python 3",
   "language": "python",
   "name": "python3"
  },
  "language_info": {
   "codemirror_mode": {
    "name": "ipython",
    "version": 3
   },
   "file_extension": ".py",
   "mimetype": "text/x-python",
   "name": "python",
   "nbconvert_exporter": "python",
   "pygments_lexer": "ipython3",
   "version": "3.7.7"
  }
 },
 "nbformat": 4,
 "nbformat_minor": 1
}
